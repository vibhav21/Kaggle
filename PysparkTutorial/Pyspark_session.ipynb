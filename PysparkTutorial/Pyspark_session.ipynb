{
 "cells": [
  {
   "cell_type": "raw",
   "metadata": {},
   "source": []
  },
  {
   "cell_type": "code",
   "execution_count": 1,
   "metadata": {},
   "outputs": [],
   "source": [
    "import numpy as np\n",
    "import pandas as pd\n",
    "import matplotlib.pyplot as plt\n",
    "import seaborn as sns\n",
    "import random\n",
    "import os \n",
    "\n",
    "# from pyspark\n",
    "from pyspark.sql import SparkSession\n",
    "from pyspark.ml import Pipeline\n",
    "from pyspark.sql.functions import mean,col,split, regexp_extract, when, lit\n",
    "from pyspark.ml.feature import StringIndexer, VectorAssembler\n",
    "from pyspark.ml.evaluation import MulticlassClassificationEvaluator\n",
    "from pyspark.ml.feature import QuantileDiscretizer\n",
    "\n"
   ]
  },
  {
   "cell_type": "code",
   "execution_count": 10,
   "metadata": {},
   "outputs": [],
   "source": [
    "spark = SparkSession.builder.master('local[4]').appName('recommeder_system').config('hello','world').enableHiveSupport().getOrCreate()\n"
   ]
  },
  {
   "cell_type": "code",
   "execution_count": 14,
   "metadata": {},
   "outputs": [
    {
     "name": "stdout",
     "output_type": "stream",
     "text": [
      "world\n",
      "hello\n"
     ]
    }
   ],
   "source": [
    "# adding and retrieving configuration to the spark session \n",
    "print(spark.conf.get(\"hello\"))\n",
    "spark.conf.set(\"world\",'hello')\n",
    "print(spark.conf.get(\"world\"))\n",
    "\n",
    "\n"
   ]
  },
  {
   "cell_type": "code",
   "execution_count": 37,
   "metadata": {},
   "outputs": [
    {
     "data": {
      "text/html": [
       "\n",
       "            <div>\n",
       "                <p><b>SparkSession - in-memory</b></p>\n",
       "                \n",
       "        <div>\n",
       "            <p><b>SparkContext</b></p>\n",
       "\n",
       "            <p><a href=\"http://Vibhav-CV.mshome.net:4040\">Spark UI</a></p>\n",
       "\n",
       "            <dl>\n",
       "              <dt>Version</dt>\n",
       "                <dd><code>v3.3.0</code></dd>\n",
       "              <dt>Master</dt>\n",
       "                <dd><code>local[4]</code></dd>\n",
       "              <dt>AppName</dt>\n",
       "                <dd><code>recommeder_system</code></dd>\n",
       "            </dl>\n",
       "        </div>\n",
       "        \n",
       "            </div>\n",
       "        "
      ],
      "text/plain": [
       "<pyspark.sql.session.SparkSession at 0x2115f179340>"
      ]
     },
     "execution_count": 37,
     "metadata": {},
     "output_type": "execute_result"
    }
   ],
   "source": [
    "SparkSession.getActiveSession()\n"
   ]
  },
  {
   "cell_type": "code",
   "execution_count": 38,
   "metadata": {},
   "outputs": [
    {
     "data": {
      "text/plain": [
       "'3.3.0'"
      ]
     },
     "execution_count": 38,
     "metadata": {},
     "output_type": "execute_result"
    }
   ],
   "source": [
    "spark.version"
   ]
  },
  {
   "cell_type": "code",
   "execution_count": 44,
   "metadata": {},
   "outputs": [],
   "source": [
    "# converting Pyspark RDD to DataFrame\n",
    "# import pyspark\n",
    "# from pyspark.sql import SparkSession\n",
    "\n",
    "# spark = SparkSession.builder.appName('SparkByExamples.com').getOrCreate()\n",
    "\n",
    "# dept = [(\"Finance\",10),(\"Marketing\",20),(\"Sales\",30),(\"IT\",40)]\n",
    "# rdd = spark.sparkContext.parallelize(dept)\n",
    "\n",
    "# df = rdd.toDF()\n",
    "# df.printSchema()\n",
    "# df.show(truncate=False)\n",
    "\n",
    "# deptColumns = [\"dept_name\",\"dept_id\"]\n",
    "# df2 = rdd.toDF(deptColumns)\n",
    "# df2.printSchema()\n",
    "# df2.show(truncate=False)\n",
    "\n",
    "# deptDF = spark.createDataFrame(rdd, schema = deptColumns)\n",
    "# deptDF.printSchema()\n",
    "# deptDF.show(truncate=False)\n",
    "\n",
    "# from pyspark.sql.types import StructType,StructField, StringType\n",
    "# deptSchema = StructType([       \n",
    "#     StructField('dept_name', StringType(), True),\n",
    "#     StructField('dept_id', StringType(), True)\n",
    "# ])\n",
    "\n",
    "# deptDF1 = spark.createDataFrame(rdd, schema = deptSchema)\n",
    "# deptDF1.printSchema()\n",
    "# deptDF1.show(truncate=False)"
   ]
  },
  {
   "cell_type": "code",
   "execution_count": 50,
   "metadata": {},
   "outputs": [],
   "source": [
    "people = spark.createDataFrame([\n",
    "    {\"deptId\": 1, \"age\": 40, \"name\": \"Hyukjin Kwon\", \"gender\": \"M\", \"salary\": 50},\n",
    "    {\"deptId\": 1, \"age\": 50, \"name\": \"Takuya Ueshin\", \"gender\": \"M\", \"salary\": 100},\n",
    "    {\"deptId\": 2, \"age\": 60, \"name\": \"Xinrong Meng\", \"gender\": \"F\", \"salary\": 150},\n",
    "    {\"deptId\": 3, \"age\": 20, \"name\": \"Haejoon Lee\", \"gender\": \"M\", \"salary\": 200}\n",
    "])"
   ]
  },
  {
   "cell_type": "code",
   "execution_count": 52,
   "metadata": {},
   "outputs": [
    {
     "ename": "TypeError",
     "evalue": "'Column' object is not callable",
     "output_type": "error",
     "traceback": [
      "\u001b[1;31m---------------------------------------------------------------------------\u001b[0m",
      "\u001b[1;31mTypeError\u001b[0m                                 Traceback (most recent call last)",
      "\u001b[1;32m<ipython-input-52-1d14548ac154>\u001b[0m in \u001b[0;36m<module>\u001b[1;34m\u001b[0m\n\u001b[0;32m      1\u001b[0m \u001b[0mdf\u001b[0m \u001b[1;33m=\u001b[0m \u001b[0mpeople\u001b[0m\u001b[1;33m.\u001b[0m\u001b[0mage\u001b[0m\u001b[1;33m\u001b[0m\u001b[1;33m\u001b[0m\u001b[0m\n\u001b[1;32m----> 2\u001b[1;33m \u001b[0mdf\u001b[0m\u001b[1;33m.\u001b[0m\u001b[0mshow\u001b[0m\u001b[1;33m(\u001b[0m\u001b[1;33m)\u001b[0m\u001b[1;33m\u001b[0m\u001b[1;33m\u001b[0m\u001b[0m\n\u001b[0m",
      "\u001b[1;31mTypeError\u001b[0m: 'Column' object is not callable"
     ]
    }
   ],
   "source": [
    "df = people.age\n",
    "df.show()"
   ]
  },
  {
   "cell_type": "code",
   "execution_count": 60,
   "metadata": {},
   "outputs": [
    {
     "name": "stdout",
     "output_type": "stream",
     "text": [
      "+---------+\n",
      "|namespace|\n",
      "+---------+\n",
      "|  default|\n",
      "+---------+\n",
      "\n"
     ]
    }
   ],
   "source": [
    "spark.sql(\"show databases\").show()"
   ]
  },
  {
   "cell_type": "code",
   "execution_count": 61,
   "metadata": {},
   "outputs": [
    {
     "name": "stdout",
     "output_type": "stream",
     "text": [
      "+------+------------+------+\n",
      "|userId|       title|rating|\n",
      "+------+------------+------+\n",
      "|   196|Kolya (1996)|     3|\n",
      "|    63|Kolya (1996)|     3|\n",
      "|   226|Kolya (1996)|     5|\n",
      "|   154|Kolya (1996)|     3|\n",
      "|   306|Kolya (1996)|     5|\n",
      "|   296|Kolya (1996)|     4|\n",
      "|    34|Kolya (1996)|     5|\n",
      "|   271|Kolya (1996)|     4|\n",
      "|   201|Kolya (1996)|     4|\n",
      "|   209|Kolya (1996)|     4|\n",
      "|    35|Kolya (1996)|     2|\n",
      "|   354|Kolya (1996)|     5|\n",
      "|   199|Kolya (1996)|     5|\n",
      "|   113|Kolya (1996)|     2|\n",
      "|     1|Kolya (1996)|     5|\n",
      "|   173|Kolya (1996)|     5|\n",
      "|   360|Kolya (1996)|     4|\n",
      "|   234|Kolya (1996)|     4|\n",
      "|    14|Kolya (1996)|     4|\n",
      "|   309|Kolya (1996)|     4|\n",
      "|   331|Kolya (1996)|     4|\n",
      "|    21|Kolya (1996)|     3|\n",
      "|   111|Kolya (1996)|     4|\n",
      "|   439|Kolya (1996)|     5|\n",
      "|   355|Kolya (1996)|     4|\n",
      "|   204|Kolya (1996)|     5|\n",
      "|   145|Kolya (1996)|     5|\n",
      "|    30|Kolya (1996)|     5|\n",
      "|   463|Kolya (1996)|     2|\n",
      "|   144|Kolya (1996)|     4|\n",
      "|   417|Kolya (1996)|     3|\n",
      "|     2|Kolya (1996)|     5|\n",
      "|   497|Kolya (1996)|     1|\n",
      "|   523|Kolya (1996)|     5|\n",
      "|    12|Kolya (1996)|     5|\n",
      "|   202|Kolya (1996)|     3|\n",
      "|   131|Kolya (1996)|     5|\n",
      "|   451|Kolya (1996)|     1|\n",
      "|   532|Kolya (1996)|     4|\n",
      "|   539|Kolya (1996)|     5|\n",
      "|   537|Kolya (1996)|     3|\n",
      "|   416|Kolya (1996)|     4|\n",
      "|   566|Kolya (1996)|     5|\n",
      "|   597|Kolya (1996)|     4|\n",
      "|   181|Kolya (1996)|     1|\n",
      "|   639|Kolya (1996)|     4|\n",
      "|   123|Kolya (1996)|     5|\n",
      "|   520|Kolya (1996)|     5|\n",
      "|   617|Kolya (1996)|     3|\n",
      "|    86|Kolya (1996)|     4|\n",
      "|   624|Kolya (1996)|     4|\n",
      "|     9|Kolya (1996)|     4|\n",
      "|   651|Kolya (1996)|     5|\n",
      "|   492|Kolya (1996)|     5|\n",
      "|   207|Kolya (1996)|     4|\n",
      "|   460|Kolya (1996)|     4|\n",
      "|   697|Kolya (1996)|     5|\n",
      "|   129|Kolya (1996)|     4|\n",
      "|    40|Kolya (1996)|     4|\n",
      "|   740|Kolya (1996)|     4|\n",
      "|   239|Kolya (1996)|     5|\n",
      "|   794|Kolya (1996)|     5|\n",
      "|   461|Kolya (1996)|     3|\n",
      "|   771|Kolya (1996)|     4|\n",
      "|   733|Kolya (1996)|     4|\n",
      "|   568|Kolya (1996)|     4|\n",
      "|   673|Kolya (1996)|     4|\n",
      "|   249|Kolya (1996)|     5|\n",
      "|     6|Kolya (1996)|     4|\n",
      "|   205|Kolya (1996)|     4|\n",
      "|   592|Kolya (1996)|     5|\n",
      "|   440|Kolya (1996)|     5|\n",
      "|   641|Kolya (1996)|     5|\n",
      "|   765|Kolya (1996)|     5|\n",
      "|   139|Kolya (1996)|     3|\n",
      "|   628|Kolya (1996)|     5|\n",
      "|   473|Kolya (1996)|     3|\n",
      "|   695|Kolya (1996)|     5|\n",
      "|   206|Kolya (1996)|     3|\n",
      "|   863|Kolya (1996)|     4|\n",
      "|    90|Kolya (1996)|     4|\n",
      "|   594|Kolya (1996)|     4|\n",
      "|   866|Kolya (1996)|     3|\n",
      "|   803|Kolya (1996)|     5|\n",
      "|   240|Kolya (1996)|     5|\n",
      "|   753|Kolya (1996)|     4|\n",
      "|   735|Kolya (1996)|     5|\n",
      "|   869|Kolya (1996)|     2|\n",
      "|   655|Kolya (1996)|     4|\n",
      "|    18|Kolya (1996)|     5|\n",
      "|   898|Kolya (1996)|     4|\n",
      "|   937|Kolya (1996)|     3|\n",
      "|   767|Kolya (1996)|     4|\n",
      "|   533|Kolya (1996)|     4|\n",
      "|   680|Kolya (1996)|     4|\n",
      "|   485|Kolya (1996)|     5|\n",
      "|   574|Kolya (1996)|     5|\n",
      "|   758|Kolya (1996)|     3|\n",
      "|   486|Kolya (1996)|     4|\n",
      "|    13|Kolya (1996)|     2|\n",
      "+------+------------+------+\n",
      "only showing top 100 rows\n",
      "\n"
     ]
    }
   ],
   "source": [
    "df = spark.read.csv('C:\\\\Users\\\\chaturvedi_v\\\\Downloads\\\\movie_ratings_df\\\\movie_ratings_df.csv',inferSchema=True,header=True)\n",
    "df.show(100)"
   ]
  },
  {
   "cell_type": "code",
   "execution_count": 63,
   "metadata": {},
   "outputs": [
    {
     "data": {
      "text/html": [
       "<div>\n",
       "<style scoped>\n",
       "    .dataframe tbody tr th:only-of-type {\n",
       "        vertical-align: middle;\n",
       "    }\n",
       "\n",
       "    .dataframe tbody tr th {\n",
       "        vertical-align: top;\n",
       "    }\n",
       "\n",
       "    .dataframe thead th {\n",
       "        text-align: right;\n",
       "    }\n",
       "</style>\n",
       "<table border=\"1\" class=\"dataframe\">\n",
       "  <thead>\n",
       "    <tr style=\"text-align: right;\">\n",
       "      <th></th>\n",
       "      <th>userId</th>\n",
       "      <th>title</th>\n",
       "      <th>rating</th>\n",
       "    </tr>\n",
       "  </thead>\n",
       "  <tbody>\n",
       "    <tr>\n",
       "      <th>0</th>\n",
       "      <td>196</td>\n",
       "      <td>Kolya (1996)</td>\n",
       "      <td>3</td>\n",
       "    </tr>\n",
       "    <tr>\n",
       "      <th>1</th>\n",
       "      <td>63</td>\n",
       "      <td>Kolya (1996)</td>\n",
       "      <td>3</td>\n",
       "    </tr>\n",
       "    <tr>\n",
       "      <th>2</th>\n",
       "      <td>226</td>\n",
       "      <td>Kolya (1996)</td>\n",
       "      <td>5</td>\n",
       "    </tr>\n",
       "    <tr>\n",
       "      <th>3</th>\n",
       "      <td>154</td>\n",
       "      <td>Kolya (1996)</td>\n",
       "      <td>3</td>\n",
       "    </tr>\n",
       "    <tr>\n",
       "      <th>4</th>\n",
       "      <td>306</td>\n",
       "      <td>Kolya (1996)</td>\n",
       "      <td>5</td>\n",
       "    </tr>\n",
       "    <tr>\n",
       "      <th>...</th>\n",
       "      <td>...</td>\n",
       "      <td>...</td>\n",
       "      <td>...</td>\n",
       "    </tr>\n",
       "    <tr>\n",
       "      <th>95</th>\n",
       "      <td>485</td>\n",
       "      <td>Kolya (1996)</td>\n",
       "      <td>5</td>\n",
       "    </tr>\n",
       "    <tr>\n",
       "      <th>96</th>\n",
       "      <td>574</td>\n",
       "      <td>Kolya (1996)</td>\n",
       "      <td>5</td>\n",
       "    </tr>\n",
       "    <tr>\n",
       "      <th>97</th>\n",
       "      <td>758</td>\n",
       "      <td>Kolya (1996)</td>\n",
       "      <td>3</td>\n",
       "    </tr>\n",
       "    <tr>\n",
       "      <th>98</th>\n",
       "      <td>486</td>\n",
       "      <td>Kolya (1996)</td>\n",
       "      <td>4</td>\n",
       "    </tr>\n",
       "    <tr>\n",
       "      <th>99</th>\n",
       "      <td>13</td>\n",
       "      <td>Kolya (1996)</td>\n",
       "      <td>2</td>\n",
       "    </tr>\n",
       "  </tbody>\n",
       "</table>\n",
       "<p>100 rows × 3 columns</p>\n",
       "</div>"
      ],
      "text/plain": [
       "    userId         title  rating\n",
       "0      196  Kolya (1996)       3\n",
       "1       63  Kolya (1996)       3\n",
       "2      226  Kolya (1996)       5\n",
       "3      154  Kolya (1996)       3\n",
       "4      306  Kolya (1996)       5\n",
       "..     ...           ...     ...\n",
       "95     485  Kolya (1996)       5\n",
       "96     574  Kolya (1996)       5\n",
       "97     758  Kolya (1996)       3\n",
       "98     486  Kolya (1996)       4\n",
       "99      13  Kolya (1996)       2\n",
       "\n",
       "[100 rows x 3 columns]"
      ]
     },
     "execution_count": 63,
     "metadata": {},
     "output_type": "execute_result"
    }
   ],
   "source": [
    "pdf = df.limit(100).toPandas()\n",
    "pdf"
   ]
  },
  {
   "cell_type": "code",
   "execution_count": 44,
   "metadata": {},
   "outputs": [
    {
     "name": "stdout",
     "output_type": "stream",
     "text": [
      "Enter an integer0\n",
      "it is not even odd or even \n"
     ]
    }
   ],
   "source": [
    "# bitwise operation to check whether a number is even or odd\n",
    "\n",
    "num = int(input(\"Enter an integer\"))\n",
    "if (num == 0):\n",
    "    print(\"it is not even odd or even \")\n",
    "elif (num&1):\n",
    "    print(\"it is a odd number\")\n",
    "else:\n",
    "    print(\"iit is even number\")"
   ]
  },
  {
   "cell_type": "code",
   "execution_count": 47,
   "metadata": {},
   "outputs": [
    {
     "name": "stdout",
     "output_type": "stream",
     "text": [
      "-6\n"
     ]
    }
   ],
   "source": [
    "num1 =5\n",
    "num2 = 3\n",
    "print(~num1)"
   ]
  },
  {
   "cell_type": "code",
   "execution_count": 57,
   "metadata": {},
   "outputs": [],
   "source": [
    "\n",
    "spark.stop()"
   ]
  }
 ],
 "metadata": {
  "kernelspec": {
   "display_name": "machineL",
   "language": "python",
   "name": "machinel"
  },
  "language_info": {
   "codemirror_mode": {
    "name": "ipython",
    "version": 3
   },
   "file_extension": ".py",
   "mimetype": "text/x-python",
   "name": "python",
   "nbconvert_exporter": "python",
   "pygments_lexer": "ipython3",
   "version": "3.9.1"
  }
 },
 "nbformat": 4,
 "nbformat_minor": 4
}
