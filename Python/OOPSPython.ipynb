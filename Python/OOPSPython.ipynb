{
 "cells": [
  {
   "cell_type": "markdown",
   "metadata": {},
   "source": [
    "### learning Object oriented programming using Python\n",
    "* constructor\n",
    "* __repr__\n",
    "* __str__\n",
    "* what are classmethods\n",
    "* what are staticmethod ?\n",
    "* what are class variable or read only memory\n",
    "* what is abstractmethod"
   ]
  },
  {
   "cell_type": "code",
   "execution_count": 57,
   "metadata": {},
   "outputs": [
    {
     "name": "stdout",
     "output_type": "stream",
     "text": [
      "Vibhav Chaturvedi\n",
      "Yogesh Sharma\n",
      "Yogesh.Sharma@xoriant.com\n",
      "EmployeeClass(Vibhav,Chaturvedi,100000)\n",
      "345000.0\n",
      "Yogesh--->Sharma\n",
      "330000.0\n",
      "Manager Type\n"
     ]
    }
   ],
   "source": [
    "from abc import ABC,abstractmethod\n",
    "class EmployeeClass():\n",
    "    def __init__(self,fname,lname,pay):\n",
    "        self.firstname = fname\n",
    "        self.lastname = lname\n",
    "        self.pay = int(pay)\n",
    "        self.email = f\"{fname}.{lname}@xoriant.com\"\n",
    "        \n",
    "    def __repr__(self):\n",
    "        return f\"EmployeeClass({self.firstname},{self.lastname},{self.pay})\"\n",
    "    def __str__(self):\n",
    "        return f\"{self.firstname} {self.lastname}\"\n",
    "    @classmethod\n",
    "    def AlterC(cls,employee_string):\n",
    "        fname,lname,pay = employee_string.split(\"-\")\n",
    "        return cls(fname,lname,pay)\n",
    "    @staticmethod\n",
    "    def calculateIncrement(pay,increment):\n",
    "        return pay*(1+float(increment/100))\n",
    "    @property\n",
    "    def text(self):\n",
    "        return str(f\"{self.firstname}--->{self.lastname}\")\n",
    "    @abstractmethod\n",
    "    def EmployeeType():\n",
    "        pass\n",
    "class Manager(EmployeeClass):\n",
    "    def __init__(self,fname,lname,pay):\n",
    "        super().__init__(fname,lname,pay)\n",
    "    def EmployeeType(self):\n",
    "        return \"Manager Type\"\n",
    "\n",
    "parameters = {\"fname\":\"Vibhav\",\"lname\":\"Chaturvedi\",\"pay\":100000}\n",
    "emp1 = EmployeeClass(**parameters)\n",
    "emp2 = EmployeeClass.AlterC(\"Yogesh-Sharma-300000\")\n",
    "print(emp1)\n",
    "print(emp2)\n",
    "print(emp2.email)\n",
    "print(emp1.__repr__())\n",
    "#print(emp2.nothing())\n",
    "print(emp2.calculateIncrement(emp2.pay,15))\n",
    "print(emp2.text)\n",
    "print(emp2.calculateIncrement(emp2.pay,10))\n",
    "parameter2 = {\"fname\":\"Priyesh\",\"lname\":\"Saraswat\",\"pay\":300000}\n",
    "emp3 = Manager(**parameter2)\n",
    "print(emp3.EmployeeType())"
   ]
  },
  {
   "cell_type": "markdown",
   "metadata": {},
   "source": [
    "# Compositon Examples\n",
    "\n",
    "### Example-1: Creating an annual salary between salary and staff classes\n",
    "\n",
    "A workplace can determine how much an employee has to pay by defining the Salary class. However, this can also be expressed well with different parameters as an employee’s income. For example, for an employee with a monthly salary of 2600 €, the annual sum can be determined with a 12-month payment. We can add an additional parameter to this, like the annual bonuses. Then let’s run a function from the Salary class in the employee class and view the Total salary:"
   ]
  },
  {
   "cell_type": "code",
   "execution_count": 59,
   "metadata": {},
   "outputs": [],
   "source": [
    "class Salary:\n",
    "    def __init__(self, monthly_income):\n",
    "        self.monthly_income = monthly_income\n",
    " \n",
    "    def get_total(self):\n",
    "        return (self.monthly_income*12)\n",
    "    \n",
    "class Employee:\n",
    "    def __init__(self, monthly_income, bonus):\n",
    "        self.monthly_income = monthly_income\n",
    "        self.bonus = bonus\n",
    "        self.obj_salary = Salary(self.monthly_income)\n",
    " \n",
    "    def annual_salary(self):\n",
    "        return \"Total: \" + str(self.obj_salary.get_total() + self.bonus) + ' €'        \n",
    "    "
   ]
  },
  {
   "cell_type": "code",
   "execution_count": 61,
   "metadata": {},
   "outputs": [
    {
     "name": "stdout",
     "output_type": "stream",
     "text": [
      "Total: 27400 €\n"
     ]
    }
   ],
   "source": [
    "Emp1 = Employee(2200,1000)\n",
    "print(Emp1.annual_salary())"
   ]
  },
  {
   "cell_type": "markdown",
   "metadata": {},
   "source": [
    "### Example-2: Composing by putting different substances in a material\n",
    "\n",
    "For this example, we need a Freezer class. We will fill different materials into our main class and then try to view them in an empty list, which we will first mark as blank. We will have only one class, but in this class, the functions of storing and displaying the material will solve our problem. Then:"
   ]
  },
  {
   "cell_type": "code",
   "execution_count": 65,
   "metadata": {},
   "outputs": [
    {
     "name": "stdout",
     "output_type": "stream",
     "text": [
      "fish,carrot\n"
     ]
    }
   ],
   "source": [
    "class Freezer(object):\n",
    "    def __init__(self):\n",
    "        self._container = []\n",
    "    def store(self,obj):\n",
    "        self._container.append(obj)\n",
    "    @property\n",
    "    def contains(self):\n",
    "        return str(\",\".join(self._container))\n",
    "Fridge =Freezer()\n",
    "Fridge.store('fish')\n",
    "Fridge.store('carrot')\n",
    "print(Fridge.contains)"
   ]
  },
  {
   "cell_type": "markdown",
   "metadata": {},
   "source": [
    "### Example-3: Composing types in the zoo\n",
    "Our aim here is to make a composition process that will give how many zoo animal species are in the category of birds. For this, we will first create the animal class. We will then designate the two different bird species (Falcon and Parrots) into the bird category. And finally, we will print how many different bird species exist within the zoo class according to the data of the 3 separate classes we have identified above. According to this:"
   ]
  },
  {
   "cell_type": "code",
   "execution_count": 78,
   "metadata": {},
   "outputs": [
    {
     "name": "stdout",
     "output_type": "stream",
     "text": [
      "2\n",
      "Falcon,Parrot\n"
     ]
    }
   ],
   "source": [
    "class Animal:\n",
    "    def __init__(self,name=None,category=None):\n",
    "        self.name = name\n",
    "        self.category = None\n",
    "class Falcon(Animal):\n",
    "    def __init__(self,name):\n",
    "        super().__init__(name)\n",
    "        self.category = \"birds\"\n",
    "class Parrot(Animal):\n",
    "    def __init__(self,name):\n",
    "        super().__init__(name)\n",
    "        self.category = \"birds\"\n",
    "class Zoo:\n",
    "    def __init__(self):\n",
    "        self.current_animals = {}\n",
    "    \n",
    "    def add_animal(self, animal):\n",
    "        self.current_animals[animal.name] = animal.category\n",
    "    \n",
    "    def total_of_category(self, category):\n",
    "        result = 0\n",
    "        for animal in self.current_animals.values():\n",
    "            if animal == category:\n",
    "                result += 1\n",
    "        return result\n",
    "    def zoo_contains(self):\n",
    "        return(str(\",\".join(self.current_animals.keys())))\n",
    "zoo = Zoo()\n",
    "falcon = Falcon(\"Falcon\") #create an instance of the Falcon class\n",
    "parrots = Parrots(\"Parrot\") #create an instance of the Parrots class\n",
    "zoo.add_animal(falcon)\n",
    "zoo.add_animal(parrots)\n",
    "print(zoo.total_of_category(\"birds\")) #how many zoo animal types in the birds category\n",
    "print(zoo.zoo_contains())\n",
    "    "
   ]
  },
  {
   "cell_type": "code",
   "execution_count": 79,
   "metadata": {},
   "outputs": [
    {
     "name": "stdout",
     "output_type": "stream",
     "text": [
      "2\n"
     ]
    }
   ],
   "source": [
    "class Animal:\n",
    "    name = \"\"\n",
    "    category = \"\"\n",
    "    \n",
    "    def __init__(self, name):\n",
    "        self.name = name\n",
    "    \n",
    "    def set_category(self, category):\n",
    "        self.category = category\n",
    "class Falcon(Animal):\n",
    "        category = \"birds\"\n",
    "class Parrots(Animal):\n",
    "    category = \"birds\"\n",
    "class Zoo:\n",
    "    def __init__(self):\n",
    "        self.current_animals = {}\n",
    "    \n",
    "    def add_animal(self, animal):\n",
    "        self.current_animals[animal.name] = animal.category\n",
    "    \n",
    "    def total_of_category(self, category):\n",
    "        result = 0\n",
    "        for animal in self.current_animals.values():\n",
    "            if animal == category:\n",
    "                result += 1\n",
    "        return result\n",
    "zoo = Zoo()\n",
    "falcon = Falcon(\"Falcon\") #create an instance of the Falcon class\n",
    "parrots = Parrots(\"Parrots\") #create an instance of the Parrots class\n",
    "zoo.add_animal(falcon)\n",
    "zoo.add_animal(parrots)\n",
    "print(zoo.total_of_category(\"birds\")) #how many zoo animal types in the birds category"
   ]
  },
  {
   "cell_type": "markdown",
   "metadata": {},
   "source": [
    "### Example-4: Composing personnel and address classes\n",
    "\n",
    "Composing this structure will allow for deeper learning. In our example, a software firm wants to record basic information about job applications. Information such as name-surname-coding history and address of the person that is important for them here. And for this, we want to create a print out that we can compose by calling up common functions between the person class and the Address class as two separate classes.\n",
    "\n",
    "We want the sub-functions to include the display function basically in the person class. So let’s do:"
   ]
  },
  {
   "cell_type": "code",
   "execution_count": 88,
   "metadata": {},
   "outputs": [
    {
     "name": "stdout",
     "output_type": "stream",
     "text": [
      "Personal Name & Surname: Markus Faber\n",
      "Experience period: 18 year\n",
      "\n",
      "Address: \n",
      "Brienner St. 0123\n",
      "GERMANY\n",
      "Maxvorstadt/Munich\n",
      "\n",
      "Programming Languages Used: \n",
      "  -  Python\n",
      "  -  PHP\n",
      "  -  Javascript\n",
      "  -  Java\n",
      "\n",
      "-------------------------\n",
      "\n",
      "Personal Name & Surname: Arim Khandakar\n",
      "Experience period: 6 year\n",
      "\n",
      "Address: \n",
      "Rd No 456\n",
      "BANGLADESH\n",
      "Kalachandpur/DHAKA\n",
      "\n",
      "Programming Languages Used: \n",
      "  -  NodeJS\n",
      "  -  ReactJS\n",
      "\n",
      "-------------------------\n",
      "\n",
      "Personal Name & Surname: Julia Gage\n",
      "Experience period: 4 year\n",
      "\n",
      "\n",
      "Programming Languages Used: \n",
      "  -  Javascript\n",
      "  -  CSS\n",
      "\n",
      "-------------------------\n",
      "\n"
     ]
    }
   ],
   "source": [
    "class Personal:\n",
    "    def __init__(self,name,surname, programming_language, experience):\n",
    "        self.name=name\n",
    "        self.surname=surname\n",
    "        self.programming_language=programming_language\n",
    "        self.experience=experience\n",
    "        self.address=None\n",
    "    \n",
    "    def View(self):\n",
    "        print(f\"Personal Name & Surname: {self.name} {self.surname}\")\n",
    "        print(f\"Experience period: {self.experience} year\")\n",
    "        print()\n",
    "        if self.address:\n",
    "            print(\"Address: \")\n",
    "            print(self.address)\n",
    "        print()\n",
    "        print(\"Programming Languages Used: \")\n",
    "        data_type=type(self.programming_language)\n",
    "        if data_type is str:\n",
    "            print(\"  - \", self.programming_language)\n",
    "        elif data_type is tuple or list:\n",
    "            for language in self.programming_language:\n",
    "                print(\"  - \", language)\n",
    "        else:\n",
    "            print(\"Error!\")\n",
    "        print(\"\")\n",
    "        print(\"-------------------------\")\n",
    "        print(\"\")\n",
    "class Address:\n",
    "    def __init__(self, ad, district,city,land):\n",
    "        self.ad=ad\n",
    "        self.district=district\n",
    "        self.city=city\n",
    "        self.land=land\n",
    "    def __str__(self):\n",
    "        details=[self.ad]\n",
    "        if self.land:\n",
    "            details.append(self.land)\n",
    "            details.append(f\"{self.district}/{self.city}\")\n",
    "        return '\\n'.join(details)\n",
    "personal1 = Personal(\"Markus\",\"Faber\",(\"Python\",\"PHP\",\"Javascript\",\"Java\"), 18)\n",
    "personal1.address=Address('Brienner St. 0123', 'Maxvorstadt','Munich',\"GERMANY\")\n",
    "personal2 = Personal(\"Arim\",\"Khandakar\",(\"NodeJS\",\"ReactJS\"), 6)\n",
    "personal2.address =Address('Rd No 456','Kalachandpur','DHAKA',\"BANGLADESH\")\n",
    "personal3 = Personal(\"Julia\",\"Gage\",(\"Javascript\",\"CSS\"), 4)\n",
    "personal1.View()\n",
    "personal2.View()\n",
    "personal3.View()"
   ]
  }
 ],
 "metadata": {
  "kernelspec": {
   "display_name": "machineL",
   "language": "python",
   "name": "machinel"
  },
  "language_info": {
   "codemirror_mode": {
    "name": "ipython",
    "version": 3
   },
   "file_extension": ".py",
   "mimetype": "text/x-python",
   "name": "python",
   "nbconvert_exporter": "python",
   "pygments_lexer": "ipython3",
   "version": "3.9.1"
  }
 },
 "nbformat": 4,
 "nbformat_minor": 4
}
