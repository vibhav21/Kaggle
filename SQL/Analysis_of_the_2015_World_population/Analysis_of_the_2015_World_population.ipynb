{
 "cells": [
  {
   "cell_type": "code",
   "execution_count": 109,
   "metadata": {},
   "outputs": [],
   "source": [
    "import pandas as pd"
   ]
  },
  {
   "cell_type": "code",
   "execution_count": 177,
   "metadata": {},
   "outputs": [
    {
     "name": "stdout",
     "output_type": "stream",
     "text": [
      "Requirement already satisfied: ipython-sql in c:\\users\\chaturvedi_v\\appdata\\local\\programs\\python\\python39\\lib\\site-packages (0.5.0)"
     ]
    },
    {
     "name": "stderr",
     "output_type": "stream",
     "text": [
      "WARNING: You are using pip version 21.3.1; however, version 23.1.2 is available.\n",
      "You should consider upgrading via the 'c:\\users\\chaturvedi_v\\appdata\\local\\programs\\python\\python39\\python.exe -m pip install --upgrade pip' command.\n"
     ]
    },
    {
     "name": "stdout",
     "output_type": "stream",
     "text": [
      "\n",
      "Requirement already satisfied: prettytable in c:\\users\\chaturvedi_v\\appdata\\local\\programs\\python\\python39\\lib\\site-packages (from ipython-sql) (0.7.2)\n",
      "Requirement already satisfied: ipython-genutils in c:\\users\\chaturvedi_v\\appdata\\local\\programs\\python\\python39\\lib\\site-packages (from ipython-sql) (0.2.0)\n",
      "Requirement already satisfied: sqlalchemy>=2.0 in c:\\users\\chaturvedi_v\\appdata\\local\\programs\\python\\python39\\lib\\site-packages (from ipython-sql) (2.0.11)\n",
      "Requirement already satisfied: ipython in c:\\users\\chaturvedi_v\\appdata\\local\\programs\\python\\python39\\lib\\site-packages (from ipython-sql) (7.22.0)\n",
      "Requirement already satisfied: six in c:\\users\\chaturvedi_v\\appdata\\roaming\\python\\python39\\site-packages (from ipython-sql) (1.15.0)\n",
      "Requirement already satisfied: sqlparse in c:\\users\\chaturvedi_v\\appdata\\local\\programs\\python\\python39\\lib\\site-packages (from ipython-sql) (0.4.4)\n",
      "Requirement already satisfied: typing-extensions>=4.2.0 in c:\\users\\chaturvedi_v\\appdata\\local\\programs\\python\\python39\\lib\\site-packages (from sqlalchemy>=2.0->ipython-sql) (4.5.0)\n",
      "Requirement already satisfied: greenlet!=0.4.17 in c:\\users\\chaturvedi_v\\appdata\\local\\programs\\python\\python39\\lib\\site-packages (from sqlalchemy>=2.0->ipython-sql) (1.1.0)\n",
      "Requirement already satisfied: traitlets>=4.2 in c:\\users\\chaturvedi_v\\appdata\\local\\programs\\python\\python39\\lib\\site-packages (from ipython->ipython-sql) (5.0.5)\n",
      "Requirement already satisfied: prompt-toolkit!=3.0.0,!=3.0.1,<3.1.0,>=2.0.0 in c:\\users\\chaturvedi_v\\appdata\\local\\programs\\python\\python39\\lib\\site-packages (from ipython->ipython-sql) (3.0.18)\n",
      "Requirement already satisfied: decorator in c:\\users\\chaturvedi_v\\appdata\\local\\programs\\python\\python39\\lib\\site-packages (from ipython->ipython-sql) (5.0.7)\n",
      "Requirement already satisfied: setuptools>=18.5 in c:\\users\\chaturvedi_v\\appdata\\local\\programs\\python\\python39\\lib\\site-packages (from ipython->ipython-sql) (49.2.1)\n",
      "Requirement already satisfied: jedi>=0.16 in c:\\users\\chaturvedi_v\\appdata\\local\\programs\\python\\python39\\lib\\site-packages (from ipython->ipython-sql) (0.18.0)\n",
      "Requirement already satisfied: colorama in c:\\users\\chaturvedi_v\\appdata\\local\\programs\\python\\python39\\lib\\site-packages (from ipython->ipython-sql) (0.4.4)\n",
      "Requirement already satisfied: pickleshare in c:\\users\\chaturvedi_v\\appdata\\local\\programs\\python\\python39\\lib\\site-packages (from ipython->ipython-sql) (0.7.5)\n",
      "Requirement already satisfied: pygments in c:\\users\\chaturvedi_v\\appdata\\local\\programs\\python\\python39\\lib\\site-packages (from ipython->ipython-sql) (2.8.1)\n",
      "Requirement already satisfied: backcall in c:\\users\\chaturvedi_v\\appdata\\local\\programs\\python\\python39\\lib\\site-packages (from ipython->ipython-sql) (0.2.0)\n",
      "Requirement already satisfied: parso<0.9.0,>=0.8.0 in c:\\users\\chaturvedi_v\\appdata\\local\\programs\\python\\python39\\lib\\site-packages (from jedi>=0.16->ipython->ipython-sql) (0.8.2)\n",
      "Requirement already satisfied: wcwidth in c:\\users\\chaturvedi_v\\appdata\\local\\programs\\python\\python39\\lib\\site-packages (from prompt-toolkit!=3.0.0,!=3.0.1,<3.1.0,>=2.0.0->ipython->ipython-sql) (0.2.5)\n",
      "^C\n"
     ]
    }
   ],
   "source": [
    "import sys\n",
    "!{sys.executable} -m pip install ipython-sql\n",
    "!{sys.executable} -m pip install plotly"
   ]
  },
  {
   "cell_type": "code",
   "execution_count": 3,
   "metadata": {},
   "outputs": [],
   "source": [
    "%load_ext sql"
   ]
  },
  {
   "cell_type": "code",
   "execution_count": 15,
   "metadata": {},
   "outputs": [],
   "source": [
    "\n",
    "%sql sqlite:///factbook.db"
   ]
  },
  {
   "cell_type": "markdown",
   "metadata": {},
   "source": [
    "#Here we format the input as a table"
   ]
  },
  {
   "cell_type": "code",
   "execution_count": 51,
   "metadata": {},
   "outputs": [
    {
     "name": "stdout",
     "output_type": "stream",
     "text": [
      " * sqlite:///factbook.db\n",
      "Done.\n"
     ]
    },
    {
     "data": {
      "text/html": [
       "<table>\n",
       "    <tr>\n",
       "        <th>type</th>\n",
       "        <th>name</th>\n",
       "        <th>tbl_name</th>\n",
       "        <th>rootpage</th>\n",
       "        <th>sql</th>\n",
       "    </tr>\n",
       "    <tr>\n",
       "        <td>table</td>\n",
       "        <td>sqlite_sequence</td>\n",
       "        <td>sqlite_sequence</td>\n",
       "        <td>3</td>\n",
       "        <td>CREATE TABLE sqlite_sequence(name,seq)</td>\n",
       "    </tr>\n",
       "    <tr>\n",
       "        <td>table</td>\n",
       "        <td>facts</td>\n",
       "        <td>facts</td>\n",
       "        <td>47</td>\n",
       "        <td>CREATE TABLE &quot;facts&quot; (&quot;id&quot; INTEGER PRIMARY KEY AUTOINCREMENT NOT NULL, &quot;code&quot; varchar(255) NOT NULL, &quot;name&quot; varchar(255) NOT NULL, &quot;area&quot; integer, &quot;area_land&quot; integer, &quot;area_water&quot; integer, &quot;population&quot; integer, &quot;population_growth&quot; float, &quot;birth_rate&quot; float, &quot;death_rate&quot; float, &quot;migration_rate&quot; float)</td>\n",
       "    </tr>\n",
       "</table>"
      ],
      "text/plain": [
       "[('table', 'sqlite_sequence', 'sqlite_sequence', 3, 'CREATE TABLE sqlite_sequence(name,seq)'),\n",
       " ('table', 'facts', 'facts', 47, 'CREATE TABLE \"facts\" (\"id\" INTEGER PRIMARY KEY AUTOINCREMENT NOT NULL, \"code\" varchar(255) NOT NULL, \"name\" varchar(255) NOT NULL, \"area\" integer, \"a ... (4 characters truncated) ... land\" integer, \"area_water\" integer, \"population\" integer, \"population_growth\" float, \"birth_rate\" float, \"death_rate\" float, \"migration_rate\" float)')]"
      ]
     },
     "execution_count": 51,
     "metadata": {},
     "output_type": "execute_result"
    }
   ],
   "source": [
    "\n",
    "%%sql\n",
    "\n",
    "SELECT *\n",
    "  FROM sqlite_master\n",
    "WHERE type='table'; \n",
    "\n"
   ]
  },
  {
   "cell_type": "code",
   "execution_count": 64,
   "metadata": {},
   "outputs": [
    {
     "name": "stdout",
     "output_type": "stream",
     "text": [
      " * sqlite:///factbook.db\n",
      "Done.\n"
     ]
    },
    {
     "data": {
      "text/html": [
       "<table>\n",
       "    <tr>\n",
       "        <th>id</th>\n",
       "        <th>code</th>\n",
       "        <th>name</th>\n",
       "        <th>area</th>\n",
       "        <th>area_land</th>\n",
       "        <th>area_water</th>\n",
       "        <th>population</th>\n",
       "        <th>population_growth</th>\n",
       "        <th>birth_rate</th>\n",
       "        <th>death_rate</th>\n",
       "        <th>migration_rate</th>\n",
       "    </tr>\n",
       "    <tr>\n",
       "        <td>1</td>\n",
       "        <td>af</td>\n",
       "        <td>Afghanistan</td>\n",
       "        <td>652230</td>\n",
       "        <td>652230</td>\n",
       "        <td>0</td>\n",
       "        <td>32564342</td>\n",
       "        <td>2.32</td>\n",
       "        <td>38.57</td>\n",
       "        <td>13.89</td>\n",
       "        <td>1.51</td>\n",
       "    </tr>\n",
       "    <tr>\n",
       "        <td>2</td>\n",
       "        <td>al</td>\n",
       "        <td>Albania</td>\n",
       "        <td>28748</td>\n",
       "        <td>27398</td>\n",
       "        <td>1350</td>\n",
       "        <td>3029278</td>\n",
       "        <td>0.3</td>\n",
       "        <td>12.92</td>\n",
       "        <td>6.58</td>\n",
       "        <td>3.3</td>\n",
       "    </tr>\n",
       "    <tr>\n",
       "        <td>3</td>\n",
       "        <td>ag</td>\n",
       "        <td>Algeria</td>\n",
       "        <td>2381741</td>\n",
       "        <td>2381741</td>\n",
       "        <td>0</td>\n",
       "        <td>39542166</td>\n",
       "        <td>1.84</td>\n",
       "        <td>23.67</td>\n",
       "        <td>4.31</td>\n",
       "        <td>0.92</td>\n",
       "    </tr>\n",
       "    <tr>\n",
       "        <td>4</td>\n",
       "        <td>an</td>\n",
       "        <td>Andorra</td>\n",
       "        <td>468</td>\n",
       "        <td>468</td>\n",
       "        <td>0</td>\n",
       "        <td>85580</td>\n",
       "        <td>0.12</td>\n",
       "        <td>8.13</td>\n",
       "        <td>6.96</td>\n",
       "        <td>0.0</td>\n",
       "    </tr>\n",
       "    <tr>\n",
       "        <td>5</td>\n",
       "        <td>ao</td>\n",
       "        <td>Angola</td>\n",
       "        <td>1246700</td>\n",
       "        <td>1246700</td>\n",
       "        <td>0</td>\n",
       "        <td>19625353</td>\n",
       "        <td>2.78</td>\n",
       "        <td>38.78</td>\n",
       "        <td>11.49</td>\n",
       "        <td>0.46</td>\n",
       "    </tr>\n",
       "    <tr>\n",
       "        <td>6</td>\n",
       "        <td>ac</td>\n",
       "        <td>Antigua and Barbuda</td>\n",
       "        <td>442</td>\n",
       "        <td>442</td>\n",
       "        <td>0</td>\n",
       "        <td>92436</td>\n",
       "        <td>1.24</td>\n",
       "        <td>15.85</td>\n",
       "        <td>5.69</td>\n",
       "        <td>2.21</td>\n",
       "    </tr>\n",
       "    <tr>\n",
       "        <td>7</td>\n",
       "        <td>ar</td>\n",
       "        <td>Argentina</td>\n",
       "        <td>2780400</td>\n",
       "        <td>2736690</td>\n",
       "        <td>43710</td>\n",
       "        <td>43431886</td>\n",
       "        <td>0.93</td>\n",
       "        <td>16.64</td>\n",
       "        <td>7.33</td>\n",
       "        <td>0.0</td>\n",
       "    </tr>\n",
       "    <tr>\n",
       "        <td>8</td>\n",
       "        <td>am</td>\n",
       "        <td>Armenia</td>\n",
       "        <td>29743</td>\n",
       "        <td>28203</td>\n",
       "        <td>1540</td>\n",
       "        <td>3056382</td>\n",
       "        <td>0.15</td>\n",
       "        <td>13.61</td>\n",
       "        <td>9.34</td>\n",
       "        <td>5.8</td>\n",
       "    </tr>\n",
       "    <tr>\n",
       "        <td>9</td>\n",
       "        <td>as</td>\n",
       "        <td>Australia</td>\n",
       "        <td>7741220</td>\n",
       "        <td>7682300</td>\n",
       "        <td>58920</td>\n",
       "        <td>22751014</td>\n",
       "        <td>1.07</td>\n",
       "        <td>12.15</td>\n",
       "        <td>7.14</td>\n",
       "        <td>5.65</td>\n",
       "    </tr>\n",
       "    <tr>\n",
       "        <td>10</td>\n",
       "        <td>au</td>\n",
       "        <td>Austria</td>\n",
       "        <td>83871</td>\n",
       "        <td>82445</td>\n",
       "        <td>1426</td>\n",
       "        <td>8665550</td>\n",
       "        <td>0.55</td>\n",
       "        <td>9.41</td>\n",
       "        <td>9.42</td>\n",
       "        <td>5.56</td>\n",
       "    </tr>\n",
       "    <tr>\n",
       "        <td>11</td>\n",
       "        <td>aj</td>\n",
       "        <td>Azerbaijan</td>\n",
       "        <td>86600</td>\n",
       "        <td>82629</td>\n",
       "        <td>3971</td>\n",
       "        <td>9780780</td>\n",
       "        <td>0.96</td>\n",
       "        <td>16.64</td>\n",
       "        <td>7.07</td>\n",
       "        <td>0.0</td>\n",
       "    </tr>\n",
       "    <tr>\n",
       "        <td>12</td>\n",
       "        <td>bf</td>\n",
       "        <td>Bahamas, The</td>\n",
       "        <td>13880</td>\n",
       "        <td>10010</td>\n",
       "        <td>3870</td>\n",
       "        <td>324597</td>\n",
       "        <td>0.85</td>\n",
       "        <td>15.5</td>\n",
       "        <td>7.05</td>\n",
       "        <td>0.0</td>\n",
       "    </tr>\n",
       "    <tr>\n",
       "        <td>13</td>\n",
       "        <td>ba</td>\n",
       "        <td>Bahrain</td>\n",
       "        <td>760</td>\n",
       "        <td>760</td>\n",
       "        <td>0</td>\n",
       "        <td>1346613</td>\n",
       "        <td>2.41</td>\n",
       "        <td>13.66</td>\n",
       "        <td>2.69</td>\n",
       "        <td>13.09</td>\n",
       "    </tr>\n",
       "    <tr>\n",
       "        <td>14</td>\n",
       "        <td>bg</td>\n",
       "        <td>Bangladesh</td>\n",
       "        <td>148460</td>\n",
       "        <td>130170</td>\n",
       "        <td>18290</td>\n",
       "        <td>168957745</td>\n",
       "        <td>1.6</td>\n",
       "        <td>21.14</td>\n",
       "        <td>5.61</td>\n",
       "        <td>0.46</td>\n",
       "    </tr>\n",
       "    <tr>\n",
       "        <td>15</td>\n",
       "        <td>bb</td>\n",
       "        <td>Barbados</td>\n",
       "        <td>430</td>\n",
       "        <td>430</td>\n",
       "        <td>0</td>\n",
       "        <td>290604</td>\n",
       "        <td>0.31</td>\n",
       "        <td>11.87</td>\n",
       "        <td>8.44</td>\n",
       "        <td>0.3</td>\n",
       "    </tr>\n",
       "    <tr>\n",
       "        <td>16</td>\n",
       "        <td>bo</td>\n",
       "        <td>Belarus</td>\n",
       "        <td>207600</td>\n",
       "        <td>202900</td>\n",
       "        <td>4700</td>\n",
       "        <td>9589689</td>\n",
       "        <td>0.2</td>\n",
       "        <td>10.7</td>\n",
       "        <td>13.36</td>\n",
       "        <td>0.7</td>\n",
       "    </tr>\n",
       "    <tr>\n",
       "        <td>17</td>\n",
       "        <td>be</td>\n",
       "        <td>Belgium</td>\n",
       "        <td>30528</td>\n",
       "        <td>30278</td>\n",
       "        <td>250</td>\n",
       "        <td>11323973</td>\n",
       "        <td>0.76</td>\n",
       "        <td>11.41</td>\n",
       "        <td>9.63</td>\n",
       "        <td>5.87</td>\n",
       "    </tr>\n",
       "    <tr>\n",
       "        <td>18</td>\n",
       "        <td>bh</td>\n",
       "        <td>Belize</td>\n",
       "        <td>22966</td>\n",
       "        <td>22806</td>\n",
       "        <td>160</td>\n",
       "        <td>347369</td>\n",
       "        <td>1.87</td>\n",
       "        <td>24.68</td>\n",
       "        <td>5.97</td>\n",
       "        <td>0.0</td>\n",
       "    </tr>\n",
       "    <tr>\n",
       "        <td>19</td>\n",
       "        <td>bn</td>\n",
       "        <td>Benin</td>\n",
       "        <td>112622</td>\n",
       "        <td>110622</td>\n",
       "        <td>2000</td>\n",
       "        <td>10448647</td>\n",
       "        <td>2.78</td>\n",
       "        <td>36.02</td>\n",
       "        <td>8.21</td>\n",
       "        <td>0.0</td>\n",
       "    </tr>\n",
       "    <tr>\n",
       "        <td>20</td>\n",
       "        <td>bt</td>\n",
       "        <td>Bhutan</td>\n",
       "        <td>38394</td>\n",
       "        <td>38394</td>\n",
       "        <td>0</td>\n",
       "        <td>741919</td>\n",
       "        <td>1.11</td>\n",
       "        <td>17.78</td>\n",
       "        <td>6.69</td>\n",
       "        <td>0.0</td>\n",
       "    </tr>\n",
       "    <tr>\n",
       "        <td>21</td>\n",
       "        <td>bl</td>\n",
       "        <td>Bolivia</td>\n",
       "        <td>1098581</td>\n",
       "        <td>1083301</td>\n",
       "        <td>15280</td>\n",
       "        <td>10800882</td>\n",
       "        <td>1.56</td>\n",
       "        <td>22.76</td>\n",
       "        <td>6.52</td>\n",
       "        <td>0.62</td>\n",
       "    </tr>\n",
       "    <tr>\n",
       "        <td>22</td>\n",
       "        <td>bk</td>\n",
       "        <td>Bosnia and Herzegovina</td>\n",
       "        <td>51197</td>\n",
       "        <td>51187</td>\n",
       "        <td>10</td>\n",
       "        <td>3867055</td>\n",
       "        <td>0.13</td>\n",
       "        <td>8.87</td>\n",
       "        <td>9.75</td>\n",
       "        <td>0.38</td>\n",
       "    </tr>\n",
       "    <tr>\n",
       "        <td>23</td>\n",
       "        <td>bc</td>\n",
       "        <td>Botswana</td>\n",
       "        <td>581730</td>\n",
       "        <td>566730</td>\n",
       "        <td>15000</td>\n",
       "        <td>2182719</td>\n",
       "        <td>1.21</td>\n",
       "        <td>20.96</td>\n",
       "        <td>13.39</td>\n",
       "        <td>4.56</td>\n",
       "    </tr>\n",
       "    <tr>\n",
       "        <td>24</td>\n",
       "        <td>br</td>\n",
       "        <td>Brazil</td>\n",
       "        <td>8515770</td>\n",
       "        <td>8358140</td>\n",
       "        <td>157630</td>\n",
       "        <td>204259812</td>\n",
       "        <td>0.77</td>\n",
       "        <td>14.46</td>\n",
       "        <td>6.58</td>\n",
       "        <td>0.14</td>\n",
       "    </tr>\n",
       "    <tr>\n",
       "        <td>25</td>\n",
       "        <td>bx</td>\n",
       "        <td>Brunei</td>\n",
       "        <td>5765</td>\n",
       "        <td>5265</td>\n",
       "        <td>500</td>\n",
       "        <td>429646</td>\n",
       "        <td>1.62</td>\n",
       "        <td>17.32</td>\n",
       "        <td>3.52</td>\n",
       "        <td>2.43</td>\n",
       "    </tr>\n",
       "    <tr>\n",
       "        <td>26</td>\n",
       "        <td>bu</td>\n",
       "        <td>Bulgaria</td>\n",
       "        <td>110879</td>\n",
       "        <td>108489</td>\n",
       "        <td>2390</td>\n",
       "        <td>7186893</td>\n",
       "        <td>0.58</td>\n",
       "        <td>8.92</td>\n",
       "        <td>14.44</td>\n",
       "        <td>0.29</td>\n",
       "    </tr>\n",
       "    <tr>\n",
       "        <td>27</td>\n",
       "        <td>uv</td>\n",
       "        <td>Burkina Faso</td>\n",
       "        <td>274200</td>\n",
       "        <td>273800</td>\n",
       "        <td>400</td>\n",
       "        <td>18931686</td>\n",
       "        <td>3.03</td>\n",
       "        <td>42.03</td>\n",
       "        <td>11.72</td>\n",
       "        <td>0.0</td>\n",
       "    </tr>\n",
       "    <tr>\n",
       "        <td>28</td>\n",
       "        <td>bm</td>\n",
       "        <td>Burma</td>\n",
       "        <td>676578</td>\n",
       "        <td>653508</td>\n",
       "        <td>23070</td>\n",
       "        <td>56320206</td>\n",
       "        <td>1.01</td>\n",
       "        <td>18.39</td>\n",
       "        <td>7.96</td>\n",
       "        <td>0.28</td>\n",
       "    </tr>\n",
       "    <tr>\n",
       "        <td>29</td>\n",
       "        <td>by</td>\n",
       "        <td>Burundi</td>\n",
       "        <td>27830</td>\n",
       "        <td>25680</td>\n",
       "        <td>2150</td>\n",
       "        <td>10742276</td>\n",
       "        <td>3.28</td>\n",
       "        <td>42.01</td>\n",
       "        <td>9.27</td>\n",
       "        <td>0.0</td>\n",
       "    </tr>\n",
       "    <tr>\n",
       "        <td>30</td>\n",
       "        <td>cb</td>\n",
       "        <td>Cambodia</td>\n",
       "        <td>181035</td>\n",
       "        <td>176515</td>\n",
       "        <td>4520</td>\n",
       "        <td>15708756</td>\n",
       "        <td>1.58</td>\n",
       "        <td>23.83</td>\n",
       "        <td>7.68</td>\n",
       "        <td>0.32</td>\n",
       "    </tr>\n",
       "    <tr>\n",
       "        <td>31</td>\n",
       "        <td>cm</td>\n",
       "        <td>Cameroon</td>\n",
       "        <td>475440</td>\n",
       "        <td>472710</td>\n",
       "        <td>2730</td>\n",
       "        <td>23739218</td>\n",
       "        <td>2.59</td>\n",
       "        <td>36.17</td>\n",
       "        <td>10.11</td>\n",
       "        <td>0.15</td>\n",
       "    </tr>\n",
       "    <tr>\n",
       "        <td>32</td>\n",
       "        <td>ca</td>\n",
       "        <td>Canada</td>\n",
       "        <td>9984670</td>\n",
       "        <td>9093507</td>\n",
       "        <td>891163</td>\n",
       "        <td>35099836</td>\n",
       "        <td>0.75</td>\n",
       "        <td>10.28</td>\n",
       "        <td>8.42</td>\n",
       "        <td>5.66</td>\n",
       "    </tr>\n",
       "    <tr>\n",
       "        <td>33</td>\n",
       "        <td>cv</td>\n",
       "        <td>Cabo Verde</td>\n",
       "        <td>4033</td>\n",
       "        <td>4033</td>\n",
       "        <td>0</td>\n",
       "        <td>545993</td>\n",
       "        <td>1.36</td>\n",
       "        <td>20.33</td>\n",
       "        <td>6.11</td>\n",
       "        <td>0.63</td>\n",
       "    </tr>\n",
       "    <tr>\n",
       "        <td>34</td>\n",
       "        <td>ct</td>\n",
       "        <td>Central African Republic</td>\n",
       "        <td>622984</td>\n",
       "        <td>622984</td>\n",
       "        <td>0</td>\n",
       "        <td>5391539</td>\n",
       "        <td>2.13</td>\n",
       "        <td>35.08</td>\n",
       "        <td>13.8</td>\n",
       "        <td>0.0</td>\n",
       "    </tr>\n",
       "    <tr>\n",
       "        <td>35</td>\n",
       "        <td>cd</td>\n",
       "        <td>Chad</td>\n",
       "        <td>None</td>\n",
       "        <td>1259200</td>\n",
       "        <td>24800</td>\n",
       "        <td>11631456</td>\n",
       "        <td>1.89</td>\n",
       "        <td>36.6</td>\n",
       "        <td>14.28</td>\n",
       "        <td>3.45</td>\n",
       "    </tr>\n",
       "    <tr>\n",
       "        <td>36</td>\n",
       "        <td>ci</td>\n",
       "        <td>Chile</td>\n",
       "        <td>756102</td>\n",
       "        <td>743812</td>\n",
       "        <td>12290</td>\n",
       "        <td>17508260</td>\n",
       "        <td>0.82</td>\n",
       "        <td>13.83</td>\n",
       "        <td>6.0</td>\n",
       "        <td>0.34</td>\n",
       "    </tr>\n",
       "    <tr>\n",
       "        <td>37</td>\n",
       "        <td>ch</td>\n",
       "        <td>China</td>\n",
       "        <td>9596960</td>\n",
       "        <td>9326410</td>\n",
       "        <td>270550</td>\n",
       "        <td>1367485388</td>\n",
       "        <td>0.45</td>\n",
       "        <td>12.49</td>\n",
       "        <td>7.53</td>\n",
       "        <td>0.44</td>\n",
       "    </tr>\n",
       "    <tr>\n",
       "        <td>38</td>\n",
       "        <td>co</td>\n",
       "        <td>Colombia</td>\n",
       "        <td>1138910</td>\n",
       "        <td>1038700</td>\n",
       "        <td>100210</td>\n",
       "        <td>46736728</td>\n",
       "        <td>1.04</td>\n",
       "        <td>16.47</td>\n",
       "        <td>5.4</td>\n",
       "        <td>0.64</td>\n",
       "    </tr>\n",
       "    <tr>\n",
       "        <td>39</td>\n",
       "        <td>cn</td>\n",
       "        <td>Comoros</td>\n",
       "        <td>2235</td>\n",
       "        <td>2235</td>\n",
       "        <td>0</td>\n",
       "        <td>780971</td>\n",
       "        <td>1.77</td>\n",
       "        <td>27.84</td>\n",
       "        <td>7.57</td>\n",
       "        <td>2.53</td>\n",
       "    </tr>\n",
       "    <tr>\n",
       "        <td>40</td>\n",
       "        <td>cg</td>\n",
       "        <td>Congo, Democratic Republic of the</td>\n",
       "        <td>2344858</td>\n",
       "        <td>2267048</td>\n",
       "        <td>77810</td>\n",
       "        <td>79375136</td>\n",
       "        <td>2.45</td>\n",
       "        <td>34.88</td>\n",
       "        <td>10.07</td>\n",
       "        <td>0.27</td>\n",
       "    </tr>\n",
       "    <tr>\n",
       "        <td>41</td>\n",
       "        <td>cf</td>\n",
       "        <td>Congo, Republic of the</td>\n",
       "        <td>342000</td>\n",
       "        <td>341500</td>\n",
       "        <td>500</td>\n",
       "        <td>4755097</td>\n",
       "        <td>2.0</td>\n",
       "        <td>35.85</td>\n",
       "        <td>10.0</td>\n",
       "        <td>5.9</td>\n",
       "    </tr>\n",
       "    <tr>\n",
       "        <td>42</td>\n",
       "        <td>cs</td>\n",
       "        <td>Costa Rica</td>\n",
       "        <td>51100</td>\n",
       "        <td>51060</td>\n",
       "        <td>40</td>\n",
       "        <td>4814144</td>\n",
       "        <td>1.22</td>\n",
       "        <td>15.91</td>\n",
       "        <td>4.55</td>\n",
       "        <td>0.83</td>\n",
       "    </tr>\n",
       "    <tr>\n",
       "        <td>43</td>\n",
       "        <td>iv</td>\n",
       "        <td>Cote d&#x27;Ivoire</td>\n",
       "        <td>322463</td>\n",
       "        <td>318003</td>\n",
       "        <td>4460</td>\n",
       "        <td>23295302</td>\n",
       "        <td>1.91</td>\n",
       "        <td>28.67</td>\n",
       "        <td>9.55</td>\n",
       "        <td>0.0</td>\n",
       "    </tr>\n",
       "    <tr>\n",
       "        <td>44</td>\n",
       "        <td>hr</td>\n",
       "        <td>Croatia</td>\n",
       "        <td>56594</td>\n",
       "        <td>55974</td>\n",
       "        <td>620</td>\n",
       "        <td>4464844</td>\n",
       "        <td>0.13</td>\n",
       "        <td>9.45</td>\n",
       "        <td>12.18</td>\n",
       "        <td>1.39</td>\n",
       "    </tr>\n",
       "    <tr>\n",
       "        <td>45</td>\n",
       "        <td>cu</td>\n",
       "        <td>Cuba</td>\n",
       "        <td>110860</td>\n",
       "        <td>109820</td>\n",
       "        <td>1040</td>\n",
       "        <td>11031433</td>\n",
       "        <td>0.15</td>\n",
       "        <td>9.9</td>\n",
       "        <td>7.72</td>\n",
       "        <td>3.66</td>\n",
       "    </tr>\n",
       "    <tr>\n",
       "        <td>46</td>\n",
       "        <td>cy</td>\n",
       "        <td>Cyprus</td>\n",
       "        <td>9251</td>\n",
       "        <td>9241</td>\n",
       "        <td>10</td>\n",
       "        <td>1189197</td>\n",
       "        <td>1.43</td>\n",
       "        <td>11.41</td>\n",
       "        <td>6.62</td>\n",
       "        <td>9.48</td>\n",
       "    </tr>\n",
       "    <tr>\n",
       "        <td>47</td>\n",
       "        <td>ez</td>\n",
       "        <td>Czech Republic</td>\n",
       "        <td>78867</td>\n",
       "        <td>77247</td>\n",
       "        <td>1620</td>\n",
       "        <td>10644842</td>\n",
       "        <td>0.16</td>\n",
       "        <td>9.63</td>\n",
       "        <td>10.34</td>\n",
       "        <td>2.33</td>\n",
       "    </tr>\n",
       "    <tr>\n",
       "        <td>48</td>\n",
       "        <td>da</td>\n",
       "        <td>Denmark</td>\n",
       "        <td>43094</td>\n",
       "        <td>42434</td>\n",
       "        <td>660</td>\n",
       "        <td>5581503</td>\n",
       "        <td>0.22</td>\n",
       "        <td>10.27</td>\n",
       "        <td>10.25</td>\n",
       "        <td>2.2</td>\n",
       "    </tr>\n",
       "    <tr>\n",
       "        <td>49</td>\n",
       "        <td>dj</td>\n",
       "        <td>Djibouti</td>\n",
       "        <td>23200</td>\n",
       "        <td>23180</td>\n",
       "        <td>20</td>\n",
       "        <td>828324</td>\n",
       "        <td>2.2</td>\n",
       "        <td>23.65</td>\n",
       "        <td>7.73</td>\n",
       "        <td>6.06</td>\n",
       "    </tr>\n",
       "    <tr>\n",
       "        <td>50</td>\n",
       "        <td>do</td>\n",
       "        <td>Dominica</td>\n",
       "        <td>751</td>\n",
       "        <td>751</td>\n",
       "        <td>0</td>\n",
       "        <td>73607</td>\n",
       "        <td>0.21</td>\n",
       "        <td>15.41</td>\n",
       "        <td>7.91</td>\n",
       "        <td>5.38</td>\n",
       "    </tr>\n",
       "    <tr>\n",
       "        <td>51</td>\n",
       "        <td>dr</td>\n",
       "        <td>Dominican Republic</td>\n",
       "        <td>48670</td>\n",
       "        <td>48320</td>\n",
       "        <td>350</td>\n",
       "        <td>10478756</td>\n",
       "        <td>1.23</td>\n",
       "        <td>18.73</td>\n",
       "        <td>4.55</td>\n",
       "        <td>1.91</td>\n",
       "    </tr>\n",
       "    <tr>\n",
       "        <td>52</td>\n",
       "        <td>ec</td>\n",
       "        <td>Ecuador</td>\n",
       "        <td>283561</td>\n",
       "        <td>276841</td>\n",
       "        <td>6720</td>\n",
       "        <td>15868396</td>\n",
       "        <td>1.35</td>\n",
       "        <td>18.51</td>\n",
       "        <td>5.06</td>\n",
       "        <td>0.0</td>\n",
       "    </tr>\n",
       "    <tr>\n",
       "        <td>53</td>\n",
       "        <td>eg</td>\n",
       "        <td>Egypt</td>\n",
       "        <td>1001450</td>\n",
       "        <td>995450</td>\n",
       "        <td>6000</td>\n",
       "        <td>88487396</td>\n",
       "        <td>1.79</td>\n",
       "        <td>22.9</td>\n",
       "        <td>4.77</td>\n",
       "        <td>0.19</td>\n",
       "    </tr>\n",
       "    <tr>\n",
       "        <td>54</td>\n",
       "        <td>es</td>\n",
       "        <td>El Salvador</td>\n",
       "        <td>21041</td>\n",
       "        <td>20721</td>\n",
       "        <td>320</td>\n",
       "        <td>6141350</td>\n",
       "        <td>0.25</td>\n",
       "        <td>16.46</td>\n",
       "        <td>5.69</td>\n",
       "        <td>8.28</td>\n",
       "    </tr>\n",
       "    <tr>\n",
       "        <td>55</td>\n",
       "        <td>ek</td>\n",
       "        <td>Equatorial Guinea</td>\n",
       "        <td>28051</td>\n",
       "        <td>28051</td>\n",
       "        <td>0</td>\n",
       "        <td>740743</td>\n",
       "        <td>2.51</td>\n",
       "        <td>33.31</td>\n",
       "        <td>8.19</td>\n",
       "        <td>0.0</td>\n",
       "    </tr>\n",
       "    <tr>\n",
       "        <td>56</td>\n",
       "        <td>er</td>\n",
       "        <td>Eritrea</td>\n",
       "        <td>117600</td>\n",
       "        <td>101000</td>\n",
       "        <td>16600</td>\n",
       "        <td>6527689</td>\n",
       "        <td>2.25</td>\n",
       "        <td>30.0</td>\n",
       "        <td>7.52</td>\n",
       "        <td>0.0</td>\n",
       "    </tr>\n",
       "    <tr>\n",
       "        <td>57</td>\n",
       "        <td>en</td>\n",
       "        <td>Estonia</td>\n",
       "        <td>45228</td>\n",
       "        <td>42388</td>\n",
       "        <td>2840</td>\n",
       "        <td>1265420</td>\n",
       "        <td>0.55</td>\n",
       "        <td>10.51</td>\n",
       "        <td>12.4</td>\n",
       "        <td>3.6</td>\n",
       "    </tr>\n",
       "    <tr>\n",
       "        <td>58</td>\n",
       "        <td>et</td>\n",
       "        <td>Ethiopia</td>\n",
       "        <td>1104300</td>\n",
       "        <td>None</td>\n",
       "        <td>104300</td>\n",
       "        <td>99465819</td>\n",
       "        <td>2.89</td>\n",
       "        <td>37.27</td>\n",
       "        <td>8.19</td>\n",
       "        <td>0.22</td>\n",
       "    </tr>\n",
       "    <tr>\n",
       "        <td>59</td>\n",
       "        <td>fj</td>\n",
       "        <td>Fiji</td>\n",
       "        <td>18274</td>\n",
       "        <td>18274</td>\n",
       "        <td>0</td>\n",
       "        <td>909389</td>\n",
       "        <td>0.67</td>\n",
       "        <td>19.43</td>\n",
       "        <td>6.04</td>\n",
       "        <td>6.75</td>\n",
       "    </tr>\n",
       "    <tr>\n",
       "        <td>60</td>\n",
       "        <td>fi</td>\n",
       "        <td>Finland</td>\n",
       "        <td>338145</td>\n",
       "        <td>303815</td>\n",
       "        <td>34330</td>\n",
       "        <td>5476922</td>\n",
       "        <td>0.4</td>\n",
       "        <td>10.72</td>\n",
       "        <td>9.83</td>\n",
       "        <td>3.1</td>\n",
       "    </tr>\n",
       "    <tr>\n",
       "        <td>61</td>\n",
       "        <td>fr</td>\n",
       "        <td>France</td>\n",
       "        <td>643801</td>\n",
       "        <td>640427</td>\n",
       "        <td>3374</td>\n",
       "        <td>66553766</td>\n",
       "        <td>0.43</td>\n",
       "        <td>12.38</td>\n",
       "        <td>9.16</td>\n",
       "        <td>1.09</td>\n",
       "    </tr>\n",
       "    <tr>\n",
       "        <td>62</td>\n",
       "        <td>gb</td>\n",
       "        <td>Gabon</td>\n",
       "        <td>267667</td>\n",
       "        <td>257667</td>\n",
       "        <td>10000</td>\n",
       "        <td>1705336</td>\n",
       "        <td>1.93</td>\n",
       "        <td>34.49</td>\n",
       "        <td>13.12</td>\n",
       "        <td>2.03</td>\n",
       "    </tr>\n",
       "    <tr>\n",
       "        <td>63</td>\n",
       "        <td>ga</td>\n",
       "        <td>Gambia, The</td>\n",
       "        <td>11300</td>\n",
       "        <td>10120</td>\n",
       "        <td>1180</td>\n",
       "        <td>1967709</td>\n",
       "        <td>2.16</td>\n",
       "        <td>30.86</td>\n",
       "        <td>7.15</td>\n",
       "        <td>2.12</td>\n",
       "    </tr>\n",
       "    <tr>\n",
       "        <td>64</td>\n",
       "        <td>gg</td>\n",
       "        <td>Georgia</td>\n",
       "        <td>69700</td>\n",
       "        <td>69700</td>\n",
       "        <td>0</td>\n",
       "        <td>4931226</td>\n",
       "        <td>0.08</td>\n",
       "        <td>12.74</td>\n",
       "        <td>10.82</td>\n",
       "        <td>2.7</td>\n",
       "    </tr>\n",
       "    <tr>\n",
       "        <td>65</td>\n",
       "        <td>gm</td>\n",
       "        <td>Germany</td>\n",
       "        <td>357022</td>\n",
       "        <td>348672</td>\n",
       "        <td>8350</td>\n",
       "        <td>80854408</td>\n",
       "        <td>0.17</td>\n",
       "        <td>8.47</td>\n",
       "        <td>11.42</td>\n",
       "        <td>1.24</td>\n",
       "    </tr>\n",
       "    <tr>\n",
       "        <td>66</td>\n",
       "        <td>gh</td>\n",
       "        <td>Ghana</td>\n",
       "        <td>238533</td>\n",
       "        <td>227533</td>\n",
       "        <td>11000</td>\n",
       "        <td>26327649</td>\n",
       "        <td>2.18</td>\n",
       "        <td>31.09</td>\n",
       "        <td>7.22</td>\n",
       "        <td>2.02</td>\n",
       "    </tr>\n",
       "    <tr>\n",
       "        <td>67</td>\n",
       "        <td>gr</td>\n",
       "        <td>Greece</td>\n",
       "        <td>131957</td>\n",
       "        <td>130647</td>\n",
       "        <td>1310</td>\n",
       "        <td>10775643</td>\n",
       "        <td>0.01</td>\n",
       "        <td>8.66</td>\n",
       "        <td>11.09</td>\n",
       "        <td>2.32</td>\n",
       "    </tr>\n",
       "    <tr>\n",
       "        <td>68</td>\n",
       "        <td>gj</td>\n",
       "        <td>Grenada</td>\n",
       "        <td>344</td>\n",
       "        <td>344</td>\n",
       "        <td>0</td>\n",
       "        <td>110694</td>\n",
       "        <td>0.48</td>\n",
       "        <td>16.03</td>\n",
       "        <td>8.08</td>\n",
       "        <td>3.13</td>\n",
       "    </tr>\n",
       "    <tr>\n",
       "        <td>69</td>\n",
       "        <td>gt</td>\n",
       "        <td>Guatemala</td>\n",
       "        <td>108889</td>\n",
       "        <td>107159</td>\n",
       "        <td>1730</td>\n",
       "        <td>14918999</td>\n",
       "        <td>1.82</td>\n",
       "        <td>24.89</td>\n",
       "        <td>4.77</td>\n",
       "        <td>1.97</td>\n",
       "    </tr>\n",
       "    <tr>\n",
       "        <td>70</td>\n",
       "        <td>gv</td>\n",
       "        <td>Guinea</td>\n",
       "        <td>245857</td>\n",
       "        <td>245717</td>\n",
       "        <td>140</td>\n",
       "        <td>11780162</td>\n",
       "        <td>2.63</td>\n",
       "        <td>35.74</td>\n",
       "        <td>9.46</td>\n",
       "        <td>0.0</td>\n",
       "    </tr>\n",
       "    <tr>\n",
       "        <td>71</td>\n",
       "        <td>pu</td>\n",
       "        <td>Guinea-Bissau</td>\n",
       "        <td>36125</td>\n",
       "        <td>28120</td>\n",
       "        <td>8005</td>\n",
       "        <td>1726170</td>\n",
       "        <td>1.91</td>\n",
       "        <td>33.38</td>\n",
       "        <td>14.33</td>\n",
       "        <td>0.0</td>\n",
       "    </tr>\n",
       "    <tr>\n",
       "        <td>72</td>\n",
       "        <td>gy</td>\n",
       "        <td>Guyana</td>\n",
       "        <td>214969</td>\n",
       "        <td>196849</td>\n",
       "        <td>18120</td>\n",
       "        <td>735222</td>\n",
       "        <td>0.02</td>\n",
       "        <td>15.59</td>\n",
       "        <td>7.32</td>\n",
       "        <td>8.06</td>\n",
       "    </tr>\n",
       "    <tr>\n",
       "        <td>73</td>\n",
       "        <td>ha</td>\n",
       "        <td>Haiti</td>\n",
       "        <td>27750</td>\n",
       "        <td>27560</td>\n",
       "        <td>190</td>\n",
       "        <td>10110019</td>\n",
       "        <td>1.17</td>\n",
       "        <td>22.31</td>\n",
       "        <td>7.83</td>\n",
       "        <td>2.76</td>\n",
       "    </tr>\n",
       "    <tr>\n",
       "        <td>74</td>\n",
       "        <td>ho</td>\n",
       "        <td>Honduras</td>\n",
       "        <td>112090</td>\n",
       "        <td>111890</td>\n",
       "        <td>200</td>\n",
       "        <td>8746673</td>\n",
       "        <td>1.68</td>\n",
       "        <td>23.14</td>\n",
       "        <td>5.17</td>\n",
       "        <td>1.16</td>\n",
       "    </tr>\n",
       "    <tr>\n",
       "        <td>75</td>\n",
       "        <td>hu</td>\n",
       "        <td>Hungary</td>\n",
       "        <td>93028</td>\n",
       "        <td>89608</td>\n",
       "        <td>3420</td>\n",
       "        <td>9897541</td>\n",
       "        <td>0.22</td>\n",
       "        <td>9.16</td>\n",
       "        <td>12.73</td>\n",
       "        <td>1.33</td>\n",
       "    </tr>\n",
       "    <tr>\n",
       "        <td>76</td>\n",
       "        <td>ic</td>\n",
       "        <td>Iceland</td>\n",
       "        <td>103000</td>\n",
       "        <td>100250</td>\n",
       "        <td>2750</td>\n",
       "        <td>331918</td>\n",
       "        <td>1.21</td>\n",
       "        <td>13.91</td>\n",
       "        <td>6.28</td>\n",
       "        <td>4.43</td>\n",
       "    </tr>\n",
       "    <tr>\n",
       "        <td>77</td>\n",
       "        <td>in</td>\n",
       "        <td>India</td>\n",
       "        <td>3287263</td>\n",
       "        <td>2973193</td>\n",
       "        <td>314070</td>\n",
       "        <td>1251695584</td>\n",
       "        <td>1.22</td>\n",
       "        <td>19.55</td>\n",
       "        <td>7.32</td>\n",
       "        <td>0.04</td>\n",
       "    </tr>\n",
       "    <tr>\n",
       "        <td>78</td>\n",
       "        <td>id</td>\n",
       "        <td>Indonesia</td>\n",
       "        <td>1904569</td>\n",
       "        <td>1811569</td>\n",
       "        <td>93000</td>\n",
       "        <td>255993674</td>\n",
       "        <td>0.92</td>\n",
       "        <td>16.72</td>\n",
       "        <td>6.37</td>\n",
       "        <td>1.16</td>\n",
       "    </tr>\n",
       "    <tr>\n",
       "        <td>79</td>\n",
       "        <td>ir</td>\n",
       "        <td>Iran</td>\n",
       "        <td>1648195</td>\n",
       "        <td>1531595</td>\n",
       "        <td>116600</td>\n",
       "        <td>81824270</td>\n",
       "        <td>1.2</td>\n",
       "        <td>17.99</td>\n",
       "        <td>5.94</td>\n",
       "        <td>0.07</td>\n",
       "    </tr>\n",
       "    <tr>\n",
       "        <td>80</td>\n",
       "        <td>iz</td>\n",
       "        <td>Iraq</td>\n",
       "        <td>438317</td>\n",
       "        <td>437367</td>\n",
       "        <td>950</td>\n",
       "        <td>37056169</td>\n",
       "        <td>2.93</td>\n",
       "        <td>31.45</td>\n",
       "        <td>3.77</td>\n",
       "        <td>1.62</td>\n",
       "    </tr>\n",
       "    <tr>\n",
       "        <td>81</td>\n",
       "        <td>ei</td>\n",
       "        <td>Ireland</td>\n",
       "        <td>70273</td>\n",
       "        <td>68883</td>\n",
       "        <td>1390</td>\n",
       "        <td>4892305</td>\n",
       "        <td>1.25</td>\n",
       "        <td>14.84</td>\n",
       "        <td>6.48</td>\n",
       "        <td>4.09</td>\n",
       "    </tr>\n",
       "    <tr>\n",
       "        <td>82</td>\n",
       "        <td>is</td>\n",
       "        <td>Israel</td>\n",
       "        <td>20770</td>\n",
       "        <td>20330</td>\n",
       "        <td>440</td>\n",
       "        <td>8049314</td>\n",
       "        <td>1.56</td>\n",
       "        <td>18.48</td>\n",
       "        <td>5.15</td>\n",
       "        <td>2.24</td>\n",
       "    </tr>\n",
       "    <tr>\n",
       "        <td>83</td>\n",
       "        <td>it</td>\n",
       "        <td>Italy</td>\n",
       "        <td>301340</td>\n",
       "        <td>294140</td>\n",
       "        <td>7200</td>\n",
       "        <td>61855120</td>\n",
       "        <td>0.27</td>\n",
       "        <td>8.74</td>\n",
       "        <td>10.19</td>\n",
       "        <td>4.1</td>\n",
       "    </tr>\n",
       "    <tr>\n",
       "        <td>84</td>\n",
       "        <td>jm</td>\n",
       "        <td>Jamaica</td>\n",
       "        <td>10991</td>\n",
       "        <td>10831</td>\n",
       "        <td>160</td>\n",
       "        <td>2950210</td>\n",
       "        <td>0.68</td>\n",
       "        <td>18.16</td>\n",
       "        <td>6.7</td>\n",
       "        <td>4.66</td>\n",
       "    </tr>\n",
       "    <tr>\n",
       "        <td>85</td>\n",
       "        <td>ja</td>\n",
       "        <td>Japan</td>\n",
       "        <td>377915</td>\n",
       "        <td>364485</td>\n",
       "        <td>13430</td>\n",
       "        <td>126919659</td>\n",
       "        <td>0.16</td>\n",
       "        <td>7.93</td>\n",
       "        <td>9.51</td>\n",
       "        <td>0.0</td>\n",
       "    </tr>\n",
       "    <tr>\n",
       "        <td>86</td>\n",
       "        <td>jo</td>\n",
       "        <td>Jordan</td>\n",
       "        <td>89342</td>\n",
       "        <td>88802</td>\n",
       "        <td>540</td>\n",
       "        <td>8117564</td>\n",
       "        <td>0.83</td>\n",
       "        <td>25.37</td>\n",
       "        <td>3.79</td>\n",
       "        <td>13.24</td>\n",
       "    </tr>\n",
       "    <tr>\n",
       "        <td>87</td>\n",
       "        <td>kz</td>\n",
       "        <td>Kazakhstan</td>\n",
       "        <td>2724900</td>\n",
       "        <td>2699700</td>\n",
       "        <td>25200</td>\n",
       "        <td>18157122</td>\n",
       "        <td>1.14</td>\n",
       "        <td>19.15</td>\n",
       "        <td>8.21</td>\n",
       "        <td>0.41</td>\n",
       "    </tr>\n",
       "    <tr>\n",
       "        <td>88</td>\n",
       "        <td>ke</td>\n",
       "        <td>Kenya</td>\n",
       "        <td>580367</td>\n",
       "        <td>569140</td>\n",
       "        <td>11227</td>\n",
       "        <td>45925301</td>\n",
       "        <td>1.93</td>\n",
       "        <td>26.4</td>\n",
       "        <td>6.89</td>\n",
       "        <td>0.22</td>\n",
       "    </tr>\n",
       "    <tr>\n",
       "        <td>89</td>\n",
       "        <td>kr</td>\n",
       "        <td>Kiribati</td>\n",
       "        <td>811</td>\n",
       "        <td>811</td>\n",
       "        <td>0</td>\n",
       "        <td>105711</td>\n",
       "        <td>1.15</td>\n",
       "        <td>21.46</td>\n",
       "        <td>7.12</td>\n",
       "        <td>2.87</td>\n",
       "    </tr>\n",
       "    <tr>\n",
       "        <td>90</td>\n",
       "        <td>kn</td>\n",
       "        <td>Korea, North</td>\n",
       "        <td>120538</td>\n",
       "        <td>120408</td>\n",
       "        <td>130</td>\n",
       "        <td>24983205</td>\n",
       "        <td>0.53</td>\n",
       "        <td>14.52</td>\n",
       "        <td>9.21</td>\n",
       "        <td>0.04</td>\n",
       "    </tr>\n",
       "    <tr>\n",
       "        <td>91</td>\n",
       "        <td>ks</td>\n",
       "        <td>Korea, South</td>\n",
       "        <td>99720</td>\n",
       "        <td>96920</td>\n",
       "        <td>2800</td>\n",
       "        <td>49115196</td>\n",
       "        <td>0.14</td>\n",
       "        <td>8.19</td>\n",
       "        <td>6.75</td>\n",
       "        <td>0.0</td>\n",
       "    </tr>\n",
       "    <tr>\n",
       "        <td>92</td>\n",
       "        <td>kv</td>\n",
       "        <td>Kosovo</td>\n",
       "        <td>10887</td>\n",
       "        <td>10887</td>\n",
       "        <td>0</td>\n",
       "        <td>1870981</td>\n",
       "        <td>None</td>\n",
       "        <td>None</td>\n",
       "        <td>None</td>\n",
       "        <td>None</td>\n",
       "    </tr>\n",
       "    <tr>\n",
       "        <td>93</td>\n",
       "        <td>ku</td>\n",
       "        <td>Kuwait</td>\n",
       "        <td>17818</td>\n",
       "        <td>17818</td>\n",
       "        <td>0</td>\n",
       "        <td>2788534</td>\n",
       "        <td>1.62</td>\n",
       "        <td>19.91</td>\n",
       "        <td>2.18</td>\n",
       "        <td>1.58</td>\n",
       "    </tr>\n",
       "    <tr>\n",
       "        <td>94</td>\n",
       "        <td>kg</td>\n",
       "        <td>Kyrgyzstan</td>\n",
       "        <td>199951</td>\n",
       "        <td>191801</td>\n",
       "        <td>8150</td>\n",
       "        <td>5664939</td>\n",
       "        <td>1.11</td>\n",
       "        <td>22.98</td>\n",
       "        <td>6.65</td>\n",
       "        <td>5.22</td>\n",
       "    </tr>\n",
       "    <tr>\n",
       "        <td>95</td>\n",
       "        <td>la</td>\n",
       "        <td>Laos</td>\n",
       "        <td>236800</td>\n",
       "        <td>230800</td>\n",
       "        <td>6000</td>\n",
       "        <td>6911544</td>\n",
       "        <td>1.55</td>\n",
       "        <td>24.25</td>\n",
       "        <td>7.63</td>\n",
       "        <td>1.09</td>\n",
       "    </tr>\n",
       "    <tr>\n",
       "        <td>96</td>\n",
       "        <td>lg</td>\n",
       "        <td>Latvia</td>\n",
       "        <td>64589</td>\n",
       "        <td>62249</td>\n",
       "        <td>2340</td>\n",
       "        <td>1986705</td>\n",
       "        <td>1.06</td>\n",
       "        <td>10.0</td>\n",
       "        <td>14.31</td>\n",
       "        <td>6.26</td>\n",
       "    </tr>\n",
       "    <tr>\n",
       "        <td>97</td>\n",
       "        <td>le</td>\n",
       "        <td>Lebanon</td>\n",
       "        <td>10400</td>\n",
       "        <td>10230</td>\n",
       "        <td>170</td>\n",
       "        <td>6184701</td>\n",
       "        <td>0.86</td>\n",
       "        <td>14.59</td>\n",
       "        <td>4.88</td>\n",
       "        <td>1.1</td>\n",
       "    </tr>\n",
       "    <tr>\n",
       "        <td>98</td>\n",
       "        <td>lt</td>\n",
       "        <td>Lesotho</td>\n",
       "        <td>30355</td>\n",
       "        <td>30355</td>\n",
       "        <td>0</td>\n",
       "        <td>1947701</td>\n",
       "        <td>0.32</td>\n",
       "        <td>25.47</td>\n",
       "        <td>14.89</td>\n",
       "        <td>7.36</td>\n",
       "    </tr>\n",
       "    <tr>\n",
       "        <td>99</td>\n",
       "        <td>li</td>\n",
       "        <td>Liberia</td>\n",
       "        <td>111369</td>\n",
       "        <td>96320</td>\n",
       "        <td>15049</td>\n",
       "        <td>4195666</td>\n",
       "        <td>2.47</td>\n",
       "        <td>34.41</td>\n",
       "        <td>9.69</td>\n",
       "        <td>0.0</td>\n",
       "    </tr>\n",
       "    <tr>\n",
       "        <td>100</td>\n",
       "        <td>ly</td>\n",
       "        <td>Libya</td>\n",
       "        <td>1759540</td>\n",
       "        <td>1759540</td>\n",
       "        <td>0</td>\n",
       "        <td>6411776</td>\n",
       "        <td>2.23</td>\n",
       "        <td>18.03</td>\n",
       "        <td>3.58</td>\n",
       "        <td>7.8</td>\n",
       "    </tr>\n",
       "    <tr>\n",
       "        <td>101</td>\n",
       "        <td>ls</td>\n",
       "        <td>Liechtenstein</td>\n",
       "        <td>160</td>\n",
       "        <td>160</td>\n",
       "        <td>0</td>\n",
       "        <td>37624</td>\n",
       "        <td>0.84</td>\n",
       "        <td>10.45</td>\n",
       "        <td>7.12</td>\n",
       "        <td>5.08</td>\n",
       "    </tr>\n",
       "    <tr>\n",
       "        <td>102</td>\n",
       "        <td>lh</td>\n",
       "        <td>Lithuania</td>\n",
       "        <td>65300</td>\n",
       "        <td>62680</td>\n",
       "        <td>2620</td>\n",
       "        <td>2884433</td>\n",
       "        <td>1.04</td>\n",
       "        <td>10.1</td>\n",
       "        <td>14.27</td>\n",
       "        <td>6.27</td>\n",
       "    </tr>\n",
       "    <tr>\n",
       "        <td>103</td>\n",
       "        <td>lu</td>\n",
       "        <td>Luxembourg</td>\n",
       "        <td>2586</td>\n",
       "        <td>2586</td>\n",
       "        <td>0</td>\n",
       "        <td>570252</td>\n",
       "        <td>2.13</td>\n",
       "        <td>11.37</td>\n",
       "        <td>7.24</td>\n",
       "        <td>17.16</td>\n",
       "    </tr>\n",
       "    <tr>\n",
       "        <td>104</td>\n",
       "        <td>mk</td>\n",
       "        <td>Macedonia</td>\n",
       "        <td>25713</td>\n",
       "        <td>25433</td>\n",
       "        <td>280</td>\n",
       "        <td>2096015</td>\n",
       "        <td>0.2</td>\n",
       "        <td>11.55</td>\n",
       "        <td>9.08</td>\n",
       "        <td>0.48</td>\n",
       "    </tr>\n",
       "    <tr>\n",
       "        <td>105</td>\n",
       "        <td>ma</td>\n",
       "        <td>Madagascar</td>\n",
       "        <td>587041</td>\n",
       "        <td>581540</td>\n",
       "        <td>5501</td>\n",
       "        <td>23812681</td>\n",
       "        <td>2.58</td>\n",
       "        <td>32.61</td>\n",
       "        <td>6.81</td>\n",
       "        <td>0.0</td>\n",
       "    </tr>\n",
       "    <tr>\n",
       "        <td>106</td>\n",
       "        <td>mi</td>\n",
       "        <td>Malawi</td>\n",
       "        <td>118484</td>\n",
       "        <td>94080</td>\n",
       "        <td>24404</td>\n",
       "        <td>17964697</td>\n",
       "        <td>3.32</td>\n",
       "        <td>41.56</td>\n",
       "        <td>8.41</td>\n",
       "        <td>0.0</td>\n",
       "    </tr>\n",
       "    <tr>\n",
       "        <td>107</td>\n",
       "        <td>my</td>\n",
       "        <td>Malaysia</td>\n",
       "        <td>329847</td>\n",
       "        <td>328657</td>\n",
       "        <td>1190</td>\n",
       "        <td>30513848</td>\n",
       "        <td>1.44</td>\n",
       "        <td>19.71</td>\n",
       "        <td>5.03</td>\n",
       "        <td>0.33</td>\n",
       "    </tr>\n",
       "    <tr>\n",
       "        <td>108</td>\n",
       "        <td>mv</td>\n",
       "        <td>Maldives</td>\n",
       "        <td>298</td>\n",
       "        <td>298</td>\n",
       "        <td>0</td>\n",
       "        <td>393253</td>\n",
       "        <td>0.08</td>\n",
       "        <td>15.75</td>\n",
       "        <td>3.89</td>\n",
       "        <td>12.68</td>\n",
       "    </tr>\n",
       "    <tr>\n",
       "        <td>109</td>\n",
       "        <td>ml</td>\n",
       "        <td>Mali</td>\n",
       "        <td>1240192</td>\n",
       "        <td>1220190</td>\n",
       "        <td>20002</td>\n",
       "        <td>16955536</td>\n",
       "        <td>2.98</td>\n",
       "        <td>44.99</td>\n",
       "        <td>12.89</td>\n",
       "        <td>2.26</td>\n",
       "    </tr>\n",
       "    <tr>\n",
       "        <td>110</td>\n",
       "        <td>mt</td>\n",
       "        <td>Malta</td>\n",
       "        <td>316</td>\n",
       "        <td>316</td>\n",
       "        <td>0</td>\n",
       "        <td>413965</td>\n",
       "        <td>0.31</td>\n",
       "        <td>10.18</td>\n",
       "        <td>9.09</td>\n",
       "        <td>1.98</td>\n",
       "    </tr>\n",
       "    <tr>\n",
       "        <td>111</td>\n",
       "        <td>rm</td>\n",
       "        <td>Marshall Islands</td>\n",
       "        <td>181</td>\n",
       "        <td>181</td>\n",
       "        <td>0</td>\n",
       "        <td>72191</td>\n",
       "        <td>1.66</td>\n",
       "        <td>25.6</td>\n",
       "        <td>4.21</td>\n",
       "        <td>4.83</td>\n",
       "    </tr>\n",
       "    <tr>\n",
       "        <td>112</td>\n",
       "        <td>mr</td>\n",
       "        <td>Mauritania</td>\n",
       "        <td>1030700</td>\n",
       "        <td>1030700</td>\n",
       "        <td>0</td>\n",
       "        <td>3596702</td>\n",
       "        <td>2.23</td>\n",
       "        <td>31.34</td>\n",
       "        <td>8.2</td>\n",
       "        <td>0.83</td>\n",
       "    </tr>\n",
       "    <tr>\n",
       "        <td>113</td>\n",
       "        <td>mp</td>\n",
       "        <td>Mauritius</td>\n",
       "        <td>2040</td>\n",
       "        <td>2030</td>\n",
       "        <td>10</td>\n",
       "        <td>1339827</td>\n",
       "        <td>0.64</td>\n",
       "        <td>13.29</td>\n",
       "        <td>6.91</td>\n",
       "        <td>0.0</td>\n",
       "    </tr>\n",
       "    <tr>\n",
       "        <td>114</td>\n",
       "        <td>mx</td>\n",
       "        <td>Mexico</td>\n",
       "        <td>1964375</td>\n",
       "        <td>1943945</td>\n",
       "        <td>20430</td>\n",
       "        <td>121736809</td>\n",
       "        <td>1.18</td>\n",
       "        <td>18.78</td>\n",
       "        <td>5.26</td>\n",
       "        <td>1.68</td>\n",
       "    </tr>\n",
       "    <tr>\n",
       "        <td>115</td>\n",
       "        <td>fm</td>\n",
       "        <td>Micronesia, Federated States of</td>\n",
       "        <td>702</td>\n",
       "        <td>702</td>\n",
       "        <td>0</td>\n",
       "        <td>105216</td>\n",
       "        <td>0.46</td>\n",
       "        <td>20.54</td>\n",
       "        <td>4.23</td>\n",
       "        <td>20.93</td>\n",
       "    </tr>\n",
       "    <tr>\n",
       "        <td>116</td>\n",
       "        <td>md</td>\n",
       "        <td>Moldova</td>\n",
       "        <td>33851</td>\n",
       "        <td>32891</td>\n",
       "        <td>960</td>\n",
       "        <td>3546847</td>\n",
       "        <td>1.03</td>\n",
       "        <td>12.0</td>\n",
       "        <td>12.59</td>\n",
       "        <td>9.67</td>\n",
       "    </tr>\n",
       "    <tr>\n",
       "        <td>117</td>\n",
       "        <td>mn</td>\n",
       "        <td>Monaco</td>\n",
       "        <td>2</td>\n",
       "        <td>2</td>\n",
       "        <td>0</td>\n",
       "        <td>30535</td>\n",
       "        <td>0.12</td>\n",
       "        <td>6.65</td>\n",
       "        <td>9.24</td>\n",
       "        <td>3.83</td>\n",
       "    </tr>\n",
       "    <tr>\n",
       "        <td>118</td>\n",
       "        <td>mg</td>\n",
       "        <td>Mongolia</td>\n",
       "        <td>1564116</td>\n",
       "        <td>1553556</td>\n",
       "        <td>10560</td>\n",
       "        <td>2992908</td>\n",
       "        <td>1.31</td>\n",
       "        <td>20.25</td>\n",
       "        <td>6.35</td>\n",
       "        <td>0.84</td>\n",
       "    </tr>\n",
       "    <tr>\n",
       "        <td>119</td>\n",
       "        <td>mj</td>\n",
       "        <td>Montenegro</td>\n",
       "        <td>13812</td>\n",
       "        <td>13452</td>\n",
       "        <td>360</td>\n",
       "        <td>647073</td>\n",
       "        <td>0.42</td>\n",
       "        <td>10.42</td>\n",
       "        <td>9.43</td>\n",
       "        <td>None</td>\n",
       "    </tr>\n",
       "    <tr>\n",
       "        <td>120</td>\n",
       "        <td>mo</td>\n",
       "        <td>Morocco</td>\n",
       "        <td>446550</td>\n",
       "        <td>446300</td>\n",
       "        <td>250</td>\n",
       "        <td>33322699</td>\n",
       "        <td>1.0</td>\n",
       "        <td>18.2</td>\n",
       "        <td>4.81</td>\n",
       "        <td>3.36</td>\n",
       "    </tr>\n",
       "    <tr>\n",
       "        <td>121</td>\n",
       "        <td>mz</td>\n",
       "        <td>Mozambique</td>\n",
       "        <td>799380</td>\n",
       "        <td>786380</td>\n",
       "        <td>13000</td>\n",
       "        <td>25303113</td>\n",
       "        <td>2.45</td>\n",
       "        <td>38.58</td>\n",
       "        <td>12.1</td>\n",
       "        <td>1.98</td>\n",
       "    </tr>\n",
       "    <tr>\n",
       "        <td>122</td>\n",
       "        <td>wa</td>\n",
       "        <td>Namibia</td>\n",
       "        <td>824292</td>\n",
       "        <td>823290</td>\n",
       "        <td>1002</td>\n",
       "        <td>2212307</td>\n",
       "        <td>0.59</td>\n",
       "        <td>19.8</td>\n",
       "        <td>13.91</td>\n",
       "        <td>0.0</td>\n",
       "    </tr>\n",
       "    <tr>\n",
       "        <td>123</td>\n",
       "        <td>nr</td>\n",
       "        <td>Nauru</td>\n",
       "        <td>21</td>\n",
       "        <td>21</td>\n",
       "        <td>0</td>\n",
       "        <td>9540</td>\n",
       "        <td>0.55</td>\n",
       "        <td>24.95</td>\n",
       "        <td>5.87</td>\n",
       "        <td>13.63</td>\n",
       "    </tr>\n",
       "    <tr>\n",
       "        <td>124</td>\n",
       "        <td>np</td>\n",
       "        <td>Nepal</td>\n",
       "        <td>147181</td>\n",
       "        <td>143351</td>\n",
       "        <td>3830</td>\n",
       "        <td>31551305</td>\n",
       "        <td>1.79</td>\n",
       "        <td>20.64</td>\n",
       "        <td>6.56</td>\n",
       "        <td>3.86</td>\n",
       "    </tr>\n",
       "    <tr>\n",
       "        <td>125</td>\n",
       "        <td>nl</td>\n",
       "        <td>Netherlands</td>\n",
       "        <td>41543</td>\n",
       "        <td>33893</td>\n",
       "        <td>7650</td>\n",
       "        <td>16947904</td>\n",
       "        <td>0.41</td>\n",
       "        <td>10.83</td>\n",
       "        <td>8.66</td>\n",
       "        <td>1.95</td>\n",
       "    </tr>\n",
       "    <tr>\n",
       "        <td>126</td>\n",
       "        <td>nz</td>\n",
       "        <td>New Zealand</td>\n",
       "        <td>267710</td>\n",
       "        <td>267710</td>\n",
       "        <td>None</td>\n",
       "        <td>4438393</td>\n",
       "        <td>0.82</td>\n",
       "        <td>13.33</td>\n",
       "        <td>7.36</td>\n",
       "        <td>2.21</td>\n",
       "    </tr>\n",
       "    <tr>\n",
       "        <td>127</td>\n",
       "        <td>nu</td>\n",
       "        <td>Nicaragua</td>\n",
       "        <td>130370</td>\n",
       "        <td>119990</td>\n",
       "        <td>10380</td>\n",
       "        <td>5907881</td>\n",
       "        <td>1.0</td>\n",
       "        <td>18.03</td>\n",
       "        <td>5.08</td>\n",
       "        <td>3.0</td>\n",
       "    </tr>\n",
       "    <tr>\n",
       "        <td>128</td>\n",
       "        <td>ng</td>\n",
       "        <td>Niger</td>\n",
       "        <td>None</td>\n",
       "        <td>1266700</td>\n",
       "        <td>300</td>\n",
       "        <td>18045729</td>\n",
       "        <td>3.25</td>\n",
       "        <td>45.45</td>\n",
       "        <td>12.42</td>\n",
       "        <td>0.56</td>\n",
       "    </tr>\n",
       "    <tr>\n",
       "        <td>129</td>\n",
       "        <td>ni</td>\n",
       "        <td>Nigeria</td>\n",
       "        <td>923768</td>\n",
       "        <td>910768</td>\n",
       "        <td>13000</td>\n",
       "        <td>181562056</td>\n",
       "        <td>2.45</td>\n",
       "        <td>37.64</td>\n",
       "        <td>12.9</td>\n",
       "        <td>0.22</td>\n",
       "    </tr>\n",
       "    <tr>\n",
       "        <td>130</td>\n",
       "        <td>no</td>\n",
       "        <td>Norway</td>\n",
       "        <td>323802</td>\n",
       "        <td>304282</td>\n",
       "        <td>19520</td>\n",
       "        <td>5207689</td>\n",
       "        <td>1.13</td>\n",
       "        <td>12.14</td>\n",
       "        <td>8.12</td>\n",
       "        <td>7.25</td>\n",
       "    </tr>\n",
       "    <tr>\n",
       "        <td>131</td>\n",
       "        <td>mu</td>\n",
       "        <td>Oman</td>\n",
       "        <td>309500</td>\n",
       "        <td>309500</td>\n",
       "        <td>0</td>\n",
       "        <td>3286936</td>\n",
       "        <td>2.07</td>\n",
       "        <td>24.44</td>\n",
       "        <td>3.36</td>\n",
       "        <td>0.43</td>\n",
       "    </tr>\n",
       "    <tr>\n",
       "        <td>132</td>\n",
       "        <td>pk</td>\n",
       "        <td>Pakistan</td>\n",
       "        <td>796095</td>\n",
       "        <td>770875</td>\n",
       "        <td>25220</td>\n",
       "        <td>199085847</td>\n",
       "        <td>1.46</td>\n",
       "        <td>22.58</td>\n",
       "        <td>6.49</td>\n",
       "        <td>1.54</td>\n",
       "    </tr>\n",
       "    <tr>\n",
       "        <td>133</td>\n",
       "        <td>ps</td>\n",
       "        <td>Palau</td>\n",
       "        <td>459</td>\n",
       "        <td>459</td>\n",
       "        <td>0</td>\n",
       "        <td>21265</td>\n",
       "        <td>0.38</td>\n",
       "        <td>11.05</td>\n",
       "        <td>7.99</td>\n",
       "        <td>0.71</td>\n",
       "    </tr>\n",
       "    <tr>\n",
       "        <td>134</td>\n",
       "        <td>pm</td>\n",
       "        <td>Panama</td>\n",
       "        <td>75420</td>\n",
       "        <td>74340</td>\n",
       "        <td>1080</td>\n",
       "        <td>3657024</td>\n",
       "        <td>1.32</td>\n",
       "        <td>18.32</td>\n",
       "        <td>4.81</td>\n",
       "        <td>0.28</td>\n",
       "    </tr>\n",
       "    <tr>\n",
       "        <td>135</td>\n",
       "        <td>pp</td>\n",
       "        <td>Papua New Guinea</td>\n",
       "        <td>462840</td>\n",
       "        <td>452860</td>\n",
       "        <td>9980</td>\n",
       "        <td>6672429</td>\n",
       "        <td>1.78</td>\n",
       "        <td>24.38</td>\n",
       "        <td>6.53</td>\n",
       "        <td>0.0</td>\n",
       "    </tr>\n",
       "    <tr>\n",
       "        <td>136</td>\n",
       "        <td>pa</td>\n",
       "        <td>Paraguay</td>\n",
       "        <td>406752</td>\n",
       "        <td>397302</td>\n",
       "        <td>9450</td>\n",
       "        <td>6783272</td>\n",
       "        <td>1.16</td>\n",
       "        <td>16.37</td>\n",
       "        <td>4.68</td>\n",
       "        <td>0.07</td>\n",
       "    </tr>\n",
       "    <tr>\n",
       "        <td>137</td>\n",
       "        <td>pe</td>\n",
       "        <td>Peru</td>\n",
       "        <td>1285216</td>\n",
       "        <td>1279996</td>\n",
       "        <td>5220</td>\n",
       "        <td>30444999</td>\n",
       "        <td>0.97</td>\n",
       "        <td>18.28</td>\n",
       "        <td>6.01</td>\n",
       "        <td>2.53</td>\n",
       "    </tr>\n",
       "    <tr>\n",
       "        <td>138</td>\n",
       "        <td>rp</td>\n",
       "        <td>Philippines</td>\n",
       "        <td>300000</td>\n",
       "        <td>298170</td>\n",
       "        <td>1830</td>\n",
       "        <td>100998376</td>\n",
       "        <td>1.61</td>\n",
       "        <td>24.27</td>\n",
       "        <td>6.11</td>\n",
       "        <td>2.09</td>\n",
       "    </tr>\n",
       "    <tr>\n",
       "        <td>139</td>\n",
       "        <td>pl</td>\n",
       "        <td>Poland</td>\n",
       "        <td>312685</td>\n",
       "        <td>304255</td>\n",
       "        <td>8430</td>\n",
       "        <td>38562189</td>\n",
       "        <td>0.09</td>\n",
       "        <td>9.74</td>\n",
       "        <td>10.19</td>\n",
       "        <td>0.46</td>\n",
       "    </tr>\n",
       "    <tr>\n",
       "        <td>140</td>\n",
       "        <td>po</td>\n",
       "        <td>Portugal</td>\n",
       "        <td>92090</td>\n",
       "        <td>91470</td>\n",
       "        <td>620</td>\n",
       "        <td>10825309</td>\n",
       "        <td>0.09</td>\n",
       "        <td>9.27</td>\n",
       "        <td>11.02</td>\n",
       "        <td>2.67</td>\n",
       "    </tr>\n",
       "    <tr>\n",
       "        <td>141</td>\n",
       "        <td>qa</td>\n",
       "        <td>Qatar</td>\n",
       "        <td>11586</td>\n",
       "        <td>11586</td>\n",
       "        <td>0</td>\n",
       "        <td>2194817</td>\n",
       "        <td>3.07</td>\n",
       "        <td>9.84</td>\n",
       "        <td>1.53</td>\n",
       "        <td>22.39</td>\n",
       "    </tr>\n",
       "    <tr>\n",
       "        <td>142</td>\n",
       "        <td>ro</td>\n",
       "        <td>Romania</td>\n",
       "        <td>238391</td>\n",
       "        <td>229891</td>\n",
       "        <td>8500</td>\n",
       "        <td>21666350</td>\n",
       "        <td>0.3</td>\n",
       "        <td>9.14</td>\n",
       "        <td>11.9</td>\n",
       "        <td>0.24</td>\n",
       "    </tr>\n",
       "    <tr>\n",
       "        <td>143</td>\n",
       "        <td>rs</td>\n",
       "        <td>Russia</td>\n",
       "        <td>17098242</td>\n",
       "        <td>16377742</td>\n",
       "        <td>720500</td>\n",
       "        <td>142423773</td>\n",
       "        <td>0.04</td>\n",
       "        <td>11.6</td>\n",
       "        <td>13.69</td>\n",
       "        <td>1.69</td>\n",
       "    </tr>\n",
       "    <tr>\n",
       "        <td>144</td>\n",
       "        <td>rw</td>\n",
       "        <td>Rwanda</td>\n",
       "        <td>26338</td>\n",
       "        <td>24668</td>\n",
       "        <td>1670</td>\n",
       "        <td>12661733</td>\n",
       "        <td>2.56</td>\n",
       "        <td>33.75</td>\n",
       "        <td>8.96</td>\n",
       "        <td>0.85</td>\n",
       "    </tr>\n",
       "    <tr>\n",
       "        <td>145</td>\n",
       "        <td>sc</td>\n",
       "        <td>Saint Kitts and Nevis</td>\n",
       "        <td>261</td>\n",
       "        <td>261</td>\n",
       "        <td>0</td>\n",
       "        <td>51936</td>\n",
       "        <td>0.76</td>\n",
       "        <td>13.5</td>\n",
       "        <td>7.09</td>\n",
       "        <td>1.21</td>\n",
       "    </tr>\n",
       "    <tr>\n",
       "        <td>146</td>\n",
       "        <td>st</td>\n",
       "        <td>Saint Lucia</td>\n",
       "        <td>616</td>\n",
       "        <td>606</td>\n",
       "        <td>10</td>\n",
       "        <td>163922</td>\n",
       "        <td>0.34</td>\n",
       "        <td>13.7</td>\n",
       "        <td>7.42</td>\n",
       "        <td>2.93</td>\n",
       "    </tr>\n",
       "    <tr>\n",
       "        <td>147</td>\n",
       "        <td>vc</td>\n",
       "        <td>Saint Vincent and the Grenadines</td>\n",
       "        <td>389</td>\n",
       "        <td>389</td>\n",
       "        <td>0</td>\n",
       "        <td>102627</td>\n",
       "        <td>0.28</td>\n",
       "        <td>13.57</td>\n",
       "        <td>7.18</td>\n",
       "        <td>9.17</td>\n",
       "    </tr>\n",
       "    <tr>\n",
       "        <td>148</td>\n",
       "        <td>ws</td>\n",
       "        <td>Samoa</td>\n",
       "        <td>2831</td>\n",
       "        <td>2821</td>\n",
       "        <td>10</td>\n",
       "        <td>197773</td>\n",
       "        <td>0.58</td>\n",
       "        <td>20.87</td>\n",
       "        <td>5.32</td>\n",
       "        <td>9.78</td>\n",
       "    </tr>\n",
       "    <tr>\n",
       "        <td>149</td>\n",
       "        <td>sm</td>\n",
       "        <td>San Marino</td>\n",
       "        <td>61</td>\n",
       "        <td>61</td>\n",
       "        <td>0</td>\n",
       "        <td>33020</td>\n",
       "        <td>0.82</td>\n",
       "        <td>8.63</td>\n",
       "        <td>8.45</td>\n",
       "        <td>8.03</td>\n",
       "    </tr>\n",
       "    <tr>\n",
       "        <td>150</td>\n",
       "        <td>tp</td>\n",
       "        <td>Sao Tome and Principe</td>\n",
       "        <td>964</td>\n",
       "        <td>964</td>\n",
       "        <td>0</td>\n",
       "        <td>194006</td>\n",
       "        <td>1.84</td>\n",
       "        <td>34.23</td>\n",
       "        <td>7.24</td>\n",
       "        <td>8.63</td>\n",
       "    </tr>\n",
       "    <tr>\n",
       "        <td>151</td>\n",
       "        <td>sa</td>\n",
       "        <td>Saudi Arabia</td>\n",
       "        <td>2149690</td>\n",
       "        <td>2149690</td>\n",
       "        <td>0</td>\n",
       "        <td>27752316</td>\n",
       "        <td>1.46</td>\n",
       "        <td>18.51</td>\n",
       "        <td>3.33</td>\n",
       "        <td>0.55</td>\n",
       "    </tr>\n",
       "    <tr>\n",
       "        <td>152</td>\n",
       "        <td>sg</td>\n",
       "        <td>Senegal</td>\n",
       "        <td>196722</td>\n",
       "        <td>192530</td>\n",
       "        <td>4192</td>\n",
       "        <td>13975834</td>\n",
       "        <td>2.45</td>\n",
       "        <td>34.52</td>\n",
       "        <td>8.46</td>\n",
       "        <td>1.59</td>\n",
       "    </tr>\n",
       "    <tr>\n",
       "        <td>153</td>\n",
       "        <td>ri</td>\n",
       "        <td>Serbia</td>\n",
       "        <td>77474</td>\n",
       "        <td>77474</td>\n",
       "        <td>0</td>\n",
       "        <td>7176794</td>\n",
       "        <td>0.46</td>\n",
       "        <td>9.08</td>\n",
       "        <td>13.66</td>\n",
       "        <td>0.0</td>\n",
       "    </tr>\n",
       "    <tr>\n",
       "        <td>154</td>\n",
       "        <td>se</td>\n",
       "        <td>Seychelles</td>\n",
       "        <td>455</td>\n",
       "        <td>455</td>\n",
       "        <td>0</td>\n",
       "        <td>92430</td>\n",
       "        <td>0.83</td>\n",
       "        <td>14.19</td>\n",
       "        <td>6.89</td>\n",
       "        <td>1.0</td>\n",
       "    </tr>\n",
       "    <tr>\n",
       "        <td>155</td>\n",
       "        <td>sl</td>\n",
       "        <td>Sierra Leone</td>\n",
       "        <td>71740</td>\n",
       "        <td>71620</td>\n",
       "        <td>120</td>\n",
       "        <td>5879098</td>\n",
       "        <td>2.35</td>\n",
       "        <td>37.03</td>\n",
       "        <td>10.81</td>\n",
       "        <td>2.77</td>\n",
       "    </tr>\n",
       "    <tr>\n",
       "        <td>156</td>\n",
       "        <td>sn</td>\n",
       "        <td>Singapore</td>\n",
       "        <td>697</td>\n",
       "        <td>687</td>\n",
       "        <td>10</td>\n",
       "        <td>5674472</td>\n",
       "        <td>1.89</td>\n",
       "        <td>8.27</td>\n",
       "        <td>3.43</td>\n",
       "        <td>14.05</td>\n",
       "    </tr>\n",
       "    <tr>\n",
       "        <td>157</td>\n",
       "        <td>lo</td>\n",
       "        <td>Slovakia</td>\n",
       "        <td>49035</td>\n",
       "        <td>48105</td>\n",
       "        <td>930</td>\n",
       "        <td>5445027</td>\n",
       "        <td>0.02</td>\n",
       "        <td>9.91</td>\n",
       "        <td>9.74</td>\n",
       "        <td>0.04</td>\n",
       "    </tr>\n",
       "    <tr>\n",
       "        <td>158</td>\n",
       "        <td>si</td>\n",
       "        <td>Slovenia</td>\n",
       "        <td>20273</td>\n",
       "        <td>20151</td>\n",
       "        <td>122</td>\n",
       "        <td>1983412</td>\n",
       "        <td>0.26</td>\n",
       "        <td>8.42</td>\n",
       "        <td>11.37</td>\n",
       "        <td>0.37</td>\n",
       "    </tr>\n",
       "    <tr>\n",
       "        <td>159</td>\n",
       "        <td>bp</td>\n",
       "        <td>Solomon Islands</td>\n",
       "        <td>28896</td>\n",
       "        <td>27986</td>\n",
       "        <td>910</td>\n",
       "        <td>622469</td>\n",
       "        <td>2.02</td>\n",
       "        <td>25.77</td>\n",
       "        <td>3.85</td>\n",
       "        <td>1.75</td>\n",
       "    </tr>\n",
       "    <tr>\n",
       "        <td>160</td>\n",
       "        <td>so</td>\n",
       "        <td>Somalia</td>\n",
       "        <td>637657</td>\n",
       "        <td>627337</td>\n",
       "        <td>10320</td>\n",
       "        <td>10616380</td>\n",
       "        <td>1.83</td>\n",
       "        <td>40.45</td>\n",
       "        <td>13.62</td>\n",
       "        <td>8.49</td>\n",
       "    </tr>\n",
       "    <tr>\n",
       "        <td>161</td>\n",
       "        <td>sf</td>\n",
       "        <td>South Africa</td>\n",
       "        <td>1219090</td>\n",
       "        <td>1214470</td>\n",
       "        <td>4620</td>\n",
       "        <td>53675563</td>\n",
       "        <td>1.33</td>\n",
       "        <td>20.75</td>\n",
       "        <td>9.91</td>\n",
       "        <td>2.42</td>\n",
       "    </tr>\n",
       "    <tr>\n",
       "        <td>162</td>\n",
       "        <td>od</td>\n",
       "        <td>South Sudan</td>\n",
       "        <td>644329</td>\n",
       "        <td>None</td>\n",
       "        <td>None</td>\n",
       "        <td>12042910</td>\n",
       "        <td>4.02</td>\n",
       "        <td>36.91</td>\n",
       "        <td>8.18</td>\n",
       "        <td>11.47</td>\n",
       "    </tr>\n",
       "    <tr>\n",
       "        <td>163</td>\n",
       "        <td>sp</td>\n",
       "        <td>Spain</td>\n",
       "        <td>505370</td>\n",
       "        <td>498980</td>\n",
       "        <td>6390</td>\n",
       "        <td>48146134</td>\n",
       "        <td>0.89</td>\n",
       "        <td>9.64</td>\n",
       "        <td>9.04</td>\n",
       "        <td>8.31</td>\n",
       "    </tr>\n",
       "    <tr>\n",
       "        <td>164</td>\n",
       "        <td>ce</td>\n",
       "        <td>Sri Lanka</td>\n",
       "        <td>65610</td>\n",
       "        <td>64630</td>\n",
       "        <td>980</td>\n",
       "        <td>22053488</td>\n",
       "        <td>0.84</td>\n",
       "        <td>15.85</td>\n",
       "        <td>6.11</td>\n",
       "        <td>1.35</td>\n",
       "    </tr>\n",
       "    <tr>\n",
       "        <td>165</td>\n",
       "        <td>su</td>\n",
       "        <td>Sudan</td>\n",
       "        <td>1861484</td>\n",
       "        <td>None</td>\n",
       "        <td>None</td>\n",
       "        <td>36108853</td>\n",
       "        <td>1.72</td>\n",
       "        <td>29.19</td>\n",
       "        <td>7.66</td>\n",
       "        <td>4.29</td>\n",
       "    </tr>\n",
       "    <tr>\n",
       "        <td>166</td>\n",
       "        <td>ns</td>\n",
       "        <td>Suriname</td>\n",
       "        <td>163820</td>\n",
       "        <td>156000</td>\n",
       "        <td>7820</td>\n",
       "        <td>579633</td>\n",
       "        <td>1.08</td>\n",
       "        <td>16.34</td>\n",
       "        <td>6.13</td>\n",
       "        <td>0.56</td>\n",
       "    </tr>\n",
       "    <tr>\n",
       "        <td>167</td>\n",
       "        <td>wz</td>\n",
       "        <td>Swaziland</td>\n",
       "        <td>17364</td>\n",
       "        <td>17204</td>\n",
       "        <td>160</td>\n",
       "        <td>1435613</td>\n",
       "        <td>1.11</td>\n",
       "        <td>24.67</td>\n",
       "        <td>13.56</td>\n",
       "        <td>0.0</td>\n",
       "    </tr>\n",
       "    <tr>\n",
       "        <td>168</td>\n",
       "        <td>sw</td>\n",
       "        <td>Sweden</td>\n",
       "        <td>450295</td>\n",
       "        <td>410335</td>\n",
       "        <td>39960</td>\n",
       "        <td>9801616</td>\n",
       "        <td>0.8</td>\n",
       "        <td>11.99</td>\n",
       "        <td>9.4</td>\n",
       "        <td>5.42</td>\n",
       "    </tr>\n",
       "    <tr>\n",
       "        <td>169</td>\n",
       "        <td>sz</td>\n",
       "        <td>Switzerland</td>\n",
       "        <td>41277</td>\n",
       "        <td>39997</td>\n",
       "        <td>1280</td>\n",
       "        <td>8121830</td>\n",
       "        <td>0.71</td>\n",
       "        <td>10.5</td>\n",
       "        <td>8.13</td>\n",
       "        <td>4.74</td>\n",
       "    </tr>\n",
       "    <tr>\n",
       "        <td>170</td>\n",
       "        <td>sy</td>\n",
       "        <td>Syria</td>\n",
       "        <td>185180</td>\n",
       "        <td>183630</td>\n",
       "        <td>1550</td>\n",
       "        <td>17064854</td>\n",
       "        <td>0.16</td>\n",
       "        <td>22.17</td>\n",
       "        <td>4.0</td>\n",
       "        <td>19.79</td>\n",
       "    </tr>\n",
       "    <tr>\n",
       "        <td>171</td>\n",
       "        <td>ti</td>\n",
       "        <td>Tajikistan</td>\n",
       "        <td>144100</td>\n",
       "        <td>141510</td>\n",
       "        <td>2590</td>\n",
       "        <td>8191958</td>\n",
       "        <td>1.71</td>\n",
       "        <td>24.38</td>\n",
       "        <td>6.18</td>\n",
       "        <td>1.15</td>\n",
       "    </tr>\n",
       "    <tr>\n",
       "        <td>172</td>\n",
       "        <td>tz</td>\n",
       "        <td>Tanzania</td>\n",
       "        <td>947300</td>\n",
       "        <td>885800</td>\n",
       "        <td>61500</td>\n",
       "        <td>51045882</td>\n",
       "        <td>2.79</td>\n",
       "        <td>36.39</td>\n",
       "        <td>8.0</td>\n",
       "        <td>0.54</td>\n",
       "    </tr>\n",
       "    <tr>\n",
       "        <td>173</td>\n",
       "        <td>th</td>\n",
       "        <td>Thailand</td>\n",
       "        <td>513120</td>\n",
       "        <td>510890</td>\n",
       "        <td>2230</td>\n",
       "        <td>67976405</td>\n",
       "        <td>0.34</td>\n",
       "        <td>11.19</td>\n",
       "        <td>7.8</td>\n",
       "        <td>0.0</td>\n",
       "    </tr>\n",
       "    <tr>\n",
       "        <td>174</td>\n",
       "        <td>tt</td>\n",
       "        <td>Timor-Leste</td>\n",
       "        <td>14874</td>\n",
       "        <td>14874</td>\n",
       "        <td>0</td>\n",
       "        <td>1231116</td>\n",
       "        <td>2.42</td>\n",
       "        <td>34.16</td>\n",
       "        <td>6.1</td>\n",
       "        <td>3.86</td>\n",
       "    </tr>\n",
       "    <tr>\n",
       "        <td>175</td>\n",
       "        <td>to</td>\n",
       "        <td>Togo</td>\n",
       "        <td>56785</td>\n",
       "        <td>54385</td>\n",
       "        <td>2400</td>\n",
       "        <td>7552318</td>\n",
       "        <td>2.69</td>\n",
       "        <td>34.13</td>\n",
       "        <td>7.26</td>\n",
       "        <td>0.0</td>\n",
       "    </tr>\n",
       "    <tr>\n",
       "        <td>176</td>\n",
       "        <td>tn</td>\n",
       "        <td>Tonga</td>\n",
       "        <td>747</td>\n",
       "        <td>717</td>\n",
       "        <td>30</td>\n",
       "        <td>106501</td>\n",
       "        <td>0.03</td>\n",
       "        <td>23.0</td>\n",
       "        <td>4.85</td>\n",
       "        <td>17.84</td>\n",
       "    </tr>\n",
       "    <tr>\n",
       "        <td>177</td>\n",
       "        <td>td</td>\n",
       "        <td>Trinidad and Tobago</td>\n",
       "        <td>5128</td>\n",
       "        <td>5128</td>\n",
       "        <td>0</td>\n",
       "        <td>1222363</td>\n",
       "        <td>0.13</td>\n",
       "        <td>13.46</td>\n",
       "        <td>8.56</td>\n",
       "        <td>6.25</td>\n",
       "    </tr>\n",
       "    <tr>\n",
       "        <td>178</td>\n",
       "        <td>ts</td>\n",
       "        <td>Tunisia</td>\n",
       "        <td>163610</td>\n",
       "        <td>155360</td>\n",
       "        <td>8250</td>\n",
       "        <td>11037225</td>\n",
       "        <td>0.89</td>\n",
       "        <td>16.64</td>\n",
       "        <td>5.98</td>\n",
       "        <td>1.73</td>\n",
       "    </tr>\n",
       "    <tr>\n",
       "        <td>179</td>\n",
       "        <td>tu</td>\n",
       "        <td>Turkey</td>\n",
       "        <td>783562</td>\n",
       "        <td>769632</td>\n",
       "        <td>13930</td>\n",
       "        <td>79414269</td>\n",
       "        <td>1.26</td>\n",
       "        <td>16.33</td>\n",
       "        <td>5.88</td>\n",
       "        <td>2.16</td>\n",
       "    </tr>\n",
       "    <tr>\n",
       "        <td>180</td>\n",
       "        <td>tx</td>\n",
       "        <td>Turkmenistan</td>\n",
       "        <td>488100</td>\n",
       "        <td>469930</td>\n",
       "        <td>18170</td>\n",
       "        <td>5231422</td>\n",
       "        <td>1.14</td>\n",
       "        <td>19.4</td>\n",
       "        <td>6.13</td>\n",
       "        <td>1.84</td>\n",
       "    </tr>\n",
       "    <tr>\n",
       "        <td>181</td>\n",
       "        <td>tv</td>\n",
       "        <td>Tuvalu</td>\n",
       "        <td>26</td>\n",
       "        <td>26</td>\n",
       "        <td>0</td>\n",
       "        <td>10869</td>\n",
       "        <td>0.82</td>\n",
       "        <td>23.74</td>\n",
       "        <td>8.74</td>\n",
       "        <td>6.81</td>\n",
       "    </tr>\n",
       "    <tr>\n",
       "        <td>182</td>\n",
       "        <td>ug</td>\n",
       "        <td>Uganda</td>\n",
       "        <td>241038</td>\n",
       "        <td>197100</td>\n",
       "        <td>43938</td>\n",
       "        <td>37101745</td>\n",
       "        <td>3.24</td>\n",
       "        <td>43.79</td>\n",
       "        <td>10.69</td>\n",
       "        <td>0.74</td>\n",
       "    </tr>\n",
       "    <tr>\n",
       "        <td>183</td>\n",
       "        <td>up</td>\n",
       "        <td>Ukraine</td>\n",
       "        <td>603550</td>\n",
       "        <td>579330</td>\n",
       "        <td>24220</td>\n",
       "        <td>44429471</td>\n",
       "        <td>0.6</td>\n",
       "        <td>10.72</td>\n",
       "        <td>14.46</td>\n",
       "        <td>2.25</td>\n",
       "    </tr>\n",
       "    <tr>\n",
       "        <td>184</td>\n",
       "        <td>ae</td>\n",
       "        <td>United Arab Emirates</td>\n",
       "        <td>83600</td>\n",
       "        <td>83600</td>\n",
       "        <td>0</td>\n",
       "        <td>5779760</td>\n",
       "        <td>2.58</td>\n",
       "        <td>15.43</td>\n",
       "        <td>1.97</td>\n",
       "        <td>12.36</td>\n",
       "    </tr>\n",
       "    <tr>\n",
       "        <td>185</td>\n",
       "        <td>uk</td>\n",
       "        <td>United Kingdom</td>\n",
       "        <td>243610</td>\n",
       "        <td>241930</td>\n",
       "        <td>1680</td>\n",
       "        <td>64088222</td>\n",
       "        <td>0.54</td>\n",
       "        <td>12.17</td>\n",
       "        <td>9.35</td>\n",
       "        <td>2.54</td>\n",
       "    </tr>\n",
       "    <tr>\n",
       "        <td>186</td>\n",
       "        <td>us</td>\n",
       "        <td>United States</td>\n",
       "        <td>9826675</td>\n",
       "        <td>9161966</td>\n",
       "        <td>664709</td>\n",
       "        <td>321368864</td>\n",
       "        <td>0.78</td>\n",
       "        <td>12.49</td>\n",
       "        <td>8.15</td>\n",
       "        <td>3.86</td>\n",
       "    </tr>\n",
       "    <tr>\n",
       "        <td>187</td>\n",
       "        <td>uy</td>\n",
       "        <td>Uruguay</td>\n",
       "        <td>176215</td>\n",
       "        <td>175015</td>\n",
       "        <td>1200</td>\n",
       "        <td>3341893</td>\n",
       "        <td>0.27</td>\n",
       "        <td>13.07</td>\n",
       "        <td>9.45</td>\n",
       "        <td>0.9</td>\n",
       "    </tr>\n",
       "    <tr>\n",
       "        <td>188</td>\n",
       "        <td>uz</td>\n",
       "        <td>Uzbekistan</td>\n",
       "        <td>447400</td>\n",
       "        <td>425400</td>\n",
       "        <td>22000</td>\n",
       "        <td>29199942</td>\n",
       "        <td>0.93</td>\n",
       "        <td>17.0</td>\n",
       "        <td>5.3</td>\n",
       "        <td>2.37</td>\n",
       "    </tr>\n",
       "    <tr>\n",
       "        <td>189</td>\n",
       "        <td>nh</td>\n",
       "        <td>Vanuatu</td>\n",
       "        <td>12189</td>\n",
       "        <td>12189</td>\n",
       "        <td>0</td>\n",
       "        <td>272264</td>\n",
       "        <td>1.95</td>\n",
       "        <td>25.04</td>\n",
       "        <td>4.09</td>\n",
       "        <td>1.47</td>\n",
       "    </tr>\n",
       "    <tr>\n",
       "        <td>190</td>\n",
       "        <td>vt</td>\n",
       "        <td>Holy See (Vatican City)</td>\n",
       "        <td>0</td>\n",
       "        <td>0</td>\n",
       "        <td>0</td>\n",
       "        <td>842</td>\n",
       "        <td>0.0</td>\n",
       "        <td>None</td>\n",
       "        <td>None</td>\n",
       "        <td>None</td>\n",
       "    </tr>\n",
       "    <tr>\n",
       "        <td>191</td>\n",
       "        <td>ve</td>\n",
       "        <td>Venezuela</td>\n",
       "        <td>912050</td>\n",
       "        <td>882050</td>\n",
       "        <td>30000</td>\n",
       "        <td>29275460</td>\n",
       "        <td>1.39</td>\n",
       "        <td>19.16</td>\n",
       "        <td>5.31</td>\n",
       "        <td>0.0</td>\n",
       "    </tr>\n",
       "    <tr>\n",
       "        <td>192</td>\n",
       "        <td>vm</td>\n",
       "        <td>Vietnam</td>\n",
       "        <td>331210</td>\n",
       "        <td>310070</td>\n",
       "        <td>21140</td>\n",
       "        <td>94348835</td>\n",
       "        <td>0.97</td>\n",
       "        <td>15.96</td>\n",
       "        <td>5.93</td>\n",
       "        <td>0.3</td>\n",
       "    </tr>\n",
       "    <tr>\n",
       "        <td>193</td>\n",
       "        <td>ym</td>\n",
       "        <td>Yemen</td>\n",
       "        <td>527968</td>\n",
       "        <td>527968</td>\n",
       "        <td>0</td>\n",
       "        <td>26737317</td>\n",
       "        <td>2.47</td>\n",
       "        <td>29.98</td>\n",
       "        <td>6.28</td>\n",
       "        <td>1.0</td>\n",
       "    </tr>\n",
       "    <tr>\n",
       "        <td>194</td>\n",
       "        <td>za</td>\n",
       "        <td>Zambia</td>\n",
       "        <td>752618</td>\n",
       "        <td>743398</td>\n",
       "        <td>9220</td>\n",
       "        <td>15066266</td>\n",
       "        <td>2.88</td>\n",
       "        <td>42.13</td>\n",
       "        <td>12.67</td>\n",
       "        <td>0.68</td>\n",
       "    </tr>\n",
       "    <tr>\n",
       "        <td>195</td>\n",
       "        <td>zi</td>\n",
       "        <td>Zimbabwe</td>\n",
       "        <td>390757</td>\n",
       "        <td>386847</td>\n",
       "        <td>3910</td>\n",
       "        <td>14229541</td>\n",
       "        <td>2.21</td>\n",
       "        <td>32.26</td>\n",
       "        <td>10.13</td>\n",
       "        <td>0.0</td>\n",
       "    </tr>\n",
       "    <tr>\n",
       "        <td>196</td>\n",
       "        <td>tw</td>\n",
       "        <td>Taiwan</td>\n",
       "        <td>35980</td>\n",
       "        <td>32260</td>\n",
       "        <td>3720</td>\n",
       "        <td>23415126</td>\n",
       "        <td>0.23</td>\n",
       "        <td>8.47</td>\n",
       "        <td>7.11</td>\n",
       "        <td>0.89</td>\n",
       "    </tr>\n",
       "    <tr>\n",
       "        <td>197</td>\n",
       "        <td>ee</td>\n",
       "        <td>European Union</td>\n",
       "        <td>4324782</td>\n",
       "        <td>None</td>\n",
       "        <td>None</td>\n",
       "        <td>513949445</td>\n",
       "        <td>0.25</td>\n",
       "        <td>10.2</td>\n",
       "        <td>10.2</td>\n",
       "        <td>2.5</td>\n",
       "    </tr>\n",
       "    <tr>\n",
       "        <td>198</td>\n",
       "        <td>at</td>\n",
       "        <td>Ashmore and Cartier Islands</td>\n",
       "        <td>5</td>\n",
       "        <td>5</td>\n",
       "        <td>0</td>\n",
       "        <td>None</td>\n",
       "        <td>None</td>\n",
       "        <td>None</td>\n",
       "        <td>None</td>\n",
       "        <td>None</td>\n",
       "    </tr>\n",
       "    <tr>\n",
       "        <td>199</td>\n",
       "        <td>kt</td>\n",
       "        <td>Christmas Island</td>\n",
       "        <td>135</td>\n",
       "        <td>135</td>\n",
       "        <td>0</td>\n",
       "        <td>1530</td>\n",
       "        <td>1.11</td>\n",
       "        <td>None</td>\n",
       "        <td>None</td>\n",
       "        <td>None</td>\n",
       "    </tr>\n",
       "    <tr>\n",
       "        <td>200</td>\n",
       "        <td>ck</td>\n",
       "        <td>Cocos (Keeling) Islands</td>\n",
       "        <td>14</td>\n",
       "        <td>14</td>\n",
       "        <td>0</td>\n",
       "        <td>596</td>\n",
       "        <td>0.0</td>\n",
       "        <td>None</td>\n",
       "        <td>None</td>\n",
       "        <td>None</td>\n",
       "    </tr>\n",
       "    <tr>\n",
       "        <td>201</td>\n",
       "        <td>cr</td>\n",
       "        <td>Coral Sea Islands</td>\n",
       "        <td>3</td>\n",
       "        <td>3</td>\n",
       "        <td>0</td>\n",
       "        <td>None</td>\n",
       "        <td>None</td>\n",
       "        <td>None</td>\n",
       "        <td>None</td>\n",
       "        <td>None</td>\n",
       "    </tr>\n",
       "    <tr>\n",
       "        <td>202</td>\n",
       "        <td>hm</td>\n",
       "        <td>Heard Island and McDonald Islands</td>\n",
       "        <td>412</td>\n",
       "        <td>412</td>\n",
       "        <td>0</td>\n",
       "        <td>None</td>\n",
       "        <td>None</td>\n",
       "        <td>None</td>\n",
       "        <td>None</td>\n",
       "        <td>None</td>\n",
       "    </tr>\n",
       "    <tr>\n",
       "        <td>203</td>\n",
       "        <td>nf</td>\n",
       "        <td>Norfolk Island</td>\n",
       "        <td>36</td>\n",
       "        <td>36</td>\n",
       "        <td>0</td>\n",
       "        <td>2210</td>\n",
       "        <td>0.01</td>\n",
       "        <td>None</td>\n",
       "        <td>None</td>\n",
       "        <td>None</td>\n",
       "    </tr>\n",
       "    <tr>\n",
       "        <td>204</td>\n",
       "        <td>hk</td>\n",
       "        <td>Hong Kong</td>\n",
       "        <td>1108</td>\n",
       "        <td>1073</td>\n",
       "        <td>35</td>\n",
       "        <td>7141106</td>\n",
       "        <td>0.38</td>\n",
       "        <td>9.23</td>\n",
       "        <td>7.07</td>\n",
       "        <td>1.68</td>\n",
       "    </tr>\n",
       "    <tr>\n",
       "        <td>205</td>\n",
       "        <td>mc</td>\n",
       "        <td>Macau</td>\n",
       "        <td>28</td>\n",
       "        <td>28</td>\n",
       "        <td>0</td>\n",
       "        <td>592731</td>\n",
       "        <td>0.8</td>\n",
       "        <td>8.88</td>\n",
       "        <td>4.22</td>\n",
       "        <td>3.37</td>\n",
       "    </tr>\n",
       "    <tr>\n",
       "        <td>206</td>\n",
       "        <td>fo</td>\n",
       "        <td>Faroe Islands</td>\n",
       "        <td>1393</td>\n",
       "        <td>1393</td>\n",
       "        <td>0</td>\n",
       "        <td>50196</td>\n",
       "        <td>0.51</td>\n",
       "        <td>13.77</td>\n",
       "        <td>8.71</td>\n",
       "        <td>0.0</td>\n",
       "    </tr>\n",
       "    <tr>\n",
       "        <td>207</td>\n",
       "        <td>gl</td>\n",
       "        <td>Greenland</td>\n",
       "        <td>2166086</td>\n",
       "        <td>2166086</td>\n",
       "        <td>None</td>\n",
       "        <td>57733</td>\n",
       "        <td>0.0</td>\n",
       "        <td>14.48</td>\n",
       "        <td>8.49</td>\n",
       "        <td>5.98</td>\n",
       "    </tr>\n",
       "    <tr>\n",
       "        <td>208</td>\n",
       "        <td>ip</td>\n",
       "        <td>Clipperton Island</td>\n",
       "        <td>6</td>\n",
       "        <td>6</td>\n",
       "        <td>0</td>\n",
       "        <td>None</td>\n",
       "        <td>None</td>\n",
       "        <td>None</td>\n",
       "        <td>None</td>\n",
       "        <td>None</td>\n",
       "    </tr>\n",
       "    <tr>\n",
       "        <td>209</td>\n",
       "        <td>fp</td>\n",
       "        <td>French Polynesia</td>\n",
       "        <td>4167</td>\n",
       "        <td>3827</td>\n",
       "        <td>340</td>\n",
       "        <td>282703</td>\n",
       "        <td>0.94</td>\n",
       "        <td>15.22</td>\n",
       "        <td>5.02</td>\n",
       "        <td>0.84</td>\n",
       "    </tr>\n",
       "    <tr>\n",
       "        <td>210</td>\n",
       "        <td>fs</td>\n",
       "        <td>French Southern and Antarctic Lands</td>\n",
       "        <td>None</td>\n",
       "        <td>None</td>\n",
       "        <td>None</td>\n",
       "        <td>None</td>\n",
       "        <td>None</td>\n",
       "        <td>None</td>\n",
       "        <td>None</td>\n",
       "        <td>None</td>\n",
       "    </tr>\n",
       "    <tr>\n",
       "        <td>211</td>\n",
       "        <td>nc</td>\n",
       "        <td>New Caledonia</td>\n",
       "        <td>18575</td>\n",
       "        <td>18275</td>\n",
       "        <td>300</td>\n",
       "        <td>271615</td>\n",
       "        <td>1.38</td>\n",
       "        <td>15.33</td>\n",
       "        <td>5.52</td>\n",
       "        <td>4.01</td>\n",
       "    </tr>\n",
       "    <tr>\n",
       "        <td>212</td>\n",
       "        <td>tb</td>\n",
       "        <td>Saint Barthelemy</td>\n",
       "        <td>None</td>\n",
       "        <td>None</td>\n",
       "        <td>None</td>\n",
       "        <td>7237</td>\n",
       "        <td>None</td>\n",
       "        <td>None</td>\n",
       "        <td>None</td>\n",
       "        <td>None</td>\n",
       "    </tr>\n",
       "    <tr>\n",
       "        <td>213</td>\n",
       "        <td>rn</td>\n",
       "        <td>Saint Martin</td>\n",
       "        <td>54</td>\n",
       "        <td>54</td>\n",
       "        <td>None</td>\n",
       "        <td>31754</td>\n",
       "        <td>None</td>\n",
       "        <td>None</td>\n",
       "        <td>None</td>\n",
       "        <td>None</td>\n",
       "    </tr>\n",
       "    <tr>\n",
       "        <td>214</td>\n",
       "        <td>sb</td>\n",
       "        <td>Saint Pierre and Miquelon</td>\n",
       "        <td>242</td>\n",
       "        <td>242</td>\n",
       "        <td>0</td>\n",
       "        <td>5657</td>\n",
       "        <td>1.08</td>\n",
       "        <td>7.42</td>\n",
       "        <td>9.72</td>\n",
       "        <td>8.49</td>\n",
       "    </tr>\n",
       "    <tr>\n",
       "        <td>215</td>\n",
       "        <td>wf</td>\n",
       "        <td>Wallis and Futuna</td>\n",
       "        <td>142</td>\n",
       "        <td>142</td>\n",
       "        <td>0</td>\n",
       "        <td>15613</td>\n",
       "        <td>0.33</td>\n",
       "        <td>13.45</td>\n",
       "        <td>5.06</td>\n",
       "        <td>5.06</td>\n",
       "    </tr>\n",
       "    <tr>\n",
       "        <td>216</td>\n",
       "        <td>aa</td>\n",
       "        <td>Aruba</td>\n",
       "        <td>180</td>\n",
       "        <td>180</td>\n",
       "        <td>0</td>\n",
       "        <td>112162</td>\n",
       "        <td>1.33</td>\n",
       "        <td>12.56</td>\n",
       "        <td>8.18</td>\n",
       "        <td>8.92</td>\n",
       "    </tr>\n",
       "    <tr>\n",
       "        <td>217</td>\n",
       "        <td>cc</td>\n",
       "        <td>Curacao</td>\n",
       "        <td>444</td>\n",
       "        <td>444</td>\n",
       "        <td>0</td>\n",
       "        <td>148406</td>\n",
       "        <td>0.43</td>\n",
       "        <td>13.8</td>\n",
       "        <td>8.2</td>\n",
       "        <td>1.4</td>\n",
       "    </tr>\n",
       "    <tr>\n",
       "        <td>218</td>\n",
       "        <td>sk</td>\n",
       "        <td>Sint Maarten</td>\n",
       "        <td>34</td>\n",
       "        <td>34</td>\n",
       "        <td>0</td>\n",
       "        <td>39689</td>\n",
       "        <td>1.51</td>\n",
       "        <td>13.0</td>\n",
       "        <td>4.51</td>\n",
       "        <td>6.63</td>\n",
       "    </tr>\n",
       "    <tr>\n",
       "        <td>219</td>\n",
       "        <td>cw</td>\n",
       "        <td>Cook Islands</td>\n",
       "        <td>236</td>\n",
       "        <td>236</td>\n",
       "        <td>0</td>\n",
       "        <td>9838</td>\n",
       "        <td>2.95</td>\n",
       "        <td>14.33</td>\n",
       "        <td>8.03</td>\n",
       "        <td>None</td>\n",
       "    </tr>\n",
       "    <tr>\n",
       "        <td>220</td>\n",
       "        <td>ne</td>\n",
       "        <td>Niue</td>\n",
       "        <td>260</td>\n",
       "        <td>260</td>\n",
       "        <td>0</td>\n",
       "        <td>1190</td>\n",
       "        <td>0.03</td>\n",
       "        <td>None</td>\n",
       "        <td>None</td>\n",
       "        <td>None</td>\n",
       "    </tr>\n",
       "    <tr>\n",
       "        <td>221</td>\n",
       "        <td>tl</td>\n",
       "        <td>Tokelau</td>\n",
       "        <td>12</td>\n",
       "        <td>12</td>\n",
       "        <td>0</td>\n",
       "        <td>1337</td>\n",
       "        <td>0.01</td>\n",
       "        <td>None</td>\n",
       "        <td>None</td>\n",
       "        <td>None</td>\n",
       "    </tr>\n",
       "    <tr>\n",
       "        <td>222</td>\n",
       "        <td>bv</td>\n",
       "        <td>Bouvet Island</td>\n",
       "        <td>49</td>\n",
       "        <td>49</td>\n",
       "        <td>0</td>\n",
       "        <td>None</td>\n",
       "        <td>None</td>\n",
       "        <td>None</td>\n",
       "        <td>None</td>\n",
       "        <td>None</td>\n",
       "    </tr>\n",
       "    <tr>\n",
       "        <td>223</td>\n",
       "        <td>jn</td>\n",
       "        <td>Jan Mayen</td>\n",
       "        <td>377</td>\n",
       "        <td>377</td>\n",
       "        <td>0</td>\n",
       "        <td>None</td>\n",
       "        <td>None</td>\n",
       "        <td>None</td>\n",
       "        <td>None</td>\n",
       "        <td>None</td>\n",
       "    </tr>\n",
       "    <tr>\n",
       "        <td>224</td>\n",
       "        <td>sv</td>\n",
       "        <td>Svalbard</td>\n",
       "        <td>62045</td>\n",
       "        <td>62045</td>\n",
       "        <td>0</td>\n",
       "        <td>1872</td>\n",
       "        <td>0.03</td>\n",
       "        <td>None</td>\n",
       "        <td>None</td>\n",
       "        <td>None</td>\n",
       "    </tr>\n",
       "    <tr>\n",
       "        <td>225</td>\n",
       "        <td>ax</td>\n",
       "        <td>Akrotiri</td>\n",
       "        <td>123</td>\n",
       "        <td>None</td>\n",
       "        <td>None</td>\n",
       "        <td>15700</td>\n",
       "        <td>None</td>\n",
       "        <td>None</td>\n",
       "        <td>None</td>\n",
       "        <td>None</td>\n",
       "    </tr>\n",
       "    <tr>\n",
       "        <td>226</td>\n",
       "        <td>av</td>\n",
       "        <td>Anguilla</td>\n",
       "        <td>91</td>\n",
       "        <td>91</td>\n",
       "        <td>0</td>\n",
       "        <td>16418</td>\n",
       "        <td>2.03</td>\n",
       "        <td>12.67</td>\n",
       "        <td>4.57</td>\n",
       "        <td>12.18</td>\n",
       "    </tr>\n",
       "    <tr>\n",
       "        <td>227</td>\n",
       "        <td>bd</td>\n",
       "        <td>Bermuda</td>\n",
       "        <td>54</td>\n",
       "        <td>54</td>\n",
       "        <td>0</td>\n",
       "        <td>70196</td>\n",
       "        <td>0.5</td>\n",
       "        <td>11.33</td>\n",
       "        <td>8.23</td>\n",
       "        <td>1.88</td>\n",
       "    </tr>\n",
       "    <tr>\n",
       "        <td>228</td>\n",
       "        <td>io</td>\n",
       "        <td>British Indian Ocean Territory</td>\n",
       "        <td>54400</td>\n",
       "        <td>60</td>\n",
       "        <td>54340</td>\n",
       "        <td>None</td>\n",
       "        <td>None</td>\n",
       "        <td>None</td>\n",
       "        <td>None</td>\n",
       "        <td>None</td>\n",
       "    </tr>\n",
       "    <tr>\n",
       "        <td>229</td>\n",
       "        <td>vi</td>\n",
       "        <td>British Virgin Islands</td>\n",
       "        <td>151</td>\n",
       "        <td>151</td>\n",
       "        <td>0</td>\n",
       "        <td>33454</td>\n",
       "        <td>2.32</td>\n",
       "        <td>10.91</td>\n",
       "        <td>4.99</td>\n",
       "        <td>17.28</td>\n",
       "    </tr>\n",
       "    <tr>\n",
       "        <td>230</td>\n",
       "        <td>cj</td>\n",
       "        <td>Cayman Islands</td>\n",
       "        <td>264</td>\n",
       "        <td>264</td>\n",
       "        <td>0</td>\n",
       "        <td>56092</td>\n",
       "        <td>2.1</td>\n",
       "        <td>12.11</td>\n",
       "        <td>5.53</td>\n",
       "        <td>14.4</td>\n",
       "    </tr>\n",
       "    <tr>\n",
       "        <td>231</td>\n",
       "        <td>dx</td>\n",
       "        <td>Dhekelia</td>\n",
       "        <td>130</td>\n",
       "        <td>None</td>\n",
       "        <td>None</td>\n",
       "        <td>15700</td>\n",
       "        <td>None</td>\n",
       "        <td>None</td>\n",
       "        <td>None</td>\n",
       "        <td>None</td>\n",
       "    </tr>\n",
       "    <tr>\n",
       "        <td>232</td>\n",
       "        <td>fk</td>\n",
       "        <td>Falkland Islands (Islas Malvinas)</td>\n",
       "        <td>12173</td>\n",
       "        <td>12173</td>\n",
       "        <td>0</td>\n",
       "        <td>3361</td>\n",
       "        <td>0.01</td>\n",
       "        <td>10.9</td>\n",
       "        <td>4.9</td>\n",
       "        <td>None</td>\n",
       "    </tr>\n",
       "    <tr>\n",
       "        <td>233</td>\n",
       "        <td>gi</td>\n",
       "        <td>Gibraltar</td>\n",
       "        <td>6</td>\n",
       "        <td>6</td>\n",
       "        <td>0</td>\n",
       "        <td>29258</td>\n",
       "        <td>0.24</td>\n",
       "        <td>14.08</td>\n",
       "        <td>8.37</td>\n",
       "        <td>3.28</td>\n",
       "    </tr>\n",
       "    <tr>\n",
       "        <td>234</td>\n",
       "        <td>gk</td>\n",
       "        <td>Guernsey</td>\n",
       "        <td>78</td>\n",
       "        <td>78</td>\n",
       "        <td>0</td>\n",
       "        <td>66080</td>\n",
       "        <td>0.34</td>\n",
       "        <td>9.84</td>\n",
       "        <td>8.78</td>\n",
       "        <td>2.32</td>\n",
       "    </tr>\n",
       "    <tr>\n",
       "        <td>235</td>\n",
       "        <td>je</td>\n",
       "        <td>Jersey</td>\n",
       "        <td>116</td>\n",
       "        <td>116</td>\n",
       "        <td>0</td>\n",
       "        <td>97294</td>\n",
       "        <td>0.8</td>\n",
       "        <td>11.91</td>\n",
       "        <td>7.68</td>\n",
       "        <td>3.76</td>\n",
       "    </tr>\n",
       "    <tr>\n",
       "        <td>236</td>\n",
       "        <td>im</td>\n",
       "        <td>Isle of Man</td>\n",
       "        <td>572</td>\n",
       "        <td>572</td>\n",
       "        <td>0</td>\n",
       "        <td>87545</td>\n",
       "        <td>0.76</td>\n",
       "        <td>11.1</td>\n",
       "        <td>10.06</td>\n",
       "        <td>6.56</td>\n",
       "    </tr>\n",
       "    <tr>\n",
       "        <td>237</td>\n",
       "        <td>mh</td>\n",
       "        <td>Montserrat</td>\n",
       "        <td>102</td>\n",
       "        <td>102</td>\n",
       "        <td>0</td>\n",
       "        <td>5241</td>\n",
       "        <td>0.5</td>\n",
       "        <td>11.26</td>\n",
       "        <td>6.3</td>\n",
       "        <td>0.0</td>\n",
       "    </tr>\n",
       "    <tr>\n",
       "        <td>238</td>\n",
       "        <td>pc</td>\n",
       "        <td>Pitcairn Islands</td>\n",
       "        <td>47</td>\n",
       "        <td>47</td>\n",
       "        <td>0</td>\n",
       "        <td>48</td>\n",
       "        <td>0.0</td>\n",
       "        <td>None</td>\n",
       "        <td>None</td>\n",
       "        <td>None</td>\n",
       "    </tr>\n",
       "    <tr>\n",
       "        <td>239</td>\n",
       "        <td>sh</td>\n",
       "        <td>Saint Helena, Ascension, and Tristan da Cunha</td>\n",
       "        <td>308</td>\n",
       "        <td>122</td>\n",
       "        <td>0</td>\n",
       "        <td>7795</td>\n",
       "        <td>0.24</td>\n",
       "        <td>9.88</td>\n",
       "        <td>7.44</td>\n",
       "        <td>0.0</td>\n",
       "    </tr>\n",
       "    <tr>\n",
       "        <td>240</td>\n",
       "        <td>sx</td>\n",
       "        <td>South Georgia and South Sandwich Islands</td>\n",
       "        <td>3903</td>\n",
       "        <td>3903</td>\n",
       "        <td>0</td>\n",
       "        <td>None</td>\n",
       "        <td>None</td>\n",
       "        <td>None</td>\n",
       "        <td>None</td>\n",
       "        <td>None</td>\n",
       "    </tr>\n",
       "    <tr>\n",
       "        <td>241</td>\n",
       "        <td>tk</td>\n",
       "        <td>Turks and Caicos Islands</td>\n",
       "        <td>948</td>\n",
       "        <td>948</td>\n",
       "        <td>0</td>\n",
       "        <td>50280</td>\n",
       "        <td>2.3</td>\n",
       "        <td>16.13</td>\n",
       "        <td>3.1</td>\n",
       "        <td>9.94</td>\n",
       "    </tr>\n",
       "    <tr>\n",
       "        <td>242</td>\n",
       "        <td>aq</td>\n",
       "        <td>American Samoa</td>\n",
       "        <td>199</td>\n",
       "        <td>199</td>\n",
       "        <td>0</td>\n",
       "        <td>54343</td>\n",
       "        <td>0.3</td>\n",
       "        <td>22.89</td>\n",
       "        <td>4.75</td>\n",
       "        <td>21.13</td>\n",
       "    </tr>\n",
       "    <tr>\n",
       "        <td>243</td>\n",
       "        <td>gq</td>\n",
       "        <td>Guam</td>\n",
       "        <td>544</td>\n",
       "        <td>544</td>\n",
       "        <td>0</td>\n",
       "        <td>161785</td>\n",
       "        <td>0.54</td>\n",
       "        <td>16.82</td>\n",
       "        <td>5.12</td>\n",
       "        <td>6.34</td>\n",
       "    </tr>\n",
       "    <tr>\n",
       "        <td>244</td>\n",
       "        <td>bq</td>\n",
       "        <td>Navassa Island</td>\n",
       "        <td>5</td>\n",
       "        <td>5</td>\n",
       "        <td>0</td>\n",
       "        <td>None</td>\n",
       "        <td>None</td>\n",
       "        <td>None</td>\n",
       "        <td>None</td>\n",
       "        <td>None</td>\n",
       "    </tr>\n",
       "    <tr>\n",
       "        <td>245</td>\n",
       "        <td>cq</td>\n",
       "        <td>Northern Mariana Islands</td>\n",
       "        <td>464</td>\n",
       "        <td>464</td>\n",
       "        <td>0</td>\n",
       "        <td>52344</td>\n",
       "        <td>2.18</td>\n",
       "        <td>18.32</td>\n",
       "        <td>3.71</td>\n",
       "        <td>7.16</td>\n",
       "    </tr>\n",
       "    <tr>\n",
       "        <td>246</td>\n",
       "        <td>rq</td>\n",
       "        <td>Puerto Rico</td>\n",
       "        <td>13791</td>\n",
       "        <td>8870</td>\n",
       "        <td>4921</td>\n",
       "        <td>3598357</td>\n",
       "        <td>0.6</td>\n",
       "        <td>10.86</td>\n",
       "        <td>8.67</td>\n",
       "        <td>8.15</td>\n",
       "    </tr>\n",
       "    <tr>\n",
       "        <td>247</td>\n",
       "        <td>vq</td>\n",
       "        <td>Virgin Islands</td>\n",
       "        <td>1910</td>\n",
       "        <td>346</td>\n",
       "        <td>1564</td>\n",
       "        <td>103574</td>\n",
       "        <td>0.59</td>\n",
       "        <td>10.31</td>\n",
       "        <td>8.54</td>\n",
       "        <td>7.67</td>\n",
       "    </tr>\n",
       "    <tr>\n",
       "        <td>248</td>\n",
       "        <td>wq</td>\n",
       "        <td>Wake Island</td>\n",
       "        <td>6</td>\n",
       "        <td>6</td>\n",
       "        <td>0</td>\n",
       "        <td>None</td>\n",
       "        <td>None</td>\n",
       "        <td>None</td>\n",
       "        <td>None</td>\n",
       "        <td>None</td>\n",
       "    </tr>\n",
       "    <tr>\n",
       "        <td>249</td>\n",
       "        <td>um</td>\n",
       "        <td>United States Pacific Island Wildlife Refuges</td>\n",
       "        <td>None</td>\n",
       "        <td>None</td>\n",
       "        <td>None</td>\n",
       "        <td>None</td>\n",
       "        <td>None</td>\n",
       "        <td>None</td>\n",
       "        <td>None</td>\n",
       "        <td>None</td>\n",
       "    </tr>\n",
       "    <tr>\n",
       "        <td>250</td>\n",
       "        <td>ay</td>\n",
       "        <td>Antarctica</td>\n",
       "        <td>None</td>\n",
       "        <td>280000</td>\n",
       "        <td>None</td>\n",
       "        <td>0</td>\n",
       "        <td>None</td>\n",
       "        <td>None</td>\n",
       "        <td>None</td>\n",
       "        <td>None</td>\n",
       "    </tr>\n",
       "    <tr>\n",
       "        <td>251</td>\n",
       "        <td>gz</td>\n",
       "        <td>Gaza Strip</td>\n",
       "        <td>360</td>\n",
       "        <td>360</td>\n",
       "        <td>0</td>\n",
       "        <td>1869055</td>\n",
       "        <td>2.81</td>\n",
       "        <td>31.11</td>\n",
       "        <td>3.04</td>\n",
       "        <td>0.0</td>\n",
       "    </tr>\n",
       "    <tr>\n",
       "        <td>252</td>\n",
       "        <td>pf</td>\n",
       "        <td>Paracel Islands</td>\n",
       "        <td>7</td>\n",
       "        <td>7</td>\n",
       "        <td>0</td>\n",
       "        <td>None</td>\n",
       "        <td>None</td>\n",
       "        <td>None</td>\n",
       "        <td>None</td>\n",
       "        <td>None</td>\n",
       "    </tr>\n",
       "    <tr>\n",
       "        <td>253</td>\n",
       "        <td>pg</td>\n",
       "        <td>Spratly Islands</td>\n",
       "        <td>5</td>\n",
       "        <td>5</td>\n",
       "        <td>0</td>\n",
       "        <td>None</td>\n",
       "        <td>None</td>\n",
       "        <td>None</td>\n",
       "        <td>None</td>\n",
       "        <td>None</td>\n",
       "    </tr>\n",
       "    <tr>\n",
       "        <td>254</td>\n",
       "        <td>we</td>\n",
       "        <td>West Bank</td>\n",
       "        <td>5860</td>\n",
       "        <td>5640</td>\n",
       "        <td>220</td>\n",
       "        <td>2785366</td>\n",
       "        <td>1.95</td>\n",
       "        <td>22.99</td>\n",
       "        <td>3.5</td>\n",
       "        <td>0.0</td>\n",
       "    </tr>\n",
       "    <tr>\n",
       "        <td>255</td>\n",
       "        <td>wi</td>\n",
       "        <td>Western Sahara</td>\n",
       "        <td>266000</td>\n",
       "        <td>266000</td>\n",
       "        <td>0</td>\n",
       "        <td>570866</td>\n",
       "        <td>2.82</td>\n",
       "        <td>30.24</td>\n",
       "        <td>8.34</td>\n",
       "        <td>None</td>\n",
       "    </tr>\n",
       "    <tr>\n",
       "        <td>256</td>\n",
       "        <td>xq</td>\n",
       "        <td>Arctic Ocean</td>\n",
       "        <td>None</td>\n",
       "        <td>None</td>\n",
       "        <td>None</td>\n",
       "        <td>None</td>\n",
       "        <td>None</td>\n",
       "        <td>None</td>\n",
       "        <td>None</td>\n",
       "        <td>None</td>\n",
       "    </tr>\n",
       "    <tr>\n",
       "        <td>257</td>\n",
       "        <td>zh</td>\n",
       "        <td>Atlantic Ocean</td>\n",
       "        <td>None</td>\n",
       "        <td>None</td>\n",
       "        <td>None</td>\n",
       "        <td>None</td>\n",
       "        <td>None</td>\n",
       "        <td>None</td>\n",
       "        <td>None</td>\n",
       "        <td>None</td>\n",
       "    </tr>\n",
       "    <tr>\n",
       "        <td>258</td>\n",
       "        <td>xo</td>\n",
       "        <td>Indian Ocean</td>\n",
       "        <td>None</td>\n",
       "        <td>None</td>\n",
       "        <td>None</td>\n",
       "        <td>None</td>\n",
       "        <td>None</td>\n",
       "        <td>None</td>\n",
       "        <td>None</td>\n",
       "        <td>None</td>\n",
       "    </tr>\n",
       "    <tr>\n",
       "        <td>259</td>\n",
       "        <td>zn</td>\n",
       "        <td>Pacific Ocean</td>\n",
       "        <td>None</td>\n",
       "        <td>None</td>\n",
       "        <td>None</td>\n",
       "        <td>None</td>\n",
       "        <td>None</td>\n",
       "        <td>None</td>\n",
       "        <td>None</td>\n",
       "        <td>None</td>\n",
       "    </tr>\n",
       "    <tr>\n",
       "        <td>260</td>\n",
       "        <td>oo</td>\n",
       "        <td>Southern Ocean</td>\n",
       "        <td>None</td>\n",
       "        <td>None</td>\n",
       "        <td>None</td>\n",
       "        <td>None</td>\n",
       "        <td>None</td>\n",
       "        <td>None</td>\n",
       "        <td>None</td>\n",
       "        <td>None</td>\n",
       "    </tr>\n",
       "    <tr>\n",
       "        <td>261</td>\n",
       "        <td>xx</td>\n",
       "        <td>World</td>\n",
       "        <td>None</td>\n",
       "        <td>None</td>\n",
       "        <td>None</td>\n",
       "        <td>7256490011</td>\n",
       "        <td>1.08</td>\n",
       "        <td>18.6</td>\n",
       "        <td>7.8</td>\n",
       "        <td>None</td>\n",
       "    </tr>\n",
       "</table>"
      ],
      "text/plain": [
       "[(1, 'af', 'Afghanistan', 652230, 652230, 0, 32564342, 2.32, 38.57, 13.89, 1.51),\n",
       " (2, 'al', 'Albania', 28748, 27398, 1350, 3029278, 0.3, 12.92, 6.58, 3.3),\n",
       " (3, 'ag', 'Algeria', 2381741, 2381741, 0, 39542166, 1.84, 23.67, 4.31, 0.92),\n",
       " (4, 'an', 'Andorra', 468, 468, 0, 85580, 0.12, 8.13, 6.96, 0.0),\n",
       " (5, 'ao', 'Angola', 1246700, 1246700, 0, 19625353, 2.78, 38.78, 11.49, 0.46),\n",
       " (6, 'ac', 'Antigua and Barbuda', 442, 442, 0, 92436, 1.24, 15.85, 5.69, 2.21),\n",
       " (7, 'ar', 'Argentina', 2780400, 2736690, 43710, 43431886, 0.93, 16.64, 7.33, 0.0),\n",
       " (8, 'am', 'Armenia', 29743, 28203, 1540, 3056382, 0.15, 13.61, 9.34, 5.8),\n",
       " (9, 'as', 'Australia', 7741220, 7682300, 58920, 22751014, 1.07, 12.15, 7.14, 5.65),\n",
       " (10, 'au', 'Austria', 83871, 82445, 1426, 8665550, 0.55, 9.41, 9.42, 5.56),\n",
       " (11, 'aj', 'Azerbaijan', 86600, 82629, 3971, 9780780, 0.96, 16.64, 7.07, 0.0),\n",
       " (12, 'bf', 'Bahamas, The', 13880, 10010, 3870, 324597, 0.85, 15.5, 7.05, 0.0),\n",
       " (13, 'ba', 'Bahrain', 760, 760, 0, 1346613, 2.41, 13.66, 2.69, 13.09),\n",
       " (14, 'bg', 'Bangladesh', 148460, 130170, 18290, 168957745, 1.6, 21.14, 5.61, 0.46),\n",
       " (15, 'bb', 'Barbados', 430, 430, 0, 290604, 0.31, 11.87, 8.44, 0.3),\n",
       " (16, 'bo', 'Belarus', 207600, 202900, 4700, 9589689, 0.2, 10.7, 13.36, 0.7),\n",
       " (17, 'be', 'Belgium', 30528, 30278, 250, 11323973, 0.76, 11.41, 9.63, 5.87),\n",
       " (18, 'bh', 'Belize', 22966, 22806, 160, 347369, 1.87, 24.68, 5.97, 0.0),\n",
       " (19, 'bn', 'Benin', 112622, 110622, 2000, 10448647, 2.78, 36.02, 8.21, 0.0),\n",
       " (20, 'bt', 'Bhutan', 38394, 38394, 0, 741919, 1.11, 17.78, 6.69, 0.0),\n",
       " (21, 'bl', 'Bolivia', 1098581, 1083301, 15280, 10800882, 1.56, 22.76, 6.52, 0.62),\n",
       " (22, 'bk', 'Bosnia and Herzegovina', 51197, 51187, 10, 3867055, 0.13, 8.87, 9.75, 0.38),\n",
       " (23, 'bc', 'Botswana', 581730, 566730, 15000, 2182719, 1.21, 20.96, 13.39, 4.56),\n",
       " (24, 'br', 'Brazil', 8515770, 8358140, 157630, 204259812, 0.77, 14.46, 6.58, 0.14),\n",
       " (25, 'bx', 'Brunei', 5765, 5265, 500, 429646, 1.62, 17.32, 3.52, 2.43),\n",
       " (26, 'bu', 'Bulgaria', 110879, 108489, 2390, 7186893, 0.58, 8.92, 14.44, 0.29),\n",
       " (27, 'uv', 'Burkina Faso', 274200, 273800, 400, 18931686, 3.03, 42.03, 11.72, 0.0),\n",
       " (28, 'bm', 'Burma', 676578, 653508, 23070, 56320206, 1.01, 18.39, 7.96, 0.28),\n",
       " (29, 'by', 'Burundi', 27830, 25680, 2150, 10742276, 3.28, 42.01, 9.27, 0.0),\n",
       " (30, 'cb', 'Cambodia', 181035, 176515, 4520, 15708756, 1.58, 23.83, 7.68, 0.32),\n",
       " (31, 'cm', 'Cameroon', 475440, 472710, 2730, 23739218, 2.59, 36.17, 10.11, 0.15),\n",
       " (32, 'ca', 'Canada', 9984670, 9093507, 891163, 35099836, 0.75, 10.28, 8.42, 5.66),\n",
       " (33, 'cv', 'Cabo Verde', 4033, 4033, 0, 545993, 1.36, 20.33, 6.11, 0.63),\n",
       " (34, 'ct', 'Central African Republic', 622984, 622984, 0, 5391539, 2.13, 35.08, 13.8, 0.0),\n",
       " (35, 'cd', 'Chad', None, 1259200, 24800, 11631456, 1.89, 36.6, 14.28, 3.45),\n",
       " (36, 'ci', 'Chile', 756102, 743812, 12290, 17508260, 0.82, 13.83, 6.0, 0.34),\n",
       " (37, 'ch', 'China', 9596960, 9326410, 270550, 1367485388, 0.45, 12.49, 7.53, 0.44),\n",
       " (38, 'co', 'Colombia', 1138910, 1038700, 100210, 46736728, 1.04, 16.47, 5.4, 0.64),\n",
       " (39, 'cn', 'Comoros', 2235, 2235, 0, 780971, 1.77, 27.84, 7.57, 2.53),\n",
       " (40, 'cg', 'Congo, Democratic Republic of the', 2344858, 2267048, 77810, 79375136, 2.45, 34.88, 10.07, 0.27),\n",
       " (41, 'cf', 'Congo, Republic of the', 342000, 341500, 500, 4755097, 2.0, 35.85, 10.0, 5.9),\n",
       " (42, 'cs', 'Costa Rica', 51100, 51060, 40, 4814144, 1.22, 15.91, 4.55, 0.83),\n",
       " (43, 'iv', \"Cote d'Ivoire\", 322463, 318003, 4460, 23295302, 1.91, 28.67, 9.55, 0.0),\n",
       " (44, 'hr', 'Croatia', 56594, 55974, 620, 4464844, 0.13, 9.45, 12.18, 1.39),\n",
       " (45, 'cu', 'Cuba', 110860, 109820, 1040, 11031433, 0.15, 9.9, 7.72, 3.66),\n",
       " (46, 'cy', 'Cyprus', 9251, 9241, 10, 1189197, 1.43, 11.41, 6.62, 9.48),\n",
       " (47, 'ez', 'Czech Republic', 78867, 77247, 1620, 10644842, 0.16, 9.63, 10.34, 2.33),\n",
       " (48, 'da', 'Denmark', 43094, 42434, 660, 5581503, 0.22, 10.27, 10.25, 2.2),\n",
       " (49, 'dj', 'Djibouti', 23200, 23180, 20, 828324, 2.2, 23.65, 7.73, 6.06),\n",
       " (50, 'do', 'Dominica', 751, 751, 0, 73607, 0.21, 15.41, 7.91, 5.38),\n",
       " (51, 'dr', 'Dominican Republic', 48670, 48320, 350, 10478756, 1.23, 18.73, 4.55, 1.91),\n",
       " (52, 'ec', 'Ecuador', 283561, 276841, 6720, 15868396, 1.35, 18.51, 5.06, 0.0),\n",
       " (53, 'eg', 'Egypt', 1001450, 995450, 6000, 88487396, 1.79, 22.9, 4.77, 0.19),\n",
       " (54, 'es', 'El Salvador', 21041, 20721, 320, 6141350, 0.25, 16.46, 5.69, 8.28),\n",
       " (55, 'ek', 'Equatorial Guinea', 28051, 28051, 0, 740743, 2.51, 33.31, 8.19, 0.0),\n",
       " (56, 'er', 'Eritrea', 117600, 101000, 16600, 6527689, 2.25, 30.0, 7.52, 0.0),\n",
       " (57, 'en', 'Estonia', 45228, 42388, 2840, 1265420, 0.55, 10.51, 12.4, 3.6),\n",
       " (58, 'et', 'Ethiopia', 1104300, None, 104300, 99465819, 2.89, 37.27, 8.19, 0.22),\n",
       " (59, 'fj', 'Fiji', 18274, 18274, 0, 909389, 0.67, 19.43, 6.04, 6.75),\n",
       " (60, 'fi', 'Finland', 338145, 303815, 34330, 5476922, 0.4, 10.72, 9.83, 3.1),\n",
       " (61, 'fr', 'France', 643801, 640427, 3374, 66553766, 0.43, 12.38, 9.16, 1.09),\n",
       " (62, 'gb', 'Gabon', 267667, 257667, 10000, 1705336, 1.93, 34.49, 13.12, 2.03),\n",
       " (63, 'ga', 'Gambia, The', 11300, 10120, 1180, 1967709, 2.16, 30.86, 7.15, 2.12),\n",
       " (64, 'gg', 'Georgia', 69700, 69700, 0, 4931226, 0.08, 12.74, 10.82, 2.7),\n",
       " (65, 'gm', 'Germany', 357022, 348672, 8350, 80854408, 0.17, 8.47, 11.42, 1.24),\n",
       " (66, 'gh', 'Ghana', 238533, 227533, 11000, 26327649, 2.18, 31.09, 7.22, 2.02),\n",
       " (67, 'gr', 'Greece', 131957, 130647, 1310, 10775643, 0.01, 8.66, 11.09, 2.32),\n",
       " (68, 'gj', 'Grenada', 344, 344, 0, 110694, 0.48, 16.03, 8.08, 3.13),\n",
       " (69, 'gt', 'Guatemala', 108889, 107159, 1730, 14918999, 1.82, 24.89, 4.77, 1.97),\n",
       " (70, 'gv', 'Guinea', 245857, 245717, 140, 11780162, 2.63, 35.74, 9.46, 0.0),\n",
       " (71, 'pu', 'Guinea-Bissau', 36125, 28120, 8005, 1726170, 1.91, 33.38, 14.33, 0.0),\n",
       " (72, 'gy', 'Guyana', 214969, 196849, 18120, 735222, 0.02, 15.59, 7.32, 8.06),\n",
       " (73, 'ha', 'Haiti', 27750, 27560, 190, 10110019, 1.17, 22.31, 7.83, 2.76),\n",
       " (74, 'ho', 'Honduras', 112090, 111890, 200, 8746673, 1.68, 23.14, 5.17, 1.16),\n",
       " (75, 'hu', 'Hungary', 93028, 89608, 3420, 9897541, 0.22, 9.16, 12.73, 1.33),\n",
       " (76, 'ic', 'Iceland', 103000, 100250, 2750, 331918, 1.21, 13.91, 6.28, 4.43),\n",
       " (77, 'in', 'India', 3287263, 2973193, 314070, 1251695584, 1.22, 19.55, 7.32, 0.04),\n",
       " (78, 'id', 'Indonesia', 1904569, 1811569, 93000, 255993674, 0.92, 16.72, 6.37, 1.16),\n",
       " (79, 'ir', 'Iran', 1648195, 1531595, 116600, 81824270, 1.2, 17.99, 5.94, 0.07),\n",
       " (80, 'iz', 'Iraq', 438317, 437367, 950, 37056169, 2.93, 31.45, 3.77, 1.62),\n",
       " (81, 'ei', 'Ireland', 70273, 68883, 1390, 4892305, 1.25, 14.84, 6.48, 4.09),\n",
       " (82, 'is', 'Israel', 20770, 20330, 440, 8049314, 1.56, 18.48, 5.15, 2.24),\n",
       " (83, 'it', 'Italy', 301340, 294140, 7200, 61855120, 0.27, 8.74, 10.19, 4.1),\n",
       " (84, 'jm', 'Jamaica', 10991, 10831, 160, 2950210, 0.68, 18.16, 6.7, 4.66),\n",
       " (85, 'ja', 'Japan', 377915, 364485, 13430, 126919659, 0.16, 7.93, 9.51, 0.0),\n",
       " (86, 'jo', 'Jordan', 89342, 88802, 540, 8117564, 0.83, 25.37, 3.79, 13.24),\n",
       " (87, 'kz', 'Kazakhstan', 2724900, 2699700, 25200, 18157122, 1.14, 19.15, 8.21, 0.41),\n",
       " (88, 'ke', 'Kenya', 580367, 569140, 11227, 45925301, 1.93, 26.4, 6.89, 0.22),\n",
       " (89, 'kr', 'Kiribati', 811, 811, 0, 105711, 1.15, 21.46, 7.12, 2.87),\n",
       " (90, 'kn', 'Korea, North', 120538, 120408, 130, 24983205, 0.53, 14.52, 9.21, 0.04),\n",
       " (91, 'ks', 'Korea, South', 99720, 96920, 2800, 49115196, 0.14, 8.19, 6.75, 0.0),\n",
       " (92, 'kv', 'Kosovo', 10887, 10887, 0, 1870981, None, None, None, None),\n",
       " (93, 'ku', 'Kuwait', 17818, 17818, 0, 2788534, 1.62, 19.91, 2.18, 1.58),\n",
       " (94, 'kg', 'Kyrgyzstan', 199951, 191801, 8150, 5664939, 1.11, 22.98, 6.65, 5.22),\n",
       " (95, 'la', 'Laos', 236800, 230800, 6000, 6911544, 1.55, 24.25, 7.63, 1.09),\n",
       " (96, 'lg', 'Latvia', 64589, 62249, 2340, 1986705, 1.06, 10.0, 14.31, 6.26),\n",
       " (97, 'le', 'Lebanon', 10400, 10230, 170, 6184701, 0.86, 14.59, 4.88, 1.1),\n",
       " (98, 'lt', 'Lesotho', 30355, 30355, 0, 1947701, 0.32, 25.47, 14.89, 7.36),\n",
       " (99, 'li', 'Liberia', 111369, 96320, 15049, 4195666, 2.47, 34.41, 9.69, 0.0),\n",
       " (100, 'ly', 'Libya', 1759540, 1759540, 0, 6411776, 2.23, 18.03, 3.58, 7.8),\n",
       " (101, 'ls', 'Liechtenstein', 160, 160, 0, 37624, 0.84, 10.45, 7.12, 5.08),\n",
       " (102, 'lh', 'Lithuania', 65300, 62680, 2620, 2884433, 1.04, 10.1, 14.27, 6.27),\n",
       " (103, 'lu', 'Luxembourg', 2586, 2586, 0, 570252, 2.13, 11.37, 7.24, 17.16),\n",
       " (104, 'mk', 'Macedonia', 25713, 25433, 280, 2096015, 0.2, 11.55, 9.08, 0.48),\n",
       " (105, 'ma', 'Madagascar', 587041, 581540, 5501, 23812681, 2.58, 32.61, 6.81, 0.0),\n",
       " (106, 'mi', 'Malawi', 118484, 94080, 24404, 17964697, 3.32, 41.56, 8.41, 0.0),\n",
       " (107, 'my', 'Malaysia', 329847, 328657, 1190, 30513848, 1.44, 19.71, 5.03, 0.33),\n",
       " (108, 'mv', 'Maldives', 298, 298, 0, 393253, 0.08, 15.75, 3.89, 12.68),\n",
       " (109, 'ml', 'Mali', 1240192, 1220190, 20002, 16955536, 2.98, 44.99, 12.89, 2.26),\n",
       " (110, 'mt', 'Malta', 316, 316, 0, 413965, 0.31, 10.18, 9.09, 1.98),\n",
       " (111, 'rm', 'Marshall Islands', 181, 181, 0, 72191, 1.66, 25.6, 4.21, 4.83),\n",
       " (112, 'mr', 'Mauritania', 1030700, 1030700, 0, 3596702, 2.23, 31.34, 8.2, 0.83),\n",
       " (113, 'mp', 'Mauritius', 2040, 2030, 10, 1339827, 0.64, 13.29, 6.91, 0.0),\n",
       " (114, 'mx', 'Mexico', 1964375, 1943945, 20430, 121736809, 1.18, 18.78, 5.26, 1.68),\n",
       " (115, 'fm', 'Micronesia, Federated States of', 702, 702, 0, 105216, 0.46, 20.54, 4.23, 20.93),\n",
       " (116, 'md', 'Moldova', 33851, 32891, 960, 3546847, 1.03, 12.0, 12.59, 9.67),\n",
       " (117, 'mn', 'Monaco', 2, 2, 0, 30535, 0.12, 6.65, 9.24, 3.83),\n",
       " (118, 'mg', 'Mongolia', 1564116, 1553556, 10560, 2992908, 1.31, 20.25, 6.35, 0.84),\n",
       " (119, 'mj', 'Montenegro', 13812, 13452, 360, 647073, 0.42, 10.42, 9.43, None),\n",
       " (120, 'mo', 'Morocco', 446550, 446300, 250, 33322699, 1.0, 18.2, 4.81, 3.36),\n",
       " (121, 'mz', 'Mozambique', 799380, 786380, 13000, 25303113, 2.45, 38.58, 12.1, 1.98),\n",
       " (122, 'wa', 'Namibia', 824292, 823290, 1002, 2212307, 0.59, 19.8, 13.91, 0.0),\n",
       " (123, 'nr', 'Nauru', 21, 21, 0, 9540, 0.55, 24.95, 5.87, 13.63),\n",
       " (124, 'np', 'Nepal', 147181, 143351, 3830, 31551305, 1.79, 20.64, 6.56, 3.86),\n",
       " (125, 'nl', 'Netherlands', 41543, 33893, 7650, 16947904, 0.41, 10.83, 8.66, 1.95),\n",
       " (126, 'nz', 'New Zealand', 267710, 267710, None, 4438393, 0.82, 13.33, 7.36, 2.21),\n",
       " (127, 'nu', 'Nicaragua', 130370, 119990, 10380, 5907881, 1.0, 18.03, 5.08, 3.0),\n",
       " (128, 'ng', 'Niger', None, 1266700, 300, 18045729, 3.25, 45.45, 12.42, 0.56),\n",
       " (129, 'ni', 'Nigeria', 923768, 910768, 13000, 181562056, 2.45, 37.64, 12.9, 0.22),\n",
       " (130, 'no', 'Norway', 323802, 304282, 19520, 5207689, 1.13, 12.14, 8.12, 7.25),\n",
       " (131, 'mu', 'Oman', 309500, 309500, 0, 3286936, 2.07, 24.44, 3.36, 0.43),\n",
       " (132, 'pk', 'Pakistan', 796095, 770875, 25220, 199085847, 1.46, 22.58, 6.49, 1.54),\n",
       " (133, 'ps', 'Palau', 459, 459, 0, 21265, 0.38, 11.05, 7.99, 0.71),\n",
       " (134, 'pm', 'Panama', 75420, 74340, 1080, 3657024, 1.32, 18.32, 4.81, 0.28),\n",
       " (135, 'pp', 'Papua New Guinea', 462840, 452860, 9980, 6672429, 1.78, 24.38, 6.53, 0.0),\n",
       " (136, 'pa', 'Paraguay', 406752, 397302, 9450, 6783272, 1.16, 16.37, 4.68, 0.07),\n",
       " (137, 'pe', 'Peru', 1285216, 1279996, 5220, 30444999, 0.97, 18.28, 6.01, 2.53),\n",
       " (138, 'rp', 'Philippines', 300000, 298170, 1830, 100998376, 1.61, 24.27, 6.11, 2.09),\n",
       " (139, 'pl', 'Poland', 312685, 304255, 8430, 38562189, 0.09, 9.74, 10.19, 0.46),\n",
       " (140, 'po', 'Portugal', 92090, 91470, 620, 10825309, 0.09, 9.27, 11.02, 2.67),\n",
       " (141, 'qa', 'Qatar', 11586, 11586, 0, 2194817, 3.07, 9.84, 1.53, 22.39),\n",
       " (142, 'ro', 'Romania', 238391, 229891, 8500, 21666350, 0.3, 9.14, 11.9, 0.24),\n",
       " (143, 'rs', 'Russia', 17098242, 16377742, 720500, 142423773, 0.04, 11.6, 13.69, 1.69),\n",
       " (144, 'rw', 'Rwanda', 26338, 24668, 1670, 12661733, 2.56, 33.75, 8.96, 0.85),\n",
       " (145, 'sc', 'Saint Kitts and Nevis', 261, 261, 0, 51936, 0.76, 13.5, 7.09, 1.21),\n",
       " (146, 'st', 'Saint Lucia', 616, 606, 10, 163922, 0.34, 13.7, 7.42, 2.93),\n",
       " (147, 'vc', 'Saint Vincent and the Grenadines', 389, 389, 0, 102627, 0.28, 13.57, 7.18, 9.17),\n",
       " (148, 'ws', 'Samoa', 2831, 2821, 10, 197773, 0.58, 20.87, 5.32, 9.78),\n",
       " (149, 'sm', 'San Marino', 61, 61, 0, 33020, 0.82, 8.63, 8.45, 8.03),\n",
       " (150, 'tp', 'Sao Tome and Principe', 964, 964, 0, 194006, 1.84, 34.23, 7.24, 8.63),\n",
       " (151, 'sa', 'Saudi Arabia', 2149690, 2149690, 0, 27752316, 1.46, 18.51, 3.33, 0.55),\n",
       " (152, 'sg', 'Senegal', 196722, 192530, 4192, 13975834, 2.45, 34.52, 8.46, 1.59),\n",
       " (153, 'ri', 'Serbia', 77474, 77474, 0, 7176794, 0.46, 9.08, 13.66, 0.0),\n",
       " (154, 'se', 'Seychelles', 455, 455, 0, 92430, 0.83, 14.19, 6.89, 1.0),\n",
       " (155, 'sl', 'Sierra Leone', 71740, 71620, 120, 5879098, 2.35, 37.03, 10.81, 2.77),\n",
       " (156, 'sn', 'Singapore', 697, 687, 10, 5674472, 1.89, 8.27, 3.43, 14.05),\n",
       " (157, 'lo', 'Slovakia', 49035, 48105, 930, 5445027, 0.02, 9.91, 9.74, 0.04),\n",
       " (158, 'si', 'Slovenia', 20273, 20151, 122, 1983412, 0.26, 8.42, 11.37, 0.37),\n",
       " (159, 'bp', 'Solomon Islands', 28896, 27986, 910, 622469, 2.02, 25.77, 3.85, 1.75),\n",
       " (160, 'so', 'Somalia', 637657, 627337, 10320, 10616380, 1.83, 40.45, 13.62, 8.49),\n",
       " (161, 'sf', 'South Africa', 1219090, 1214470, 4620, 53675563, 1.33, 20.75, 9.91, 2.42),\n",
       " (162, 'od', 'South Sudan', 644329, None, None, 12042910, 4.02, 36.91, 8.18, 11.47),\n",
       " (163, 'sp', 'Spain', 505370, 498980, 6390, 48146134, 0.89, 9.64, 9.04, 8.31),\n",
       " (164, 'ce', 'Sri Lanka', 65610, 64630, 980, 22053488, 0.84, 15.85, 6.11, 1.35),\n",
       " (165, 'su', 'Sudan', 1861484, None, None, 36108853, 1.72, 29.19, 7.66, 4.29),\n",
       " (166, 'ns', 'Suriname', 163820, 156000, 7820, 579633, 1.08, 16.34, 6.13, 0.56),\n",
       " (167, 'wz', 'Swaziland', 17364, 17204, 160, 1435613, 1.11, 24.67, 13.56, 0.0),\n",
       " (168, 'sw', 'Sweden', 450295, 410335, 39960, 9801616, 0.8, 11.99, 9.4, 5.42),\n",
       " (169, 'sz', 'Switzerland', 41277, 39997, 1280, 8121830, 0.71, 10.5, 8.13, 4.74),\n",
       " (170, 'sy', 'Syria', 185180, 183630, 1550, 17064854, 0.16, 22.17, 4.0, 19.79),\n",
       " (171, 'ti', 'Tajikistan', 144100, 141510, 2590, 8191958, 1.71, 24.38, 6.18, 1.15),\n",
       " (172, 'tz', 'Tanzania', 947300, 885800, 61500, 51045882, 2.79, 36.39, 8.0, 0.54),\n",
       " (173, 'th', 'Thailand', 513120, 510890, 2230, 67976405, 0.34, 11.19, 7.8, 0.0),\n",
       " (174, 'tt', 'Timor-Leste', 14874, 14874, 0, 1231116, 2.42, 34.16, 6.1, 3.86),\n",
       " (175, 'to', 'Togo', 56785, 54385, 2400, 7552318, 2.69, 34.13, 7.26, 0.0),\n",
       " (176, 'tn', 'Tonga', 747, 717, 30, 106501, 0.03, 23.0, 4.85, 17.84),\n",
       " (177, 'td', 'Trinidad and Tobago', 5128, 5128, 0, 1222363, 0.13, 13.46, 8.56, 6.25),\n",
       " (178, 'ts', 'Tunisia', 163610, 155360, 8250, 11037225, 0.89, 16.64, 5.98, 1.73),\n",
       " (179, 'tu', 'Turkey', 783562, 769632, 13930, 79414269, 1.26, 16.33, 5.88, 2.16),\n",
       " (180, 'tx', 'Turkmenistan', 488100, 469930, 18170, 5231422, 1.14, 19.4, 6.13, 1.84),\n",
       " (181, 'tv', 'Tuvalu', 26, 26, 0, 10869, 0.82, 23.74, 8.74, 6.81),\n",
       " (182, 'ug', 'Uganda', 241038, 197100, 43938, 37101745, 3.24, 43.79, 10.69, 0.74),\n",
       " (183, 'up', 'Ukraine', 603550, 579330, 24220, 44429471, 0.6, 10.72, 14.46, 2.25),\n",
       " (184, 'ae', 'United Arab Emirates', 83600, 83600, 0, 5779760, 2.58, 15.43, 1.97, 12.36),\n",
       " (185, 'uk', 'United Kingdom', 243610, 241930, 1680, 64088222, 0.54, 12.17, 9.35, 2.54),\n",
       " (186, 'us', 'United States', 9826675, 9161966, 664709, 321368864, 0.78, 12.49, 8.15, 3.86),\n",
       " (187, 'uy', 'Uruguay', 176215, 175015, 1200, 3341893, 0.27, 13.07, 9.45, 0.9),\n",
       " (188, 'uz', 'Uzbekistan', 447400, 425400, 22000, 29199942, 0.93, 17.0, 5.3, 2.37),\n",
       " (189, 'nh', 'Vanuatu', 12189, 12189, 0, 272264, 1.95, 25.04, 4.09, 1.47),\n",
       " (190, 'vt', 'Holy See (Vatican City)', 0, 0, 0, 842, 0.0, None, None, None),\n",
       " (191, 've', 'Venezuela', 912050, 882050, 30000, 29275460, 1.39, 19.16, 5.31, 0.0),\n",
       " (192, 'vm', 'Vietnam', 331210, 310070, 21140, 94348835, 0.97, 15.96, 5.93, 0.3),\n",
       " (193, 'ym', 'Yemen', 527968, 527968, 0, 26737317, 2.47, 29.98, 6.28, 1.0),\n",
       " (194, 'za', 'Zambia', 752618, 743398, 9220, 15066266, 2.88, 42.13, 12.67, 0.68),\n",
       " (195, 'zi', 'Zimbabwe', 390757, 386847, 3910, 14229541, 2.21, 32.26, 10.13, 0.0),\n",
       " (196, 'tw', 'Taiwan', 35980, 32260, 3720, 23415126, 0.23, 8.47, 7.11, 0.89),\n",
       " (197, 'ee', 'European Union', 4324782, None, None, 513949445, 0.25, 10.2, 10.2, 2.5),\n",
       " (198, 'at', 'Ashmore and Cartier Islands', 5, 5, 0, None, None, None, None, None),\n",
       " (199, 'kt', 'Christmas Island', 135, 135, 0, 1530, 1.11, None, None, None),\n",
       " (200, 'ck', 'Cocos (Keeling) Islands', 14, 14, 0, 596, 0.0, None, None, None),\n",
       " (201, 'cr', 'Coral Sea Islands', 3, 3, 0, None, None, None, None, None),\n",
       " (202, 'hm', 'Heard Island and McDonald Islands', 412, 412, 0, None, None, None, None, None),\n",
       " (203, 'nf', 'Norfolk Island', 36, 36, 0, 2210, 0.01, None, None, None),\n",
       " (204, 'hk', 'Hong Kong', 1108, 1073, 35, 7141106, 0.38, 9.23, 7.07, 1.68),\n",
       " (205, 'mc', 'Macau', 28, 28, 0, 592731, 0.8, 8.88, 4.22, 3.37),\n",
       " (206, 'fo', 'Faroe Islands', 1393, 1393, 0, 50196, 0.51, 13.77, 8.71, 0.0),\n",
       " (207, 'gl', 'Greenland', 2166086, 2166086, None, 57733, 0.0, 14.48, 8.49, 5.98),\n",
       " (208, 'ip', 'Clipperton Island', 6, 6, 0, None, None, None, None, None),\n",
       " (209, 'fp', 'French Polynesia', 4167, 3827, 340, 282703, 0.94, 15.22, 5.02, 0.84),\n",
       " (210, 'fs', 'French Southern and Antarctic Lands', None, None, None, None, None, None, None, None),\n",
       " (211, 'nc', 'New Caledonia', 18575, 18275, 300, 271615, 1.38, 15.33, 5.52, 4.01),\n",
       " (212, 'tb', 'Saint Barthelemy', None, None, None, 7237, None, None, None, None),\n",
       " (213, 'rn', 'Saint Martin', 54, 54, None, 31754, None, None, None, None),\n",
       " (214, 'sb', 'Saint Pierre and Miquelon', 242, 242, 0, 5657, 1.08, 7.42, 9.72, 8.49),\n",
       " (215, 'wf', 'Wallis and Futuna', 142, 142, 0, 15613, 0.33, 13.45, 5.06, 5.06),\n",
       " (216, 'aa', 'Aruba', 180, 180, 0, 112162, 1.33, 12.56, 8.18, 8.92),\n",
       " (217, 'cc', 'Curacao', 444, 444, 0, 148406, 0.43, 13.8, 8.2, 1.4),\n",
       " (218, 'sk', 'Sint Maarten', 34, 34, 0, 39689, 1.51, 13.0, 4.51, 6.63),\n",
       " (219, 'cw', 'Cook Islands', 236, 236, 0, 9838, 2.95, 14.33, 8.03, None),\n",
       " (220, 'ne', 'Niue', 260, 260, 0, 1190, 0.03, None, None, None),\n",
       " (221, 'tl', 'Tokelau', 12, 12, 0, 1337, 0.01, None, None, None),\n",
       " (222, 'bv', 'Bouvet Island', 49, 49, 0, None, None, None, None, None),\n",
       " (223, 'jn', 'Jan Mayen', 377, 377, 0, None, None, None, None, None),\n",
       " (224, 'sv', 'Svalbard', 62045, 62045, 0, 1872, 0.03, None, None, None),\n",
       " (225, 'ax', 'Akrotiri', 123, None, None, 15700, None, None, None, None),\n",
       " (226, 'av', 'Anguilla', 91, 91, 0, 16418, 2.03, 12.67, 4.57, 12.18),\n",
       " (227, 'bd', 'Bermuda', 54, 54, 0, 70196, 0.5, 11.33, 8.23, 1.88),\n",
       " (228, 'io', 'British Indian Ocean Territory', 54400, 60, 54340, None, None, None, None, None),\n",
       " (229, 'vi', 'British Virgin Islands', 151, 151, 0, 33454, 2.32, 10.91, 4.99, 17.28),\n",
       " (230, 'cj', 'Cayman Islands', 264, 264, 0, 56092, 2.1, 12.11, 5.53, 14.4),\n",
       " (231, 'dx', 'Dhekelia', 130, None, None, 15700, None, None, None, None),\n",
       " (232, 'fk', 'Falkland Islands (Islas Malvinas)', 12173, 12173, 0, 3361, 0.01, 10.9, 4.9, None),\n",
       " (233, 'gi', 'Gibraltar', 6, 6, 0, 29258, 0.24, 14.08, 8.37, 3.28),\n",
       " (234, 'gk', 'Guernsey', 78, 78, 0, 66080, 0.34, 9.84, 8.78, 2.32),\n",
       " (235, 'je', 'Jersey', 116, 116, 0, 97294, 0.8, 11.91, 7.68, 3.76),\n",
       " (236, 'im', 'Isle of Man', 572, 572, 0, 87545, 0.76, 11.1, 10.06, 6.56),\n",
       " (237, 'mh', 'Montserrat', 102, 102, 0, 5241, 0.5, 11.26, 6.3, 0.0),\n",
       " (238, 'pc', 'Pitcairn Islands', 47, 47, 0, 48, 0.0, None, None, None),\n",
       " (239, 'sh', 'Saint Helena, Ascension, and Tristan da Cunha', 308, 122, 0, 7795, 0.24, 9.88, 7.44, 0.0),\n",
       " (240, 'sx', 'South Georgia and South Sandwich Islands', 3903, 3903, 0, None, None, None, None, None),\n",
       " (241, 'tk', 'Turks and Caicos Islands', 948, 948, 0, 50280, 2.3, 16.13, 3.1, 9.94),\n",
       " (242, 'aq', 'American Samoa', 199, 199, 0, 54343, 0.3, 22.89, 4.75, 21.13),\n",
       " (243, 'gq', 'Guam', 544, 544, 0, 161785, 0.54, 16.82, 5.12, 6.34),\n",
       " (244, 'bq', 'Navassa Island', 5, 5, 0, None, None, None, None, None),\n",
       " (245, 'cq', 'Northern Mariana Islands', 464, 464, 0, 52344, 2.18, 18.32, 3.71, 7.16),\n",
       " (246, 'rq', 'Puerto Rico', 13791, 8870, 4921, 3598357, 0.6, 10.86, 8.67, 8.15),\n",
       " (247, 'vq', 'Virgin Islands', 1910, 346, 1564, 103574, 0.59, 10.31, 8.54, 7.67),\n",
       " (248, 'wq', 'Wake Island', 6, 6, 0, None, None, None, None, None),\n",
       " (249, 'um', 'United States Pacific Island Wildlife Refuges', None, None, None, None, None, None, None, None),\n",
       " (250, 'ay', 'Antarctica', None, 280000, None, 0, None, None, None, None),\n",
       " (251, 'gz', 'Gaza Strip', 360, 360, 0, 1869055, 2.81, 31.11, 3.04, 0.0),\n",
       " (252, 'pf', 'Paracel Islands', 7, 7, 0, None, None, None, None, None),\n",
       " (253, 'pg', 'Spratly Islands', 5, 5, 0, None, None, None, None, None),\n",
       " (254, 'we', 'West Bank', 5860, 5640, 220, 2785366, 1.95, 22.99, 3.5, 0.0),\n",
       " (255, 'wi', 'Western Sahara', 266000, 266000, 0, 570866, 2.82, 30.24, 8.34, None),\n",
       " (256, 'xq', 'Arctic Ocean', None, None, None, None, None, None, None, None),\n",
       " (257, 'zh', 'Atlantic Ocean', None, None, None, None, None, None, None, None),\n",
       " (258, 'xo', 'Indian Ocean', None, None, None, None, None, None, None, None),\n",
       " (259, 'zn', 'Pacific Ocean', None, None, None, None, None, None, None, None),\n",
       " (260, 'oo', 'Southern Ocean', None, None, None, None, None, None, None, None),\n",
       " (261, 'xx', 'World', None, None, None, 7256490011, 1.08, 18.6, 7.8, None)]"
      ]
     },
     "execution_count": 64,
     "metadata": {},
     "output_type": "execute_result"
    }
   ],
   "source": [
    "%%sql\n",
    "SELECT *\n",
    "FROM facts;"
   ]
  },
  {
   "cell_type": "code",
   "execution_count": 103,
   "metadata": {},
   "outputs": [
    {
     "name": "stdout",
     "output_type": "stream",
     "text": [
      " * sqlite:///factbook.db\n",
      "Done.\n"
     ]
    },
    {
     "data": {
      "text/html": [
       "<table>\n",
       "    <tr>\n",
       "        <th>id</th>\n",
       "        <th>code</th>\n",
       "        <th>name</th>\n",
       "        <th>area</th>\n",
       "        <th>area_land</th>\n",
       "        <th>area_water</th>\n",
       "        <th>population</th>\n",
       "        <th>population_growth</th>\n",
       "        <th>birth_rate</th>\n",
       "        <th>death_rate</th>\n",
       "        <th>migration_rate</th>\n",
       "    </tr>\n",
       "    <tr>\n",
       "        <td>37</td>\n",
       "        <td>ch</td>\n",
       "        <td>China</td>\n",
       "        <td>9596960</td>\n",
       "        <td>9326410</td>\n",
       "        <td>270550</td>\n",
       "        <td>1367485388</td>\n",
       "        <td>0.45</td>\n",
       "        <td>12.49</td>\n",
       "        <td>7.53</td>\n",
       "        <td>0.44</td>\n",
       "    </tr>\n",
       "    <tr>\n",
       "        <td>77</td>\n",
       "        <td>in</td>\n",
       "        <td>India</td>\n",
       "        <td>3287263</td>\n",
       "        <td>2973193</td>\n",
       "        <td>314070</td>\n",
       "        <td>1251695584</td>\n",
       "        <td>1.22</td>\n",
       "        <td>19.55</td>\n",
       "        <td>7.32</td>\n",
       "        <td>0.04</td>\n",
       "    </tr>\n",
       "    <tr>\n",
       "        <td>197</td>\n",
       "        <td>ee</td>\n",
       "        <td>European Union</td>\n",
       "        <td>4324782</td>\n",
       "        <td>None</td>\n",
       "        <td>None</td>\n",
       "        <td>513949445</td>\n",
       "        <td>0.25</td>\n",
       "        <td>10.2</td>\n",
       "        <td>10.2</td>\n",
       "        <td>2.5</td>\n",
       "    </tr>\n",
       "    <tr>\n",
       "        <td>186</td>\n",
       "        <td>us</td>\n",
       "        <td>United States</td>\n",
       "        <td>9826675</td>\n",
       "        <td>9161966</td>\n",
       "        <td>664709</td>\n",
       "        <td>321368864</td>\n",
       "        <td>0.78</td>\n",
       "        <td>12.49</td>\n",
       "        <td>8.15</td>\n",
       "        <td>3.86</td>\n",
       "    </tr>\n",
       "    <tr>\n",
       "        <td>78</td>\n",
       "        <td>id</td>\n",
       "        <td>Indonesia</td>\n",
       "        <td>1904569</td>\n",
       "        <td>1811569</td>\n",
       "        <td>93000</td>\n",
       "        <td>255993674</td>\n",
       "        <td>0.92</td>\n",
       "        <td>16.72</td>\n",
       "        <td>6.37</td>\n",
       "        <td>1.16</td>\n",
       "    </tr>\n",
       "</table>"
      ],
      "text/plain": [
       "[(37, 'ch', 'China', 9596960, 9326410, 270550, 1367485388, 0.45, 12.49, 7.53, 0.44),\n",
       " (77, 'in', 'India', 3287263, 2973193, 314070, 1251695584, 1.22, 19.55, 7.32, 0.04),\n",
       " (197, 'ee', 'European Union', 4324782, None, None, 513949445, 0.25, 10.2, 10.2, 2.5),\n",
       " (186, 'us', 'United States', 9826675, 9161966, 664709, 321368864, 0.78, 12.49, 8.15, 3.86),\n",
       " (78, 'id', 'Indonesia', 1904569, 1811569, 93000, 255993674, 0.92, 16.72, 6.37, 1.16)]"
      ]
     },
     "execution_count": 103,
     "metadata": {},
     "output_type": "execute_result"
    }
   ],
   "source": [
    "\n",
    "%%sql \n",
    "SELECT * from facts\n",
    "where population != 'None' and name !='World'\n",
    "order by population desc\n",
    "limit 5;\n"
   ]
  },
  {
   "cell_type": "code",
   "execution_count": null,
   "metadata": {},
   "outputs": [],
   "source": []
  },
  {
   "cell_type": "code",
   "execution_count": 128,
   "metadata": {},
   "outputs": [
    {
     "name": "stdout",
     "output_type": "stream",
     "text": [
      " * sqlite:///factbook.db\n",
      "Done.\n"
     ]
    },
    {
     "data": {
      "text/html": [
       "<table>\n",
       "    <tr>\n",
       "        <th>min_pop</th>\n",
       "        <th>max_pop</th>\n",
       "        <th>min_pop_growth</th>\n",
       "        <th>max_pop_growth</th>\n",
       "    </tr>\n",
       "    <tr>\n",
       "        <td>0</td>\n",
       "        <td>7256490011</td>\n",
       "        <td>0.0</td>\n",
       "        <td>4.02</td>\n",
       "    </tr>\n",
       "</table>"
      ],
      "text/plain": [
       "[(0, 7256490011, 0.0, 4.02)]"
      ]
     },
     "execution_count": 128,
     "metadata": {},
     "output_type": "execute_result"
    }
   ],
   "source": [
    "%%sql\n",
    "SELECT MIN(population) AS min_pop,\n",
    "       MAX(population) AS max_pop,\n",
    "       MIN(population_growth) AS min_pop_growth,\n",
    "       MAX(population_growth) max_pop_growth \n",
    "FROM facts;\n",
    "\n"
   ]
  },
  {
   "cell_type": "code",
   "execution_count": 127,
   "metadata": {},
   "outputs": [
    {
     "name": "stdout",
     "output_type": "stream",
     "text": [
      " * sqlite:///factbook.db\n",
      "Done.\n",
      " * sqlite:///factbook.db\n",
      "Done.\n"
     ]
    }
   ],
   "source": [
    "#finding the most populas country in the world converting the resultset into dataframe\n",
    "result = %sql SELECT * from facts where population == (SELECT MAX(population) from facts where name!='World')\n",
    "schema = %sql PRAGMA table_info(facts)\n",
    "column = []\n",
    "for row in schema:\n",
    "    column.append(row[1])\n",
    "df = pd.DataFrame(result,columns = column)\n"
   ]
  },
  {
   "cell_type": "code",
   "execution_count": null,
   "metadata": {},
   "outputs": [],
   "source": [
    "## finding the resultset with maximum population growth"
   ]
  },
  {
   "cell_type": "code",
   "execution_count": 129,
   "metadata": {},
   "outputs": [
    {
     "name": "stdout",
     "output_type": "stream",
     "text": [
      " * sqlite:///factbook.db\n",
      "Done.\n"
     ]
    },
    {
     "data": {
      "text/html": [
       "<table>\n",
       "    <tr>\n",
       "        <th>id</th>\n",
       "        <th>code</th>\n",
       "        <th>name</th>\n",
       "        <th>area</th>\n",
       "        <th>area_land</th>\n",
       "        <th>area_water</th>\n",
       "        <th>population</th>\n",
       "        <th>population_growth</th>\n",
       "        <th>birth_rate</th>\n",
       "        <th>death_rate</th>\n",
       "        <th>migration_rate</th>\n",
       "    </tr>\n",
       "    <tr>\n",
       "        <td>162</td>\n",
       "        <td>od</td>\n",
       "        <td>South Sudan</td>\n",
       "        <td>644329</td>\n",
       "        <td>None</td>\n",
       "        <td>None</td>\n",
       "        <td>12042910</td>\n",
       "        <td>4.02</td>\n",
       "        <td>36.91</td>\n",
       "        <td>8.18</td>\n",
       "        <td>11.47</td>\n",
       "    </tr>\n",
       "</table>"
      ],
      "text/plain": [
       "[(162, 'od', 'South Sudan', 644329, None, None, 12042910, 4.02, 36.91, 8.18, 11.47)]"
      ]
     },
     "execution_count": 129,
     "metadata": {},
     "output_type": "execute_result"
    }
   ],
   "source": [
    "%%sql\n",
    "SELECT *\n",
    "From facts\n",
    "where population_growth == (\n",
    "SELECT max(population_growth) from facts)\n"
   ]
  },
  {
   "cell_type": "code",
   "execution_count": 131,
   "metadata": {},
   "outputs": [],
   "source": [
    "## finding the resultset with minimum population growth"
   ]
  },
  {
   "cell_type": "code",
   "execution_count": 134,
   "metadata": {},
   "outputs": [
    {
     "name": "stdout",
     "output_type": "stream",
     "text": [
      " * sqlite:///factbook.db\n",
      "Done.\n"
     ]
    },
    {
     "data": {
      "text/html": [
       "<table>\n",
       "    <tr>\n",
       "        <th>id</th>\n",
       "        <th>code</th>\n",
       "        <th>name</th>\n",
       "        <th>area</th>\n",
       "        <th>area_land</th>\n",
       "        <th>area_water</th>\n",
       "        <th>population</th>\n",
       "        <th>population_growth</th>\n",
       "        <th>birth_rate</th>\n",
       "        <th>death_rate</th>\n",
       "        <th>migration_rate</th>\n",
       "    </tr>\n",
       "    <tr>\n",
       "        <td>190</td>\n",
       "        <td>vt</td>\n",
       "        <td>Holy See (Vatican City)</td>\n",
       "        <td>0</td>\n",
       "        <td>0</td>\n",
       "        <td>0</td>\n",
       "        <td>842</td>\n",
       "        <td>0.0</td>\n",
       "        <td>None</td>\n",
       "        <td>None</td>\n",
       "        <td>None</td>\n",
       "    </tr>\n",
       "    <tr>\n",
       "        <td>200</td>\n",
       "        <td>ck</td>\n",
       "        <td>Cocos (Keeling) Islands</td>\n",
       "        <td>14</td>\n",
       "        <td>14</td>\n",
       "        <td>0</td>\n",
       "        <td>596</td>\n",
       "        <td>0.0</td>\n",
       "        <td>None</td>\n",
       "        <td>None</td>\n",
       "        <td>None</td>\n",
       "    </tr>\n",
       "    <tr>\n",
       "        <td>207</td>\n",
       "        <td>gl</td>\n",
       "        <td>Greenland</td>\n",
       "        <td>2166086</td>\n",
       "        <td>2166086</td>\n",
       "        <td>None</td>\n",
       "        <td>57733</td>\n",
       "        <td>0.0</td>\n",
       "        <td>14.48</td>\n",
       "        <td>8.49</td>\n",
       "        <td>5.98</td>\n",
       "    </tr>\n",
       "    <tr>\n",
       "        <td>238</td>\n",
       "        <td>pc</td>\n",
       "        <td>Pitcairn Islands</td>\n",
       "        <td>47</td>\n",
       "        <td>47</td>\n",
       "        <td>0</td>\n",
       "        <td>48</td>\n",
       "        <td>0.0</td>\n",
       "        <td>None</td>\n",
       "        <td>None</td>\n",
       "        <td>None</td>\n",
       "    </tr>\n",
       "</table>"
      ],
      "text/plain": [
       "[(190, 'vt', 'Holy See (Vatican City)', 0, 0, 0, 842, 0.0, None, None, None),\n",
       " (200, 'ck', 'Cocos (Keeling) Islands', 14, 14, 0, 596, 0.0, None, None, None),\n",
       " (207, 'gl', 'Greenland', 2166086, 2166086, None, 57733, 0.0, 14.48, 8.49, 5.98),\n",
       " (238, 'pc', 'Pitcairn Islands', 47, 47, 0, 48, 0.0, None, None, None)]"
      ]
     },
     "execution_count": 134,
     "metadata": {},
     "output_type": "execute_result"
    }
   ],
   "source": [
    "%%sql\n",
    "SELECT *\n",
    "From facts\n",
    "where population_growth == (\n",
    "SELECT min(population_growth) from facts where birth_rate!='None')"
   ]
  },
  {
   "cell_type": "code",
   "execution_count": 135,
   "metadata": {},
   "outputs": [
    {
     "name": "stdout",
     "output_type": "stream",
     "text": [
      " * sqlite:///factbook.db\n",
      "Done.\n"
     ]
    },
    {
     "data": {
      "text/html": [
       "<table>\n",
       "    <tr>\n",
       "        <th>id</th>\n",
       "        <th>code</th>\n",
       "        <th>name</th>\n",
       "        <th>area</th>\n",
       "        <th>area_land</th>\n",
       "        <th>area_water</th>\n",
       "        <th>population</th>\n",
       "        <th>population_growth</th>\n",
       "        <th>birth_rate</th>\n",
       "        <th>death_rate</th>\n",
       "        <th>migration_rate</th>\n",
       "    </tr>\n",
       "    <tr>\n",
       "        <td>250</td>\n",
       "        <td>ay</td>\n",
       "        <td>Antarctica</td>\n",
       "        <td>None</td>\n",
       "        <td>280000</td>\n",
       "        <td>None</td>\n",
       "        <td>0</td>\n",
       "        <td>None</td>\n",
       "        <td>None</td>\n",
       "        <td>None</td>\n",
       "        <td>None</td>\n",
       "    </tr>\n",
       "</table>"
      ],
      "text/plain": [
       "[(250, 'ay', 'Antarctica', None, 280000, None, 0, None, None, None, None)]"
      ]
     },
     "execution_count": 135,
     "metadata": {},
     "output_type": "execute_result"
    }
   ],
   "source": [
    "%%sql\n",
    "SELECT *\n",
    "FROM facts\n",
    "WHERE population == (SELECT MIN(population)\n",
    "                        FROM facts)"
   ]
  },
  {
   "cell_type": "markdown",
   "metadata": {},
   "source": [
    "### this tell us the countries with most population density \n"
   ]
  },
  {
   "cell_type": "code",
   "execution_count": 209,
   "metadata": {},
   "outputs": [
    {
     "name": "stdout",
     "output_type": "stream",
     "text": [
      " * sqlite:///factbook.db\n",
      "Done.\n"
     ]
    },
    {
     "data": {
      "text/html": [
       "<table>\n",
       "    <tr>\n",
       "        <th>name</th>\n",
       "        <th>area</th>\n",
       "        <th>population</th>\n",
       "        <th>population_growth</th>\n",
       "        <th>population_dens</th>\n",
       "    </tr>\n",
       "    <tr>\n",
       "        <td>Macau</td>\n",
       "        <td>28</td>\n",
       "        <td>592731</td>\n",
       "        <td>0.8</td>\n",
       "        <td>21168</td>\n",
       "    </tr>\n",
       "    <tr>\n",
       "        <td>Monaco</td>\n",
       "        <td>2</td>\n",
       "        <td>30535</td>\n",
       "        <td>0.12</td>\n",
       "        <td>15267</td>\n",
       "    </tr>\n",
       "    <tr>\n",
       "        <td>Singapore</td>\n",
       "        <td>697</td>\n",
       "        <td>5674472</td>\n",
       "        <td>1.89</td>\n",
       "        <td>8141</td>\n",
       "    </tr>\n",
       "    <tr>\n",
       "        <td>Hong Kong</td>\n",
       "        <td>1108</td>\n",
       "        <td>7141106</td>\n",
       "        <td>0.38</td>\n",
       "        <td>6445</td>\n",
       "    </tr>\n",
       "    <tr>\n",
       "        <td>Gaza Strip</td>\n",
       "        <td>360</td>\n",
       "        <td>1869055</td>\n",
       "        <td>2.81</td>\n",
       "        <td>5191</td>\n",
       "    </tr>\n",
       "    <tr>\n",
       "        <td>Gibraltar</td>\n",
       "        <td>6</td>\n",
       "        <td>29258</td>\n",
       "        <td>0.24</td>\n",
       "        <td>4876</td>\n",
       "    </tr>\n",
       "    <tr>\n",
       "        <td>Bahrain</td>\n",
       "        <td>760</td>\n",
       "        <td>1346613</td>\n",
       "        <td>2.41</td>\n",
       "        <td>1771</td>\n",
       "    </tr>\n",
       "    <tr>\n",
       "        <td>Maldives</td>\n",
       "        <td>298</td>\n",
       "        <td>393253</td>\n",
       "        <td>0.08</td>\n",
       "        <td>1319</td>\n",
       "    </tr>\n",
       "    <tr>\n",
       "        <td>Malta</td>\n",
       "        <td>316</td>\n",
       "        <td>413965</td>\n",
       "        <td>0.31</td>\n",
       "        <td>1310</td>\n",
       "    </tr>\n",
       "    <tr>\n",
       "        <td>Bermuda</td>\n",
       "        <td>54</td>\n",
       "        <td>70196</td>\n",
       "        <td>0.5</td>\n",
       "        <td>1299</td>\n",
       "    </tr>\n",
       "    <tr>\n",
       "        <td>Sint Maarten</td>\n",
       "        <td>34</td>\n",
       "        <td>39689</td>\n",
       "        <td>1.51</td>\n",
       "        <td>1167</td>\n",
       "    </tr>\n",
       "    <tr>\n",
       "        <td>Bangladesh</td>\n",
       "        <td>148460</td>\n",
       "        <td>168957745</td>\n",
       "        <td>1.6</td>\n",
       "        <td>1138</td>\n",
       "    </tr>\n",
       "    <tr>\n",
       "        <td>Guernsey</td>\n",
       "        <td>78</td>\n",
       "        <td>66080</td>\n",
       "        <td>0.34</td>\n",
       "        <td>847</td>\n",
       "    </tr>\n",
       "    <tr>\n",
       "        <td>Jersey</td>\n",
       "        <td>116</td>\n",
       "        <td>97294</td>\n",
       "        <td>0.8</td>\n",
       "        <td>838</td>\n",
       "    </tr>\n",
       "    <tr>\n",
       "        <td>Barbados</td>\n",
       "        <td>430</td>\n",
       "        <td>290604</td>\n",
       "        <td>0.31</td>\n",
       "        <td>675</td>\n",
       "    </tr>\n",
       "    <tr>\n",
       "        <td>Mauritius</td>\n",
       "        <td>2040</td>\n",
       "        <td>1339827</td>\n",
       "        <td>0.64</td>\n",
       "        <td>656</td>\n",
       "    </tr>\n",
       "    <tr>\n",
       "        <td>Taiwan</td>\n",
       "        <td>35980</td>\n",
       "        <td>23415126</td>\n",
       "        <td>0.23</td>\n",
       "        <td>650</td>\n",
       "    </tr>\n",
       "    <tr>\n",
       "        <td>Aruba</td>\n",
       "        <td>180</td>\n",
       "        <td>112162</td>\n",
       "        <td>1.33</td>\n",
       "        <td>623</td>\n",
       "    </tr>\n",
       "    <tr>\n",
       "        <td>Lebanon</td>\n",
       "        <td>10400</td>\n",
       "        <td>6184701</td>\n",
       "        <td>0.86</td>\n",
       "        <td>594</td>\n",
       "    </tr>\n",
       "    <tr>\n",
       "        <td>Saint Martin</td>\n",
       "        <td>54</td>\n",
       "        <td>31754</td>\n",
       "        <td>None</td>\n",
       "        <td>588</td>\n",
       "    </tr>\n",
       "    <tr>\n",
       "        <td>San Marino</td>\n",
       "        <td>61</td>\n",
       "        <td>33020</td>\n",
       "        <td>0.82</td>\n",
       "        <td>541</td>\n",
       "    </tr>\n",
       "    <tr>\n",
       "        <td>Korea, South</td>\n",
       "        <td>99720</td>\n",
       "        <td>49115196</td>\n",
       "        <td>0.14</td>\n",
       "        <td>492</td>\n",
       "    </tr>\n",
       "    <tr>\n",
       "        <td>Rwanda</td>\n",
       "        <td>26338</td>\n",
       "        <td>12661733</td>\n",
       "        <td>2.56</td>\n",
       "        <td>480</td>\n",
       "    </tr>\n",
       "    <tr>\n",
       "        <td>West Bank</td>\n",
       "        <td>5860</td>\n",
       "        <td>2785366</td>\n",
       "        <td>1.95</td>\n",
       "        <td>475</td>\n",
       "    </tr>\n",
       "    <tr>\n",
       "        <td>Nauru</td>\n",
       "        <td>21</td>\n",
       "        <td>9540</td>\n",
       "        <td>0.55</td>\n",
       "        <td>454</td>\n",
       "    </tr>\n",
       "    <tr>\n",
       "        <td>Tuvalu</td>\n",
       "        <td>26</td>\n",
       "        <td>10869</td>\n",
       "        <td>0.82</td>\n",
       "        <td>418</td>\n",
       "    </tr>\n",
       "    <tr>\n",
       "        <td>Netherlands</td>\n",
       "        <td>41543</td>\n",
       "        <td>16947904</td>\n",
       "        <td>0.41</td>\n",
       "        <td>407</td>\n",
       "    </tr>\n",
       "    <tr>\n",
       "        <td>Marshall Islands</td>\n",
       "        <td>181</td>\n",
       "        <td>72191</td>\n",
       "        <td>1.66</td>\n",
       "        <td>398</td>\n",
       "    </tr>\n",
       "    <tr>\n",
       "        <td>Israel</td>\n",
       "        <td>20770</td>\n",
       "        <td>8049314</td>\n",
       "        <td>1.56</td>\n",
       "        <td>387</td>\n",
       "    </tr>\n",
       "    <tr>\n",
       "        <td>Burundi</td>\n",
       "        <td>27830</td>\n",
       "        <td>10742276</td>\n",
       "        <td>3.28</td>\n",
       "        <td>385</td>\n",
       "    </tr>\n",
       "    <tr>\n",
       "        <td>India</td>\n",
       "        <td>3287263</td>\n",
       "        <td>1251695584</td>\n",
       "        <td>1.22</td>\n",
       "        <td>380</td>\n",
       "    </tr>\n",
       "    <tr>\n",
       "        <td>Belgium</td>\n",
       "        <td>30528</td>\n",
       "        <td>11323973</td>\n",
       "        <td>0.76</td>\n",
       "        <td>370</td>\n",
       "    </tr>\n",
       "    <tr>\n",
       "        <td>Haiti</td>\n",
       "        <td>27750</td>\n",
       "        <td>10110019</td>\n",
       "        <td>1.17</td>\n",
       "        <td>364</td>\n",
       "    </tr>\n",
       "    <tr>\n",
       "        <td>Comoros</td>\n",
       "        <td>2235</td>\n",
       "        <td>780971</td>\n",
       "        <td>1.77</td>\n",
       "        <td>349</td>\n",
       "    </tr>\n",
       "    <tr>\n",
       "        <td>Philippines</td>\n",
       "        <td>300000</td>\n",
       "        <td>100998376</td>\n",
       "        <td>1.61</td>\n",
       "        <td>336</td>\n",
       "    </tr>\n",
       "    <tr>\n",
       "        <td>Sri Lanka</td>\n",
       "        <td>65610</td>\n",
       "        <td>22053488</td>\n",
       "        <td>0.84</td>\n",
       "        <td>336</td>\n",
       "    </tr>\n",
       "    <tr>\n",
       "        <td>Japan</td>\n",
       "        <td>377915</td>\n",
       "        <td>126919659</td>\n",
       "        <td>0.16</td>\n",
       "        <td>335</td>\n",
       "    </tr>\n",
       "    <tr>\n",
       "        <td>Curacao</td>\n",
       "        <td>444</td>\n",
       "        <td>148406</td>\n",
       "        <td>0.43</td>\n",
       "        <td>334</td>\n",
       "    </tr>\n",
       "    <tr>\n",
       "        <td>Grenada</td>\n",
       "        <td>344</td>\n",
       "        <td>110694</td>\n",
       "        <td>0.48</td>\n",
       "        <td>321</td>\n",
       "    </tr>\n",
       "    <tr>\n",
       "        <td>Guam</td>\n",
       "        <td>544</td>\n",
       "        <td>161785</td>\n",
       "        <td>0.54</td>\n",
       "        <td>297</td>\n",
       "    </tr>\n",
       "    <tr>\n",
       "        <td>El Salvador</td>\n",
       "        <td>21041</td>\n",
       "        <td>6141350</td>\n",
       "        <td>0.25</td>\n",
       "        <td>291</td>\n",
       "    </tr>\n",
       "    <tr>\n",
       "        <td>Vietnam</td>\n",
       "        <td>331210</td>\n",
       "        <td>94348835</td>\n",
       "        <td>0.97</td>\n",
       "        <td>284</td>\n",
       "    </tr>\n",
       "    <tr>\n",
       "        <td>American Samoa</td>\n",
       "        <td>199</td>\n",
       "        <td>54343</td>\n",
       "        <td>0.3</td>\n",
       "        <td>273</td>\n",
       "    </tr>\n",
       "    <tr>\n",
       "        <td>Jamaica</td>\n",
       "        <td>10991</td>\n",
       "        <td>2950210</td>\n",
       "        <td>0.68</td>\n",
       "        <td>268</td>\n",
       "    </tr>\n",
       "    <tr>\n",
       "        <td>Saint Lucia</td>\n",
       "        <td>616</td>\n",
       "        <td>163922</td>\n",
       "        <td>0.34</td>\n",
       "        <td>266</td>\n",
       "    </tr>\n",
       "    <tr>\n",
       "        <td>Saint Vincent and the Grenadines</td>\n",
       "        <td>389</td>\n",
       "        <td>102627</td>\n",
       "        <td>0.28</td>\n",
       "        <td>263</td>\n",
       "    </tr>\n",
       "    <tr>\n",
       "        <td>United Kingdom</td>\n",
       "        <td>243610</td>\n",
       "        <td>64088222</td>\n",
       "        <td>0.54</td>\n",
       "        <td>263</td>\n",
       "    </tr>\n",
       "    <tr>\n",
       "        <td>Puerto Rico</td>\n",
       "        <td>13791</td>\n",
       "        <td>3598357</td>\n",
       "        <td>0.6</td>\n",
       "        <td>260</td>\n",
       "    </tr>\n",
       "    <tr>\n",
       "        <td>Pakistan</td>\n",
       "        <td>796095</td>\n",
       "        <td>199085847</td>\n",
       "        <td>1.46</td>\n",
       "        <td>250</td>\n",
       "    </tr>\n",
       "    <tr>\n",
       "        <td>Trinidad and Tobago</td>\n",
       "        <td>5128</td>\n",
       "        <td>1222363</td>\n",
       "        <td>0.13</td>\n",
       "        <td>238</td>\n",
       "    </tr>\n",
       "    <tr>\n",
       "        <td>Liechtenstein</td>\n",
       "        <td>160</td>\n",
       "        <td>37624</td>\n",
       "        <td>0.84</td>\n",
       "        <td>235</td>\n",
       "    </tr>\n",
       "    <tr>\n",
       "        <td>Germany</td>\n",
       "        <td>357022</td>\n",
       "        <td>80854408</td>\n",
       "        <td>0.17</td>\n",
       "        <td>226</td>\n",
       "    </tr>\n",
       "    <tr>\n",
       "        <td>British Virgin Islands</td>\n",
       "        <td>151</td>\n",
       "        <td>33454</td>\n",
       "        <td>2.32</td>\n",
       "        <td>221</td>\n",
       "    </tr>\n",
       "    <tr>\n",
       "        <td>Luxembourg</td>\n",
       "        <td>2586</td>\n",
       "        <td>570252</td>\n",
       "        <td>2.13</td>\n",
       "        <td>220</td>\n",
       "    </tr>\n",
       "    <tr>\n",
       "        <td>Dominican Republic</td>\n",
       "        <td>48670</td>\n",
       "        <td>10478756</td>\n",
       "        <td>1.23</td>\n",
       "        <td>215</td>\n",
       "    </tr>\n",
       "    <tr>\n",
       "        <td>Nepal</td>\n",
       "        <td>147181</td>\n",
       "        <td>31551305</td>\n",
       "        <td>1.79</td>\n",
       "        <td>214</td>\n",
       "    </tr>\n",
       "    <tr>\n",
       "        <td>Cayman Islands</td>\n",
       "        <td>264</td>\n",
       "        <td>56092</td>\n",
       "        <td>2.1</td>\n",
       "        <td>212</td>\n",
       "    </tr>\n",
       "    <tr>\n",
       "        <td>Antigua and Barbuda</td>\n",
       "        <td>442</td>\n",
       "        <td>92436</td>\n",
       "        <td>1.24</td>\n",
       "        <td>209</td>\n",
       "    </tr>\n",
       "    <tr>\n",
       "        <td>Korea, North</td>\n",
       "        <td>120538</td>\n",
       "        <td>24983205</td>\n",
       "        <td>0.53</td>\n",
       "        <td>207</td>\n",
       "    </tr>\n",
       "    <tr>\n",
       "        <td>Italy</td>\n",
       "        <td>301340</td>\n",
       "        <td>61855120</td>\n",
       "        <td>0.27</td>\n",
       "        <td>205</td>\n",
       "    </tr>\n",
       "    <tr>\n",
       "        <td>Seychelles</td>\n",
       "        <td>455</td>\n",
       "        <td>92430</td>\n",
       "        <td>0.83</td>\n",
       "        <td>203</td>\n",
       "    </tr>\n",
       "    <tr>\n",
       "        <td>Sao Tome and Principe</td>\n",
       "        <td>964</td>\n",
       "        <td>194006</td>\n",
       "        <td>1.84</td>\n",
       "        <td>201</td>\n",
       "    </tr>\n",
       "    <tr>\n",
       "        <td>Saint Kitts and Nevis</td>\n",
       "        <td>261</td>\n",
       "        <td>51936</td>\n",
       "        <td>0.76</td>\n",
       "        <td>198</td>\n",
       "    </tr>\n",
       "    <tr>\n",
       "        <td>Nigeria</td>\n",
       "        <td>923768</td>\n",
       "        <td>181562056</td>\n",
       "        <td>2.45</td>\n",
       "        <td>196</td>\n",
       "    </tr>\n",
       "    <tr>\n",
       "        <td>Switzerland</td>\n",
       "        <td>41277</td>\n",
       "        <td>8121830</td>\n",
       "        <td>0.71</td>\n",
       "        <td>196</td>\n",
       "    </tr>\n",
       "    <tr>\n",
       "        <td>Qatar</td>\n",
       "        <td>11586</td>\n",
       "        <td>2194817</td>\n",
       "        <td>3.07</td>\n",
       "        <td>189</td>\n",
       "    </tr>\n",
       "    <tr>\n",
       "        <td>Andorra</td>\n",
       "        <td>468</td>\n",
       "        <td>85580</td>\n",
       "        <td>0.12</td>\n",
       "        <td>182</td>\n",
       "    </tr>\n",
       "    <tr>\n",
       "        <td>Anguilla</td>\n",
       "        <td>91</td>\n",
       "        <td>16418</td>\n",
       "        <td>2.03</td>\n",
       "        <td>180</td>\n",
       "    </tr>\n",
       "    <tr>\n",
       "        <td>Gambia, The</td>\n",
       "        <td>11300</td>\n",
       "        <td>1967709</td>\n",
       "        <td>2.16</td>\n",
       "        <td>174</td>\n",
       "    </tr>\n",
       "    <tr>\n",
       "        <td>Kosovo</td>\n",
       "        <td>10887</td>\n",
       "        <td>1870981</td>\n",
       "        <td>None</td>\n",
       "        <td>171</td>\n",
       "    </tr>\n",
       "    <tr>\n",
       "        <td>Kuwait</td>\n",
       "        <td>17818</td>\n",
       "        <td>2788534</td>\n",
       "        <td>1.62</td>\n",
       "        <td>156</td>\n",
       "    </tr>\n",
       "    <tr>\n",
       "        <td>Uganda</td>\n",
       "        <td>241038</td>\n",
       "        <td>37101745</td>\n",
       "        <td>3.24</td>\n",
       "        <td>153</td>\n",
       "    </tr>\n",
       "    <tr>\n",
       "        <td>Isle of Man</td>\n",
       "        <td>572</td>\n",
       "        <td>87545</td>\n",
       "        <td>0.76</td>\n",
       "        <td>153</td>\n",
       "    </tr>\n",
       "    <tr>\n",
       "        <td>Malawi</td>\n",
       "        <td>118484</td>\n",
       "        <td>17964697</td>\n",
       "        <td>3.32</td>\n",
       "        <td>151</td>\n",
       "    </tr>\n",
       "    <tr>\n",
       "        <td>Micronesia, Federated States of</td>\n",
       "        <td>702</td>\n",
       "        <td>105216</td>\n",
       "        <td>0.46</td>\n",
       "        <td>149</td>\n",
       "    </tr>\n",
       "    <tr>\n",
       "        <td>China</td>\n",
       "        <td>9596960</td>\n",
       "        <td>1367485388</td>\n",
       "        <td>0.45</td>\n",
       "        <td>142</td>\n",
       "    </tr>\n",
       "    <tr>\n",
       "        <td>Tonga</td>\n",
       "        <td>747</td>\n",
       "        <td>106501</td>\n",
       "        <td>0.03</td>\n",
       "        <td>142</td>\n",
       "    </tr>\n",
       "    <tr>\n",
       "        <td>Guatemala</td>\n",
       "        <td>108889</td>\n",
       "        <td>14918999</td>\n",
       "        <td>1.82</td>\n",
       "        <td>137</td>\n",
       "    </tr>\n",
       "    <tr>\n",
       "        <td>Cabo Verde</td>\n",
       "        <td>4033</td>\n",
       "        <td>545993</td>\n",
       "        <td>1.36</td>\n",
       "        <td>135</td>\n",
       "    </tr>\n",
       "    <tr>\n",
       "        <td>Czech Republic</td>\n",
       "        <td>78867</td>\n",
       "        <td>10644842</td>\n",
       "        <td>0.16</td>\n",
       "        <td>134</td>\n",
       "    </tr>\n",
       "    <tr>\n",
       "        <td>Indonesia</td>\n",
       "        <td>1904569</td>\n",
       "        <td>255993674</td>\n",
       "        <td>0.92</td>\n",
       "        <td>134</td>\n",
       "    </tr>\n",
       "    <tr>\n",
       "        <td>Thailand</td>\n",
       "        <td>513120</td>\n",
       "        <td>67976405</td>\n",
       "        <td>0.34</td>\n",
       "        <td>132</td>\n",
       "    </tr>\n",
       "    <tr>\n",
       "        <td>Togo</td>\n",
       "        <td>56785</td>\n",
       "        <td>7552318</td>\n",
       "        <td>2.69</td>\n",
       "        <td>132</td>\n",
       "    </tr>\n",
       "    <tr>\n",
       "        <td>Kiribati</td>\n",
       "        <td>811</td>\n",
       "        <td>105711</td>\n",
       "        <td>1.15</td>\n",
       "        <td>130</td>\n",
       "    </tr>\n",
       "    <tr>\n",
       "        <td>Denmark</td>\n",
       "        <td>43094</td>\n",
       "        <td>5581503</td>\n",
       "        <td>0.22</td>\n",
       "        <td>129</td>\n",
       "    </tr>\n",
       "    <tr>\n",
       "        <td>Cyprus</td>\n",
       "        <td>9251</td>\n",
       "        <td>1189197</td>\n",
       "        <td>1.43</td>\n",
       "        <td>128</td>\n",
       "    </tr>\n",
       "    <tr>\n",
       "        <td>Akrotiri</td>\n",
       "        <td>123</td>\n",
       "        <td>15700</td>\n",
       "        <td>None</td>\n",
       "        <td>127</td>\n",
       "    </tr>\n",
       "    <tr>\n",
       "        <td>Poland</td>\n",
       "        <td>312685</td>\n",
       "        <td>38562189</td>\n",
       "        <td>0.09</td>\n",
       "        <td>123</td>\n",
       "    </tr>\n",
       "    <tr>\n",
       "        <td>Dhekelia</td>\n",
       "        <td>130</td>\n",
       "        <td>15700</td>\n",
       "        <td>None</td>\n",
       "        <td>120</td>\n",
       "    </tr>\n",
       "    <tr>\n",
       "        <td>European Union</td>\n",
       "        <td>4324782</td>\n",
       "        <td>513949445</td>\n",
       "        <td>0.25</td>\n",
       "        <td>118</td>\n",
       "    </tr>\n",
       "    <tr>\n",
       "        <td>Portugal</td>\n",
       "        <td>92090</td>\n",
       "        <td>10825309</td>\n",
       "        <td>0.09</td>\n",
       "        <td>117</td>\n",
       "    </tr>\n",
       "    <tr>\n",
       "        <td>Azerbaijan</td>\n",
       "        <td>86600</td>\n",
       "        <td>9780780</td>\n",
       "        <td>0.96</td>\n",
       "        <td>112</td>\n",
       "    </tr>\n",
       "    <tr>\n",
       "        <td>Northern Mariana Islands</td>\n",
       "        <td>464</td>\n",
       "        <td>52344</td>\n",
       "        <td>2.18</td>\n",
       "        <td>112</td>\n",
       "    </tr>\n",
       "    <tr>\n",
       "        <td>Slovakia</td>\n",
       "        <td>49035</td>\n",
       "        <td>5445027</td>\n",
       "        <td>0.02</td>\n",
       "        <td>111</td>\n",
       "    </tr>\n",
       "    <tr>\n",
       "        <td>Tokelau</td>\n",
       "        <td>12</td>\n",
       "        <td>1337</td>\n",
       "        <td>0.01</td>\n",
       "        <td>111</td>\n",
       "    </tr>\n",
       "    <tr>\n",
       "        <td>Ghana</td>\n",
       "        <td>238533</td>\n",
       "        <td>26327649</td>\n",
       "        <td>2.18</td>\n",
       "        <td>110</td>\n",
       "    </tr>\n",
       "    <tr>\n",
       "        <td>Wallis and Futuna</td>\n",
       "        <td>142</td>\n",
       "        <td>15613</td>\n",
       "        <td>0.33</td>\n",
       "        <td>109</td>\n",
       "    </tr>\n",
       "    <tr>\n",
       "        <td>Hungary</td>\n",
       "        <td>93028</td>\n",
       "        <td>9897541</td>\n",
       "        <td>0.22</td>\n",
       "        <td>106</td>\n",
       "    </tr>\n",
       "    <tr>\n",
       "        <td>Albania</td>\n",
       "        <td>28748</td>\n",
       "        <td>3029278</td>\n",
       "        <td>0.3</td>\n",
       "        <td>105</td>\n",
       "    </tr>\n",
       "    <tr>\n",
       "        <td>Moldova</td>\n",
       "        <td>33851</td>\n",
       "        <td>3546847</td>\n",
       "        <td>1.03</td>\n",
       "        <td>104</td>\n",
       "    </tr>\n",
       "    <tr>\n",
       "        <td>Austria</td>\n",
       "        <td>83871</td>\n",
       "        <td>8665550</td>\n",
       "        <td>0.55</td>\n",
       "        <td>103</td>\n",
       "    </tr>\n",
       "    <tr>\n",
       "        <td>France</td>\n",
       "        <td>643801</td>\n",
       "        <td>66553766</td>\n",
       "        <td>0.43</td>\n",
       "        <td>103</td>\n",
       "    </tr>\n",
       "    <tr>\n",
       "        <td>Armenia</td>\n",
       "        <td>29743</td>\n",
       "        <td>3056382</td>\n",
       "        <td>0.15</td>\n",
       "        <td>102</td>\n",
       "    </tr>\n",
       "    <tr>\n",
       "        <td>Turkey</td>\n",
       "        <td>783562</td>\n",
       "        <td>79414269</td>\n",
       "        <td>1.26</td>\n",
       "        <td>101</td>\n",
       "    </tr>\n",
       "    <tr>\n",
       "        <td>Cuba</td>\n",
       "        <td>110860</td>\n",
       "        <td>11031433</td>\n",
       "        <td>0.15</td>\n",
       "        <td>99</td>\n",
       "    </tr>\n",
       "    <tr>\n",
       "        <td>Dominica</td>\n",
       "        <td>751</td>\n",
       "        <td>73607</td>\n",
       "        <td>0.21</td>\n",
       "        <td>98</td>\n",
       "    </tr>\n",
       "    <tr>\n",
       "        <td>Slovenia</td>\n",
       "        <td>20273</td>\n",
       "        <td>1983412</td>\n",
       "        <td>0.26</td>\n",
       "        <td>97</td>\n",
       "    </tr>\n",
       "    <tr>\n",
       "        <td>Spain</td>\n",
       "        <td>505370</td>\n",
       "        <td>48146134</td>\n",
       "        <td>0.89</td>\n",
       "        <td>95</td>\n",
       "    </tr>\n",
       "    <tr>\n",
       "        <td>Costa Rica</td>\n",
       "        <td>51100</td>\n",
       "        <td>4814144</td>\n",
       "        <td>1.22</td>\n",
       "        <td>94</td>\n",
       "    </tr>\n",
       "    <tr>\n",
       "        <td>Benin</td>\n",
       "        <td>112622</td>\n",
       "        <td>10448647</td>\n",
       "        <td>2.78</td>\n",
       "        <td>92</td>\n",
       "    </tr>\n",
       "    <tr>\n",
       "        <td>Malaysia</td>\n",
       "        <td>329847</td>\n",
       "        <td>30513848</td>\n",
       "        <td>1.44</td>\n",
       "        <td>92</td>\n",
       "    </tr>\n",
       "    <tr>\n",
       "        <td>Serbia</td>\n",
       "        <td>77474</td>\n",
       "        <td>7176794</td>\n",
       "        <td>0.46</td>\n",
       "        <td>92</td>\n",
       "    </tr>\n",
       "    <tr>\n",
       "        <td>Syria</td>\n",
       "        <td>185180</td>\n",
       "        <td>17064854</td>\n",
       "        <td>0.16</td>\n",
       "        <td>92</td>\n",
       "    </tr>\n",
       "    <tr>\n",
       "        <td>Ethiopia</td>\n",
       "        <td>1104300</td>\n",
       "        <td>99465819</td>\n",
       "        <td>2.89</td>\n",
       "        <td>90</td>\n",
       "    </tr>\n",
       "    <tr>\n",
       "        <td>Jordan</td>\n",
       "        <td>89342</td>\n",
       "        <td>8117564</td>\n",
       "        <td>0.83</td>\n",
       "        <td>90</td>\n",
       "    </tr>\n",
       "    <tr>\n",
       "        <td>Romania</td>\n",
       "        <td>238391</td>\n",
       "        <td>21666350</td>\n",
       "        <td>0.3</td>\n",
       "        <td>90</td>\n",
       "    </tr>\n",
       "    <tr>\n",
       "        <td>Egypt</td>\n",
       "        <td>1001450</td>\n",
       "        <td>88487396</td>\n",
       "        <td>1.79</td>\n",
       "        <td>88</td>\n",
       "    </tr>\n",
       "    <tr>\n",
       "        <td>Cambodia</td>\n",
       "        <td>181035</td>\n",
       "        <td>15708756</td>\n",
       "        <td>1.58</td>\n",
       "        <td>86</td>\n",
       "    </tr>\n",
       "    <tr>\n",
       "        <td>Iraq</td>\n",
       "        <td>438317</td>\n",
       "        <td>37056169</td>\n",
       "        <td>2.93</td>\n",
       "        <td>84</td>\n",
       "    </tr>\n",
       "    <tr>\n",
       "        <td>Burma</td>\n",
       "        <td>676578</td>\n",
       "        <td>56320206</td>\n",
       "        <td>1.01</td>\n",
       "        <td>83</td>\n",
       "    </tr>\n",
       "    <tr>\n",
       "        <td>Swaziland</td>\n",
       "        <td>17364</td>\n",
       "        <td>1435613</td>\n",
       "        <td>1.11</td>\n",
       "        <td>82</td>\n",
       "    </tr>\n",
       "    <tr>\n",
       "        <td>Timor-Leste</td>\n",
       "        <td>14874</td>\n",
       "        <td>1231116</td>\n",
       "        <td>2.42</td>\n",
       "        <td>82</td>\n",
       "    </tr>\n",
       "    <tr>\n",
       "        <td>Greece</td>\n",
       "        <td>131957</td>\n",
       "        <td>10775643</td>\n",
       "        <td>0.01</td>\n",
       "        <td>81</td>\n",
       "    </tr>\n",
       "    <tr>\n",
       "        <td>Macedonia</td>\n",
       "        <td>25713</td>\n",
       "        <td>2096015</td>\n",
       "        <td>0.2</td>\n",
       "        <td>81</td>\n",
       "    </tr>\n",
       "    <tr>\n",
       "        <td>Sierra Leone</td>\n",
       "        <td>71740</td>\n",
       "        <td>5879098</td>\n",
       "        <td>2.35</td>\n",
       "        <td>81</td>\n",
       "    </tr>\n",
       "    <tr>\n",
       "        <td>Kenya</td>\n",
       "        <td>580367</td>\n",
       "        <td>45925301</td>\n",
       "        <td>1.93</td>\n",
       "        <td>79</td>\n",
       "    </tr>\n",
       "    <tr>\n",
       "        <td>Croatia</td>\n",
       "        <td>56594</td>\n",
       "        <td>4464844</td>\n",
       "        <td>0.13</td>\n",
       "        <td>78</td>\n",
       "    </tr>\n",
       "    <tr>\n",
       "        <td>Honduras</td>\n",
       "        <td>112090</td>\n",
       "        <td>8746673</td>\n",
       "        <td>1.68</td>\n",
       "        <td>78</td>\n",
       "    </tr>\n",
       "    <tr>\n",
       "        <td>Bosnia and Herzegovina</td>\n",
       "        <td>51197</td>\n",
       "        <td>3867055</td>\n",
       "        <td>0.13</td>\n",
       "        <td>75</td>\n",
       "    </tr>\n",
       "    <tr>\n",
       "        <td>Brunei</td>\n",
       "        <td>5765</td>\n",
       "        <td>429646</td>\n",
       "        <td>1.62</td>\n",
       "        <td>74</td>\n",
       "    </tr>\n",
       "    <tr>\n",
       "        <td>Morocco</td>\n",
       "        <td>446550</td>\n",
       "        <td>33322699</td>\n",
       "        <td>1.0</td>\n",
       "        <td>74</td>\n",
       "    </tr>\n",
       "    <tr>\n",
       "        <td>Ukraine</td>\n",
       "        <td>603550</td>\n",
       "        <td>44429471</td>\n",
       "        <td>0.6</td>\n",
       "        <td>73</td>\n",
       "    </tr>\n",
       "    <tr>\n",
       "        <td>Cote d&#x27;Ivoire</td>\n",
       "        <td>322463</td>\n",
       "        <td>23295302</td>\n",
       "        <td>1.91</td>\n",
       "        <td>72</td>\n",
       "    </tr>\n",
       "    <tr>\n",
       "        <td>Senegal</td>\n",
       "        <td>196722</td>\n",
       "        <td>13975834</td>\n",
       "        <td>2.45</td>\n",
       "        <td>71</td>\n",
       "    </tr>\n",
       "    <tr>\n",
       "        <td>Georgia</td>\n",
       "        <td>69700</td>\n",
       "        <td>4931226</td>\n",
       "        <td>0.08</td>\n",
       "        <td>70</td>\n",
       "    </tr>\n",
       "    <tr>\n",
       "        <td>Burkina Faso</td>\n",
       "        <td>274200</td>\n",
       "        <td>18931686</td>\n",
       "        <td>3.03</td>\n",
       "        <td>69</td>\n",
       "    </tr>\n",
       "    <tr>\n",
       "        <td>Ireland</td>\n",
       "        <td>70273</td>\n",
       "        <td>4892305</td>\n",
       "        <td>1.25</td>\n",
       "        <td>69</td>\n",
       "    </tr>\n",
       "    <tr>\n",
       "        <td>Samoa</td>\n",
       "        <td>2831</td>\n",
       "        <td>197773</td>\n",
       "        <td>0.58</td>\n",
       "        <td>69</td>\n",
       "    </tr>\n",
       "    <tr>\n",
       "        <td>United Arab Emirates</td>\n",
       "        <td>83600</td>\n",
       "        <td>5779760</td>\n",
       "        <td>2.58</td>\n",
       "        <td>69</td>\n",
       "    </tr>\n",
       "    <tr>\n",
       "        <td>Tunisia</td>\n",
       "        <td>163610</td>\n",
       "        <td>11037225</td>\n",
       "        <td>0.89</td>\n",
       "        <td>67</td>\n",
       "    </tr>\n",
       "    <tr>\n",
       "        <td>French Polynesia</td>\n",
       "        <td>4167</td>\n",
       "        <td>282703</td>\n",
       "        <td>0.94</td>\n",
       "        <td>67</td>\n",
       "    </tr>\n",
       "    <tr>\n",
       "        <td>Uzbekistan</td>\n",
       "        <td>447400</td>\n",
       "        <td>29199942</td>\n",
       "        <td>0.93</td>\n",
       "        <td>65</td>\n",
       "    </tr>\n",
       "    <tr>\n",
       "        <td>Bulgaria</td>\n",
       "        <td>110879</td>\n",
       "        <td>7186893</td>\n",
       "        <td>0.58</td>\n",
       "        <td>64</td>\n",
       "    </tr>\n",
       "    <tr>\n",
       "        <td>Lesotho</td>\n",
       "        <td>30355</td>\n",
       "        <td>1947701</td>\n",
       "        <td>0.32</td>\n",
       "        <td>64</td>\n",
       "    </tr>\n",
       "    <tr>\n",
       "        <td>Mexico</td>\n",
       "        <td>1964375</td>\n",
       "        <td>121736809</td>\n",
       "        <td>1.18</td>\n",
       "        <td>61</td>\n",
       "    </tr>\n",
       "    <tr>\n",
       "        <td>Norfolk Island</td>\n",
       "        <td>36</td>\n",
       "        <td>2210</td>\n",
       "        <td>0.01</td>\n",
       "        <td>61</td>\n",
       "    </tr>\n",
       "    <tr>\n",
       "        <td>Tajikistan</td>\n",
       "        <td>144100</td>\n",
       "        <td>8191958</td>\n",
       "        <td>1.71</td>\n",
       "        <td>56</td>\n",
       "    </tr>\n",
       "    <tr>\n",
       "        <td>Ecuador</td>\n",
       "        <td>283561</td>\n",
       "        <td>15868396</td>\n",
       "        <td>1.35</td>\n",
       "        <td>55</td>\n",
       "    </tr>\n",
       "    <tr>\n",
       "        <td>Eritrea</td>\n",
       "        <td>117600</td>\n",
       "        <td>6527689</td>\n",
       "        <td>2.25</td>\n",
       "        <td>55</td>\n",
       "    </tr>\n",
       "    <tr>\n",
       "        <td>Virgin Islands</td>\n",
       "        <td>1910</td>\n",
       "        <td>103574</td>\n",
       "        <td>0.59</td>\n",
       "        <td>54</td>\n",
       "    </tr>\n",
       "    <tr>\n",
       "        <td>Tanzania</td>\n",
       "        <td>947300</td>\n",
       "        <td>51045882</td>\n",
       "        <td>2.79</td>\n",
       "        <td>53</td>\n",
       "    </tr>\n",
       "    <tr>\n",
       "        <td>Turks and Caicos Islands</td>\n",
       "        <td>948</td>\n",
       "        <td>50280</td>\n",
       "        <td>2.3</td>\n",
       "        <td>53</td>\n",
       "    </tr>\n",
       "    <tr>\n",
       "        <td>Montserrat</td>\n",
       "        <td>102</td>\n",
       "        <td>5241</td>\n",
       "        <td>0.5</td>\n",
       "        <td>51</td>\n",
       "    </tr>\n",
       "    <tr>\n",
       "        <td>Yemen</td>\n",
       "        <td>527968</td>\n",
       "        <td>26737317</td>\n",
       "        <td>2.47</td>\n",
       "        <td>50</td>\n",
       "    </tr>\n",
       "    <tr>\n",
       "        <td>Afghanistan</td>\n",
       "        <td>652230</td>\n",
       "        <td>32564342</td>\n",
       "        <td>2.32</td>\n",
       "        <td>49</td>\n",
       "    </tr>\n",
       "    <tr>\n",
       "        <td>Cameroon</td>\n",
       "        <td>475440</td>\n",
       "        <td>23739218</td>\n",
       "        <td>2.59</td>\n",
       "        <td>49</td>\n",
       "    </tr>\n",
       "    <tr>\n",
       "        <td>Fiji</td>\n",
       "        <td>18274</td>\n",
       "        <td>909389</td>\n",
       "        <td>0.67</td>\n",
       "        <td>49</td>\n",
       "    </tr>\n",
       "    <tr>\n",
       "        <td>Iran</td>\n",
       "        <td>1648195</td>\n",
       "        <td>81824270</td>\n",
       "        <td>1.2</td>\n",
       "        <td>49</td>\n",
       "    </tr>\n",
       "    <tr>\n",
       "        <td>Panama</td>\n",
       "        <td>75420</td>\n",
       "        <td>3657024</td>\n",
       "        <td>1.32</td>\n",
       "        <td>48</td>\n",
       "    </tr>\n",
       "    <tr>\n",
       "        <td>Guinea</td>\n",
       "        <td>245857</td>\n",
       "        <td>11780162</td>\n",
       "        <td>2.63</td>\n",
       "        <td>47</td>\n",
       "    </tr>\n",
       "    <tr>\n",
       "        <td>Guinea-Bissau</td>\n",
       "        <td>36125</td>\n",
       "        <td>1726170</td>\n",
       "        <td>1.91</td>\n",
       "        <td>47</td>\n",
       "    </tr>\n",
       "    <tr>\n",
       "        <td>Belarus</td>\n",
       "        <td>207600</td>\n",
       "        <td>9589689</td>\n",
       "        <td>0.2</td>\n",
       "        <td>46</td>\n",
       "    </tr>\n",
       "    <tr>\n",
       "        <td>Montenegro</td>\n",
       "        <td>13812</td>\n",
       "        <td>647073</td>\n",
       "        <td>0.42</td>\n",
       "        <td>46</td>\n",
       "    </tr>\n",
       "    <tr>\n",
       "        <td>Palau</td>\n",
       "        <td>459</td>\n",
       "        <td>21265</td>\n",
       "        <td>0.38</td>\n",
       "        <td>46</td>\n",
       "    </tr>\n",
       "    <tr>\n",
       "        <td>Nicaragua</td>\n",
       "        <td>130370</td>\n",
       "        <td>5907881</td>\n",
       "        <td>1.0</td>\n",
       "        <td>45</td>\n",
       "    </tr>\n",
       "    <tr>\n",
       "        <td>Lithuania</td>\n",
       "        <td>65300</td>\n",
       "        <td>2884433</td>\n",
       "        <td>1.04</td>\n",
       "        <td>44</td>\n",
       "    </tr>\n",
       "    <tr>\n",
       "        <td>South Africa</td>\n",
       "        <td>1219090</td>\n",
       "        <td>53675563</td>\n",
       "        <td>1.33</td>\n",
       "        <td>44</td>\n",
       "    </tr>\n",
       "    <tr>\n",
       "        <td>Cocos (Keeling) Islands</td>\n",
       "        <td>14</td>\n",
       "        <td>596</td>\n",
       "        <td>0.0</td>\n",
       "        <td>42</td>\n",
       "    </tr>\n",
       "    <tr>\n",
       "        <td>Colombia</td>\n",
       "        <td>1138910</td>\n",
       "        <td>46736728</td>\n",
       "        <td>1.04</td>\n",
       "        <td>41</td>\n",
       "    </tr>\n",
       "    <tr>\n",
       "        <td>Cook Islands</td>\n",
       "        <td>236</td>\n",
       "        <td>9838</td>\n",
       "        <td>2.95</td>\n",
       "        <td>41</td>\n",
       "    </tr>\n",
       "    <tr>\n",
       "        <td>Madagascar</td>\n",
       "        <td>587041</td>\n",
       "        <td>23812681</td>\n",
       "        <td>2.58</td>\n",
       "        <td>40</td>\n",
       "    </tr>\n",
       "    <tr>\n",
       "        <td>Liberia</td>\n",
       "        <td>111369</td>\n",
       "        <td>4195666</td>\n",
       "        <td>2.47</td>\n",
       "        <td>37</td>\n",
       "    </tr>\n",
       "    <tr>\n",
       "        <td>Zimbabwe</td>\n",
       "        <td>390757</td>\n",
       "        <td>14229541</td>\n",
       "        <td>2.21</td>\n",
       "        <td>36</td>\n",
       "    </tr>\n",
       "    <tr>\n",
       "        <td>Faroe Islands</td>\n",
       "        <td>1393</td>\n",
       "        <td>50196</td>\n",
       "        <td>0.51</td>\n",
       "        <td>36</td>\n",
       "    </tr>\n",
       "    <tr>\n",
       "        <td>Djibouti</td>\n",
       "        <td>23200</td>\n",
       "        <td>828324</td>\n",
       "        <td>2.2</td>\n",
       "        <td>35</td>\n",
       "    </tr>\n",
       "    <tr>\n",
       "        <td>Congo, Democratic Republic of the</td>\n",
       "        <td>2344858</td>\n",
       "        <td>79375136</td>\n",
       "        <td>2.45</td>\n",
       "        <td>33</td>\n",
       "    </tr>\n",
       "    <tr>\n",
       "        <td>United States</td>\n",
       "        <td>9826675</td>\n",
       "        <td>321368864</td>\n",
       "        <td>0.78</td>\n",
       "        <td>32</td>\n",
       "    </tr>\n",
       "    <tr>\n",
       "        <td>Venezuela</td>\n",
       "        <td>912050</td>\n",
       "        <td>29275460</td>\n",
       "        <td>1.39</td>\n",
       "        <td>32</td>\n",
       "    </tr>\n",
       "    <tr>\n",
       "        <td>Mozambique</td>\n",
       "        <td>799380</td>\n",
       "        <td>25303113</td>\n",
       "        <td>2.45</td>\n",
       "        <td>31</td>\n",
       "    </tr>\n",
       "    <tr>\n",
       "        <td>Latvia</td>\n",
       "        <td>64589</td>\n",
       "        <td>1986705</td>\n",
       "        <td>1.06</td>\n",
       "        <td>30</td>\n",
       "    </tr>\n",
       "    <tr>\n",
       "        <td>Laos</td>\n",
       "        <td>236800</td>\n",
       "        <td>6911544</td>\n",
       "        <td>1.55</td>\n",
       "        <td>29</td>\n",
       "    </tr>\n",
       "    <tr>\n",
       "        <td>Kyrgyzstan</td>\n",
       "        <td>199951</td>\n",
       "        <td>5664939</td>\n",
       "        <td>1.11</td>\n",
       "        <td>28</td>\n",
       "    </tr>\n",
       "    <tr>\n",
       "        <td>Estonia</td>\n",
       "        <td>45228</td>\n",
       "        <td>1265420</td>\n",
       "        <td>0.55</td>\n",
       "        <td>27</td>\n",
       "    </tr>\n",
       "    <tr>\n",
       "        <td>Equatorial Guinea</td>\n",
       "        <td>28051</td>\n",
       "        <td>740743</td>\n",
       "        <td>2.51</td>\n",
       "        <td>26</td>\n",
       "    </tr>\n",
       "    <tr>\n",
       "        <td>Saint Helena, Ascension, and Tristan da Cunha</td>\n",
       "        <td>308</td>\n",
       "        <td>7795</td>\n",
       "        <td>0.24</td>\n",
       "        <td>25</td>\n",
       "    </tr>\n",
       "    <tr>\n",
       "        <td>Bahamas, The</td>\n",
       "        <td>13880</td>\n",
       "        <td>324597</td>\n",
       "        <td>0.85</td>\n",
       "        <td>23</td>\n",
       "    </tr>\n",
       "    <tr>\n",
       "        <td>Brazil</td>\n",
       "        <td>8515770</td>\n",
       "        <td>204259812</td>\n",
       "        <td>0.77</td>\n",
       "        <td>23</td>\n",
       "    </tr>\n",
       "    <tr>\n",
       "        <td>Chile</td>\n",
       "        <td>756102</td>\n",
       "        <td>17508260</td>\n",
       "        <td>0.82</td>\n",
       "        <td>23</td>\n",
       "    </tr>\n",
       "    <tr>\n",
       "        <td>Peru</td>\n",
       "        <td>1285216</td>\n",
       "        <td>30444999</td>\n",
       "        <td>0.97</td>\n",
       "        <td>23</td>\n",
       "    </tr>\n",
       "    <tr>\n",
       "        <td>Saint Pierre and Miquelon</td>\n",
       "        <td>242</td>\n",
       "        <td>5657</td>\n",
       "        <td>1.08</td>\n",
       "        <td>23</td>\n",
       "    </tr>\n",
       "    <tr>\n",
       "        <td>Vanuatu</td>\n",
       "        <td>12189</td>\n",
       "        <td>272264</td>\n",
       "        <td>1.95</td>\n",
       "        <td>22</td>\n",
       "    </tr>\n",
       "    <tr>\n",
       "        <td>Solomon Islands</td>\n",
       "        <td>28896</td>\n",
       "        <td>622469</td>\n",
       "        <td>2.02</td>\n",
       "        <td>21</td>\n",
       "    </tr>\n",
       "    <tr>\n",
       "        <td>Sweden</td>\n",
       "        <td>450295</td>\n",
       "        <td>9801616</td>\n",
       "        <td>0.8</td>\n",
       "        <td>21</td>\n",
       "    </tr>\n",
       "    <tr>\n",
       "        <td>Zambia</td>\n",
       "        <td>752618</td>\n",
       "        <td>15066266</td>\n",
       "        <td>2.88</td>\n",
       "        <td>20</td>\n",
       "    </tr>\n",
       "    <tr>\n",
       "        <td>Bhutan</td>\n",
       "        <td>38394</td>\n",
       "        <td>741919</td>\n",
       "        <td>1.11</td>\n",
       "        <td>19</td>\n",
       "    </tr>\n",
       "    <tr>\n",
       "        <td>Sudan</td>\n",
       "        <td>1861484</td>\n",
       "        <td>36108853</td>\n",
       "        <td>1.72</td>\n",
       "        <td>19</td>\n",
       "    </tr>\n",
       "    <tr>\n",
       "        <td>South Sudan</td>\n",
       "        <td>644329</td>\n",
       "        <td>12042910</td>\n",
       "        <td>4.02</td>\n",
       "        <td>18</td>\n",
       "    </tr>\n",
       "    <tr>\n",
       "        <td>Uruguay</td>\n",
       "        <td>176215</td>\n",
       "        <td>3341893</td>\n",
       "        <td>0.27</td>\n",
       "        <td>18</td>\n",
       "    </tr>\n",
       "    <tr>\n",
       "        <td>Algeria</td>\n",
       "        <td>2381741</td>\n",
       "        <td>39542166</td>\n",
       "        <td>1.84</td>\n",
       "        <td>16</td>\n",
       "    </tr>\n",
       "    <tr>\n",
       "        <td>Finland</td>\n",
       "        <td>338145</td>\n",
       "        <td>5476922</td>\n",
       "        <td>0.4</td>\n",
       "        <td>16</td>\n",
       "    </tr>\n",
       "    <tr>\n",
       "        <td>New Zealand</td>\n",
       "        <td>267710</td>\n",
       "        <td>4438393</td>\n",
       "        <td>0.82</td>\n",
       "        <td>16</td>\n",
       "    </tr>\n",
       "    <tr>\n",
       "        <td>Norway</td>\n",
       "        <td>323802</td>\n",
       "        <td>5207689</td>\n",
       "        <td>1.13</td>\n",
       "        <td>16</td>\n",
       "    </tr>\n",
       "    <tr>\n",
       "        <td>Paraguay</td>\n",
       "        <td>406752</td>\n",
       "        <td>6783272</td>\n",
       "        <td>1.16</td>\n",
       "        <td>16</td>\n",
       "    </tr>\n",
       "    <tr>\n",
       "        <td>Somalia</td>\n",
       "        <td>637657</td>\n",
       "        <td>10616380</td>\n",
       "        <td>1.83</td>\n",
       "        <td>16</td>\n",
       "    </tr>\n",
       "    <tr>\n",
       "        <td>Angola</td>\n",
       "        <td>1246700</td>\n",
       "        <td>19625353</td>\n",
       "        <td>2.78</td>\n",
       "        <td>15</td>\n",
       "    </tr>\n",
       "    <tr>\n",
       "        <td>Argentina</td>\n",
       "        <td>2780400</td>\n",
       "        <td>43431886</td>\n",
       "        <td>0.93</td>\n",
       "        <td>15</td>\n",
       "    </tr>\n",
       "    <tr>\n",
       "        <td>Belize</td>\n",
       "        <td>22966</td>\n",
       "        <td>347369</td>\n",
       "        <td>1.87</td>\n",
       "        <td>15</td>\n",
       "    </tr>\n",
       "    <tr>\n",
       "        <td>Papua New Guinea</td>\n",
       "        <td>462840</td>\n",
       "        <td>6672429</td>\n",
       "        <td>1.78</td>\n",
       "        <td>14</td>\n",
       "    </tr>\n",
       "    <tr>\n",
       "        <td>New Caledonia</td>\n",
       "        <td>18575</td>\n",
       "        <td>271615</td>\n",
       "        <td>1.38</td>\n",
       "        <td>14</td>\n",
       "    </tr>\n",
       "    <tr>\n",
       "        <td>Congo, Republic of the</td>\n",
       "        <td>342000</td>\n",
       "        <td>4755097</td>\n",
       "        <td>2.0</td>\n",
       "        <td>13</td>\n",
       "    </tr>\n",
       "    <tr>\n",
       "        <td>Mali</td>\n",
       "        <td>1240192</td>\n",
       "        <td>16955536</td>\n",
       "        <td>2.98</td>\n",
       "        <td>13</td>\n",
       "    </tr>\n",
       "    <tr>\n",
       "        <td>Saudi Arabia</td>\n",
       "        <td>2149690</td>\n",
       "        <td>27752316</td>\n",
       "        <td>1.46</td>\n",
       "        <td>12</td>\n",
       "    </tr>\n",
       "    <tr>\n",
       "        <td>Christmas Island</td>\n",
       "        <td>135</td>\n",
       "        <td>1530</td>\n",
       "        <td>1.11</td>\n",
       "        <td>11</td>\n",
       "    </tr>\n",
       "    <tr>\n",
       "        <td>Oman</td>\n",
       "        <td>309500</td>\n",
       "        <td>3286936</td>\n",
       "        <td>2.07</td>\n",
       "        <td>10</td>\n",
       "    </tr>\n",
       "    <tr>\n",
       "        <td>Turkmenistan</td>\n",
       "        <td>488100</td>\n",
       "        <td>5231422</td>\n",
       "        <td>1.14</td>\n",
       "        <td>10</td>\n",
       "    </tr>\n",
       "    <tr>\n",
       "        <td>Bolivia</td>\n",
       "        <td>1098581</td>\n",
       "        <td>10800882</td>\n",
       "        <td>1.56</td>\n",
       "        <td>9</td>\n",
       "    </tr>\n",
       "    <tr>\n",
       "        <td>Central African Republic</td>\n",
       "        <td>622984</td>\n",
       "        <td>5391539</td>\n",
       "        <td>2.13</td>\n",
       "        <td>8</td>\n",
       "    </tr>\n",
       "    <tr>\n",
       "        <td>Russia</td>\n",
       "        <td>17098242</td>\n",
       "        <td>142423773</td>\n",
       "        <td>0.04</td>\n",
       "        <td>8</td>\n",
       "    </tr>\n",
       "    <tr>\n",
       "        <td>Gabon</td>\n",
       "        <td>267667</td>\n",
       "        <td>1705336</td>\n",
       "        <td>1.93</td>\n",
       "        <td>6</td>\n",
       "    </tr>\n",
       "    <tr>\n",
       "        <td>Kazakhstan</td>\n",
       "        <td>2724900</td>\n",
       "        <td>18157122</td>\n",
       "        <td>1.14</td>\n",
       "        <td>6</td>\n",
       "    </tr>\n",
       "    <tr>\n",
       "        <td>Niue</td>\n",
       "        <td>260</td>\n",
       "        <td>1190</td>\n",
       "        <td>0.03</td>\n",
       "        <td>4</td>\n",
       "    </tr>\n",
       "    <tr>\n",
       "        <td>Botswana</td>\n",
       "        <td>581730</td>\n",
       "        <td>2182719</td>\n",
       "        <td>1.21</td>\n",
       "        <td>3</td>\n",
       "    </tr>\n",
       "    <tr>\n",
       "        <td>Canada</td>\n",
       "        <td>9984670</td>\n",
       "        <td>35099836</td>\n",
       "        <td>0.75</td>\n",
       "        <td>3</td>\n",
       "    </tr>\n",
       "    <tr>\n",
       "        <td>Guyana</td>\n",
       "        <td>214969</td>\n",
       "        <td>735222</td>\n",
       "        <td>0.02</td>\n",
       "        <td>3</td>\n",
       "    </tr>\n",
       "    <tr>\n",
       "        <td>Iceland</td>\n",
       "        <td>103000</td>\n",
       "        <td>331918</td>\n",
       "        <td>1.21</td>\n",
       "        <td>3</td>\n",
       "    </tr>\n",
       "    <tr>\n",
       "        <td>Libya</td>\n",
       "        <td>1759540</td>\n",
       "        <td>6411776</td>\n",
       "        <td>2.23</td>\n",
       "        <td>3</td>\n",
       "    </tr>\n",
       "    <tr>\n",
       "        <td>Mauritania</td>\n",
       "        <td>1030700</td>\n",
       "        <td>3596702</td>\n",
       "        <td>2.23</td>\n",
       "        <td>3</td>\n",
       "    </tr>\n",
       "    <tr>\n",
       "        <td>Suriname</td>\n",
       "        <td>163820</td>\n",
       "        <td>579633</td>\n",
       "        <td>1.08</td>\n",
       "        <td>3</td>\n",
       "    </tr>\n",
       "    <tr>\n",
       "        <td>Australia</td>\n",
       "        <td>7741220</td>\n",
       "        <td>22751014</td>\n",
       "        <td>1.07</td>\n",
       "        <td>2</td>\n",
       "    </tr>\n",
       "    <tr>\n",
       "        <td>Namibia</td>\n",
       "        <td>824292</td>\n",
       "        <td>2212307</td>\n",
       "        <td>0.59</td>\n",
       "        <td>2</td>\n",
       "    </tr>\n",
       "    <tr>\n",
       "        <td>Western Sahara</td>\n",
       "        <td>266000</td>\n",
       "        <td>570866</td>\n",
       "        <td>2.82</td>\n",
       "        <td>2</td>\n",
       "    </tr>\n",
       "    <tr>\n",
       "        <td>Mongolia</td>\n",
       "        <td>1564116</td>\n",
       "        <td>2992908</td>\n",
       "        <td>1.31</td>\n",
       "        <td>1</td>\n",
       "    </tr>\n",
       "    <tr>\n",
       "        <td>Pitcairn Islands</td>\n",
       "        <td>47</td>\n",
       "        <td>48</td>\n",
       "        <td>0.0</td>\n",
       "        <td>1</td>\n",
       "    </tr>\n",
       "    <tr>\n",
       "        <td>Greenland</td>\n",
       "        <td>2166086</td>\n",
       "        <td>57733</td>\n",
       "        <td>0.0</td>\n",
       "        <td>0</td>\n",
       "    </tr>\n",
       "    <tr>\n",
       "        <td>Svalbard</td>\n",
       "        <td>62045</td>\n",
       "        <td>1872</td>\n",
       "        <td>0.03</td>\n",
       "        <td>0</td>\n",
       "    </tr>\n",
       "    <tr>\n",
       "        <td>Falkland Islands (Islas Malvinas)</td>\n",
       "        <td>12173</td>\n",
       "        <td>3361</td>\n",
       "        <td>0.01</td>\n",
       "        <td>0</td>\n",
       "    </tr>\n",
       "    <tr>\n",
       "        <td>Holy See (Vatican City)</td>\n",
       "        <td>0</td>\n",
       "        <td>842</td>\n",
       "        <td>0.0</td>\n",
       "        <td>None</td>\n",
       "    </tr>\n",
       "</table>"
      ],
      "text/plain": [
       "[('Macau', 28, 592731, 0.8, 21168),\n",
       " ('Monaco', 2, 30535, 0.12, 15267),\n",
       " ('Singapore', 697, 5674472, 1.89, 8141),\n",
       " ('Hong Kong', 1108, 7141106, 0.38, 6445),\n",
       " ('Gaza Strip', 360, 1869055, 2.81, 5191),\n",
       " ('Gibraltar', 6, 29258, 0.24, 4876),\n",
       " ('Bahrain', 760, 1346613, 2.41, 1771),\n",
       " ('Maldives', 298, 393253, 0.08, 1319),\n",
       " ('Malta', 316, 413965, 0.31, 1310),\n",
       " ('Bermuda', 54, 70196, 0.5, 1299),\n",
       " ('Sint Maarten', 34, 39689, 1.51, 1167),\n",
       " ('Bangladesh', 148460, 168957745, 1.6, 1138),\n",
       " ('Guernsey', 78, 66080, 0.34, 847),\n",
       " ('Jersey', 116, 97294, 0.8, 838),\n",
       " ('Barbados', 430, 290604, 0.31, 675),\n",
       " ('Mauritius', 2040, 1339827, 0.64, 656),\n",
       " ('Taiwan', 35980, 23415126, 0.23, 650),\n",
       " ('Aruba', 180, 112162, 1.33, 623),\n",
       " ('Lebanon', 10400, 6184701, 0.86, 594),\n",
       " ('Saint Martin', 54, 31754, None, 588),\n",
       " ('San Marino', 61, 33020, 0.82, 541),\n",
       " ('Korea, South', 99720, 49115196, 0.14, 492),\n",
       " ('Rwanda', 26338, 12661733, 2.56, 480),\n",
       " ('West Bank', 5860, 2785366, 1.95, 475),\n",
       " ('Nauru', 21, 9540, 0.55, 454),\n",
       " ('Tuvalu', 26, 10869, 0.82, 418),\n",
       " ('Netherlands', 41543, 16947904, 0.41, 407),\n",
       " ('Marshall Islands', 181, 72191, 1.66, 398),\n",
       " ('Israel', 20770, 8049314, 1.56, 387),\n",
       " ('Burundi', 27830, 10742276, 3.28, 385),\n",
       " ('India', 3287263, 1251695584, 1.22, 380),\n",
       " ('Belgium', 30528, 11323973, 0.76, 370),\n",
       " ('Haiti', 27750, 10110019, 1.17, 364),\n",
       " ('Comoros', 2235, 780971, 1.77, 349),\n",
       " ('Philippines', 300000, 100998376, 1.61, 336),\n",
       " ('Sri Lanka', 65610, 22053488, 0.84, 336),\n",
       " ('Japan', 377915, 126919659, 0.16, 335),\n",
       " ('Curacao', 444, 148406, 0.43, 334),\n",
       " ('Grenada', 344, 110694, 0.48, 321),\n",
       " ('Guam', 544, 161785, 0.54, 297),\n",
       " ('El Salvador', 21041, 6141350, 0.25, 291),\n",
       " ('Vietnam', 331210, 94348835, 0.97, 284),\n",
       " ('American Samoa', 199, 54343, 0.3, 273),\n",
       " ('Jamaica', 10991, 2950210, 0.68, 268),\n",
       " ('Saint Lucia', 616, 163922, 0.34, 266),\n",
       " ('Saint Vincent and the Grenadines', 389, 102627, 0.28, 263),\n",
       " ('United Kingdom', 243610, 64088222, 0.54, 263),\n",
       " ('Puerto Rico', 13791, 3598357, 0.6, 260),\n",
       " ('Pakistan', 796095, 199085847, 1.46, 250),\n",
       " ('Trinidad and Tobago', 5128, 1222363, 0.13, 238),\n",
       " ('Liechtenstein', 160, 37624, 0.84, 235),\n",
       " ('Germany', 357022, 80854408, 0.17, 226),\n",
       " ('British Virgin Islands', 151, 33454, 2.32, 221),\n",
       " ('Luxembourg', 2586, 570252, 2.13, 220),\n",
       " ('Dominican Republic', 48670, 10478756, 1.23, 215),\n",
       " ('Nepal', 147181, 31551305, 1.79, 214),\n",
       " ('Cayman Islands', 264, 56092, 2.1, 212),\n",
       " ('Antigua and Barbuda', 442, 92436, 1.24, 209),\n",
       " ('Korea, North', 120538, 24983205, 0.53, 207),\n",
       " ('Italy', 301340, 61855120, 0.27, 205),\n",
       " ('Seychelles', 455, 92430, 0.83, 203),\n",
       " ('Sao Tome and Principe', 964, 194006, 1.84, 201),\n",
       " ('Saint Kitts and Nevis', 261, 51936, 0.76, 198),\n",
       " ('Nigeria', 923768, 181562056, 2.45, 196),\n",
       " ('Switzerland', 41277, 8121830, 0.71, 196),\n",
       " ('Qatar', 11586, 2194817, 3.07, 189),\n",
       " ('Andorra', 468, 85580, 0.12, 182),\n",
       " ('Anguilla', 91, 16418, 2.03, 180),\n",
       " ('Gambia, The', 11300, 1967709, 2.16, 174),\n",
       " ('Kosovo', 10887, 1870981, None, 171),\n",
       " ('Kuwait', 17818, 2788534, 1.62, 156),\n",
       " ('Uganda', 241038, 37101745, 3.24, 153),\n",
       " ('Isle of Man', 572, 87545, 0.76, 153),\n",
       " ('Malawi', 118484, 17964697, 3.32, 151),\n",
       " ('Micronesia, Federated States of', 702, 105216, 0.46, 149),\n",
       " ('China', 9596960, 1367485388, 0.45, 142),\n",
       " ('Tonga', 747, 106501, 0.03, 142),\n",
       " ('Guatemala', 108889, 14918999, 1.82, 137),\n",
       " ('Cabo Verde', 4033, 545993, 1.36, 135),\n",
       " ('Czech Republic', 78867, 10644842, 0.16, 134),\n",
       " ('Indonesia', 1904569, 255993674, 0.92, 134),\n",
       " ('Thailand', 513120, 67976405, 0.34, 132),\n",
       " ('Togo', 56785, 7552318, 2.69, 132),\n",
       " ('Kiribati', 811, 105711, 1.15, 130),\n",
       " ('Denmark', 43094, 5581503, 0.22, 129),\n",
       " ('Cyprus', 9251, 1189197, 1.43, 128),\n",
       " ('Akrotiri', 123, 15700, None, 127),\n",
       " ('Poland', 312685, 38562189, 0.09, 123),\n",
       " ('Dhekelia', 130, 15700, None, 120),\n",
       " ('European Union', 4324782, 513949445, 0.25, 118),\n",
       " ('Portugal', 92090, 10825309, 0.09, 117),\n",
       " ('Azerbaijan', 86600, 9780780, 0.96, 112),\n",
       " ('Northern Mariana Islands', 464, 52344, 2.18, 112),\n",
       " ('Slovakia', 49035, 5445027, 0.02, 111),\n",
       " ('Tokelau', 12, 1337, 0.01, 111),\n",
       " ('Ghana', 238533, 26327649, 2.18, 110),\n",
       " ('Wallis and Futuna', 142, 15613, 0.33, 109),\n",
       " ('Hungary', 93028, 9897541, 0.22, 106),\n",
       " ('Albania', 28748, 3029278, 0.3, 105),\n",
       " ('Moldova', 33851, 3546847, 1.03, 104),\n",
       " ('Austria', 83871, 8665550, 0.55, 103),\n",
       " ('France', 643801, 66553766, 0.43, 103),\n",
       " ('Armenia', 29743, 3056382, 0.15, 102),\n",
       " ('Turkey', 783562, 79414269, 1.26, 101),\n",
       " ('Cuba', 110860, 11031433, 0.15, 99),\n",
       " ('Dominica', 751, 73607, 0.21, 98),\n",
       " ('Slovenia', 20273, 1983412, 0.26, 97),\n",
       " ('Spain', 505370, 48146134, 0.89, 95),\n",
       " ('Costa Rica', 51100, 4814144, 1.22, 94),\n",
       " ('Benin', 112622, 10448647, 2.78, 92),\n",
       " ('Malaysia', 329847, 30513848, 1.44, 92),\n",
       " ('Serbia', 77474, 7176794, 0.46, 92),\n",
       " ('Syria', 185180, 17064854, 0.16, 92),\n",
       " ('Ethiopia', 1104300, 99465819, 2.89, 90),\n",
       " ('Jordan', 89342, 8117564, 0.83, 90),\n",
       " ('Romania', 238391, 21666350, 0.3, 90),\n",
       " ('Egypt', 1001450, 88487396, 1.79, 88),\n",
       " ('Cambodia', 181035, 15708756, 1.58, 86),\n",
       " ('Iraq', 438317, 37056169, 2.93, 84),\n",
       " ('Burma', 676578, 56320206, 1.01, 83),\n",
       " ('Swaziland', 17364, 1435613, 1.11, 82),\n",
       " ('Timor-Leste', 14874, 1231116, 2.42, 82),\n",
       " ('Greece', 131957, 10775643, 0.01, 81),\n",
       " ('Macedonia', 25713, 2096015, 0.2, 81),\n",
       " ('Sierra Leone', 71740, 5879098, 2.35, 81),\n",
       " ('Kenya', 580367, 45925301, 1.93, 79),\n",
       " ('Croatia', 56594, 4464844, 0.13, 78),\n",
       " ('Honduras', 112090, 8746673, 1.68, 78),\n",
       " ('Bosnia and Herzegovina', 51197, 3867055, 0.13, 75),\n",
       " ('Brunei', 5765, 429646, 1.62, 74),\n",
       " ('Morocco', 446550, 33322699, 1.0, 74),\n",
       " ('Ukraine', 603550, 44429471, 0.6, 73),\n",
       " (\"Cote d'Ivoire\", 322463, 23295302, 1.91, 72),\n",
       " ('Senegal', 196722, 13975834, 2.45, 71),\n",
       " ('Georgia', 69700, 4931226, 0.08, 70),\n",
       " ('Burkina Faso', 274200, 18931686, 3.03, 69),\n",
       " ('Ireland', 70273, 4892305, 1.25, 69),\n",
       " ('Samoa', 2831, 197773, 0.58, 69),\n",
       " ('United Arab Emirates', 83600, 5779760, 2.58, 69),\n",
       " ('Tunisia', 163610, 11037225, 0.89, 67),\n",
       " ('French Polynesia', 4167, 282703, 0.94, 67),\n",
       " ('Uzbekistan', 447400, 29199942, 0.93, 65),\n",
       " ('Bulgaria', 110879, 7186893, 0.58, 64),\n",
       " ('Lesotho', 30355, 1947701, 0.32, 64),\n",
       " ('Mexico', 1964375, 121736809, 1.18, 61),\n",
       " ('Norfolk Island', 36, 2210, 0.01, 61),\n",
       " ('Tajikistan', 144100, 8191958, 1.71, 56),\n",
       " ('Ecuador', 283561, 15868396, 1.35, 55),\n",
       " ('Eritrea', 117600, 6527689, 2.25, 55),\n",
       " ('Virgin Islands', 1910, 103574, 0.59, 54),\n",
       " ('Tanzania', 947300, 51045882, 2.79, 53),\n",
       " ('Turks and Caicos Islands', 948, 50280, 2.3, 53),\n",
       " ('Montserrat', 102, 5241, 0.5, 51),\n",
       " ('Yemen', 527968, 26737317, 2.47, 50),\n",
       " ('Afghanistan', 652230, 32564342, 2.32, 49),\n",
       " ('Cameroon', 475440, 23739218, 2.59, 49),\n",
       " ('Fiji', 18274, 909389, 0.67, 49),\n",
       " ('Iran', 1648195, 81824270, 1.2, 49),\n",
       " ('Panama', 75420, 3657024, 1.32, 48),\n",
       " ('Guinea', 245857, 11780162, 2.63, 47),\n",
       " ('Guinea-Bissau', 36125, 1726170, 1.91, 47),\n",
       " ('Belarus', 207600, 9589689, 0.2, 46),\n",
       " ('Montenegro', 13812, 647073, 0.42, 46),\n",
       " ('Palau', 459, 21265, 0.38, 46),\n",
       " ('Nicaragua', 130370, 5907881, 1.0, 45),\n",
       " ('Lithuania', 65300, 2884433, 1.04, 44),\n",
       " ('South Africa', 1219090, 53675563, 1.33, 44),\n",
       " ('Cocos (Keeling) Islands', 14, 596, 0.0, 42),\n",
       " ('Colombia', 1138910, 46736728, 1.04, 41),\n",
       " ('Cook Islands', 236, 9838, 2.95, 41),\n",
       " ('Madagascar', 587041, 23812681, 2.58, 40),\n",
       " ('Liberia', 111369, 4195666, 2.47, 37),\n",
       " ('Zimbabwe', 390757, 14229541, 2.21, 36),\n",
       " ('Faroe Islands', 1393, 50196, 0.51, 36),\n",
       " ('Djibouti', 23200, 828324, 2.2, 35),\n",
       " ('Congo, Democratic Republic of the', 2344858, 79375136, 2.45, 33),\n",
       " ('United States', 9826675, 321368864, 0.78, 32),\n",
       " ('Venezuela', 912050, 29275460, 1.39, 32),\n",
       " ('Mozambique', 799380, 25303113, 2.45, 31),\n",
       " ('Latvia', 64589, 1986705, 1.06, 30),\n",
       " ('Laos', 236800, 6911544, 1.55, 29),\n",
       " ('Kyrgyzstan', 199951, 5664939, 1.11, 28),\n",
       " ('Estonia', 45228, 1265420, 0.55, 27),\n",
       " ('Equatorial Guinea', 28051, 740743, 2.51, 26),\n",
       " ('Saint Helena, Ascension, and Tristan da Cunha', 308, 7795, 0.24, 25),\n",
       " ('Bahamas, The', 13880, 324597, 0.85, 23),\n",
       " ('Brazil', 8515770, 204259812, 0.77, 23),\n",
       " ('Chile', 756102, 17508260, 0.82, 23),\n",
       " ('Peru', 1285216, 30444999, 0.97, 23),\n",
       " ('Saint Pierre and Miquelon', 242, 5657, 1.08, 23),\n",
       " ('Vanuatu', 12189, 272264, 1.95, 22),\n",
       " ('Solomon Islands', 28896, 622469, 2.02, 21),\n",
       " ('Sweden', 450295, 9801616, 0.8, 21),\n",
       " ('Zambia', 752618, 15066266, 2.88, 20),\n",
       " ('Bhutan', 38394, 741919, 1.11, 19),\n",
       " ('Sudan', 1861484, 36108853, 1.72, 19),\n",
       " ('South Sudan', 644329, 12042910, 4.02, 18),\n",
       " ('Uruguay', 176215, 3341893, 0.27, 18),\n",
       " ('Algeria', 2381741, 39542166, 1.84, 16),\n",
       " ('Finland', 338145, 5476922, 0.4, 16),\n",
       " ('New Zealand', 267710, 4438393, 0.82, 16),\n",
       " ('Norway', 323802, 5207689, 1.13, 16),\n",
       " ('Paraguay', 406752, 6783272, 1.16, 16),\n",
       " ('Somalia', 637657, 10616380, 1.83, 16),\n",
       " ('Angola', 1246700, 19625353, 2.78, 15),\n",
       " ('Argentina', 2780400, 43431886, 0.93, 15),\n",
       " ('Belize', 22966, 347369, 1.87, 15),\n",
       " ('Papua New Guinea', 462840, 6672429, 1.78, 14),\n",
       " ('New Caledonia', 18575, 271615, 1.38, 14),\n",
       " ('Congo, Republic of the', 342000, 4755097, 2.0, 13),\n",
       " ('Mali', 1240192, 16955536, 2.98, 13),\n",
       " ('Saudi Arabia', 2149690, 27752316, 1.46, 12),\n",
       " ('Christmas Island', 135, 1530, 1.11, 11),\n",
       " ('Oman', 309500, 3286936, 2.07, 10),\n",
       " ('Turkmenistan', 488100, 5231422, 1.14, 10),\n",
       " ('Bolivia', 1098581, 10800882, 1.56, 9),\n",
       " ('Central African Republic', 622984, 5391539, 2.13, 8),\n",
       " ('Russia', 17098242, 142423773, 0.04, 8),\n",
       " ('Gabon', 267667, 1705336, 1.93, 6),\n",
       " ('Kazakhstan', 2724900, 18157122, 1.14, 6),\n",
       " ('Niue', 260, 1190, 0.03, 4),\n",
       " ('Botswana', 581730, 2182719, 1.21, 3),\n",
       " ('Canada', 9984670, 35099836, 0.75, 3),\n",
       " ('Guyana', 214969, 735222, 0.02, 3),\n",
       " ('Iceland', 103000, 331918, 1.21, 3),\n",
       " ('Libya', 1759540, 6411776, 2.23, 3),\n",
       " ('Mauritania', 1030700, 3596702, 2.23, 3),\n",
       " ('Suriname', 163820, 579633, 1.08, 3),\n",
       " ('Australia', 7741220, 22751014, 1.07, 2),\n",
       " ('Namibia', 824292, 2212307, 0.59, 2),\n",
       " ('Western Sahara', 266000, 570866, 2.82, 2),\n",
       " ('Mongolia', 1564116, 2992908, 1.31, 1),\n",
       " ('Pitcairn Islands', 47, 48, 0.0, 1),\n",
       " ('Greenland', 2166086, 57733, 0.0, 0),\n",
       " ('Svalbard', 62045, 1872, 0.03, 0),\n",
       " ('Falkland Islands (Islas Malvinas)', 12173, 3361, 0.01, 0),\n",
       " ('Holy See (Vatican City)', 0, 842, 0.0, None)]"
      ]
     },
     "execution_count": 209,
     "metadata": {},
     "output_type": "execute_result"
    }
   ],
   "source": [
    "%%sql \n",
    "SELECT name,area,population,population_growth,(population/area) as population_dens from facts\n",
    "where area !='None' and population !='None'\n",
    "order by population_dens desc\n",
    "\n"
   ]
  },
  {
   "cell_type": "code",
   "execution_count": 214,
   "metadata": {},
   "outputs": [
    {
     "name": "stdout",
     "output_type": "stream",
     "text": [
      " * sqlite:///factbook.db\n",
      "Done.\n"
     ]
    },
    {
     "data": {
      "text/html": [
       "<table>\n",
       "    <tr>\n",
       "        <th>total</th>\n",
       "    </tr>\n",
       "    <tr>\n",
       "        <td>260</td>\n",
       "    </tr>\n",
       "</table>"
      ],
      "text/plain": [
       "[(260,)]"
      ]
     },
     "execution_count": 214,
     "metadata": {},
     "output_type": "execute_result"
    }
   ],
   "source": [
    "%%sql\n",
    "SELECT count(*) total\n",
    "from facts\n",
    "where name <> \"World\";\n"
   ]
  },
  {
   "cell_type": "code",
   "execution_count": 213,
   "metadata": {},
   "outputs": [
    {
     "name": "stdout",
     "output_type": "stream",
     "text": [
      " * sqlite:///factbook.db\n",
      "Done.\n",
      "count of countries with area greater than avg area are  48\n"
     ]
    }
   ],
   "source": [
    "result = %sql SELECT Count(*) from facts where area > (select AVG(area) from facts);\n",
    "print('count of countries with area greater than avg area are ',result[0][0])"
   ]
  },
  {
   "cell_type": "code",
   "execution_count": 215,
   "metadata": {},
   "outputs": [
    {
     "name": "stdout",
     "output_type": "stream",
     "text": [
      " * sqlite:///factbook.db\n",
      "Done.\n"
     ]
    },
    {
     "data": {
      "text/html": [
       "<div>\n",
       "<style scoped>\n",
       "    .dataframe tbody tr th:only-of-type {\n",
       "        vertical-align: middle;\n",
       "    }\n",
       "\n",
       "    .dataframe tbody tr th {\n",
       "        vertical-align: top;\n",
       "    }\n",
       "\n",
       "    .dataframe thead th {\n",
       "        text-align: right;\n",
       "    }\n",
       "</style>\n",
       "<table border=\"1\" class=\"dataframe\">\n",
       "  <thead>\n",
       "    <tr style=\"text-align: right;\">\n",
       "      <th></th>\n",
       "      <th>name</th>\n",
       "      <th>area</th>\n",
       "      <th>population</th>\n",
       "      <th>population_growth</th>\n",
       "      <th>pop_dens</th>\n",
       "    </tr>\n",
       "  </thead>\n",
       "  <tbody>\n",
       "    <tr>\n",
       "      <th>0</th>\n",
       "      <td>Ethiopia</td>\n",
       "      <td>1104300</td>\n",
       "      <td>99465819</td>\n",
       "      <td>2.89</td>\n",
       "      <td>90</td>\n",
       "    </tr>\n",
       "    <tr>\n",
       "      <th>1</th>\n",
       "      <td>Congo, Democratic Republic of the</td>\n",
       "      <td>2344858</td>\n",
       "      <td>79375136</td>\n",
       "      <td>2.45</td>\n",
       "      <td>33</td>\n",
       "    </tr>\n",
       "    <tr>\n",
       "      <th>2</th>\n",
       "      <td>Nigeria</td>\n",
       "      <td>923768</td>\n",
       "      <td>181562056</td>\n",
       "      <td>2.45</td>\n",
       "      <td>196</td>\n",
       "    </tr>\n",
       "    <tr>\n",
       "      <th>3</th>\n",
       "      <td>Egypt</td>\n",
       "      <td>1001450</td>\n",
       "      <td>88487396</td>\n",
       "      <td>1.79</td>\n",
       "      <td>88</td>\n",
       "    </tr>\n",
       "    <tr>\n",
       "      <th>4</th>\n",
       "      <td>Philippines</td>\n",
       "      <td>300000</td>\n",
       "      <td>100998376</td>\n",
       "      <td>1.61</td>\n",
       "      <td>336</td>\n",
       "    </tr>\n",
       "    <tr>\n",
       "      <th>5</th>\n",
       "      <td>Bangladesh</td>\n",
       "      <td>148460</td>\n",
       "      <td>168957745</td>\n",
       "      <td>1.60</td>\n",
       "      <td>1138</td>\n",
       "    </tr>\n",
       "    <tr>\n",
       "      <th>6</th>\n",
       "      <td>Pakistan</td>\n",
       "      <td>796095</td>\n",
       "      <td>199085847</td>\n",
       "      <td>1.46</td>\n",
       "      <td>250</td>\n",
       "    </tr>\n",
       "    <tr>\n",
       "      <th>7</th>\n",
       "      <td>Turkey</td>\n",
       "      <td>783562</td>\n",
       "      <td>79414269</td>\n",
       "      <td>1.26</td>\n",
       "      <td>101</td>\n",
       "    </tr>\n",
       "    <tr>\n",
       "      <th>8</th>\n",
       "      <td>India</td>\n",
       "      <td>3287263</td>\n",
       "      <td>1251695584</td>\n",
       "      <td>1.22</td>\n",
       "      <td>380</td>\n",
       "    </tr>\n",
       "    <tr>\n",
       "      <th>9</th>\n",
       "      <td>Iran</td>\n",
       "      <td>1648195</td>\n",
       "      <td>81824270</td>\n",
       "      <td>1.20</td>\n",
       "      <td>49</td>\n",
       "    </tr>\n",
       "    <tr>\n",
       "      <th>10</th>\n",
       "      <td>Mexico</td>\n",
       "      <td>1964375</td>\n",
       "      <td>121736809</td>\n",
       "      <td>1.18</td>\n",
       "      <td>61</td>\n",
       "    </tr>\n",
       "    <tr>\n",
       "      <th>11</th>\n",
       "      <td>Vietnam</td>\n",
       "      <td>331210</td>\n",
       "      <td>94348835</td>\n",
       "      <td>0.97</td>\n",
       "      <td>284</td>\n",
       "    </tr>\n",
       "    <tr>\n",
       "      <th>12</th>\n",
       "      <td>Indonesia</td>\n",
       "      <td>1904569</td>\n",
       "      <td>255993674</td>\n",
       "      <td>0.92</td>\n",
       "      <td>134</td>\n",
       "    </tr>\n",
       "    <tr>\n",
       "      <th>13</th>\n",
       "      <td>United States</td>\n",
       "      <td>9826675</td>\n",
       "      <td>321368864</td>\n",
       "      <td>0.78</td>\n",
       "      <td>32</td>\n",
       "    </tr>\n",
       "    <tr>\n",
       "      <th>14</th>\n",
       "      <td>Brazil</td>\n",
       "      <td>8515770</td>\n",
       "      <td>204259812</td>\n",
       "      <td>0.77</td>\n",
       "      <td>23</td>\n",
       "    </tr>\n",
       "    <tr>\n",
       "      <th>15</th>\n",
       "      <td>United Kingdom</td>\n",
       "      <td>243610</td>\n",
       "      <td>64088222</td>\n",
       "      <td>0.54</td>\n",
       "      <td>263</td>\n",
       "    </tr>\n",
       "    <tr>\n",
       "      <th>16</th>\n",
       "      <td>China</td>\n",
       "      <td>9596960</td>\n",
       "      <td>1367485388</td>\n",
       "      <td>0.45</td>\n",
       "      <td>142</td>\n",
       "    </tr>\n",
       "    <tr>\n",
       "      <th>17</th>\n",
       "      <td>France</td>\n",
       "      <td>643801</td>\n",
       "      <td>66553766</td>\n",
       "      <td>0.43</td>\n",
       "      <td>103</td>\n",
       "    </tr>\n",
       "    <tr>\n",
       "      <th>18</th>\n",
       "      <td>Thailand</td>\n",
       "      <td>513120</td>\n",
       "      <td>67976405</td>\n",
       "      <td>0.34</td>\n",
       "      <td>132</td>\n",
       "    </tr>\n",
       "    <tr>\n",
       "      <th>19</th>\n",
       "      <td>European Union</td>\n",
       "      <td>4324782</td>\n",
       "      <td>513949445</td>\n",
       "      <td>0.25</td>\n",
       "      <td>118</td>\n",
       "    </tr>\n",
       "    <tr>\n",
       "      <th>20</th>\n",
       "      <td>Germany</td>\n",
       "      <td>357022</td>\n",
       "      <td>80854408</td>\n",
       "      <td>0.17</td>\n",
       "      <td>226</td>\n",
       "    </tr>\n",
       "    <tr>\n",
       "      <th>21</th>\n",
       "      <td>Japan</td>\n",
       "      <td>377915</td>\n",
       "      <td>126919659</td>\n",
       "      <td>0.16</td>\n",
       "      <td>335</td>\n",
       "    </tr>\n",
       "    <tr>\n",
       "      <th>22</th>\n",
       "      <td>Russia</td>\n",
       "      <td>17098242</td>\n",
       "      <td>142423773</td>\n",
       "      <td>0.04</td>\n",
       "      <td>8</td>\n",
       "    </tr>\n",
       "  </tbody>\n",
       "</table>\n",
       "</div>"
      ],
      "text/plain": [
       "                                 name      area  population  \\\n",
       "0                            Ethiopia   1104300    99465819   \n",
       "1   Congo, Democratic Republic of the   2344858    79375136   \n",
       "2                             Nigeria    923768   181562056   \n",
       "3                               Egypt   1001450    88487396   \n",
       "4                         Philippines    300000   100998376   \n",
       "5                          Bangladesh    148460   168957745   \n",
       "6                            Pakistan    796095   199085847   \n",
       "7                              Turkey    783562    79414269   \n",
       "8                               India   3287263  1251695584   \n",
       "9                                Iran   1648195    81824270   \n",
       "10                             Mexico   1964375   121736809   \n",
       "11                            Vietnam    331210    94348835   \n",
       "12                          Indonesia   1904569   255993674   \n",
       "13                      United States   9826675   321368864   \n",
       "14                             Brazil   8515770   204259812   \n",
       "15                     United Kingdom    243610    64088222   \n",
       "16                              China   9596960  1367485388   \n",
       "17                             France    643801    66553766   \n",
       "18                           Thailand    513120    67976405   \n",
       "19                     European Union   4324782   513949445   \n",
       "20                            Germany    357022    80854408   \n",
       "21                              Japan    377915   126919659   \n",
       "22                             Russia  17098242   142423773   \n",
       "\n",
       "    population_growth  pop_dens  \n",
       "0                2.89        90  \n",
       "1                2.45        33  \n",
       "2                2.45       196  \n",
       "3                1.79        88  \n",
       "4                1.61       336  \n",
       "5                1.60      1138  \n",
       "6                1.46       250  \n",
       "7                1.26       101  \n",
       "8                1.22       380  \n",
       "9                1.20        49  \n",
       "10               1.18        61  \n",
       "11               0.97       284  \n",
       "12               0.92       134  \n",
       "13               0.78        32  \n",
       "14               0.77        23  \n",
       "15               0.54       263  \n",
       "16               0.45       142  \n",
       "17               0.43       103  \n",
       "18               0.34       132  \n",
       "19               0.25       118  \n",
       "20               0.17       226  \n",
       "21               0.16       335  \n",
       "22               0.04         8  "
      ]
     },
     "execution_count": 215,
     "metadata": {},
     "output_type": "execute_result"
    }
   ],
   "source": [
    "#lets find most populous countries with a substantial landmanss\n",
    "result = %sql SELECT name,area,population,population_growth,population/area as pop_dens from facts where population > (select AVG(population) from facts where population <> 'None' or area <>'None') and name != 'World' order by 4 DESC;\n",
    "df = pd.DataFrame(result,columns = ['name','area','population','population_growth','pop_dens'])\n",
    "df"
   ]
  },
  {
   "cell_type": "code",
   "execution_count": 216,
   "metadata": {},
   "outputs": [
    {
     "data": {
      "text/html": [
       "        <script type=\"text/javascript\">\n",
       "        window.PlotlyConfig = {MathJaxConfig: 'local'};\n",
       "        if (window.MathJax && window.MathJax.Hub && window.MathJax.Hub.Config) {window.MathJax.Hub.Config({SVG: {font: \"STIX-Web\"}});}\n",
       "        if (typeof require !== 'undefined') {\n",
       "        require.undef(\"plotly\");\n",
       "        requirejs.config({\n",
       "            paths: {\n",
       "                'plotly': ['https://cdn.plot.ly/plotly-2.20.0.min']\n",
       "            }\n",
       "        });\n",
       "        require(['plotly'], function(Plotly) {\n",
       "            window._Plotly = Plotly;\n",
       "        });\n",
       "        }\n",
       "        </script>\n",
       "        "
      ]
     },
     "metadata": {},
     "output_type": "display_data"
    }
   ],
   "source": [
    "from plotly.offline import init_notebook_mode, iplot, plot\n",
    "import plotly as py\n",
    "init_notebook_mode(connected=True)\n",
    "import plotly.graph_objs as go"
   ]
  },
  {
   "cell_type": "code",
   "execution_count": 217,
   "metadata": {},
   "outputs": [
    {
     "data": {
      "application/vnd.plotly.v1+json": {
       "config": {
        "plotlyServerURL": "https://plot.ly"
       },
       "data": [
        {
         "hovertemplate": "<b>%{hovertext}</b><br><br>name=Ethiopia<br>area=%{x}<br>population=%{y}<br>pop_dens=%{marker.size}<extra></extra>",
         "hovertext": [
          "Ethiopia"
         ],
         "legendgroup": "Ethiopia",
         "marker": {
          "color": "#636efa",
          "size": [
           90
          ],
          "sizemode": "area",
          "sizeref": 0.3161111111111111,
          "symbol": "circle"
         },
         "mode": "markers",
         "name": "Ethiopia",
         "orientation": "v",
         "showlegend": true,
         "type": "scatter",
         "x": [
          1104300
         ],
         "xaxis": "x",
         "y": [
          99465819
         ],
         "yaxis": "y"
        },
        {
         "hovertemplate": "<b>%{hovertext}</b><br><br>name=Congo, Democratic Republic of the<br>area=%{x}<br>population=%{y}<br>pop_dens=%{marker.size}<extra></extra>",
         "hovertext": [
          "Congo, Democratic Republic of the"
         ],
         "legendgroup": "Congo, Democratic Republic of the",
         "marker": {
          "color": "#EF553B",
          "size": [
           33
          ],
          "sizemode": "area",
          "sizeref": 0.3161111111111111,
          "symbol": "circle"
         },
         "mode": "markers",
         "name": "Congo, Democratic Republic of the",
         "orientation": "v",
         "showlegend": true,
         "type": "scatter",
         "x": [
          2344858
         ],
         "xaxis": "x",
         "y": [
          79375136
         ],
         "yaxis": "y"
        },
        {
         "hovertemplate": "<b>%{hovertext}</b><br><br>name=Nigeria<br>area=%{x}<br>population=%{y}<br>pop_dens=%{marker.size}<extra></extra>",
         "hovertext": [
          "Nigeria"
         ],
         "legendgroup": "Nigeria",
         "marker": {
          "color": "#00cc96",
          "size": [
           196
          ],
          "sizemode": "area",
          "sizeref": 0.3161111111111111,
          "symbol": "circle"
         },
         "mode": "markers",
         "name": "Nigeria",
         "orientation": "v",
         "showlegend": true,
         "type": "scatter",
         "x": [
          923768
         ],
         "xaxis": "x",
         "y": [
          181562056
         ],
         "yaxis": "y"
        },
        {
         "hovertemplate": "<b>%{hovertext}</b><br><br>name=Egypt<br>area=%{x}<br>population=%{y}<br>pop_dens=%{marker.size}<extra></extra>",
         "hovertext": [
          "Egypt"
         ],
         "legendgroup": "Egypt",
         "marker": {
          "color": "#ab63fa",
          "size": [
           88
          ],
          "sizemode": "area",
          "sizeref": 0.3161111111111111,
          "symbol": "circle"
         },
         "mode": "markers",
         "name": "Egypt",
         "orientation": "v",
         "showlegend": true,
         "type": "scatter",
         "x": [
          1001450
         ],
         "xaxis": "x",
         "y": [
          88487396
         ],
         "yaxis": "y"
        },
        {
         "hovertemplate": "<b>%{hovertext}</b><br><br>name=Philippines<br>area=%{x}<br>population=%{y}<br>pop_dens=%{marker.size}<extra></extra>",
         "hovertext": [
          "Philippines"
         ],
         "legendgroup": "Philippines",
         "marker": {
          "color": "#FFA15A",
          "size": [
           336
          ],
          "sizemode": "area",
          "sizeref": 0.3161111111111111,
          "symbol": "circle"
         },
         "mode": "markers",
         "name": "Philippines",
         "orientation": "v",
         "showlegend": true,
         "type": "scatter",
         "x": [
          300000
         ],
         "xaxis": "x",
         "y": [
          100998376
         ],
         "yaxis": "y"
        },
        {
         "hovertemplate": "<b>%{hovertext}</b><br><br>name=Bangladesh<br>area=%{x}<br>population=%{y}<br>pop_dens=%{marker.size}<extra></extra>",
         "hovertext": [
          "Bangladesh"
         ],
         "legendgroup": "Bangladesh",
         "marker": {
          "color": "#19d3f3",
          "size": [
           1138
          ],
          "sizemode": "area",
          "sizeref": 0.3161111111111111,
          "symbol": "circle"
         },
         "mode": "markers",
         "name": "Bangladesh",
         "orientation": "v",
         "showlegend": true,
         "type": "scatter",
         "x": [
          148460
         ],
         "xaxis": "x",
         "y": [
          168957745
         ],
         "yaxis": "y"
        },
        {
         "hovertemplate": "<b>%{hovertext}</b><br><br>name=Pakistan<br>area=%{x}<br>population=%{y}<br>pop_dens=%{marker.size}<extra></extra>",
         "hovertext": [
          "Pakistan"
         ],
         "legendgroup": "Pakistan",
         "marker": {
          "color": "#FF6692",
          "size": [
           250
          ],
          "sizemode": "area",
          "sizeref": 0.3161111111111111,
          "symbol": "circle"
         },
         "mode": "markers",
         "name": "Pakistan",
         "orientation": "v",
         "showlegend": true,
         "type": "scatter",
         "x": [
          796095
         ],
         "xaxis": "x",
         "y": [
          199085847
         ],
         "yaxis": "y"
        },
        {
         "hovertemplate": "<b>%{hovertext}</b><br><br>name=Turkey<br>area=%{x}<br>population=%{y}<br>pop_dens=%{marker.size}<extra></extra>",
         "hovertext": [
          "Turkey"
         ],
         "legendgroup": "Turkey",
         "marker": {
          "color": "#B6E880",
          "size": [
           101
          ],
          "sizemode": "area",
          "sizeref": 0.3161111111111111,
          "symbol": "circle"
         },
         "mode": "markers",
         "name": "Turkey",
         "orientation": "v",
         "showlegend": true,
         "type": "scatter",
         "x": [
          783562
         ],
         "xaxis": "x",
         "y": [
          79414269
         ],
         "yaxis": "y"
        },
        {
         "hovertemplate": "<b>%{hovertext}</b><br><br>name=India<br>area=%{x}<br>population=%{y}<br>pop_dens=%{marker.size}<extra></extra>",
         "hovertext": [
          "India"
         ],
         "legendgroup": "India",
         "marker": {
          "color": "#FF97FF",
          "size": [
           380
          ],
          "sizemode": "area",
          "sizeref": 0.3161111111111111,
          "symbol": "circle"
         },
         "mode": "markers",
         "name": "India",
         "orientation": "v",
         "showlegend": true,
         "type": "scatter",
         "x": [
          3287263
         ],
         "xaxis": "x",
         "y": [
          1251695584
         ],
         "yaxis": "y"
        },
        {
         "hovertemplate": "<b>%{hovertext}</b><br><br>name=Iran<br>area=%{x}<br>population=%{y}<br>pop_dens=%{marker.size}<extra></extra>",
         "hovertext": [
          "Iran"
         ],
         "legendgroup": "Iran",
         "marker": {
          "color": "#FECB52",
          "size": [
           49
          ],
          "sizemode": "area",
          "sizeref": 0.3161111111111111,
          "symbol": "circle"
         },
         "mode": "markers",
         "name": "Iran",
         "orientation": "v",
         "showlegend": true,
         "type": "scatter",
         "x": [
          1648195
         ],
         "xaxis": "x",
         "y": [
          81824270
         ],
         "yaxis": "y"
        },
        {
         "hovertemplate": "<b>%{hovertext}</b><br><br>name=Mexico<br>area=%{x}<br>population=%{y}<br>pop_dens=%{marker.size}<extra></extra>",
         "hovertext": [
          "Mexico"
         ],
         "legendgroup": "Mexico",
         "marker": {
          "color": "#636efa",
          "size": [
           61
          ],
          "sizemode": "area",
          "sizeref": 0.3161111111111111,
          "symbol": "circle"
         },
         "mode": "markers",
         "name": "Mexico",
         "orientation": "v",
         "showlegend": true,
         "type": "scatter",
         "x": [
          1964375
         ],
         "xaxis": "x",
         "y": [
          121736809
         ],
         "yaxis": "y"
        },
        {
         "hovertemplate": "<b>%{hovertext}</b><br><br>name=Vietnam<br>area=%{x}<br>population=%{y}<br>pop_dens=%{marker.size}<extra></extra>",
         "hovertext": [
          "Vietnam"
         ],
         "legendgroup": "Vietnam",
         "marker": {
          "color": "#EF553B",
          "size": [
           284
          ],
          "sizemode": "area",
          "sizeref": 0.3161111111111111,
          "symbol": "circle"
         },
         "mode": "markers",
         "name": "Vietnam",
         "orientation": "v",
         "showlegend": true,
         "type": "scatter",
         "x": [
          331210
         ],
         "xaxis": "x",
         "y": [
          94348835
         ],
         "yaxis": "y"
        },
        {
         "hovertemplate": "<b>%{hovertext}</b><br><br>name=Indonesia<br>area=%{x}<br>population=%{y}<br>pop_dens=%{marker.size}<extra></extra>",
         "hovertext": [
          "Indonesia"
         ],
         "legendgroup": "Indonesia",
         "marker": {
          "color": "#00cc96",
          "size": [
           134
          ],
          "sizemode": "area",
          "sizeref": 0.3161111111111111,
          "symbol": "circle"
         },
         "mode": "markers",
         "name": "Indonesia",
         "orientation": "v",
         "showlegend": true,
         "type": "scatter",
         "x": [
          1904569
         ],
         "xaxis": "x",
         "y": [
          255993674
         ],
         "yaxis": "y"
        },
        {
         "hovertemplate": "<b>%{hovertext}</b><br><br>name=United States<br>area=%{x}<br>population=%{y}<br>pop_dens=%{marker.size}<extra></extra>",
         "hovertext": [
          "United States"
         ],
         "legendgroup": "United States",
         "marker": {
          "color": "#ab63fa",
          "size": [
           32
          ],
          "sizemode": "area",
          "sizeref": 0.3161111111111111,
          "symbol": "circle"
         },
         "mode": "markers",
         "name": "United States",
         "orientation": "v",
         "showlegend": true,
         "type": "scatter",
         "x": [
          9826675
         ],
         "xaxis": "x",
         "y": [
          321368864
         ],
         "yaxis": "y"
        },
        {
         "hovertemplate": "<b>%{hovertext}</b><br><br>name=Brazil<br>area=%{x}<br>population=%{y}<br>pop_dens=%{marker.size}<extra></extra>",
         "hovertext": [
          "Brazil"
         ],
         "legendgroup": "Brazil",
         "marker": {
          "color": "#FFA15A",
          "size": [
           23
          ],
          "sizemode": "area",
          "sizeref": 0.3161111111111111,
          "symbol": "circle"
         },
         "mode": "markers",
         "name": "Brazil",
         "orientation": "v",
         "showlegend": true,
         "type": "scatter",
         "x": [
          8515770
         ],
         "xaxis": "x",
         "y": [
          204259812
         ],
         "yaxis": "y"
        },
        {
         "hovertemplate": "<b>%{hovertext}</b><br><br>name=United Kingdom<br>area=%{x}<br>population=%{y}<br>pop_dens=%{marker.size}<extra></extra>",
         "hovertext": [
          "United Kingdom"
         ],
         "legendgroup": "United Kingdom",
         "marker": {
          "color": "#19d3f3",
          "size": [
           263
          ],
          "sizemode": "area",
          "sizeref": 0.3161111111111111,
          "symbol": "circle"
         },
         "mode": "markers",
         "name": "United Kingdom",
         "orientation": "v",
         "showlegend": true,
         "type": "scatter",
         "x": [
          243610
         ],
         "xaxis": "x",
         "y": [
          64088222
         ],
         "yaxis": "y"
        },
        {
         "hovertemplate": "<b>%{hovertext}</b><br><br>name=China<br>area=%{x}<br>population=%{y}<br>pop_dens=%{marker.size}<extra></extra>",
         "hovertext": [
          "China"
         ],
         "legendgroup": "China",
         "marker": {
          "color": "#FF6692",
          "size": [
           142
          ],
          "sizemode": "area",
          "sizeref": 0.3161111111111111,
          "symbol": "circle"
         },
         "mode": "markers",
         "name": "China",
         "orientation": "v",
         "showlegend": true,
         "type": "scatter",
         "x": [
          9596960
         ],
         "xaxis": "x",
         "y": [
          1367485388
         ],
         "yaxis": "y"
        },
        {
         "hovertemplate": "<b>%{hovertext}</b><br><br>name=France<br>area=%{x}<br>population=%{y}<br>pop_dens=%{marker.size}<extra></extra>",
         "hovertext": [
          "France"
         ],
         "legendgroup": "France",
         "marker": {
          "color": "#B6E880",
          "size": [
           103
          ],
          "sizemode": "area",
          "sizeref": 0.3161111111111111,
          "symbol": "circle"
         },
         "mode": "markers",
         "name": "France",
         "orientation": "v",
         "showlegend": true,
         "type": "scatter",
         "x": [
          643801
         ],
         "xaxis": "x",
         "y": [
          66553766
         ],
         "yaxis": "y"
        },
        {
         "hovertemplate": "<b>%{hovertext}</b><br><br>name=Thailand<br>area=%{x}<br>population=%{y}<br>pop_dens=%{marker.size}<extra></extra>",
         "hovertext": [
          "Thailand"
         ],
         "legendgroup": "Thailand",
         "marker": {
          "color": "#FF97FF",
          "size": [
           132
          ],
          "sizemode": "area",
          "sizeref": 0.3161111111111111,
          "symbol": "circle"
         },
         "mode": "markers",
         "name": "Thailand",
         "orientation": "v",
         "showlegend": true,
         "type": "scatter",
         "x": [
          513120
         ],
         "xaxis": "x",
         "y": [
          67976405
         ],
         "yaxis": "y"
        },
        {
         "hovertemplate": "<b>%{hovertext}</b><br><br>name=European Union<br>area=%{x}<br>population=%{y}<br>pop_dens=%{marker.size}<extra></extra>",
         "hovertext": [
          "European Union"
         ],
         "legendgroup": "European Union",
         "marker": {
          "color": "#FECB52",
          "size": [
           118
          ],
          "sizemode": "area",
          "sizeref": 0.3161111111111111,
          "symbol": "circle"
         },
         "mode": "markers",
         "name": "European Union",
         "orientation": "v",
         "showlegend": true,
         "type": "scatter",
         "x": [
          4324782
         ],
         "xaxis": "x",
         "y": [
          513949445
         ],
         "yaxis": "y"
        },
        {
         "hovertemplate": "<b>%{hovertext}</b><br><br>name=Germany<br>area=%{x}<br>population=%{y}<br>pop_dens=%{marker.size}<extra></extra>",
         "hovertext": [
          "Germany"
         ],
         "legendgroup": "Germany",
         "marker": {
          "color": "#636efa",
          "size": [
           226
          ],
          "sizemode": "area",
          "sizeref": 0.3161111111111111,
          "symbol": "circle"
         },
         "mode": "markers",
         "name": "Germany",
         "orientation": "v",
         "showlegend": true,
         "type": "scatter",
         "x": [
          357022
         ],
         "xaxis": "x",
         "y": [
          80854408
         ],
         "yaxis": "y"
        },
        {
         "hovertemplate": "<b>%{hovertext}</b><br><br>name=Japan<br>area=%{x}<br>population=%{y}<br>pop_dens=%{marker.size}<extra></extra>",
         "hovertext": [
          "Japan"
         ],
         "legendgroup": "Japan",
         "marker": {
          "color": "#EF553B",
          "size": [
           335
          ],
          "sizemode": "area",
          "sizeref": 0.3161111111111111,
          "symbol": "circle"
         },
         "mode": "markers",
         "name": "Japan",
         "orientation": "v",
         "showlegend": true,
         "type": "scatter",
         "x": [
          377915
         ],
         "xaxis": "x",
         "y": [
          126919659
         ],
         "yaxis": "y"
        },
        {
         "hovertemplate": "<b>%{hovertext}</b><br><br>name=Russia<br>area=%{x}<br>population=%{y}<br>pop_dens=%{marker.size}<extra></extra>",
         "hovertext": [
          "Russia"
         ],
         "legendgroup": "Russia",
         "marker": {
          "color": "#00cc96",
          "size": [
           8
          ],
          "sizemode": "area",
          "sizeref": 0.3161111111111111,
          "symbol": "circle"
         },
         "mode": "markers",
         "name": "Russia",
         "orientation": "v",
         "showlegend": true,
         "type": "scatter",
         "x": [
          17098242
         ],
         "xaxis": "x",
         "y": [
          142423773
         ],
         "yaxis": "y"
        }
       ],
       "layout": {
        "legend": {
         "itemsizing": "constant",
         "title": {
          "text": "name"
         },
         "tracegroupgap": 0
        },
        "margin": {
         "t": 60
        },
        "template": {
         "data": {
          "bar": [
           {
            "error_x": {
             "color": "#2a3f5f"
            },
            "error_y": {
             "color": "#2a3f5f"
            },
            "marker": {
             "line": {
              "color": "#E5ECF6",
              "width": 0.5
             },
             "pattern": {
              "fillmode": "overlay",
              "size": 10,
              "solidity": 0.2
             }
            },
            "type": "bar"
           }
          ],
          "barpolar": [
           {
            "marker": {
             "line": {
              "color": "#E5ECF6",
              "width": 0.5
             },
             "pattern": {
              "fillmode": "overlay",
              "size": 10,
              "solidity": 0.2
             }
            },
            "type": "barpolar"
           }
          ],
          "carpet": [
           {
            "aaxis": {
             "endlinecolor": "#2a3f5f",
             "gridcolor": "white",
             "linecolor": "white",
             "minorgridcolor": "white",
             "startlinecolor": "#2a3f5f"
            },
            "baxis": {
             "endlinecolor": "#2a3f5f",
             "gridcolor": "white",
             "linecolor": "white",
             "minorgridcolor": "white",
             "startlinecolor": "#2a3f5f"
            },
            "type": "carpet"
           }
          ],
          "choropleth": [
           {
            "colorbar": {
             "outlinewidth": 0,
             "ticks": ""
            },
            "type": "choropleth"
           }
          ],
          "contour": [
           {
            "colorbar": {
             "outlinewidth": 0,
             "ticks": ""
            },
            "colorscale": [
             [
              0,
              "#0d0887"
             ],
             [
              0.1111111111111111,
              "#46039f"
             ],
             [
              0.2222222222222222,
              "#7201a8"
             ],
             [
              0.3333333333333333,
              "#9c179e"
             ],
             [
              0.4444444444444444,
              "#bd3786"
             ],
             [
              0.5555555555555556,
              "#d8576b"
             ],
             [
              0.6666666666666666,
              "#ed7953"
             ],
             [
              0.7777777777777778,
              "#fb9f3a"
             ],
             [
              0.8888888888888888,
              "#fdca26"
             ],
             [
              1,
              "#f0f921"
             ]
            ],
            "type": "contour"
           }
          ],
          "contourcarpet": [
           {
            "colorbar": {
             "outlinewidth": 0,
             "ticks": ""
            },
            "type": "contourcarpet"
           }
          ],
          "heatmap": [
           {
            "colorbar": {
             "outlinewidth": 0,
             "ticks": ""
            },
            "colorscale": [
             [
              0,
              "#0d0887"
             ],
             [
              0.1111111111111111,
              "#46039f"
             ],
             [
              0.2222222222222222,
              "#7201a8"
             ],
             [
              0.3333333333333333,
              "#9c179e"
             ],
             [
              0.4444444444444444,
              "#bd3786"
             ],
             [
              0.5555555555555556,
              "#d8576b"
             ],
             [
              0.6666666666666666,
              "#ed7953"
             ],
             [
              0.7777777777777778,
              "#fb9f3a"
             ],
             [
              0.8888888888888888,
              "#fdca26"
             ],
             [
              1,
              "#f0f921"
             ]
            ],
            "type": "heatmap"
           }
          ],
          "heatmapgl": [
           {
            "colorbar": {
             "outlinewidth": 0,
             "ticks": ""
            },
            "colorscale": [
             [
              0,
              "#0d0887"
             ],
             [
              0.1111111111111111,
              "#46039f"
             ],
             [
              0.2222222222222222,
              "#7201a8"
             ],
             [
              0.3333333333333333,
              "#9c179e"
             ],
             [
              0.4444444444444444,
              "#bd3786"
             ],
             [
              0.5555555555555556,
              "#d8576b"
             ],
             [
              0.6666666666666666,
              "#ed7953"
             ],
             [
              0.7777777777777778,
              "#fb9f3a"
             ],
             [
              0.8888888888888888,
              "#fdca26"
             ],
             [
              1,
              "#f0f921"
             ]
            ],
            "type": "heatmapgl"
           }
          ],
          "histogram": [
           {
            "marker": {
             "pattern": {
              "fillmode": "overlay",
              "size": 10,
              "solidity": 0.2
             }
            },
            "type": "histogram"
           }
          ],
          "histogram2d": [
           {
            "colorbar": {
             "outlinewidth": 0,
             "ticks": ""
            },
            "colorscale": [
             [
              0,
              "#0d0887"
             ],
             [
              0.1111111111111111,
              "#46039f"
             ],
             [
              0.2222222222222222,
              "#7201a8"
             ],
             [
              0.3333333333333333,
              "#9c179e"
             ],
             [
              0.4444444444444444,
              "#bd3786"
             ],
             [
              0.5555555555555556,
              "#d8576b"
             ],
             [
              0.6666666666666666,
              "#ed7953"
             ],
             [
              0.7777777777777778,
              "#fb9f3a"
             ],
             [
              0.8888888888888888,
              "#fdca26"
             ],
             [
              1,
              "#f0f921"
             ]
            ],
            "type": "histogram2d"
           }
          ],
          "histogram2dcontour": [
           {
            "colorbar": {
             "outlinewidth": 0,
             "ticks": ""
            },
            "colorscale": [
             [
              0,
              "#0d0887"
             ],
             [
              0.1111111111111111,
              "#46039f"
             ],
             [
              0.2222222222222222,
              "#7201a8"
             ],
             [
              0.3333333333333333,
              "#9c179e"
             ],
             [
              0.4444444444444444,
              "#bd3786"
             ],
             [
              0.5555555555555556,
              "#d8576b"
             ],
             [
              0.6666666666666666,
              "#ed7953"
             ],
             [
              0.7777777777777778,
              "#fb9f3a"
             ],
             [
              0.8888888888888888,
              "#fdca26"
             ],
             [
              1,
              "#f0f921"
             ]
            ],
            "type": "histogram2dcontour"
           }
          ],
          "mesh3d": [
           {
            "colorbar": {
             "outlinewidth": 0,
             "ticks": ""
            },
            "type": "mesh3d"
           }
          ],
          "parcoords": [
           {
            "line": {
             "colorbar": {
              "outlinewidth": 0,
              "ticks": ""
             }
            },
            "type": "parcoords"
           }
          ],
          "pie": [
           {
            "automargin": true,
            "type": "pie"
           }
          ],
          "scatter": [
           {
            "fillpattern": {
             "fillmode": "overlay",
             "size": 10,
             "solidity": 0.2
            },
            "type": "scatter"
           }
          ],
          "scatter3d": [
           {
            "line": {
             "colorbar": {
              "outlinewidth": 0,
              "ticks": ""
             }
            },
            "marker": {
             "colorbar": {
              "outlinewidth": 0,
              "ticks": ""
             }
            },
            "type": "scatter3d"
           }
          ],
          "scattercarpet": [
           {
            "marker": {
             "colorbar": {
              "outlinewidth": 0,
              "ticks": ""
             }
            },
            "type": "scattercarpet"
           }
          ],
          "scattergeo": [
           {
            "marker": {
             "colorbar": {
              "outlinewidth": 0,
              "ticks": ""
             }
            },
            "type": "scattergeo"
           }
          ],
          "scattergl": [
           {
            "marker": {
             "colorbar": {
              "outlinewidth": 0,
              "ticks": ""
             }
            },
            "type": "scattergl"
           }
          ],
          "scattermapbox": [
           {
            "marker": {
             "colorbar": {
              "outlinewidth": 0,
              "ticks": ""
             }
            },
            "type": "scattermapbox"
           }
          ],
          "scatterpolar": [
           {
            "marker": {
             "colorbar": {
              "outlinewidth": 0,
              "ticks": ""
             }
            },
            "type": "scatterpolar"
           }
          ],
          "scatterpolargl": [
           {
            "marker": {
             "colorbar": {
              "outlinewidth": 0,
              "ticks": ""
             }
            },
            "type": "scatterpolargl"
           }
          ],
          "scatterternary": [
           {
            "marker": {
             "colorbar": {
              "outlinewidth": 0,
              "ticks": ""
             }
            },
            "type": "scatterternary"
           }
          ],
          "surface": [
           {
            "colorbar": {
             "outlinewidth": 0,
             "ticks": ""
            },
            "colorscale": [
             [
              0,
              "#0d0887"
             ],
             [
              0.1111111111111111,
              "#46039f"
             ],
             [
              0.2222222222222222,
              "#7201a8"
             ],
             [
              0.3333333333333333,
              "#9c179e"
             ],
             [
              0.4444444444444444,
              "#bd3786"
             ],
             [
              0.5555555555555556,
              "#d8576b"
             ],
             [
              0.6666666666666666,
              "#ed7953"
             ],
             [
              0.7777777777777778,
              "#fb9f3a"
             ],
             [
              0.8888888888888888,
              "#fdca26"
             ],
             [
              1,
              "#f0f921"
             ]
            ],
            "type": "surface"
           }
          ],
          "table": [
           {
            "cells": {
             "fill": {
              "color": "#EBF0F8"
             },
             "line": {
              "color": "white"
             }
            },
            "header": {
             "fill": {
              "color": "#C8D4E3"
             },
             "line": {
              "color": "white"
             }
            },
            "type": "table"
           }
          ]
         },
         "layout": {
          "annotationdefaults": {
           "arrowcolor": "#2a3f5f",
           "arrowhead": 0,
           "arrowwidth": 1
          },
          "autotypenumbers": "strict",
          "coloraxis": {
           "colorbar": {
            "outlinewidth": 0,
            "ticks": ""
           }
          },
          "colorscale": {
           "diverging": [
            [
             0,
             "#8e0152"
            ],
            [
             0.1,
             "#c51b7d"
            ],
            [
             0.2,
             "#de77ae"
            ],
            [
             0.3,
             "#f1b6da"
            ],
            [
             0.4,
             "#fde0ef"
            ],
            [
             0.5,
             "#f7f7f7"
            ],
            [
             0.6,
             "#e6f5d0"
            ],
            [
             0.7,
             "#b8e186"
            ],
            [
             0.8,
             "#7fbc41"
            ],
            [
             0.9,
             "#4d9221"
            ],
            [
             1,
             "#276419"
            ]
           ],
           "sequential": [
            [
             0,
             "#0d0887"
            ],
            [
             0.1111111111111111,
             "#46039f"
            ],
            [
             0.2222222222222222,
             "#7201a8"
            ],
            [
             0.3333333333333333,
             "#9c179e"
            ],
            [
             0.4444444444444444,
             "#bd3786"
            ],
            [
             0.5555555555555556,
             "#d8576b"
            ],
            [
             0.6666666666666666,
             "#ed7953"
            ],
            [
             0.7777777777777778,
             "#fb9f3a"
            ],
            [
             0.8888888888888888,
             "#fdca26"
            ],
            [
             1,
             "#f0f921"
            ]
           ],
           "sequentialminus": [
            [
             0,
             "#0d0887"
            ],
            [
             0.1111111111111111,
             "#46039f"
            ],
            [
             0.2222222222222222,
             "#7201a8"
            ],
            [
             0.3333333333333333,
             "#9c179e"
            ],
            [
             0.4444444444444444,
             "#bd3786"
            ],
            [
             0.5555555555555556,
             "#d8576b"
            ],
            [
             0.6666666666666666,
             "#ed7953"
            ],
            [
             0.7777777777777778,
             "#fb9f3a"
            ],
            [
             0.8888888888888888,
             "#fdca26"
            ],
            [
             1,
             "#f0f921"
            ]
           ]
          },
          "colorway": [
           "#636efa",
           "#EF553B",
           "#00cc96",
           "#ab63fa",
           "#FFA15A",
           "#19d3f3",
           "#FF6692",
           "#B6E880",
           "#FF97FF",
           "#FECB52"
          ],
          "font": {
           "color": "#2a3f5f"
          },
          "geo": {
           "bgcolor": "white",
           "lakecolor": "white",
           "landcolor": "#E5ECF6",
           "showlakes": true,
           "showland": true,
           "subunitcolor": "white"
          },
          "hoverlabel": {
           "align": "left"
          },
          "hovermode": "closest",
          "mapbox": {
           "style": "light"
          },
          "paper_bgcolor": "white",
          "plot_bgcolor": "#E5ECF6",
          "polar": {
           "angularaxis": {
            "gridcolor": "white",
            "linecolor": "white",
            "ticks": ""
           },
           "bgcolor": "#E5ECF6",
           "radialaxis": {
            "gridcolor": "white",
            "linecolor": "white",
            "ticks": ""
           }
          },
          "scene": {
           "xaxis": {
            "backgroundcolor": "#E5ECF6",
            "gridcolor": "white",
            "gridwidth": 2,
            "linecolor": "white",
            "showbackground": true,
            "ticks": "",
            "zerolinecolor": "white"
           },
           "yaxis": {
            "backgroundcolor": "#E5ECF6",
            "gridcolor": "white",
            "gridwidth": 2,
            "linecolor": "white",
            "showbackground": true,
            "ticks": "",
            "zerolinecolor": "white"
           },
           "zaxis": {
            "backgroundcolor": "#E5ECF6",
            "gridcolor": "white",
            "gridwidth": 2,
            "linecolor": "white",
            "showbackground": true,
            "ticks": "",
            "zerolinecolor": "white"
           }
          },
          "shapedefaults": {
           "line": {
            "color": "#2a3f5f"
           }
          },
          "ternary": {
           "aaxis": {
            "gridcolor": "white",
            "linecolor": "white",
            "ticks": ""
           },
           "baxis": {
            "gridcolor": "white",
            "linecolor": "white",
            "ticks": ""
           },
           "bgcolor": "#E5ECF6",
           "caxis": {
            "gridcolor": "white",
            "linecolor": "white",
            "ticks": ""
           }
          },
          "title": {
           "x": 0.05
          },
          "xaxis": {
           "automargin": true,
           "gridcolor": "white",
           "linecolor": "white",
           "ticks": "",
           "title": {
            "standoff": 15
           },
           "zerolinecolor": "white",
           "zerolinewidth": 2
          },
          "yaxis": {
           "automargin": true,
           "gridcolor": "white",
           "linecolor": "white",
           "ticks": "",
           "title": {
            "standoff": 15
           },
           "zerolinecolor": "white",
           "zerolinewidth": 2
          }
         }
        },
        "xaxis": {
         "anchor": "y",
         "domain": [
          0,
          1
         ],
         "title": {
          "text": "area"
         },
         "type": "log"
        },
        "yaxis": {
         "anchor": "x",
         "domain": [
          0,
          1
         ],
         "title": {
          "text": "population"
         }
        }
       }
      },
      "text/html": [
       "<div>                            <div id=\"0569508f-6cb7-46d7-a98e-3cf4afa4954c\" class=\"plotly-graph-div\" style=\"height:525px; width:100%;\"></div>            <script type=\"text/javascript\">                require([\"plotly\"], function(Plotly) {                    window.PLOTLYENV=window.PLOTLYENV || {};                                    if (document.getElementById(\"0569508f-6cb7-46d7-a98e-3cf4afa4954c\")) {                    Plotly.newPlot(                        \"0569508f-6cb7-46d7-a98e-3cf4afa4954c\",                        [{\"hovertemplate\":\"<b>%{hovertext}</b><br><br>name=Ethiopia<br>area=%{x}<br>population=%{y}<br>pop_dens=%{marker.size}<extra></extra>\",\"hovertext\":[\"Ethiopia\"],\"legendgroup\":\"Ethiopia\",\"marker\":{\"color\":\"#636efa\",\"size\":[90],\"sizemode\":\"area\",\"sizeref\":0.3161111111111111,\"symbol\":\"circle\"},\"mode\":\"markers\",\"name\":\"Ethiopia\",\"orientation\":\"v\",\"showlegend\":true,\"x\":[1104300],\"xaxis\":\"x\",\"y\":[99465819],\"yaxis\":\"y\",\"type\":\"scatter\"},{\"hovertemplate\":\"<b>%{hovertext}</b><br><br>name=Congo, Democratic Republic of the<br>area=%{x}<br>population=%{y}<br>pop_dens=%{marker.size}<extra></extra>\",\"hovertext\":[\"Congo, Democratic Republic of the\"],\"legendgroup\":\"Congo, Democratic Republic of the\",\"marker\":{\"color\":\"#EF553B\",\"size\":[33],\"sizemode\":\"area\",\"sizeref\":0.3161111111111111,\"symbol\":\"circle\"},\"mode\":\"markers\",\"name\":\"Congo, Democratic Republic of the\",\"orientation\":\"v\",\"showlegend\":true,\"x\":[2344858],\"xaxis\":\"x\",\"y\":[79375136],\"yaxis\":\"y\",\"type\":\"scatter\"},{\"hovertemplate\":\"<b>%{hovertext}</b><br><br>name=Nigeria<br>area=%{x}<br>population=%{y}<br>pop_dens=%{marker.size}<extra></extra>\",\"hovertext\":[\"Nigeria\"],\"legendgroup\":\"Nigeria\",\"marker\":{\"color\":\"#00cc96\",\"size\":[196],\"sizemode\":\"area\",\"sizeref\":0.3161111111111111,\"symbol\":\"circle\"},\"mode\":\"markers\",\"name\":\"Nigeria\",\"orientation\":\"v\",\"showlegend\":true,\"x\":[923768],\"xaxis\":\"x\",\"y\":[181562056],\"yaxis\":\"y\",\"type\":\"scatter\"},{\"hovertemplate\":\"<b>%{hovertext}</b><br><br>name=Egypt<br>area=%{x}<br>population=%{y}<br>pop_dens=%{marker.size}<extra></extra>\",\"hovertext\":[\"Egypt\"],\"legendgroup\":\"Egypt\",\"marker\":{\"color\":\"#ab63fa\",\"size\":[88],\"sizemode\":\"area\",\"sizeref\":0.3161111111111111,\"symbol\":\"circle\"},\"mode\":\"markers\",\"name\":\"Egypt\",\"orientation\":\"v\",\"showlegend\":true,\"x\":[1001450],\"xaxis\":\"x\",\"y\":[88487396],\"yaxis\":\"y\",\"type\":\"scatter\"},{\"hovertemplate\":\"<b>%{hovertext}</b><br><br>name=Philippines<br>area=%{x}<br>population=%{y}<br>pop_dens=%{marker.size}<extra></extra>\",\"hovertext\":[\"Philippines\"],\"legendgroup\":\"Philippines\",\"marker\":{\"color\":\"#FFA15A\",\"size\":[336],\"sizemode\":\"area\",\"sizeref\":0.3161111111111111,\"symbol\":\"circle\"},\"mode\":\"markers\",\"name\":\"Philippines\",\"orientation\":\"v\",\"showlegend\":true,\"x\":[300000],\"xaxis\":\"x\",\"y\":[100998376],\"yaxis\":\"y\",\"type\":\"scatter\"},{\"hovertemplate\":\"<b>%{hovertext}</b><br><br>name=Bangladesh<br>area=%{x}<br>population=%{y}<br>pop_dens=%{marker.size}<extra></extra>\",\"hovertext\":[\"Bangladesh\"],\"legendgroup\":\"Bangladesh\",\"marker\":{\"color\":\"#19d3f3\",\"size\":[1138],\"sizemode\":\"area\",\"sizeref\":0.3161111111111111,\"symbol\":\"circle\"},\"mode\":\"markers\",\"name\":\"Bangladesh\",\"orientation\":\"v\",\"showlegend\":true,\"x\":[148460],\"xaxis\":\"x\",\"y\":[168957745],\"yaxis\":\"y\",\"type\":\"scatter\"},{\"hovertemplate\":\"<b>%{hovertext}</b><br><br>name=Pakistan<br>area=%{x}<br>population=%{y}<br>pop_dens=%{marker.size}<extra></extra>\",\"hovertext\":[\"Pakistan\"],\"legendgroup\":\"Pakistan\",\"marker\":{\"color\":\"#FF6692\",\"size\":[250],\"sizemode\":\"area\",\"sizeref\":0.3161111111111111,\"symbol\":\"circle\"},\"mode\":\"markers\",\"name\":\"Pakistan\",\"orientation\":\"v\",\"showlegend\":true,\"x\":[796095],\"xaxis\":\"x\",\"y\":[199085847],\"yaxis\":\"y\",\"type\":\"scatter\"},{\"hovertemplate\":\"<b>%{hovertext}</b><br><br>name=Turkey<br>area=%{x}<br>population=%{y}<br>pop_dens=%{marker.size}<extra></extra>\",\"hovertext\":[\"Turkey\"],\"legendgroup\":\"Turkey\",\"marker\":{\"color\":\"#B6E880\",\"size\":[101],\"sizemode\":\"area\",\"sizeref\":0.3161111111111111,\"symbol\":\"circle\"},\"mode\":\"markers\",\"name\":\"Turkey\",\"orientation\":\"v\",\"showlegend\":true,\"x\":[783562],\"xaxis\":\"x\",\"y\":[79414269],\"yaxis\":\"y\",\"type\":\"scatter\"},{\"hovertemplate\":\"<b>%{hovertext}</b><br><br>name=India<br>area=%{x}<br>population=%{y}<br>pop_dens=%{marker.size}<extra></extra>\",\"hovertext\":[\"India\"],\"legendgroup\":\"India\",\"marker\":{\"color\":\"#FF97FF\",\"size\":[380],\"sizemode\":\"area\",\"sizeref\":0.3161111111111111,\"symbol\":\"circle\"},\"mode\":\"markers\",\"name\":\"India\",\"orientation\":\"v\",\"showlegend\":true,\"x\":[3287263],\"xaxis\":\"x\",\"y\":[1251695584],\"yaxis\":\"y\",\"type\":\"scatter\"},{\"hovertemplate\":\"<b>%{hovertext}</b><br><br>name=Iran<br>area=%{x}<br>population=%{y}<br>pop_dens=%{marker.size}<extra></extra>\",\"hovertext\":[\"Iran\"],\"legendgroup\":\"Iran\",\"marker\":{\"color\":\"#FECB52\",\"size\":[49],\"sizemode\":\"area\",\"sizeref\":0.3161111111111111,\"symbol\":\"circle\"},\"mode\":\"markers\",\"name\":\"Iran\",\"orientation\":\"v\",\"showlegend\":true,\"x\":[1648195],\"xaxis\":\"x\",\"y\":[81824270],\"yaxis\":\"y\",\"type\":\"scatter\"},{\"hovertemplate\":\"<b>%{hovertext}</b><br><br>name=Mexico<br>area=%{x}<br>population=%{y}<br>pop_dens=%{marker.size}<extra></extra>\",\"hovertext\":[\"Mexico\"],\"legendgroup\":\"Mexico\",\"marker\":{\"color\":\"#636efa\",\"size\":[61],\"sizemode\":\"area\",\"sizeref\":0.3161111111111111,\"symbol\":\"circle\"},\"mode\":\"markers\",\"name\":\"Mexico\",\"orientation\":\"v\",\"showlegend\":true,\"x\":[1964375],\"xaxis\":\"x\",\"y\":[121736809],\"yaxis\":\"y\",\"type\":\"scatter\"},{\"hovertemplate\":\"<b>%{hovertext}</b><br><br>name=Vietnam<br>area=%{x}<br>population=%{y}<br>pop_dens=%{marker.size}<extra></extra>\",\"hovertext\":[\"Vietnam\"],\"legendgroup\":\"Vietnam\",\"marker\":{\"color\":\"#EF553B\",\"size\":[284],\"sizemode\":\"area\",\"sizeref\":0.3161111111111111,\"symbol\":\"circle\"},\"mode\":\"markers\",\"name\":\"Vietnam\",\"orientation\":\"v\",\"showlegend\":true,\"x\":[331210],\"xaxis\":\"x\",\"y\":[94348835],\"yaxis\":\"y\",\"type\":\"scatter\"},{\"hovertemplate\":\"<b>%{hovertext}</b><br><br>name=Indonesia<br>area=%{x}<br>population=%{y}<br>pop_dens=%{marker.size}<extra></extra>\",\"hovertext\":[\"Indonesia\"],\"legendgroup\":\"Indonesia\",\"marker\":{\"color\":\"#00cc96\",\"size\":[134],\"sizemode\":\"area\",\"sizeref\":0.3161111111111111,\"symbol\":\"circle\"},\"mode\":\"markers\",\"name\":\"Indonesia\",\"orientation\":\"v\",\"showlegend\":true,\"x\":[1904569],\"xaxis\":\"x\",\"y\":[255993674],\"yaxis\":\"y\",\"type\":\"scatter\"},{\"hovertemplate\":\"<b>%{hovertext}</b><br><br>name=United States<br>area=%{x}<br>population=%{y}<br>pop_dens=%{marker.size}<extra></extra>\",\"hovertext\":[\"United States\"],\"legendgroup\":\"United States\",\"marker\":{\"color\":\"#ab63fa\",\"size\":[32],\"sizemode\":\"area\",\"sizeref\":0.3161111111111111,\"symbol\":\"circle\"},\"mode\":\"markers\",\"name\":\"United States\",\"orientation\":\"v\",\"showlegend\":true,\"x\":[9826675],\"xaxis\":\"x\",\"y\":[321368864],\"yaxis\":\"y\",\"type\":\"scatter\"},{\"hovertemplate\":\"<b>%{hovertext}</b><br><br>name=Brazil<br>area=%{x}<br>population=%{y}<br>pop_dens=%{marker.size}<extra></extra>\",\"hovertext\":[\"Brazil\"],\"legendgroup\":\"Brazil\",\"marker\":{\"color\":\"#FFA15A\",\"size\":[23],\"sizemode\":\"area\",\"sizeref\":0.3161111111111111,\"symbol\":\"circle\"},\"mode\":\"markers\",\"name\":\"Brazil\",\"orientation\":\"v\",\"showlegend\":true,\"x\":[8515770],\"xaxis\":\"x\",\"y\":[204259812],\"yaxis\":\"y\",\"type\":\"scatter\"},{\"hovertemplate\":\"<b>%{hovertext}</b><br><br>name=United Kingdom<br>area=%{x}<br>population=%{y}<br>pop_dens=%{marker.size}<extra></extra>\",\"hovertext\":[\"United Kingdom\"],\"legendgroup\":\"United Kingdom\",\"marker\":{\"color\":\"#19d3f3\",\"size\":[263],\"sizemode\":\"area\",\"sizeref\":0.3161111111111111,\"symbol\":\"circle\"},\"mode\":\"markers\",\"name\":\"United Kingdom\",\"orientation\":\"v\",\"showlegend\":true,\"x\":[243610],\"xaxis\":\"x\",\"y\":[64088222],\"yaxis\":\"y\",\"type\":\"scatter\"},{\"hovertemplate\":\"<b>%{hovertext}</b><br><br>name=China<br>area=%{x}<br>population=%{y}<br>pop_dens=%{marker.size}<extra></extra>\",\"hovertext\":[\"China\"],\"legendgroup\":\"China\",\"marker\":{\"color\":\"#FF6692\",\"size\":[142],\"sizemode\":\"area\",\"sizeref\":0.3161111111111111,\"symbol\":\"circle\"},\"mode\":\"markers\",\"name\":\"China\",\"orientation\":\"v\",\"showlegend\":true,\"x\":[9596960],\"xaxis\":\"x\",\"y\":[1367485388],\"yaxis\":\"y\",\"type\":\"scatter\"},{\"hovertemplate\":\"<b>%{hovertext}</b><br><br>name=France<br>area=%{x}<br>population=%{y}<br>pop_dens=%{marker.size}<extra></extra>\",\"hovertext\":[\"France\"],\"legendgroup\":\"France\",\"marker\":{\"color\":\"#B6E880\",\"size\":[103],\"sizemode\":\"area\",\"sizeref\":0.3161111111111111,\"symbol\":\"circle\"},\"mode\":\"markers\",\"name\":\"France\",\"orientation\":\"v\",\"showlegend\":true,\"x\":[643801],\"xaxis\":\"x\",\"y\":[66553766],\"yaxis\":\"y\",\"type\":\"scatter\"},{\"hovertemplate\":\"<b>%{hovertext}</b><br><br>name=Thailand<br>area=%{x}<br>population=%{y}<br>pop_dens=%{marker.size}<extra></extra>\",\"hovertext\":[\"Thailand\"],\"legendgroup\":\"Thailand\",\"marker\":{\"color\":\"#FF97FF\",\"size\":[132],\"sizemode\":\"area\",\"sizeref\":0.3161111111111111,\"symbol\":\"circle\"},\"mode\":\"markers\",\"name\":\"Thailand\",\"orientation\":\"v\",\"showlegend\":true,\"x\":[513120],\"xaxis\":\"x\",\"y\":[67976405],\"yaxis\":\"y\",\"type\":\"scatter\"},{\"hovertemplate\":\"<b>%{hovertext}</b><br><br>name=European Union<br>area=%{x}<br>population=%{y}<br>pop_dens=%{marker.size}<extra></extra>\",\"hovertext\":[\"European Union\"],\"legendgroup\":\"European Union\",\"marker\":{\"color\":\"#FECB52\",\"size\":[118],\"sizemode\":\"area\",\"sizeref\":0.3161111111111111,\"symbol\":\"circle\"},\"mode\":\"markers\",\"name\":\"European Union\",\"orientation\":\"v\",\"showlegend\":true,\"x\":[4324782],\"xaxis\":\"x\",\"y\":[513949445],\"yaxis\":\"y\",\"type\":\"scatter\"},{\"hovertemplate\":\"<b>%{hovertext}</b><br><br>name=Germany<br>area=%{x}<br>population=%{y}<br>pop_dens=%{marker.size}<extra></extra>\",\"hovertext\":[\"Germany\"],\"legendgroup\":\"Germany\",\"marker\":{\"color\":\"#636efa\",\"size\":[226],\"sizemode\":\"area\",\"sizeref\":0.3161111111111111,\"symbol\":\"circle\"},\"mode\":\"markers\",\"name\":\"Germany\",\"orientation\":\"v\",\"showlegend\":true,\"x\":[357022],\"xaxis\":\"x\",\"y\":[80854408],\"yaxis\":\"y\",\"type\":\"scatter\"},{\"hovertemplate\":\"<b>%{hovertext}</b><br><br>name=Japan<br>area=%{x}<br>population=%{y}<br>pop_dens=%{marker.size}<extra></extra>\",\"hovertext\":[\"Japan\"],\"legendgroup\":\"Japan\",\"marker\":{\"color\":\"#EF553B\",\"size\":[335],\"sizemode\":\"area\",\"sizeref\":0.3161111111111111,\"symbol\":\"circle\"},\"mode\":\"markers\",\"name\":\"Japan\",\"orientation\":\"v\",\"showlegend\":true,\"x\":[377915],\"xaxis\":\"x\",\"y\":[126919659],\"yaxis\":\"y\",\"type\":\"scatter\"},{\"hovertemplate\":\"<b>%{hovertext}</b><br><br>name=Russia<br>area=%{x}<br>population=%{y}<br>pop_dens=%{marker.size}<extra></extra>\",\"hovertext\":[\"Russia\"],\"legendgroup\":\"Russia\",\"marker\":{\"color\":\"#00cc96\",\"size\":[8],\"sizemode\":\"area\",\"sizeref\":0.3161111111111111,\"symbol\":\"circle\"},\"mode\":\"markers\",\"name\":\"Russia\",\"orientation\":\"v\",\"showlegend\":true,\"x\":[17098242],\"xaxis\":\"x\",\"y\":[142423773],\"yaxis\":\"y\",\"type\":\"scatter\"}],                        {\"template\":{\"data\":{\"histogram2dcontour\":[{\"type\":\"histogram2dcontour\",\"colorbar\":{\"outlinewidth\":0,\"ticks\":\"\"},\"colorscale\":[[0.0,\"#0d0887\"],[0.1111111111111111,\"#46039f\"],[0.2222222222222222,\"#7201a8\"],[0.3333333333333333,\"#9c179e\"],[0.4444444444444444,\"#bd3786\"],[0.5555555555555556,\"#d8576b\"],[0.6666666666666666,\"#ed7953\"],[0.7777777777777778,\"#fb9f3a\"],[0.8888888888888888,\"#fdca26\"],[1.0,\"#f0f921\"]]}],\"choropleth\":[{\"type\":\"choropleth\",\"colorbar\":{\"outlinewidth\":0,\"ticks\":\"\"}}],\"histogram2d\":[{\"type\":\"histogram2d\",\"colorbar\":{\"outlinewidth\":0,\"ticks\":\"\"},\"colorscale\":[[0.0,\"#0d0887\"],[0.1111111111111111,\"#46039f\"],[0.2222222222222222,\"#7201a8\"],[0.3333333333333333,\"#9c179e\"],[0.4444444444444444,\"#bd3786\"],[0.5555555555555556,\"#d8576b\"],[0.6666666666666666,\"#ed7953\"],[0.7777777777777778,\"#fb9f3a\"],[0.8888888888888888,\"#fdca26\"],[1.0,\"#f0f921\"]]}],\"heatmap\":[{\"type\":\"heatmap\",\"colorbar\":{\"outlinewidth\":0,\"ticks\":\"\"},\"colorscale\":[[0.0,\"#0d0887\"],[0.1111111111111111,\"#46039f\"],[0.2222222222222222,\"#7201a8\"],[0.3333333333333333,\"#9c179e\"],[0.4444444444444444,\"#bd3786\"],[0.5555555555555556,\"#d8576b\"],[0.6666666666666666,\"#ed7953\"],[0.7777777777777778,\"#fb9f3a\"],[0.8888888888888888,\"#fdca26\"],[1.0,\"#f0f921\"]]}],\"heatmapgl\":[{\"type\":\"heatmapgl\",\"colorbar\":{\"outlinewidth\":0,\"ticks\":\"\"},\"colorscale\":[[0.0,\"#0d0887\"],[0.1111111111111111,\"#46039f\"],[0.2222222222222222,\"#7201a8\"],[0.3333333333333333,\"#9c179e\"],[0.4444444444444444,\"#bd3786\"],[0.5555555555555556,\"#d8576b\"],[0.6666666666666666,\"#ed7953\"],[0.7777777777777778,\"#fb9f3a\"],[0.8888888888888888,\"#fdca26\"],[1.0,\"#f0f921\"]]}],\"contourcarpet\":[{\"type\":\"contourcarpet\",\"colorbar\":{\"outlinewidth\":0,\"ticks\":\"\"}}],\"contour\":[{\"type\":\"contour\",\"colorbar\":{\"outlinewidth\":0,\"ticks\":\"\"},\"colorscale\":[[0.0,\"#0d0887\"],[0.1111111111111111,\"#46039f\"],[0.2222222222222222,\"#7201a8\"],[0.3333333333333333,\"#9c179e\"],[0.4444444444444444,\"#bd3786\"],[0.5555555555555556,\"#d8576b\"],[0.6666666666666666,\"#ed7953\"],[0.7777777777777778,\"#fb9f3a\"],[0.8888888888888888,\"#fdca26\"],[1.0,\"#f0f921\"]]}],\"surface\":[{\"type\":\"surface\",\"colorbar\":{\"outlinewidth\":0,\"ticks\":\"\"},\"colorscale\":[[0.0,\"#0d0887\"],[0.1111111111111111,\"#46039f\"],[0.2222222222222222,\"#7201a8\"],[0.3333333333333333,\"#9c179e\"],[0.4444444444444444,\"#bd3786\"],[0.5555555555555556,\"#d8576b\"],[0.6666666666666666,\"#ed7953\"],[0.7777777777777778,\"#fb9f3a\"],[0.8888888888888888,\"#fdca26\"],[1.0,\"#f0f921\"]]}],\"mesh3d\":[{\"type\":\"mesh3d\",\"colorbar\":{\"outlinewidth\":0,\"ticks\":\"\"}}],\"scatter\":[{\"fillpattern\":{\"fillmode\":\"overlay\",\"size\":10,\"solidity\":0.2},\"type\":\"scatter\"}],\"parcoords\":[{\"type\":\"parcoords\",\"line\":{\"colorbar\":{\"outlinewidth\":0,\"ticks\":\"\"}}}],\"scatterpolargl\":[{\"type\":\"scatterpolargl\",\"marker\":{\"colorbar\":{\"outlinewidth\":0,\"ticks\":\"\"}}}],\"bar\":[{\"error_x\":{\"color\":\"#2a3f5f\"},\"error_y\":{\"color\":\"#2a3f5f\"},\"marker\":{\"line\":{\"color\":\"#E5ECF6\",\"width\":0.5},\"pattern\":{\"fillmode\":\"overlay\",\"size\":10,\"solidity\":0.2}},\"type\":\"bar\"}],\"scattergeo\":[{\"type\":\"scattergeo\",\"marker\":{\"colorbar\":{\"outlinewidth\":0,\"ticks\":\"\"}}}],\"scatterpolar\":[{\"type\":\"scatterpolar\",\"marker\":{\"colorbar\":{\"outlinewidth\":0,\"ticks\":\"\"}}}],\"histogram\":[{\"marker\":{\"pattern\":{\"fillmode\":\"overlay\",\"size\":10,\"solidity\":0.2}},\"type\":\"histogram\"}],\"scattergl\":[{\"type\":\"scattergl\",\"marker\":{\"colorbar\":{\"outlinewidth\":0,\"ticks\":\"\"}}}],\"scatter3d\":[{\"type\":\"scatter3d\",\"line\":{\"colorbar\":{\"outlinewidth\":0,\"ticks\":\"\"}},\"marker\":{\"colorbar\":{\"outlinewidth\":0,\"ticks\":\"\"}}}],\"scattermapbox\":[{\"type\":\"scattermapbox\",\"marker\":{\"colorbar\":{\"outlinewidth\":0,\"ticks\":\"\"}}}],\"scatterternary\":[{\"type\":\"scatterternary\",\"marker\":{\"colorbar\":{\"outlinewidth\":0,\"ticks\":\"\"}}}],\"scattercarpet\":[{\"type\":\"scattercarpet\",\"marker\":{\"colorbar\":{\"outlinewidth\":0,\"ticks\":\"\"}}}],\"carpet\":[{\"aaxis\":{\"endlinecolor\":\"#2a3f5f\",\"gridcolor\":\"white\",\"linecolor\":\"white\",\"minorgridcolor\":\"white\",\"startlinecolor\":\"#2a3f5f\"},\"baxis\":{\"endlinecolor\":\"#2a3f5f\",\"gridcolor\":\"white\",\"linecolor\":\"white\",\"minorgridcolor\":\"white\",\"startlinecolor\":\"#2a3f5f\"},\"type\":\"carpet\"}],\"table\":[{\"cells\":{\"fill\":{\"color\":\"#EBF0F8\"},\"line\":{\"color\":\"white\"}},\"header\":{\"fill\":{\"color\":\"#C8D4E3\"},\"line\":{\"color\":\"white\"}},\"type\":\"table\"}],\"barpolar\":[{\"marker\":{\"line\":{\"color\":\"#E5ECF6\",\"width\":0.5},\"pattern\":{\"fillmode\":\"overlay\",\"size\":10,\"solidity\":0.2}},\"type\":\"barpolar\"}],\"pie\":[{\"automargin\":true,\"type\":\"pie\"}]},\"layout\":{\"autotypenumbers\":\"strict\",\"colorway\":[\"#636efa\",\"#EF553B\",\"#00cc96\",\"#ab63fa\",\"#FFA15A\",\"#19d3f3\",\"#FF6692\",\"#B6E880\",\"#FF97FF\",\"#FECB52\"],\"font\":{\"color\":\"#2a3f5f\"},\"hovermode\":\"closest\",\"hoverlabel\":{\"align\":\"left\"},\"paper_bgcolor\":\"white\",\"plot_bgcolor\":\"#E5ECF6\",\"polar\":{\"bgcolor\":\"#E5ECF6\",\"angularaxis\":{\"gridcolor\":\"white\",\"linecolor\":\"white\",\"ticks\":\"\"},\"radialaxis\":{\"gridcolor\":\"white\",\"linecolor\":\"white\",\"ticks\":\"\"}},\"ternary\":{\"bgcolor\":\"#E5ECF6\",\"aaxis\":{\"gridcolor\":\"white\",\"linecolor\":\"white\",\"ticks\":\"\"},\"baxis\":{\"gridcolor\":\"white\",\"linecolor\":\"white\",\"ticks\":\"\"},\"caxis\":{\"gridcolor\":\"white\",\"linecolor\":\"white\",\"ticks\":\"\"}},\"coloraxis\":{\"colorbar\":{\"outlinewidth\":0,\"ticks\":\"\"}},\"colorscale\":{\"sequential\":[[0.0,\"#0d0887\"],[0.1111111111111111,\"#46039f\"],[0.2222222222222222,\"#7201a8\"],[0.3333333333333333,\"#9c179e\"],[0.4444444444444444,\"#bd3786\"],[0.5555555555555556,\"#d8576b\"],[0.6666666666666666,\"#ed7953\"],[0.7777777777777778,\"#fb9f3a\"],[0.8888888888888888,\"#fdca26\"],[1.0,\"#f0f921\"]],\"sequentialminus\":[[0.0,\"#0d0887\"],[0.1111111111111111,\"#46039f\"],[0.2222222222222222,\"#7201a8\"],[0.3333333333333333,\"#9c179e\"],[0.4444444444444444,\"#bd3786\"],[0.5555555555555556,\"#d8576b\"],[0.6666666666666666,\"#ed7953\"],[0.7777777777777778,\"#fb9f3a\"],[0.8888888888888888,\"#fdca26\"],[1.0,\"#f0f921\"]],\"diverging\":[[0,\"#8e0152\"],[0.1,\"#c51b7d\"],[0.2,\"#de77ae\"],[0.3,\"#f1b6da\"],[0.4,\"#fde0ef\"],[0.5,\"#f7f7f7\"],[0.6,\"#e6f5d0\"],[0.7,\"#b8e186\"],[0.8,\"#7fbc41\"],[0.9,\"#4d9221\"],[1,\"#276419\"]]},\"xaxis\":{\"gridcolor\":\"white\",\"linecolor\":\"white\",\"ticks\":\"\",\"title\":{\"standoff\":15},\"zerolinecolor\":\"white\",\"automargin\":true,\"zerolinewidth\":2},\"yaxis\":{\"gridcolor\":\"white\",\"linecolor\":\"white\",\"ticks\":\"\",\"title\":{\"standoff\":15},\"zerolinecolor\":\"white\",\"automargin\":true,\"zerolinewidth\":2},\"scene\":{\"xaxis\":{\"backgroundcolor\":\"#E5ECF6\",\"gridcolor\":\"white\",\"linecolor\":\"white\",\"showbackground\":true,\"ticks\":\"\",\"zerolinecolor\":\"white\",\"gridwidth\":2},\"yaxis\":{\"backgroundcolor\":\"#E5ECF6\",\"gridcolor\":\"white\",\"linecolor\":\"white\",\"showbackground\":true,\"ticks\":\"\",\"zerolinecolor\":\"white\",\"gridwidth\":2},\"zaxis\":{\"backgroundcolor\":\"#E5ECF6\",\"gridcolor\":\"white\",\"linecolor\":\"white\",\"showbackground\":true,\"ticks\":\"\",\"zerolinecolor\":\"white\",\"gridwidth\":2}},\"shapedefaults\":{\"line\":{\"color\":\"#2a3f5f\"}},\"annotationdefaults\":{\"arrowcolor\":\"#2a3f5f\",\"arrowhead\":0,\"arrowwidth\":1},\"geo\":{\"bgcolor\":\"white\",\"landcolor\":\"#E5ECF6\",\"subunitcolor\":\"white\",\"showland\":true,\"showlakes\":true,\"lakecolor\":\"white\"},\"title\":{\"x\":0.05},\"mapbox\":{\"style\":\"light\"}}},\"xaxis\":{\"anchor\":\"y\",\"domain\":[0.0,1.0],\"title\":{\"text\":\"area\"},\"type\":\"log\"},\"yaxis\":{\"anchor\":\"x\",\"domain\":[0.0,1.0],\"title\":{\"text\":\"population\"}},\"legend\":{\"title\":{\"text\":\"name\"},\"tracegroupgap\":0,\"itemsizing\":\"constant\"},\"margin\":{\"t\":60}},                        {\"responsive\": true}                    ).then(function(){\n",
       "                            \n",
       "var gd = document.getElementById('0569508f-6cb7-46d7-a98e-3cf4afa4954c');\n",
       "var x = new MutationObserver(function (mutations, observer) {{\n",
       "        var display = window.getComputedStyle(gd).display;\n",
       "        if (!display || display === 'none') {{\n",
       "            console.log([gd, 'removed!']);\n",
       "            Plotly.purge(gd);\n",
       "            observer.disconnect();\n",
       "        }}\n",
       "}});\n",
       "\n",
       "// Listen for the removal of the full notebook cells\n",
       "var notebookContainer = gd.closest('#notebook-container');\n",
       "if (notebookContainer) {{\n",
       "    x.observe(notebookContainer, {childList: true});\n",
       "}}\n",
       "\n",
       "// Listen for the clearing of the current output cell\n",
       "var outputEl = gd.closest('.output');\n",
       "if (outputEl) {{\n",
       "    x.observe(outputEl, {childList: true});\n",
       "}}\n",
       "\n",
       "                        })                };                });            </script>        </div>"
      ]
     },
     "metadata": {},
     "output_type": "display_data"
    }
   ],
   "source": [
    "import plotly.express as px\n",
    "#df = px.data.gapminder()\n",
    "\n",
    "fig = px.scatter(df, x=\"area\", y=\"population\",\n",
    "         size=\"pop_dens\", color=\"name\",\n",
    "                 hover_name=\"name\", log_x=True, size_max=60)\n",
    "fig.show()"
   ]
  },
  {
   "cell_type": "markdown",
   "metadata": {},
   "source": [
    "* above scatter plot depicts the relationship between populatino area and population density of a Country"
   ]
  },
  {
   "cell_type": "code",
   "execution_count": 218,
   "metadata": {},
   "outputs": [
    {
     "data": {
      "application/vnd.plotly.v1+json": {
       "config": {
        "plotlyServerURL": "https://plot.ly"
       },
       "data": [
        {
         "coloraxis": "coloraxis",
         "geo": "geo",
         "hovertemplate": "name=%{location}<br>population=%{z}<extra></extra>",
         "locationmode": "country names",
         "locations": [
          "Ethiopia",
          "Congo, Democratic Republic of the",
          "Nigeria",
          "Egypt",
          "Philippines",
          "Bangladesh",
          "Pakistan",
          "Turkey",
          "India",
          "Iran",
          "Mexico",
          "Vietnam",
          "Indonesia",
          "United States",
          "Brazil",
          "United Kingdom",
          "China",
          "France",
          "Thailand",
          "European Union",
          "Germany",
          "Japan",
          "Russia"
         ],
         "name": "",
         "type": "choropleth",
         "z": [
          99465819,
          79375136,
          181562056,
          88487396,
          100998376,
          168957745,
          199085847,
          79414269,
          1251695584,
          81824270,
          121736809,
          94348835,
          255993674,
          321368864,
          204259812,
          64088222,
          1367485388,
          66553766,
          67976405,
          513949445,
          80854408,
          126919659,
          142423773
         ]
        }
       ],
       "layout": {
        "coloraxis": {
         "colorbar": {
          "title": {
           "text": "population"
          }
         },
         "colorscale": [
          [
           0,
           "#30123b"
          ],
          [
           0.07142857142857142,
           "#4145ab"
          ],
          [
           0.14285714285714285,
           "#4675ed"
          ],
          [
           0.21428571428571427,
           "#39a2fc"
          ],
          [
           0.2857142857142857,
           "#1bcfd4"
          ],
          [
           0.35714285714285715,
           "#24eca6"
          ],
          [
           0.42857142857142855,
           "#61fc6c"
          ],
          [
           0.5,
           "#a4fc3b"
          ],
          [
           0.5714285714285714,
           "#d1e834"
          ],
          [
           0.6428571428571429,
           "#f3c63a"
          ],
          [
           0.7142857142857143,
           "#fe9b2d"
          ],
          [
           0.7857142857142857,
           "#f36315"
          ],
          [
           0.8571428571428571,
           "#d93806"
          ],
          [
           0.9285714285714286,
           "#b11901"
          ],
          [
           1,
           "#7a0402"
          ]
         ]
        },
        "geo": {
         "center": {},
         "domain": {
          "x": [
           0,
           1
          ],
          "y": [
           0,
           1
          ]
         }
        },
        "legend": {
         "tracegroupgap": 0
        },
        "template": {
         "data": {
          "bar": [
           {
            "error_x": {
             "color": "#2a3f5f"
            },
            "error_y": {
             "color": "#2a3f5f"
            },
            "marker": {
             "line": {
              "color": "#E5ECF6",
              "width": 0.5
             },
             "pattern": {
              "fillmode": "overlay",
              "size": 10,
              "solidity": 0.2
             }
            },
            "type": "bar"
           }
          ],
          "barpolar": [
           {
            "marker": {
             "line": {
              "color": "#E5ECF6",
              "width": 0.5
             },
             "pattern": {
              "fillmode": "overlay",
              "size": 10,
              "solidity": 0.2
             }
            },
            "type": "barpolar"
           }
          ],
          "carpet": [
           {
            "aaxis": {
             "endlinecolor": "#2a3f5f",
             "gridcolor": "white",
             "linecolor": "white",
             "minorgridcolor": "white",
             "startlinecolor": "#2a3f5f"
            },
            "baxis": {
             "endlinecolor": "#2a3f5f",
             "gridcolor": "white",
             "linecolor": "white",
             "minorgridcolor": "white",
             "startlinecolor": "#2a3f5f"
            },
            "type": "carpet"
           }
          ],
          "choropleth": [
           {
            "colorbar": {
             "outlinewidth": 0,
             "ticks": ""
            },
            "type": "choropleth"
           }
          ],
          "contour": [
           {
            "colorbar": {
             "outlinewidth": 0,
             "ticks": ""
            },
            "colorscale": [
             [
              0,
              "#0d0887"
             ],
             [
              0.1111111111111111,
              "#46039f"
             ],
             [
              0.2222222222222222,
              "#7201a8"
             ],
             [
              0.3333333333333333,
              "#9c179e"
             ],
             [
              0.4444444444444444,
              "#bd3786"
             ],
             [
              0.5555555555555556,
              "#d8576b"
             ],
             [
              0.6666666666666666,
              "#ed7953"
             ],
             [
              0.7777777777777778,
              "#fb9f3a"
             ],
             [
              0.8888888888888888,
              "#fdca26"
             ],
             [
              1,
              "#f0f921"
             ]
            ],
            "type": "contour"
           }
          ],
          "contourcarpet": [
           {
            "colorbar": {
             "outlinewidth": 0,
             "ticks": ""
            },
            "type": "contourcarpet"
           }
          ],
          "heatmap": [
           {
            "colorbar": {
             "outlinewidth": 0,
             "ticks": ""
            },
            "colorscale": [
             [
              0,
              "#0d0887"
             ],
             [
              0.1111111111111111,
              "#46039f"
             ],
             [
              0.2222222222222222,
              "#7201a8"
             ],
             [
              0.3333333333333333,
              "#9c179e"
             ],
             [
              0.4444444444444444,
              "#bd3786"
             ],
             [
              0.5555555555555556,
              "#d8576b"
             ],
             [
              0.6666666666666666,
              "#ed7953"
             ],
             [
              0.7777777777777778,
              "#fb9f3a"
             ],
             [
              0.8888888888888888,
              "#fdca26"
             ],
             [
              1,
              "#f0f921"
             ]
            ],
            "type": "heatmap"
           }
          ],
          "heatmapgl": [
           {
            "colorbar": {
             "outlinewidth": 0,
             "ticks": ""
            },
            "colorscale": [
             [
              0,
              "#0d0887"
             ],
             [
              0.1111111111111111,
              "#46039f"
             ],
             [
              0.2222222222222222,
              "#7201a8"
             ],
             [
              0.3333333333333333,
              "#9c179e"
             ],
             [
              0.4444444444444444,
              "#bd3786"
             ],
             [
              0.5555555555555556,
              "#d8576b"
             ],
             [
              0.6666666666666666,
              "#ed7953"
             ],
             [
              0.7777777777777778,
              "#fb9f3a"
             ],
             [
              0.8888888888888888,
              "#fdca26"
             ],
             [
              1,
              "#f0f921"
             ]
            ],
            "type": "heatmapgl"
           }
          ],
          "histogram": [
           {
            "marker": {
             "pattern": {
              "fillmode": "overlay",
              "size": 10,
              "solidity": 0.2
             }
            },
            "type": "histogram"
           }
          ],
          "histogram2d": [
           {
            "colorbar": {
             "outlinewidth": 0,
             "ticks": ""
            },
            "colorscale": [
             [
              0,
              "#0d0887"
             ],
             [
              0.1111111111111111,
              "#46039f"
             ],
             [
              0.2222222222222222,
              "#7201a8"
             ],
             [
              0.3333333333333333,
              "#9c179e"
             ],
             [
              0.4444444444444444,
              "#bd3786"
             ],
             [
              0.5555555555555556,
              "#d8576b"
             ],
             [
              0.6666666666666666,
              "#ed7953"
             ],
             [
              0.7777777777777778,
              "#fb9f3a"
             ],
             [
              0.8888888888888888,
              "#fdca26"
             ],
             [
              1,
              "#f0f921"
             ]
            ],
            "type": "histogram2d"
           }
          ],
          "histogram2dcontour": [
           {
            "colorbar": {
             "outlinewidth": 0,
             "ticks": ""
            },
            "colorscale": [
             [
              0,
              "#0d0887"
             ],
             [
              0.1111111111111111,
              "#46039f"
             ],
             [
              0.2222222222222222,
              "#7201a8"
             ],
             [
              0.3333333333333333,
              "#9c179e"
             ],
             [
              0.4444444444444444,
              "#bd3786"
             ],
             [
              0.5555555555555556,
              "#d8576b"
             ],
             [
              0.6666666666666666,
              "#ed7953"
             ],
             [
              0.7777777777777778,
              "#fb9f3a"
             ],
             [
              0.8888888888888888,
              "#fdca26"
             ],
             [
              1,
              "#f0f921"
             ]
            ],
            "type": "histogram2dcontour"
           }
          ],
          "mesh3d": [
           {
            "colorbar": {
             "outlinewidth": 0,
             "ticks": ""
            },
            "type": "mesh3d"
           }
          ],
          "parcoords": [
           {
            "line": {
             "colorbar": {
              "outlinewidth": 0,
              "ticks": ""
             }
            },
            "type": "parcoords"
           }
          ],
          "pie": [
           {
            "automargin": true,
            "type": "pie"
           }
          ],
          "scatter": [
           {
            "fillpattern": {
             "fillmode": "overlay",
             "size": 10,
             "solidity": 0.2
            },
            "type": "scatter"
           }
          ],
          "scatter3d": [
           {
            "line": {
             "colorbar": {
              "outlinewidth": 0,
              "ticks": ""
             }
            },
            "marker": {
             "colorbar": {
              "outlinewidth": 0,
              "ticks": ""
             }
            },
            "type": "scatter3d"
           }
          ],
          "scattercarpet": [
           {
            "marker": {
             "colorbar": {
              "outlinewidth": 0,
              "ticks": ""
             }
            },
            "type": "scattercarpet"
           }
          ],
          "scattergeo": [
           {
            "marker": {
             "colorbar": {
              "outlinewidth": 0,
              "ticks": ""
             }
            },
            "type": "scattergeo"
           }
          ],
          "scattergl": [
           {
            "marker": {
             "colorbar": {
              "outlinewidth": 0,
              "ticks": ""
             }
            },
            "type": "scattergl"
           }
          ],
          "scattermapbox": [
           {
            "marker": {
             "colorbar": {
              "outlinewidth": 0,
              "ticks": ""
             }
            },
            "type": "scattermapbox"
           }
          ],
          "scatterpolar": [
           {
            "marker": {
             "colorbar": {
              "outlinewidth": 0,
              "ticks": ""
             }
            },
            "type": "scatterpolar"
           }
          ],
          "scatterpolargl": [
           {
            "marker": {
             "colorbar": {
              "outlinewidth": 0,
              "ticks": ""
             }
            },
            "type": "scatterpolargl"
           }
          ],
          "scatterternary": [
           {
            "marker": {
             "colorbar": {
              "outlinewidth": 0,
              "ticks": ""
             }
            },
            "type": "scatterternary"
           }
          ],
          "surface": [
           {
            "colorbar": {
             "outlinewidth": 0,
             "ticks": ""
            },
            "colorscale": [
             [
              0,
              "#0d0887"
             ],
             [
              0.1111111111111111,
              "#46039f"
             ],
             [
              0.2222222222222222,
              "#7201a8"
             ],
             [
              0.3333333333333333,
              "#9c179e"
             ],
             [
              0.4444444444444444,
              "#bd3786"
             ],
             [
              0.5555555555555556,
              "#d8576b"
             ],
             [
              0.6666666666666666,
              "#ed7953"
             ],
             [
              0.7777777777777778,
              "#fb9f3a"
             ],
             [
              0.8888888888888888,
              "#fdca26"
             ],
             [
              1,
              "#f0f921"
             ]
            ],
            "type": "surface"
           }
          ],
          "table": [
           {
            "cells": {
             "fill": {
              "color": "#EBF0F8"
             },
             "line": {
              "color": "white"
             }
            },
            "header": {
             "fill": {
              "color": "#C8D4E3"
             },
             "line": {
              "color": "white"
             }
            },
            "type": "table"
           }
          ]
         },
         "layout": {
          "annotationdefaults": {
           "arrowcolor": "#2a3f5f",
           "arrowhead": 0,
           "arrowwidth": 1
          },
          "autotypenumbers": "strict",
          "coloraxis": {
           "colorbar": {
            "outlinewidth": 0,
            "ticks": ""
           }
          },
          "colorscale": {
           "diverging": [
            [
             0,
             "#8e0152"
            ],
            [
             0.1,
             "#c51b7d"
            ],
            [
             0.2,
             "#de77ae"
            ],
            [
             0.3,
             "#f1b6da"
            ],
            [
             0.4,
             "#fde0ef"
            ],
            [
             0.5,
             "#f7f7f7"
            ],
            [
             0.6,
             "#e6f5d0"
            ],
            [
             0.7,
             "#b8e186"
            ],
            [
             0.8,
             "#7fbc41"
            ],
            [
             0.9,
             "#4d9221"
            ],
            [
             1,
             "#276419"
            ]
           ],
           "sequential": [
            [
             0,
             "#0d0887"
            ],
            [
             0.1111111111111111,
             "#46039f"
            ],
            [
             0.2222222222222222,
             "#7201a8"
            ],
            [
             0.3333333333333333,
             "#9c179e"
            ],
            [
             0.4444444444444444,
             "#bd3786"
            ],
            [
             0.5555555555555556,
             "#d8576b"
            ],
            [
             0.6666666666666666,
             "#ed7953"
            ],
            [
             0.7777777777777778,
             "#fb9f3a"
            ],
            [
             0.8888888888888888,
             "#fdca26"
            ],
            [
             1,
             "#f0f921"
            ]
           ],
           "sequentialminus": [
            [
             0,
             "#0d0887"
            ],
            [
             0.1111111111111111,
             "#46039f"
            ],
            [
             0.2222222222222222,
             "#7201a8"
            ],
            [
             0.3333333333333333,
             "#9c179e"
            ],
            [
             0.4444444444444444,
             "#bd3786"
            ],
            [
             0.5555555555555556,
             "#d8576b"
            ],
            [
             0.6666666666666666,
             "#ed7953"
            ],
            [
             0.7777777777777778,
             "#fb9f3a"
            ],
            [
             0.8888888888888888,
             "#fdca26"
            ],
            [
             1,
             "#f0f921"
            ]
           ]
          },
          "colorway": [
           "#636efa",
           "#EF553B",
           "#00cc96",
           "#ab63fa",
           "#FFA15A",
           "#19d3f3",
           "#FF6692",
           "#B6E880",
           "#FF97FF",
           "#FECB52"
          ],
          "font": {
           "color": "#2a3f5f"
          },
          "geo": {
           "bgcolor": "white",
           "lakecolor": "white",
           "landcolor": "#E5ECF6",
           "showlakes": true,
           "showland": true,
           "subunitcolor": "white"
          },
          "hoverlabel": {
           "align": "left"
          },
          "hovermode": "closest",
          "mapbox": {
           "style": "light"
          },
          "paper_bgcolor": "white",
          "plot_bgcolor": "#E5ECF6",
          "polar": {
           "angularaxis": {
            "gridcolor": "white",
            "linecolor": "white",
            "ticks": ""
           },
           "bgcolor": "#E5ECF6",
           "radialaxis": {
            "gridcolor": "white",
            "linecolor": "white",
            "ticks": ""
           }
          },
          "scene": {
           "xaxis": {
            "backgroundcolor": "#E5ECF6",
            "gridcolor": "white",
            "gridwidth": 2,
            "linecolor": "white",
            "showbackground": true,
            "ticks": "",
            "zerolinecolor": "white"
           },
           "yaxis": {
            "backgroundcolor": "#E5ECF6",
            "gridcolor": "white",
            "gridwidth": 2,
            "linecolor": "white",
            "showbackground": true,
            "ticks": "",
            "zerolinecolor": "white"
           },
           "zaxis": {
            "backgroundcolor": "#E5ECF6",
            "gridcolor": "white",
            "gridwidth": 2,
            "linecolor": "white",
            "showbackground": true,
            "ticks": "",
            "zerolinecolor": "white"
           }
          },
          "shapedefaults": {
           "line": {
            "color": "#2a3f5f"
           }
          },
          "ternary": {
           "aaxis": {
            "gridcolor": "white",
            "linecolor": "white",
            "ticks": ""
           },
           "baxis": {
            "gridcolor": "white",
            "linecolor": "white",
            "ticks": ""
           },
           "bgcolor": "#E5ECF6",
           "caxis": {
            "gridcolor": "white",
            "linecolor": "white",
            "ticks": ""
           }
          },
          "title": {
           "x": 0.05
          },
          "xaxis": {
           "automargin": true,
           "gridcolor": "white",
           "linecolor": "white",
           "ticks": "",
           "title": {
            "standoff": 15
           },
           "zerolinecolor": "white",
           "zerolinewidth": 2
          },
          "yaxis": {
           "automargin": true,
           "gridcolor": "white",
           "linecolor": "white",
           "ticks": "",
           "title": {
            "standoff": 15
           },
           "zerolinecolor": "white",
           "zerolinewidth": 2
          }
         }
        },
        "title": {
         "text": "Polulation "
        }
       }
      },
      "text/html": [
       "<div>                            <div id=\"c4f39f2a-68d0-4a63-b847-0186ecdf7cd3\" class=\"plotly-graph-div\" style=\"height:525px; width:100%;\"></div>            <script type=\"text/javascript\">                require([\"plotly\"], function(Plotly) {                    window.PLOTLYENV=window.PLOTLYENV || {};                                    if (document.getElementById(\"c4f39f2a-68d0-4a63-b847-0186ecdf7cd3\")) {                    Plotly.newPlot(                        \"c4f39f2a-68d0-4a63-b847-0186ecdf7cd3\",                        [{\"coloraxis\":\"coloraxis\",\"geo\":\"geo\",\"hovertemplate\":\"name=%{location}<br>population=%{z}<extra></extra>\",\"locationmode\":\"country names\",\"locations\":[\"Ethiopia\",\"Congo, Democratic Republic of the\",\"Nigeria\",\"Egypt\",\"Philippines\",\"Bangladesh\",\"Pakistan\",\"Turkey\",\"India\",\"Iran\",\"Mexico\",\"Vietnam\",\"Indonesia\",\"United States\",\"Brazil\",\"United Kingdom\",\"China\",\"France\",\"Thailand\",\"European Union\",\"Germany\",\"Japan\",\"Russia\"],\"name\":\"\",\"z\":[99465819,79375136,181562056,88487396,100998376,168957745,199085847,79414269,1251695584,81824270,121736809,94348835,255993674,321368864,204259812,64088222,1367485388,66553766,67976405,513949445,80854408,126919659,142423773],\"type\":\"choropleth\"}],                        {\"template\":{\"data\":{\"histogram2dcontour\":[{\"type\":\"histogram2dcontour\",\"colorbar\":{\"outlinewidth\":0,\"ticks\":\"\"},\"colorscale\":[[0.0,\"#0d0887\"],[0.1111111111111111,\"#46039f\"],[0.2222222222222222,\"#7201a8\"],[0.3333333333333333,\"#9c179e\"],[0.4444444444444444,\"#bd3786\"],[0.5555555555555556,\"#d8576b\"],[0.6666666666666666,\"#ed7953\"],[0.7777777777777778,\"#fb9f3a\"],[0.8888888888888888,\"#fdca26\"],[1.0,\"#f0f921\"]]}],\"choropleth\":[{\"type\":\"choropleth\",\"colorbar\":{\"outlinewidth\":0,\"ticks\":\"\"}}],\"histogram2d\":[{\"type\":\"histogram2d\",\"colorbar\":{\"outlinewidth\":0,\"ticks\":\"\"},\"colorscale\":[[0.0,\"#0d0887\"],[0.1111111111111111,\"#46039f\"],[0.2222222222222222,\"#7201a8\"],[0.3333333333333333,\"#9c179e\"],[0.4444444444444444,\"#bd3786\"],[0.5555555555555556,\"#d8576b\"],[0.6666666666666666,\"#ed7953\"],[0.7777777777777778,\"#fb9f3a\"],[0.8888888888888888,\"#fdca26\"],[1.0,\"#f0f921\"]]}],\"heatmap\":[{\"type\":\"heatmap\",\"colorbar\":{\"outlinewidth\":0,\"ticks\":\"\"},\"colorscale\":[[0.0,\"#0d0887\"],[0.1111111111111111,\"#46039f\"],[0.2222222222222222,\"#7201a8\"],[0.3333333333333333,\"#9c179e\"],[0.4444444444444444,\"#bd3786\"],[0.5555555555555556,\"#d8576b\"],[0.6666666666666666,\"#ed7953\"],[0.7777777777777778,\"#fb9f3a\"],[0.8888888888888888,\"#fdca26\"],[1.0,\"#f0f921\"]]}],\"heatmapgl\":[{\"type\":\"heatmapgl\",\"colorbar\":{\"outlinewidth\":0,\"ticks\":\"\"},\"colorscale\":[[0.0,\"#0d0887\"],[0.1111111111111111,\"#46039f\"],[0.2222222222222222,\"#7201a8\"],[0.3333333333333333,\"#9c179e\"],[0.4444444444444444,\"#bd3786\"],[0.5555555555555556,\"#d8576b\"],[0.6666666666666666,\"#ed7953\"],[0.7777777777777778,\"#fb9f3a\"],[0.8888888888888888,\"#fdca26\"],[1.0,\"#f0f921\"]]}],\"contourcarpet\":[{\"type\":\"contourcarpet\",\"colorbar\":{\"outlinewidth\":0,\"ticks\":\"\"}}],\"contour\":[{\"type\":\"contour\",\"colorbar\":{\"outlinewidth\":0,\"ticks\":\"\"},\"colorscale\":[[0.0,\"#0d0887\"],[0.1111111111111111,\"#46039f\"],[0.2222222222222222,\"#7201a8\"],[0.3333333333333333,\"#9c179e\"],[0.4444444444444444,\"#bd3786\"],[0.5555555555555556,\"#d8576b\"],[0.6666666666666666,\"#ed7953\"],[0.7777777777777778,\"#fb9f3a\"],[0.8888888888888888,\"#fdca26\"],[1.0,\"#f0f921\"]]}],\"surface\":[{\"type\":\"surface\",\"colorbar\":{\"outlinewidth\":0,\"ticks\":\"\"},\"colorscale\":[[0.0,\"#0d0887\"],[0.1111111111111111,\"#46039f\"],[0.2222222222222222,\"#7201a8\"],[0.3333333333333333,\"#9c179e\"],[0.4444444444444444,\"#bd3786\"],[0.5555555555555556,\"#d8576b\"],[0.6666666666666666,\"#ed7953\"],[0.7777777777777778,\"#fb9f3a\"],[0.8888888888888888,\"#fdca26\"],[1.0,\"#f0f921\"]]}],\"mesh3d\":[{\"type\":\"mesh3d\",\"colorbar\":{\"outlinewidth\":0,\"ticks\":\"\"}}],\"scatter\":[{\"fillpattern\":{\"fillmode\":\"overlay\",\"size\":10,\"solidity\":0.2},\"type\":\"scatter\"}],\"parcoords\":[{\"type\":\"parcoords\",\"line\":{\"colorbar\":{\"outlinewidth\":0,\"ticks\":\"\"}}}],\"scatterpolargl\":[{\"type\":\"scatterpolargl\",\"marker\":{\"colorbar\":{\"outlinewidth\":0,\"ticks\":\"\"}}}],\"bar\":[{\"error_x\":{\"color\":\"#2a3f5f\"},\"error_y\":{\"color\":\"#2a3f5f\"},\"marker\":{\"line\":{\"color\":\"#E5ECF6\",\"width\":0.5},\"pattern\":{\"fillmode\":\"overlay\",\"size\":10,\"solidity\":0.2}},\"type\":\"bar\"}],\"scattergeo\":[{\"type\":\"scattergeo\",\"marker\":{\"colorbar\":{\"outlinewidth\":0,\"ticks\":\"\"}}}],\"scatterpolar\":[{\"type\":\"scatterpolar\",\"marker\":{\"colorbar\":{\"outlinewidth\":0,\"ticks\":\"\"}}}],\"histogram\":[{\"marker\":{\"pattern\":{\"fillmode\":\"overlay\",\"size\":10,\"solidity\":0.2}},\"type\":\"histogram\"}],\"scattergl\":[{\"type\":\"scattergl\",\"marker\":{\"colorbar\":{\"outlinewidth\":0,\"ticks\":\"\"}}}],\"scatter3d\":[{\"type\":\"scatter3d\",\"line\":{\"colorbar\":{\"outlinewidth\":0,\"ticks\":\"\"}},\"marker\":{\"colorbar\":{\"outlinewidth\":0,\"ticks\":\"\"}}}],\"scattermapbox\":[{\"type\":\"scattermapbox\",\"marker\":{\"colorbar\":{\"outlinewidth\":0,\"ticks\":\"\"}}}],\"scatterternary\":[{\"type\":\"scatterternary\",\"marker\":{\"colorbar\":{\"outlinewidth\":0,\"ticks\":\"\"}}}],\"scattercarpet\":[{\"type\":\"scattercarpet\",\"marker\":{\"colorbar\":{\"outlinewidth\":0,\"ticks\":\"\"}}}],\"carpet\":[{\"aaxis\":{\"endlinecolor\":\"#2a3f5f\",\"gridcolor\":\"white\",\"linecolor\":\"white\",\"minorgridcolor\":\"white\",\"startlinecolor\":\"#2a3f5f\"},\"baxis\":{\"endlinecolor\":\"#2a3f5f\",\"gridcolor\":\"white\",\"linecolor\":\"white\",\"minorgridcolor\":\"white\",\"startlinecolor\":\"#2a3f5f\"},\"type\":\"carpet\"}],\"table\":[{\"cells\":{\"fill\":{\"color\":\"#EBF0F8\"},\"line\":{\"color\":\"white\"}},\"header\":{\"fill\":{\"color\":\"#C8D4E3\"},\"line\":{\"color\":\"white\"}},\"type\":\"table\"}],\"barpolar\":[{\"marker\":{\"line\":{\"color\":\"#E5ECF6\",\"width\":0.5},\"pattern\":{\"fillmode\":\"overlay\",\"size\":10,\"solidity\":0.2}},\"type\":\"barpolar\"}],\"pie\":[{\"automargin\":true,\"type\":\"pie\"}]},\"layout\":{\"autotypenumbers\":\"strict\",\"colorway\":[\"#636efa\",\"#EF553B\",\"#00cc96\",\"#ab63fa\",\"#FFA15A\",\"#19d3f3\",\"#FF6692\",\"#B6E880\",\"#FF97FF\",\"#FECB52\"],\"font\":{\"color\":\"#2a3f5f\"},\"hovermode\":\"closest\",\"hoverlabel\":{\"align\":\"left\"},\"paper_bgcolor\":\"white\",\"plot_bgcolor\":\"#E5ECF6\",\"polar\":{\"bgcolor\":\"#E5ECF6\",\"angularaxis\":{\"gridcolor\":\"white\",\"linecolor\":\"white\",\"ticks\":\"\"},\"radialaxis\":{\"gridcolor\":\"white\",\"linecolor\":\"white\",\"ticks\":\"\"}},\"ternary\":{\"bgcolor\":\"#E5ECF6\",\"aaxis\":{\"gridcolor\":\"white\",\"linecolor\":\"white\",\"ticks\":\"\"},\"baxis\":{\"gridcolor\":\"white\",\"linecolor\":\"white\",\"ticks\":\"\"},\"caxis\":{\"gridcolor\":\"white\",\"linecolor\":\"white\",\"ticks\":\"\"}},\"coloraxis\":{\"colorbar\":{\"outlinewidth\":0,\"ticks\":\"\"}},\"colorscale\":{\"sequential\":[[0.0,\"#0d0887\"],[0.1111111111111111,\"#46039f\"],[0.2222222222222222,\"#7201a8\"],[0.3333333333333333,\"#9c179e\"],[0.4444444444444444,\"#bd3786\"],[0.5555555555555556,\"#d8576b\"],[0.6666666666666666,\"#ed7953\"],[0.7777777777777778,\"#fb9f3a\"],[0.8888888888888888,\"#fdca26\"],[1.0,\"#f0f921\"]],\"sequentialminus\":[[0.0,\"#0d0887\"],[0.1111111111111111,\"#46039f\"],[0.2222222222222222,\"#7201a8\"],[0.3333333333333333,\"#9c179e\"],[0.4444444444444444,\"#bd3786\"],[0.5555555555555556,\"#d8576b\"],[0.6666666666666666,\"#ed7953\"],[0.7777777777777778,\"#fb9f3a\"],[0.8888888888888888,\"#fdca26\"],[1.0,\"#f0f921\"]],\"diverging\":[[0,\"#8e0152\"],[0.1,\"#c51b7d\"],[0.2,\"#de77ae\"],[0.3,\"#f1b6da\"],[0.4,\"#fde0ef\"],[0.5,\"#f7f7f7\"],[0.6,\"#e6f5d0\"],[0.7,\"#b8e186\"],[0.8,\"#7fbc41\"],[0.9,\"#4d9221\"],[1,\"#276419\"]]},\"xaxis\":{\"gridcolor\":\"white\",\"linecolor\":\"white\",\"ticks\":\"\",\"title\":{\"standoff\":15},\"zerolinecolor\":\"white\",\"automargin\":true,\"zerolinewidth\":2},\"yaxis\":{\"gridcolor\":\"white\",\"linecolor\":\"white\",\"ticks\":\"\",\"title\":{\"standoff\":15},\"zerolinecolor\":\"white\",\"automargin\":true,\"zerolinewidth\":2},\"scene\":{\"xaxis\":{\"backgroundcolor\":\"#E5ECF6\",\"gridcolor\":\"white\",\"linecolor\":\"white\",\"showbackground\":true,\"ticks\":\"\",\"zerolinecolor\":\"white\",\"gridwidth\":2},\"yaxis\":{\"backgroundcolor\":\"#E5ECF6\",\"gridcolor\":\"white\",\"linecolor\":\"white\",\"showbackground\":true,\"ticks\":\"\",\"zerolinecolor\":\"white\",\"gridwidth\":2},\"zaxis\":{\"backgroundcolor\":\"#E5ECF6\",\"gridcolor\":\"white\",\"linecolor\":\"white\",\"showbackground\":true,\"ticks\":\"\",\"zerolinecolor\":\"white\",\"gridwidth\":2}},\"shapedefaults\":{\"line\":{\"color\":\"#2a3f5f\"}},\"annotationdefaults\":{\"arrowcolor\":\"#2a3f5f\",\"arrowhead\":0,\"arrowwidth\":1},\"geo\":{\"bgcolor\":\"white\",\"landcolor\":\"#E5ECF6\",\"subunitcolor\":\"white\",\"showland\":true,\"showlakes\":true,\"lakecolor\":\"white\"},\"title\":{\"x\":0.05},\"mapbox\":{\"style\":\"light\"}}},\"geo\":{\"domain\":{\"x\":[0.0,1.0],\"y\":[0.0,1.0]},\"center\":{}},\"coloraxis\":{\"colorbar\":{\"title\":{\"text\":\"population\"}},\"colorscale\":[[0.0,\"#30123b\"],[0.07142857142857142,\"#4145ab\"],[0.14285714285714285,\"#4675ed\"],[0.21428571428571427,\"#39a2fc\"],[0.2857142857142857,\"#1bcfd4\"],[0.35714285714285715,\"#24eca6\"],[0.42857142857142855,\"#61fc6c\"],[0.5,\"#a4fc3b\"],[0.5714285714285714,\"#d1e834\"],[0.6428571428571429,\"#f3c63a\"],[0.7142857142857143,\"#fe9b2d\"],[0.7857142857142857,\"#f36315\"],[0.8571428571428571,\"#d93806\"],[0.9285714285714286,\"#b11901\"],[1.0,\"#7a0402\"]]},\"legend\":{\"tracegroupgap\":0},\"title\":{\"text\":\"Polulation \"}},                        {\"responsive\": true}                    ).then(function(){\n",
       "                            \n",
       "var gd = document.getElementById('c4f39f2a-68d0-4a63-b847-0186ecdf7cd3');\n",
       "var x = new MutationObserver(function (mutations, observer) {{\n",
       "        var display = window.getComputedStyle(gd).display;\n",
       "        if (!display || display === 'none') {{\n",
       "            console.log([gd, 'removed!']);\n",
       "            Plotly.purge(gd);\n",
       "            observer.disconnect();\n",
       "        }}\n",
       "}});\n",
       "\n",
       "// Listen for the removal of the full notebook cells\n",
       "var notebookContainer = gd.closest('#notebook-container');\n",
       "if (notebookContainer) {{\n",
       "    x.observe(notebookContainer, {childList: true});\n",
       "}}\n",
       "\n",
       "// Listen for the clearing of the current output cell\n",
       "var outputEl = gd.closest('.output');\n",
       "if (outputEl) {{\n",
       "    x.observe(outputEl, {childList: true});\n",
       "}}\n",
       "\n",
       "                        })                };                });            </script>        </div>"
      ]
     },
     "metadata": {},
     "output_type": "display_data"
    }
   ],
   "source": [
    "Polulation_graph = px.choropleth(df, locations='name', locationmode='country names', \n",
    "                                       color='population', color_continuous_scale='Turbo', \n",
    "                                       title = 'Polulation ')\n",
    "Polulation_graph.show()"
   ]
  },
  {
   "cell_type": "code",
   "execution_count": 206,
   "metadata": {},
   "outputs": [
    {
     "data": {
      "application/vnd.plotly.v1+json": {
       "config": {
        "plotlyServerURL": "https://plot.ly"
       },
       "data": [
        {
         "coloraxis": "coloraxis",
         "geo": "geo",
         "hovertemplate": "name=%{location}<br>pop_dens=%{z}<extra></extra>",
         "locationmode": "country names",
         "locations": [
          "Bangladesh",
          "India",
          "Philippines",
          "Japan",
          "Vietnam",
          "United Kingdom",
          "Pakistan",
          "Germany",
          "Nigeria",
          "China",
          "Indonesia",
          "Thailand",
          "European Union",
          "France",
          "Turkey",
          "Ethiopia",
          "Egypt",
          "Mexico",
          "Iran",
          "Congo, Democratic Republic of the",
          "United States",
          "Brazil",
          "Russia"
         ],
         "name": "",
         "type": "choropleth",
         "z": [
          1138,
          380,
          336,
          335,
          284,
          263,
          250,
          226,
          196,
          142,
          134,
          132,
          118,
          103,
          101,
          90,
          88,
          61,
          49,
          33,
          32,
          23,
          8
         ]
        }
       ],
       "layout": {
        "coloraxis": {
         "colorbar": {
          "title": {
           "text": "pop_dens"
          }
         },
         "colorscale": [
          [
           0,
           "#30123b"
          ],
          [
           0.07142857142857142,
           "#4145ab"
          ],
          [
           0.14285714285714285,
           "#4675ed"
          ],
          [
           0.21428571428571427,
           "#39a2fc"
          ],
          [
           0.2857142857142857,
           "#1bcfd4"
          ],
          [
           0.35714285714285715,
           "#24eca6"
          ],
          [
           0.42857142857142855,
           "#61fc6c"
          ],
          [
           0.5,
           "#a4fc3b"
          ],
          [
           0.5714285714285714,
           "#d1e834"
          ],
          [
           0.6428571428571429,
           "#f3c63a"
          ],
          [
           0.7142857142857143,
           "#fe9b2d"
          ],
          [
           0.7857142857142857,
           "#f36315"
          ],
          [
           0.8571428571428571,
           "#d93806"
          ],
          [
           0.9285714285714286,
           "#b11901"
          ],
          [
           1,
           "#7a0402"
          ]
         ]
        },
        "geo": {
         "center": {},
         "domain": {
          "x": [
           0,
           1
          ],
          "y": [
           0,
           1
          ]
         }
        },
        "legend": {
         "tracegroupgap": 0
        },
        "template": {
         "data": {
          "bar": [
           {
            "error_x": {
             "color": "#2a3f5f"
            },
            "error_y": {
             "color": "#2a3f5f"
            },
            "marker": {
             "line": {
              "color": "#E5ECF6",
              "width": 0.5
             },
             "pattern": {
              "fillmode": "overlay",
              "size": 10,
              "solidity": 0.2
             }
            },
            "type": "bar"
           }
          ],
          "barpolar": [
           {
            "marker": {
             "line": {
              "color": "#E5ECF6",
              "width": 0.5
             },
             "pattern": {
              "fillmode": "overlay",
              "size": 10,
              "solidity": 0.2
             }
            },
            "type": "barpolar"
           }
          ],
          "carpet": [
           {
            "aaxis": {
             "endlinecolor": "#2a3f5f",
             "gridcolor": "white",
             "linecolor": "white",
             "minorgridcolor": "white",
             "startlinecolor": "#2a3f5f"
            },
            "baxis": {
             "endlinecolor": "#2a3f5f",
             "gridcolor": "white",
             "linecolor": "white",
             "minorgridcolor": "white",
             "startlinecolor": "#2a3f5f"
            },
            "type": "carpet"
           }
          ],
          "choropleth": [
           {
            "colorbar": {
             "outlinewidth": 0,
             "ticks": ""
            },
            "type": "choropleth"
           }
          ],
          "contour": [
           {
            "colorbar": {
             "outlinewidth": 0,
             "ticks": ""
            },
            "colorscale": [
             [
              0,
              "#0d0887"
             ],
             [
              0.1111111111111111,
              "#46039f"
             ],
             [
              0.2222222222222222,
              "#7201a8"
             ],
             [
              0.3333333333333333,
              "#9c179e"
             ],
             [
              0.4444444444444444,
              "#bd3786"
             ],
             [
              0.5555555555555556,
              "#d8576b"
             ],
             [
              0.6666666666666666,
              "#ed7953"
             ],
             [
              0.7777777777777778,
              "#fb9f3a"
             ],
             [
              0.8888888888888888,
              "#fdca26"
             ],
             [
              1,
              "#f0f921"
             ]
            ],
            "type": "contour"
           }
          ],
          "contourcarpet": [
           {
            "colorbar": {
             "outlinewidth": 0,
             "ticks": ""
            },
            "type": "contourcarpet"
           }
          ],
          "heatmap": [
           {
            "colorbar": {
             "outlinewidth": 0,
             "ticks": ""
            },
            "colorscale": [
             [
              0,
              "#0d0887"
             ],
             [
              0.1111111111111111,
              "#46039f"
             ],
             [
              0.2222222222222222,
              "#7201a8"
             ],
             [
              0.3333333333333333,
              "#9c179e"
             ],
             [
              0.4444444444444444,
              "#bd3786"
             ],
             [
              0.5555555555555556,
              "#d8576b"
             ],
             [
              0.6666666666666666,
              "#ed7953"
             ],
             [
              0.7777777777777778,
              "#fb9f3a"
             ],
             [
              0.8888888888888888,
              "#fdca26"
             ],
             [
              1,
              "#f0f921"
             ]
            ],
            "type": "heatmap"
           }
          ],
          "heatmapgl": [
           {
            "colorbar": {
             "outlinewidth": 0,
             "ticks": ""
            },
            "colorscale": [
             [
              0,
              "#0d0887"
             ],
             [
              0.1111111111111111,
              "#46039f"
             ],
             [
              0.2222222222222222,
              "#7201a8"
             ],
             [
              0.3333333333333333,
              "#9c179e"
             ],
             [
              0.4444444444444444,
              "#bd3786"
             ],
             [
              0.5555555555555556,
              "#d8576b"
             ],
             [
              0.6666666666666666,
              "#ed7953"
             ],
             [
              0.7777777777777778,
              "#fb9f3a"
             ],
             [
              0.8888888888888888,
              "#fdca26"
             ],
             [
              1,
              "#f0f921"
             ]
            ],
            "type": "heatmapgl"
           }
          ],
          "histogram": [
           {
            "marker": {
             "pattern": {
              "fillmode": "overlay",
              "size": 10,
              "solidity": 0.2
             }
            },
            "type": "histogram"
           }
          ],
          "histogram2d": [
           {
            "colorbar": {
             "outlinewidth": 0,
             "ticks": ""
            },
            "colorscale": [
             [
              0,
              "#0d0887"
             ],
             [
              0.1111111111111111,
              "#46039f"
             ],
             [
              0.2222222222222222,
              "#7201a8"
             ],
             [
              0.3333333333333333,
              "#9c179e"
             ],
             [
              0.4444444444444444,
              "#bd3786"
             ],
             [
              0.5555555555555556,
              "#d8576b"
             ],
             [
              0.6666666666666666,
              "#ed7953"
             ],
             [
              0.7777777777777778,
              "#fb9f3a"
             ],
             [
              0.8888888888888888,
              "#fdca26"
             ],
             [
              1,
              "#f0f921"
             ]
            ],
            "type": "histogram2d"
           }
          ],
          "histogram2dcontour": [
           {
            "colorbar": {
             "outlinewidth": 0,
             "ticks": ""
            },
            "colorscale": [
             [
              0,
              "#0d0887"
             ],
             [
              0.1111111111111111,
              "#46039f"
             ],
             [
              0.2222222222222222,
              "#7201a8"
             ],
             [
              0.3333333333333333,
              "#9c179e"
             ],
             [
              0.4444444444444444,
              "#bd3786"
             ],
             [
              0.5555555555555556,
              "#d8576b"
             ],
             [
              0.6666666666666666,
              "#ed7953"
             ],
             [
              0.7777777777777778,
              "#fb9f3a"
             ],
             [
              0.8888888888888888,
              "#fdca26"
             ],
             [
              1,
              "#f0f921"
             ]
            ],
            "type": "histogram2dcontour"
           }
          ],
          "mesh3d": [
           {
            "colorbar": {
             "outlinewidth": 0,
             "ticks": ""
            },
            "type": "mesh3d"
           }
          ],
          "parcoords": [
           {
            "line": {
             "colorbar": {
              "outlinewidth": 0,
              "ticks": ""
             }
            },
            "type": "parcoords"
           }
          ],
          "pie": [
           {
            "automargin": true,
            "type": "pie"
           }
          ],
          "scatter": [
           {
            "fillpattern": {
             "fillmode": "overlay",
             "size": 10,
             "solidity": 0.2
            },
            "type": "scatter"
           }
          ],
          "scatter3d": [
           {
            "line": {
             "colorbar": {
              "outlinewidth": 0,
              "ticks": ""
             }
            },
            "marker": {
             "colorbar": {
              "outlinewidth": 0,
              "ticks": ""
             }
            },
            "type": "scatter3d"
           }
          ],
          "scattercarpet": [
           {
            "marker": {
             "colorbar": {
              "outlinewidth": 0,
              "ticks": ""
             }
            },
            "type": "scattercarpet"
           }
          ],
          "scattergeo": [
           {
            "marker": {
             "colorbar": {
              "outlinewidth": 0,
              "ticks": ""
             }
            },
            "type": "scattergeo"
           }
          ],
          "scattergl": [
           {
            "marker": {
             "colorbar": {
              "outlinewidth": 0,
              "ticks": ""
             }
            },
            "type": "scattergl"
           }
          ],
          "scattermapbox": [
           {
            "marker": {
             "colorbar": {
              "outlinewidth": 0,
              "ticks": ""
             }
            },
            "type": "scattermapbox"
           }
          ],
          "scatterpolar": [
           {
            "marker": {
             "colorbar": {
              "outlinewidth": 0,
              "ticks": ""
             }
            },
            "type": "scatterpolar"
           }
          ],
          "scatterpolargl": [
           {
            "marker": {
             "colorbar": {
              "outlinewidth": 0,
              "ticks": ""
             }
            },
            "type": "scatterpolargl"
           }
          ],
          "scatterternary": [
           {
            "marker": {
             "colorbar": {
              "outlinewidth": 0,
              "ticks": ""
             }
            },
            "type": "scatterternary"
           }
          ],
          "surface": [
           {
            "colorbar": {
             "outlinewidth": 0,
             "ticks": ""
            },
            "colorscale": [
             [
              0,
              "#0d0887"
             ],
             [
              0.1111111111111111,
              "#46039f"
             ],
             [
              0.2222222222222222,
              "#7201a8"
             ],
             [
              0.3333333333333333,
              "#9c179e"
             ],
             [
              0.4444444444444444,
              "#bd3786"
             ],
             [
              0.5555555555555556,
              "#d8576b"
             ],
             [
              0.6666666666666666,
              "#ed7953"
             ],
             [
              0.7777777777777778,
              "#fb9f3a"
             ],
             [
              0.8888888888888888,
              "#fdca26"
             ],
             [
              1,
              "#f0f921"
             ]
            ],
            "type": "surface"
           }
          ],
          "table": [
           {
            "cells": {
             "fill": {
              "color": "#EBF0F8"
             },
             "line": {
              "color": "white"
             }
            },
            "header": {
             "fill": {
              "color": "#C8D4E3"
             },
             "line": {
              "color": "white"
             }
            },
            "type": "table"
           }
          ]
         },
         "layout": {
          "annotationdefaults": {
           "arrowcolor": "#2a3f5f",
           "arrowhead": 0,
           "arrowwidth": 1
          },
          "autotypenumbers": "strict",
          "coloraxis": {
           "colorbar": {
            "outlinewidth": 0,
            "ticks": ""
           }
          },
          "colorscale": {
           "diverging": [
            [
             0,
             "#8e0152"
            ],
            [
             0.1,
             "#c51b7d"
            ],
            [
             0.2,
             "#de77ae"
            ],
            [
             0.3,
             "#f1b6da"
            ],
            [
             0.4,
             "#fde0ef"
            ],
            [
             0.5,
             "#f7f7f7"
            ],
            [
             0.6,
             "#e6f5d0"
            ],
            [
             0.7,
             "#b8e186"
            ],
            [
             0.8,
             "#7fbc41"
            ],
            [
             0.9,
             "#4d9221"
            ],
            [
             1,
             "#276419"
            ]
           ],
           "sequential": [
            [
             0,
             "#0d0887"
            ],
            [
             0.1111111111111111,
             "#46039f"
            ],
            [
             0.2222222222222222,
             "#7201a8"
            ],
            [
             0.3333333333333333,
             "#9c179e"
            ],
            [
             0.4444444444444444,
             "#bd3786"
            ],
            [
             0.5555555555555556,
             "#d8576b"
            ],
            [
             0.6666666666666666,
             "#ed7953"
            ],
            [
             0.7777777777777778,
             "#fb9f3a"
            ],
            [
             0.8888888888888888,
             "#fdca26"
            ],
            [
             1,
             "#f0f921"
            ]
           ],
           "sequentialminus": [
            [
             0,
             "#0d0887"
            ],
            [
             0.1111111111111111,
             "#46039f"
            ],
            [
             0.2222222222222222,
             "#7201a8"
            ],
            [
             0.3333333333333333,
             "#9c179e"
            ],
            [
             0.4444444444444444,
             "#bd3786"
            ],
            [
             0.5555555555555556,
             "#d8576b"
            ],
            [
             0.6666666666666666,
             "#ed7953"
            ],
            [
             0.7777777777777778,
             "#fb9f3a"
            ],
            [
             0.8888888888888888,
             "#fdca26"
            ],
            [
             1,
             "#f0f921"
            ]
           ]
          },
          "colorway": [
           "#636efa",
           "#EF553B",
           "#00cc96",
           "#ab63fa",
           "#FFA15A",
           "#19d3f3",
           "#FF6692",
           "#B6E880",
           "#FF97FF",
           "#FECB52"
          ],
          "font": {
           "color": "#2a3f5f"
          },
          "geo": {
           "bgcolor": "white",
           "lakecolor": "white",
           "landcolor": "#E5ECF6",
           "showlakes": true,
           "showland": true,
           "subunitcolor": "white"
          },
          "hoverlabel": {
           "align": "left"
          },
          "hovermode": "closest",
          "mapbox": {
           "style": "light"
          },
          "paper_bgcolor": "white",
          "plot_bgcolor": "#E5ECF6",
          "polar": {
           "angularaxis": {
            "gridcolor": "white",
            "linecolor": "white",
            "ticks": ""
           },
           "bgcolor": "#E5ECF6",
           "radialaxis": {
            "gridcolor": "white",
            "linecolor": "white",
            "ticks": ""
           }
          },
          "scene": {
           "xaxis": {
            "backgroundcolor": "#E5ECF6",
            "gridcolor": "white",
            "gridwidth": 2,
            "linecolor": "white",
            "showbackground": true,
            "ticks": "",
            "zerolinecolor": "white"
           },
           "yaxis": {
            "backgroundcolor": "#E5ECF6",
            "gridcolor": "white",
            "gridwidth": 2,
            "linecolor": "white",
            "showbackground": true,
            "ticks": "",
            "zerolinecolor": "white"
           },
           "zaxis": {
            "backgroundcolor": "#E5ECF6",
            "gridcolor": "white",
            "gridwidth": 2,
            "linecolor": "white",
            "showbackground": true,
            "ticks": "",
            "zerolinecolor": "white"
           }
          },
          "shapedefaults": {
           "line": {
            "color": "#2a3f5f"
           }
          },
          "ternary": {
           "aaxis": {
            "gridcolor": "white",
            "linecolor": "white",
            "ticks": ""
           },
           "baxis": {
            "gridcolor": "white",
            "linecolor": "white",
            "ticks": ""
           },
           "bgcolor": "#E5ECF6",
           "caxis": {
            "gridcolor": "white",
            "linecolor": "white",
            "ticks": ""
           }
          },
          "title": {
           "x": 0.05
          },
          "xaxis": {
           "automargin": true,
           "gridcolor": "white",
           "linecolor": "white",
           "ticks": "",
           "title": {
            "standoff": 15
           },
           "zerolinecolor": "white",
           "zerolinewidth": 2
          },
          "yaxis": {
           "automargin": true,
           "gridcolor": "white",
           "linecolor": "white",
           "ticks": "",
           "title": {
            "standoff": 15
           },
           "zerolinecolor": "white",
           "zerolinewidth": 2
          }
         }
        },
        "title": {
         "text": "Polulation Density"
        }
       }
      },
      "text/html": [
       "<div>                            <div id=\"cf6fd73b-58e5-4034-8faa-186c567052d1\" class=\"plotly-graph-div\" style=\"height:525px; width:100%;\"></div>            <script type=\"text/javascript\">                require([\"plotly\"], function(Plotly) {                    window.PLOTLYENV=window.PLOTLYENV || {};                                    if (document.getElementById(\"cf6fd73b-58e5-4034-8faa-186c567052d1\")) {                    Plotly.newPlot(                        \"cf6fd73b-58e5-4034-8faa-186c567052d1\",                        [{\"coloraxis\":\"coloraxis\",\"geo\":\"geo\",\"hovertemplate\":\"name=%{location}<br>pop_dens=%{z}<extra></extra>\",\"locationmode\":\"country names\",\"locations\":[\"Bangladesh\",\"India\",\"Philippines\",\"Japan\",\"Vietnam\",\"United Kingdom\",\"Pakistan\",\"Germany\",\"Nigeria\",\"China\",\"Indonesia\",\"Thailand\",\"European Union\",\"France\",\"Turkey\",\"Ethiopia\",\"Egypt\",\"Mexico\",\"Iran\",\"Congo, Democratic Republic of the\",\"United States\",\"Brazil\",\"Russia\"],\"name\":\"\",\"z\":[1138,380,336,335,284,263,250,226,196,142,134,132,118,103,101,90,88,61,49,33,32,23,8],\"type\":\"choropleth\"}],                        {\"template\":{\"data\":{\"histogram2dcontour\":[{\"type\":\"histogram2dcontour\",\"colorbar\":{\"outlinewidth\":0,\"ticks\":\"\"},\"colorscale\":[[0.0,\"#0d0887\"],[0.1111111111111111,\"#46039f\"],[0.2222222222222222,\"#7201a8\"],[0.3333333333333333,\"#9c179e\"],[0.4444444444444444,\"#bd3786\"],[0.5555555555555556,\"#d8576b\"],[0.6666666666666666,\"#ed7953\"],[0.7777777777777778,\"#fb9f3a\"],[0.8888888888888888,\"#fdca26\"],[1.0,\"#f0f921\"]]}],\"choropleth\":[{\"type\":\"choropleth\",\"colorbar\":{\"outlinewidth\":0,\"ticks\":\"\"}}],\"histogram2d\":[{\"type\":\"histogram2d\",\"colorbar\":{\"outlinewidth\":0,\"ticks\":\"\"},\"colorscale\":[[0.0,\"#0d0887\"],[0.1111111111111111,\"#46039f\"],[0.2222222222222222,\"#7201a8\"],[0.3333333333333333,\"#9c179e\"],[0.4444444444444444,\"#bd3786\"],[0.5555555555555556,\"#d8576b\"],[0.6666666666666666,\"#ed7953\"],[0.7777777777777778,\"#fb9f3a\"],[0.8888888888888888,\"#fdca26\"],[1.0,\"#f0f921\"]]}],\"heatmap\":[{\"type\":\"heatmap\",\"colorbar\":{\"outlinewidth\":0,\"ticks\":\"\"},\"colorscale\":[[0.0,\"#0d0887\"],[0.1111111111111111,\"#46039f\"],[0.2222222222222222,\"#7201a8\"],[0.3333333333333333,\"#9c179e\"],[0.4444444444444444,\"#bd3786\"],[0.5555555555555556,\"#d8576b\"],[0.6666666666666666,\"#ed7953\"],[0.7777777777777778,\"#fb9f3a\"],[0.8888888888888888,\"#fdca26\"],[1.0,\"#f0f921\"]]}],\"heatmapgl\":[{\"type\":\"heatmapgl\",\"colorbar\":{\"outlinewidth\":0,\"ticks\":\"\"},\"colorscale\":[[0.0,\"#0d0887\"],[0.1111111111111111,\"#46039f\"],[0.2222222222222222,\"#7201a8\"],[0.3333333333333333,\"#9c179e\"],[0.4444444444444444,\"#bd3786\"],[0.5555555555555556,\"#d8576b\"],[0.6666666666666666,\"#ed7953\"],[0.7777777777777778,\"#fb9f3a\"],[0.8888888888888888,\"#fdca26\"],[1.0,\"#f0f921\"]]}],\"contourcarpet\":[{\"type\":\"contourcarpet\",\"colorbar\":{\"outlinewidth\":0,\"ticks\":\"\"}}],\"contour\":[{\"type\":\"contour\",\"colorbar\":{\"outlinewidth\":0,\"ticks\":\"\"},\"colorscale\":[[0.0,\"#0d0887\"],[0.1111111111111111,\"#46039f\"],[0.2222222222222222,\"#7201a8\"],[0.3333333333333333,\"#9c179e\"],[0.4444444444444444,\"#bd3786\"],[0.5555555555555556,\"#d8576b\"],[0.6666666666666666,\"#ed7953\"],[0.7777777777777778,\"#fb9f3a\"],[0.8888888888888888,\"#fdca26\"],[1.0,\"#f0f921\"]]}],\"surface\":[{\"type\":\"surface\",\"colorbar\":{\"outlinewidth\":0,\"ticks\":\"\"},\"colorscale\":[[0.0,\"#0d0887\"],[0.1111111111111111,\"#46039f\"],[0.2222222222222222,\"#7201a8\"],[0.3333333333333333,\"#9c179e\"],[0.4444444444444444,\"#bd3786\"],[0.5555555555555556,\"#d8576b\"],[0.6666666666666666,\"#ed7953\"],[0.7777777777777778,\"#fb9f3a\"],[0.8888888888888888,\"#fdca26\"],[1.0,\"#f0f921\"]]}],\"mesh3d\":[{\"type\":\"mesh3d\",\"colorbar\":{\"outlinewidth\":0,\"ticks\":\"\"}}],\"scatter\":[{\"fillpattern\":{\"fillmode\":\"overlay\",\"size\":10,\"solidity\":0.2},\"type\":\"scatter\"}],\"parcoords\":[{\"type\":\"parcoords\",\"line\":{\"colorbar\":{\"outlinewidth\":0,\"ticks\":\"\"}}}],\"scatterpolargl\":[{\"type\":\"scatterpolargl\",\"marker\":{\"colorbar\":{\"outlinewidth\":0,\"ticks\":\"\"}}}],\"bar\":[{\"error_x\":{\"color\":\"#2a3f5f\"},\"error_y\":{\"color\":\"#2a3f5f\"},\"marker\":{\"line\":{\"color\":\"#E5ECF6\",\"width\":0.5},\"pattern\":{\"fillmode\":\"overlay\",\"size\":10,\"solidity\":0.2}},\"type\":\"bar\"}],\"scattergeo\":[{\"type\":\"scattergeo\",\"marker\":{\"colorbar\":{\"outlinewidth\":0,\"ticks\":\"\"}}}],\"scatterpolar\":[{\"type\":\"scatterpolar\",\"marker\":{\"colorbar\":{\"outlinewidth\":0,\"ticks\":\"\"}}}],\"histogram\":[{\"marker\":{\"pattern\":{\"fillmode\":\"overlay\",\"size\":10,\"solidity\":0.2}},\"type\":\"histogram\"}],\"scattergl\":[{\"type\":\"scattergl\",\"marker\":{\"colorbar\":{\"outlinewidth\":0,\"ticks\":\"\"}}}],\"scatter3d\":[{\"type\":\"scatter3d\",\"line\":{\"colorbar\":{\"outlinewidth\":0,\"ticks\":\"\"}},\"marker\":{\"colorbar\":{\"outlinewidth\":0,\"ticks\":\"\"}}}],\"scattermapbox\":[{\"type\":\"scattermapbox\",\"marker\":{\"colorbar\":{\"outlinewidth\":0,\"ticks\":\"\"}}}],\"scatterternary\":[{\"type\":\"scatterternary\",\"marker\":{\"colorbar\":{\"outlinewidth\":0,\"ticks\":\"\"}}}],\"scattercarpet\":[{\"type\":\"scattercarpet\",\"marker\":{\"colorbar\":{\"outlinewidth\":0,\"ticks\":\"\"}}}],\"carpet\":[{\"aaxis\":{\"endlinecolor\":\"#2a3f5f\",\"gridcolor\":\"white\",\"linecolor\":\"white\",\"minorgridcolor\":\"white\",\"startlinecolor\":\"#2a3f5f\"},\"baxis\":{\"endlinecolor\":\"#2a3f5f\",\"gridcolor\":\"white\",\"linecolor\":\"white\",\"minorgridcolor\":\"white\",\"startlinecolor\":\"#2a3f5f\"},\"type\":\"carpet\"}],\"table\":[{\"cells\":{\"fill\":{\"color\":\"#EBF0F8\"},\"line\":{\"color\":\"white\"}},\"header\":{\"fill\":{\"color\":\"#C8D4E3\"},\"line\":{\"color\":\"white\"}},\"type\":\"table\"}],\"barpolar\":[{\"marker\":{\"line\":{\"color\":\"#E5ECF6\",\"width\":0.5},\"pattern\":{\"fillmode\":\"overlay\",\"size\":10,\"solidity\":0.2}},\"type\":\"barpolar\"}],\"pie\":[{\"automargin\":true,\"type\":\"pie\"}]},\"layout\":{\"autotypenumbers\":\"strict\",\"colorway\":[\"#636efa\",\"#EF553B\",\"#00cc96\",\"#ab63fa\",\"#FFA15A\",\"#19d3f3\",\"#FF6692\",\"#B6E880\",\"#FF97FF\",\"#FECB52\"],\"font\":{\"color\":\"#2a3f5f\"},\"hovermode\":\"closest\",\"hoverlabel\":{\"align\":\"left\"},\"paper_bgcolor\":\"white\",\"plot_bgcolor\":\"#E5ECF6\",\"polar\":{\"bgcolor\":\"#E5ECF6\",\"angularaxis\":{\"gridcolor\":\"white\",\"linecolor\":\"white\",\"ticks\":\"\"},\"radialaxis\":{\"gridcolor\":\"white\",\"linecolor\":\"white\",\"ticks\":\"\"}},\"ternary\":{\"bgcolor\":\"#E5ECF6\",\"aaxis\":{\"gridcolor\":\"white\",\"linecolor\":\"white\",\"ticks\":\"\"},\"baxis\":{\"gridcolor\":\"white\",\"linecolor\":\"white\",\"ticks\":\"\"},\"caxis\":{\"gridcolor\":\"white\",\"linecolor\":\"white\",\"ticks\":\"\"}},\"coloraxis\":{\"colorbar\":{\"outlinewidth\":0,\"ticks\":\"\"}},\"colorscale\":{\"sequential\":[[0.0,\"#0d0887\"],[0.1111111111111111,\"#46039f\"],[0.2222222222222222,\"#7201a8\"],[0.3333333333333333,\"#9c179e\"],[0.4444444444444444,\"#bd3786\"],[0.5555555555555556,\"#d8576b\"],[0.6666666666666666,\"#ed7953\"],[0.7777777777777778,\"#fb9f3a\"],[0.8888888888888888,\"#fdca26\"],[1.0,\"#f0f921\"]],\"sequentialminus\":[[0.0,\"#0d0887\"],[0.1111111111111111,\"#46039f\"],[0.2222222222222222,\"#7201a8\"],[0.3333333333333333,\"#9c179e\"],[0.4444444444444444,\"#bd3786\"],[0.5555555555555556,\"#d8576b\"],[0.6666666666666666,\"#ed7953\"],[0.7777777777777778,\"#fb9f3a\"],[0.8888888888888888,\"#fdca26\"],[1.0,\"#f0f921\"]],\"diverging\":[[0,\"#8e0152\"],[0.1,\"#c51b7d\"],[0.2,\"#de77ae\"],[0.3,\"#f1b6da\"],[0.4,\"#fde0ef\"],[0.5,\"#f7f7f7\"],[0.6,\"#e6f5d0\"],[0.7,\"#b8e186\"],[0.8,\"#7fbc41\"],[0.9,\"#4d9221\"],[1,\"#276419\"]]},\"xaxis\":{\"gridcolor\":\"white\",\"linecolor\":\"white\",\"ticks\":\"\",\"title\":{\"standoff\":15},\"zerolinecolor\":\"white\",\"automargin\":true,\"zerolinewidth\":2},\"yaxis\":{\"gridcolor\":\"white\",\"linecolor\":\"white\",\"ticks\":\"\",\"title\":{\"standoff\":15},\"zerolinecolor\":\"white\",\"automargin\":true,\"zerolinewidth\":2},\"scene\":{\"xaxis\":{\"backgroundcolor\":\"#E5ECF6\",\"gridcolor\":\"white\",\"linecolor\":\"white\",\"showbackground\":true,\"ticks\":\"\",\"zerolinecolor\":\"white\",\"gridwidth\":2},\"yaxis\":{\"backgroundcolor\":\"#E5ECF6\",\"gridcolor\":\"white\",\"linecolor\":\"white\",\"showbackground\":true,\"ticks\":\"\",\"zerolinecolor\":\"white\",\"gridwidth\":2},\"zaxis\":{\"backgroundcolor\":\"#E5ECF6\",\"gridcolor\":\"white\",\"linecolor\":\"white\",\"showbackground\":true,\"ticks\":\"\",\"zerolinecolor\":\"white\",\"gridwidth\":2}},\"shapedefaults\":{\"line\":{\"color\":\"#2a3f5f\"}},\"annotationdefaults\":{\"arrowcolor\":\"#2a3f5f\",\"arrowhead\":0,\"arrowwidth\":1},\"geo\":{\"bgcolor\":\"white\",\"landcolor\":\"#E5ECF6\",\"subunitcolor\":\"white\",\"showland\":true,\"showlakes\":true,\"lakecolor\":\"white\"},\"title\":{\"x\":0.05},\"mapbox\":{\"style\":\"light\"}}},\"geo\":{\"domain\":{\"x\":[0.0,1.0],\"y\":[0.0,1.0]},\"center\":{}},\"coloraxis\":{\"colorbar\":{\"title\":{\"text\":\"pop_dens\"}},\"colorscale\":[[0.0,\"#30123b\"],[0.07142857142857142,\"#4145ab\"],[0.14285714285714285,\"#4675ed\"],[0.21428571428571427,\"#39a2fc\"],[0.2857142857142857,\"#1bcfd4\"],[0.35714285714285715,\"#24eca6\"],[0.42857142857142855,\"#61fc6c\"],[0.5,\"#a4fc3b\"],[0.5714285714285714,\"#d1e834\"],[0.6428571428571429,\"#f3c63a\"],[0.7142857142857143,\"#fe9b2d\"],[0.7857142857142857,\"#f36315\"],[0.8571428571428571,\"#d93806\"],[0.9285714285714286,\"#b11901\"],[1.0,\"#7a0402\"]]},\"legend\":{\"tracegroupgap\":0},\"title\":{\"text\":\"Polulation Density\"}},                        {\"responsive\": true}                    ).then(function(){\n",
       "                            \n",
       "var gd = document.getElementById('cf6fd73b-58e5-4034-8faa-186c567052d1');\n",
       "var x = new MutationObserver(function (mutations, observer) {{\n",
       "        var display = window.getComputedStyle(gd).display;\n",
       "        if (!display || display === 'none') {{\n",
       "            console.log([gd, 'removed!']);\n",
       "            Plotly.purge(gd);\n",
       "            observer.disconnect();\n",
       "        }}\n",
       "}});\n",
       "\n",
       "// Listen for the removal of the full notebook cells\n",
       "var notebookContainer = gd.closest('#notebook-container');\n",
       "if (notebookContainer) {{\n",
       "    x.observe(notebookContainer, {childList: true});\n",
       "}}\n",
       "\n",
       "// Listen for the clearing of the current output cell\n",
       "var outputEl = gd.closest('.output');\n",
       "if (outputEl) {{\n",
       "    x.observe(outputEl, {childList: true});\n",
       "}}\n",
       "\n",
       "                        })                };                });            </script>        </div>"
      ]
     },
     "metadata": {},
     "output_type": "display_data"
    }
   ],
   "source": [
    "Polulation_Density = px.choropleth(df, locations='name', locationmode='country names', \n",
    "                                       color='pop_dens', color_continuous_scale='Turbo', \n",
    "                                       title = 'Polulation Density')\n",
    "Polulation_Density.show()"
   ]
  }
 ],
 "metadata": {
  "kernelspec": {
   "display_name": "machineL",
   "language": "python",
   "name": "machinel"
  },
  "language_info": {
   "codemirror_mode": {
    "name": "ipython",
    "version": 3
   },
   "file_extension": ".py",
   "mimetype": "text/x-python",
   "name": "python",
   "nbconvert_exporter": "python",
   "pygments_lexer": "ipython3",
   "version": "3.9.1"
  }
 },
 "nbformat": 4,
 "nbformat_minor": 4
}
